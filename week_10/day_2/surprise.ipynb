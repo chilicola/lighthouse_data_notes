{
 "cells": [
  {
   "cell_type": "code",
   "execution_count": 1,
   "id": "db26ec70-6b42-44f6-a071-87884d4ea0da",
   "metadata": {},
   "outputs": [],
   "source": [
    "import surprise"
   ]
  },
  {
   "cell_type": "markdown",
   "id": "37f06e24-f559-42e6-bec9-3bdb27d6b346",
   "metadata": {},
   "source": [
    "#### Dataset"
   ]
  },
  {
   "cell_type": "code",
   "execution_count": 12,
   "id": "a20ee3ef-061e-4c55-9f61-4bd617a5efbe",
   "metadata": {},
   "outputs": [
    {
     "data": {
      "text/html": [
       "<div>\n",
       "<style scoped>\n",
       "    .dataframe tbody tr th:only-of-type {\n",
       "        vertical-align: middle;\n",
       "    }\n",
       "\n",
       "    .dataframe tbody tr th {\n",
       "        vertical-align: top;\n",
       "    }\n",
       "\n",
       "    .dataframe thead th {\n",
       "        text-align: right;\n",
       "    }\n",
       "</style>\n",
       "<table border=\"1\" class=\"dataframe\">\n",
       "  <thead>\n",
       "    <tr style=\"text-align: right;\">\n",
       "      <th></th>\n",
       "      <th>uid</th>\n",
       "      <th>iid</th>\n",
       "      <th>rating</th>\n",
       "    </tr>\n",
       "  </thead>\n",
       "  <tbody>\n",
       "    <tr>\n",
       "      <th>0</th>\n",
       "      <td>1</td>\n",
       "      <td>1</td>\n",
       "      <td>2.0</td>\n",
       "    </tr>\n",
       "    <tr>\n",
       "      <th>1</th>\n",
       "      <td>1</td>\n",
       "      <td>2</td>\n",
       "      <td>4.0</td>\n",
       "    </tr>\n",
       "    <tr>\n",
       "      <th>2</th>\n",
       "      <td>1</td>\n",
       "      <td>3</td>\n",
       "      <td>3.5</td>\n",
       "    </tr>\n",
       "    <tr>\n",
       "      <th>3</th>\n",
       "      <td>1</td>\n",
       "      <td>4</td>\n",
       "      <td>3.0</td>\n",
       "    </tr>\n",
       "    <tr>\n",
       "      <th>4</th>\n",
       "      <td>1</td>\n",
       "      <td>5</td>\n",
       "      <td>4.0</td>\n",
       "    </tr>\n",
       "  </tbody>\n",
       "</table>\n",
       "</div>"
      ],
      "text/plain": [
       "   uid  iid  rating\n",
       "0    1    1     2.0\n",
       "1    1    2     4.0\n",
       "2    1    3     3.5\n",
       "3    1    4     3.0\n",
       "4    1    5     4.0"
      ]
     },
     "execution_count": 12,
     "metadata": {},
     "output_type": "execute_result"
    }
   ],
   "source": [
    "import numpy as np\n",
    "import pandas as pd\n",
    "\n",
    "dataset = pd.read_csv('data/ratings.txt', sep=' ', header=None, names=['uid', 'iid', 'rating'])\n",
    "\n",
    "dataset.head()"
   ]
  },
  {
   "cell_type": "markdown",
   "id": "3305a7b8-5f32-4d78-9e12-de406d378a58",
   "metadata": {},
   "source": [
    "#### Fitting the Model"
   ]
  },
  {
   "cell_type": "code",
   "execution_count": 13,
   "id": "d9842268-127c-441b-864c-e7e7db4c044b",
   "metadata": {},
   "outputs": [
    {
     "name": "stdout",
     "output_type": "stream",
     "text": [
      "Review range: 0.5 to 4.0\n"
     ]
    }
   ],
   "source": [
    "lower_rating = dataset['rating'].min()\n",
    "upper_rating = dataset['rating'].max()\n",
    "print(f'Review range: {lower_rating} to {upper_rating}')"
   ]
  },
  {
   "cell_type": "code",
   "execution_count": 14,
   "id": "ffb44698-1870-4287-ad31-01063149dad7",
   "metadata": {},
   "outputs": [],
   "source": [
    "reader = surprise.Reader(rating_scale=(0.5, 4))\n",
    "data = surprise.Dataset.load_from_df(dataset, reader)"
   ]
  },
  {
   "cell_type": "code",
   "execution_count": 15,
   "id": "c307750f-8544-4da8-8630-70f4dfa59c37",
   "metadata": {},
   "outputs": [],
   "source": [
    "alg = surprise.SVDpp()\n",
    "output = alg.fit(data.build_full_trainset())"
   ]
  },
  {
   "cell_type": "code",
   "execution_count": 17,
   "id": "93f53352-8d0f-4beb-a500-909a0b434e89",
   "metadata": {},
   "outputs": [
    {
     "name": "stdout",
     "output_type": "stream",
     "text": [
      "3.0028030537791928\n"
     ]
    }
   ],
   "source": [
    "# the uids and iids should be set as strings\n",
    "pred = alg.predict(uid='50', iid='52')\n",
    "score = pred.est\n",
    "print(score)"
   ]
  },
  {
   "cell_type": "markdown",
   "id": "1c0538e0-766a-4cc0-bcec-1baab96e6100",
   "metadata": {},
   "source": [
    "#### Making Recommendations"
   ]
  },
  {
   "cell_type": "code",
   "execution_count": 18,
   "id": "60bbb1db-1ce0-4ac1-bde1-faa687d4a57e",
   "metadata": {},
   "outputs": [],
   "source": [
    "# get a list of all movie ids\n",
    "iids = dataset['iid'].unique()\n",
    "\n",
    "# get a list of iids that uid 50 has rated\n",
    "iids50 = dataset.loc[dataset['uid'] == 50, 'iid']\n",
    "\n",
    "# remove the iids that uid 50 has rated from the list of all move ids\n",
    "iids_to_pred = np.setdiff1d(iids, iids50)"
   ]
  },
  {
   "cell_type": "code",
   "execution_count": 21,
   "id": "35084b13-a715-4cdc-a5e9-7294f8711223",
   "metadata": {},
   "outputs": [
    {
     "data": {
      "text/plain": [
       "Prediction(uid=50, iid=14, r_ui=4, est=3.1117265781891814, details={'was_impossible': False})"
      ]
     },
     "execution_count": 21,
     "metadata": {},
     "output_type": "execute_result"
    }
   ],
   "source": [
    "testset = [[50, iid, 4] for iid in iids_to_pred]\n",
    "predictions = alg.test(testset)\n",
    "predictions[0]"
   ]
  },
  {
   "cell_type": "code",
   "execution_count": 22,
   "id": "ee93cac2-5590-4a28-b009-fbd8046e26cd",
   "metadata": {},
   "outputs": [
    {
     "name": "stdout",
     "output_type": "stream",
     "text": [
      "Top item for user 50 has iid 242, with predicted rating 210\n"
     ]
    }
   ],
   "source": [
    "pred_ratings = np.array([pred.est for pred in predictions])\n",
    "\n",
    "# find the index of the maximum predicted rating\n",
    "i_max = pred_ratings.argmax()\n",
    "\n",
    "# use this to find the corresponding iid to recommend\n",
    "iid = iids_to_pred[i_max]\n",
    "\n",
    "print(f'Top item for user 50 has iid {iid}, with predicted rating {i_max}')"
   ]
  },
  {
   "cell_type": "markdown",
   "id": "45b145e2-3c39-4d2d-97cb-1f87a00e482e",
   "metadata": {},
   "source": [
    "#### Tuning and Evaluating the Model"
   ]
  },
  {
   "cell_type": "code",
   "execution_count": 23,
   "id": "ad11a015-a0c9-41a9-aa17-bb50ae6ba14d",
   "metadata": {},
   "outputs": [
    {
     "name": "stdout",
     "output_type": "stream",
     "text": [
      "{'lr_all': 0.01, 'reg_all': 0.1}\n"
     ]
    }
   ],
   "source": [
    "param_grid = {'lr_all': [.001, .01], 'reg_all': [.1, .5]}\n",
    "gs = surprise.model_selection.GridSearchCV(surprise.SVDpp, param_grid, measures=['rmse', 'mae'], cv=3)\n",
    "gs.fit(data)\n",
    "\n",
    "# print combination of parameters that gave the best RMSE score\n",
    "print(gs.best_params['rmse'])"
   ]
  },
  {
   "cell_type": "code",
   "execution_count": 24,
   "id": "c510a673-96cd-4b7b-bde2-bd0e702c73a8",
   "metadata": {},
   "outputs": [
    {
     "name": "stdout",
     "output_type": "stream",
     "text": [
      "Evaluating RMSE, MAE of algorithm SVDpp on 5 split(s).\n",
      "\n",
      "                  Fold 1  Fold 2  Fold 3  Fold 4  Fold 5  Mean    Std     \n",
      "RMSE (testset)    0.8241  0.8384  0.8373  0.8184  0.8225  0.8281  0.0081  \n",
      "MAE (testset)     0.6556  0.6623  0.6597  0.6491  0.6506  0.6555  0.0051  \n",
      "Fit time          12.55   12.52   12.31   12.29   12.52   12.44   0.11    \n",
      "Test time         0.21    0.22    0.22    0.22    0.29    0.23    0.03    \n"
     ]
    }
   ],
   "source": [
    "alg = surprise.SVDpp(lr_all=.001) #parameter choices can be added here\n",
    "output = surprise.model_selection.cross_validate(alg, data, verbose=True)"
   ]
  }
 ],
 "metadata": {
  "kernelspec": {
   "display_name": "Python 3",
   "language": "python",
   "name": "python3"
  },
  "language_info": {
   "codemirror_mode": {
    "name": "ipython",
    "version": 3
   },
   "file_extension": ".py",
   "mimetype": "text/x-python",
   "name": "python",
   "nbconvert_exporter": "python",
   "pygments_lexer": "ipython3",
   "version": "3.8.5"
  }
 },
 "nbformat": 4,
 "nbformat_minor": 5
}
