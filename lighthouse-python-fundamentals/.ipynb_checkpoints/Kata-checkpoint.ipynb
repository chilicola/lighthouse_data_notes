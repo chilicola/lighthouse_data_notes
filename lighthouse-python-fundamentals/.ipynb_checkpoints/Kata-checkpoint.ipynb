{
 "cells": [
  {
   "cell_type": "markdown",
   "metadata": {},
   "source": [
    "### Kata 1 - Sum The Largest Numbers\n",
    "#### Create a function named sumLargestNumbers that will receive a list of numbers and return the sum of the two largest numbers in that array."
   ]
  },
  {
   "cell_type": "code",
   "execution_count": 116,
   "metadata": {},
   "outputs": [],
   "source": [
    "def sumLargesNumbers(nums):\n",
    "    # Takes a list and return the sum of the 2 largest numbers in that list.\n",
    "    \n",
    "    # sumLargestNumbers([10, 4, 34, 6, 92, 2])\n",
    "    # >>> 126\n",
    "\n",
    "    return(f'The largest 2 numbers sum up to: {nums.sort[-2:].sum()}')"
   ]
  },
  {
   "cell_type": "markdown",
   "metadata": {},
   "source": [
    "#### Test:"
   ]
  },
  {
   "cell_type": "code",
   "execution_count": 118,
   "metadata": {},
   "outputs": [
    {
     "name": "stdout",
     "output_type": "stream",
     "text": [
      "The largest 2 numbers in the list sum up to: 11\n",
      "The largest 2 numbers in the list sum up to: 5\n",
      "The largest 2 numbers in the list sum up to: 126\n"
     ]
    }
   ],
   "source": [
    "print(sumLargestNumbers([1, 10]))\n",
    "print(sumLargestNumbers([1, 2, 3]))\n",
    "print(sumLargestNumbers([10, 4, 34, 6, 92, 2]))"
   ]
  },
  {
   "cell_type": "markdown",
   "metadata": {},
   "source": [
    "### Kata 2 - Conditional Sums\n",
    "#### Create a function named conditionalSum that will be given a list of numbers and a condition, in this case odd or even. Given this condition, add up only the values which match that condition. If no values match the condition, return 0."
   ]
  },
  {
   "cell_type": "code",
   "execution_count": 340,
   "metadata": {},
   "outputs": [],
   "source": [
    "def conditionalSum(nums, condition):\n",
    "    # Takes a list and condition (odd or even), sums up the values in the list that match the condition.\n",
    "    # If no values match the condition, return 0.\n",
    "    \n",
    "    # conditionalSum([1, 2, 3, 4, 5], \"even\")\n",
    "    # >>> 6\n",
    "    # conditionalSum([1, 2, 3, 4, 5], \"odd\")\n",
    "    # >>> 9\n",
    "    # conditionalSum([13, 88, 12, 44, 99], \"even\")\n",
    "    # >>> 144\n",
    "    # conditionalSum([], \"odd\")\n",
    "    # >>> 0\n",
    "    \n",
    "    total_value = 0\n",
    "    \n",
    "    for n in nums:\n",
    "        if condition == 'even' and n % 2 == 0:\n",
    "            total_value += n\n",
    "    \n",
    "        elif condition == 'odd' and n % 2 == 1:\n",
    "            total_value += n\n",
    "        \n",
    "    return(f'The sum of all {condition} numbers is: {total_value}.')"
   ]
  },
  {
   "cell_type": "markdown",
   "metadata": {},
   "source": [
    "#### Test:"
   ]
  },
  {
   "cell_type": "code",
   "execution_count": 341,
   "metadata": {},
   "outputs": [
    {
     "name": "stdout",
     "output_type": "stream",
     "text": [
      "The sum of all even numbers is: 6.\n",
      "The sum of all odd numbers is: 9.\n",
      "The sum of all even numbers is: 144.\n",
      "The sum of all odd numbers is: 0.\n"
     ]
    }
   ],
   "source": [
    "print(conditionalSum([1, 2, 3, 4, 5], \"even\"))\n",
    "print(conditionalSum([1, 2, 3, 4, 5], \"odd\"))\n",
    "print(conditionalSum([13, 88, 12, 44, 99], \"even\"))\n",
    "print(conditionalSum([], \"odd\"))"
   ]
  },
  {
   "cell_type": "markdown",
   "metadata": {},
   "source": [
    "### Kata 3 - Vowels\n",
    "#### Create a function named numberOfVowels that will receive a string and return the number of vowels in that string."
   ]
  },
  {
   "cell_type": "code",
   "execution_count": 359,
   "metadata": {},
   "outputs": [],
   "source": [
    "def numberOfVowels(string):\n",
    "    # Takes a string and return the number of vowels in that string.\n",
    "    \n",
    "    # numberOfVowels(\"orange\")\n",
    "    # >>> 3\n",
    "    \n",
    "    vowel_count = 0\n",
    "    vowels = ['a', 'e', 'i', 'o', 'u']\n",
    "    \n",
    "    for l in string:\n",
    "        if l in vowels:\n",
    "            vowel_count += 1\n",
    "            \n",
    "    return(f'There are {vowel_count} vowels in the string.')"
   ]
  },
  {
   "cell_type": "markdown",
   "metadata": {},
   "source": [
    "#### Test:"
   ]
  },
  {
   "cell_type": "code",
   "execution_count": 360,
   "metadata": {},
   "outputs": [
    {
     "name": "stdout",
     "output_type": "stream",
     "text": [
      "There are 3 vowels in the string.\n",
      "There are 5 vowels in the string.\n",
      "There are 5 vowels in the string.\n"
     ]
    }
   ],
   "source": [
    "print(numberOfVowels(\"orange\"))\n",
    "print(numberOfVowels(\"lighthouse labs\"))\n",
    "print(numberOfVowels(\"aeiou\"))"
   ]
  },
  {
   "cell_type": "markdown",
   "metadata": {},
   "source": [
    "### Kata 4 - Instructors Names\n",
    "#### Create a function named instructorWithLongestName that will receive a list of instructor dictionaries, and return the object that has the longest name. If there are two instructors with the longest name, return the first one."
   ]
  },
  {
   "cell_type": "code",
   "execution_count": 660,
   "metadata": {},
   "outputs": [],
   "source": [
    "def instructorWithLongestName(instructors):\n",
    "    # Takes a list of instructor dictionary and return the instructor with the longest name and the responding course.\n",
    "    # If there 2 instructors with the longest name, return the first one.\n",
    "    \n",
    "    # instructorWithLongestName([\n",
    "    # {name: \"Samuel\", course: \"iOS\"},\n",
    "    # {name: \"Jeremiah\", course: \"Data\"},\n",
    "    # {name: \"Ophilia\", course: \"Web\"},\n",
    "    # {name: \"Donald\", course: \"Web\"}\n",
    "    # ]))\n",
    "    \n",
    "    # >>> {name: \"Jeremiah\", course: \"Data\"}\n",
    "    \n",
    "    names = [i['name'] for i in instructors]\n",
    "    name_len = [len(x) for x in names]\n",
    "    \n",
    "    return(instructors[name_len.index(max(name_len))])"
   ]
  },
  {
   "cell_type": "markdown",
   "metadata": {},
   "source": [
    "#### Test:"
   ]
  },
  {
   "cell_type": "code",
   "execution_count": 661,
   "metadata": {},
   "outputs": [
    {
     "name": "stdout",
     "output_type": "stream",
     "text": [
      "{'name': 'Jeremiah', 'course': 'Data'}\n",
      "{'name': 'Domascus', 'course': 'Web'}\n"
     ]
    }
   ],
   "source": [
    "print(instructorWithLongestName([\n",
    "    {'name': 'Samuel', 'course': 'iOS'},\n",
    "    {'name': 'Jeremiah', 'course': 'Data'},\n",
    "    {'name': 'Ophilia', 'course': 'Web'},\n",
    "    {'name': 'Donald', 'course': 'Web'}\n",
    "]))\n",
    "print(instructorWithLongestName([\n",
    "    {'name': 'Matthew', 'course': 'Data'},\n",
    "    {'name': 'David', 'course': 'iOS'},\n",
    "    {'name': 'Domascus', 'course': 'Web'}\n",
    "]))"
   ]
  },
  {
   "cell_type": "markdown",
   "metadata": {},
   "source": [
    "### Kata 5 - Percent Encoding\n",
    "#### Create a function named urlEncode that will receive a string of words, and return that string with all of the whitespace characters converted to %20. If there is whitespace on the outside of the string, like in our second example above, you should only replace the whitespace within the string."
   ]
  },
  {
   "cell_type": "code",
   "execution_count": 693,
   "metadata": {},
   "outputs": [],
   "source": [
    "def urlEncode(text):\n",
    "    # Takes a string of words and replace any space between the words with \"%20\".\n",
    "    # Ignore the space before the string and after the string.\n",
    "    \n",
    "    # urlEncode(\" Lighthouse Labs  \")\n",
    "    # >>> Lighthouse%20Labs\n",
    "    \n",
    "    strip_text = text.strip()\n",
    "    breakdown = list(strip_text)\n",
    "    \n",
    "    for i in range(len(breakdown)):\n",
    "        if breakdown[i] == ' ':\n",
    "            breakdown[i] = '%20'\n",
    "    \n",
    "    url = ''.join(breakdown)\n",
    "    \n",
    "    return(url)"
   ]
  },
  {
   "cell_type": "markdown",
   "metadata": {},
   "source": [
    "#### Test:"
   ]
  },
  {
   "cell_type": "code",
   "execution_count": 692,
   "metadata": {},
   "outputs": [
    {
     "name": "stdout",
     "output_type": "stream",
     "text": [
      "Lighthouse%20Labs\n",
      "Lighthouse%20Labs\n",
      "blue%20is%20greener%20than%20purple%20for%20sure\n"
     ]
    }
   ],
   "source": [
    "print(urlEncode(\"Lighthouse Labs\"))\n",
    "print(urlEncode(\" Lighthouse Labs  \"))\n",
    "print(urlEncode(\"blue is greener than purple for sure\"))"
   ]
  },
  {
   "cell_type": "markdown",
   "metadata": {},
   "source": [
    "### Kata 6 - Smart Parking\n",
    "#### We need to write a function called whereCanIPark() that returns the coordinates of an available parking spot for the vehicle, or returns false if there is no available spot. Our function receives a list of lists representing parking spots, and a string with type of the vehicle that is looking for a parking spot."
   ]
  },
  {
   "cell_type": "code",
   "execution_count": 789,
   "metadata": {},
   "outputs": [],
   "source": [
    "def whereCanIPark(parking_lots, vehicle_type):\n",
    "    # Takes a list of a parking lots and a vehicle type, return a list of cooridnates (X, Y) for an available parking lot according to the vehicle type.\n",
    "    # Regular cars can only park at R;\n",
    "    # Small cars can park at R, S;\n",
    "    # Motorcycles can park at R, S, M.\n",
    "    # Parking lot in UPPER-CASE means available, lower-case means unavailable.\n",
    "    # X = columns; Y = rows.\n",
    "    # If no lot available, return 'false'.\n",
    "    \n",
    "    # whereCanIPark(\n",
    "    #   [\n",
    "    #     ['s', 's', 's', 's', 's', 's'],\n",
    "    #     ['s', 'm', 's', 'S', 'r', 's'],\n",
    "    #     ['s', 'm', 's', 'S', 'r', 's'],\n",
    "    #     ['S', 'r', 's', 'm', 'r', 's'],\n",
    "    #     ['S', 'r', 's', 'm', 'R', 's'],\n",
    "    #     ['S', 'r', 'S', 'M', 'm', 'S']\n",
    "    #   ],\n",
    "    #   'motorcycle'\n",
    "    # )\n",
    "    # >>> [3, 5]\n",
    "    \n",
    "    regular = ['R']\n",
    "    small = ['R', 'S']\n",
    "    motorcycle = ['R', 'S', 'M']\n",
    "#     vehicle_types = [regular, small, motorcycle]\n",
    "    \n",
    "    for row in parking_lots:\n",
    "        for column in row:\n",
    "            if column.islower():\n",
    "                continue\n",
    "            elif column.isupper() and column == vehicle_type[0].upper():\n",
    "                X = row.index(column)\n",
    "                Y = parking_lots.index(row)\n",
    "                return(X, Y)\n",
    "    return('false')"
   ]
  },
  {
   "cell_type": "markdown",
   "metadata": {},
   "source": [
    "#### Test:"
   ]
  },
  {
   "cell_type": "code",
   "execution_count": 790,
   "metadata": {},
   "outputs": [
    {
     "name": "stdout",
     "output_type": "stream",
     "text": [
      "(4, 0)\n",
      "false\n",
      "(3, 5)\n"
     ]
    }
   ],
   "source": [
    "print(whereCanIPark(\n",
    "  [\n",
    "    # COLUMNS ARE X\n",
    "    # 0    1    2    3    4    5\n",
    "    ['s', 's', 's', 'S', 'R', 'M'], # 0 ROWS ARE Y\n",
    "    ['s', 'M', 's', 'S', 'r', 'M'], # 1\n",
    "    ['s', 'M', 's', 'S', 'r', 'm'], # 2\n",
    "    ['S', 'r', 's', 'm', 'r', 'M'], # 3\n",
    "    ['S', 'r', 's', 'm', 'r', 'M'], # 4\n",
    "    ['S', 'r', 'S', 'M', 'M', 'S']  # 5\n",
    "  ],\n",
    "  'regular'\n",
    "))\n",
    "\n",
    "print(whereCanIPark(\n",
    "  [\n",
    "    ['M', 'M', 'M', 'M'],\n",
    "    ['M', 's', 'M', 'M'],\n",
    "    ['M', 'M', 'M', 'M'],\n",
    "    ['M', 'M', 'r', 'M']\n",
    "  ],\n",
    "  'small'\n",
    "))\n",
    "\n",
    "print(whereCanIPark(\n",
    "  [\n",
    "    ['s', 's', 's', 's', 's', 's'],\n",
    "    ['s', 'm', 's', 'S', 'r', 's'],\n",
    "    ['s', 'm', 's', 'S', 'r', 's'],\n",
    "    ['S', 'r', 's', 'm', 'r', 's'],\n",
    "    ['S', 'r', 's', 'm', 'R', 's'],\n",
    "    ['S', 'r', 'S', 'M', 'm', 'S']\n",
    "  ],\n",
    "  'motorcycle'\n",
    "))"
   ]
  },
  {
   "cell_type": "markdown",
   "metadata": {},
   "source": [
    "### Kata 7 - In the Air Tonight\n",
    "#### For this challenge, we will implement a function called checkAir(), which will check a collection of air samples. The function will take in two arguments. The first argument is a list of strings, where each string represents a small air sample that is either clean or dirty. The second argument is a number representing the highest acceptable amount of dirty samples. For example, a threshold of 0.4 means that there must be less than 40% of total samples classified as dirty for our air to be considered clean. Our function must return Polluted if there are too many dirty air samples, or Clean if the proportion of dirty samples is below the threshold."
   ]
  },
  {
   "cell_type": "code",
   "execution_count": 816,
   "metadata": {},
   "outputs": [],
   "source": [
    "def checkAir(samples, threshold):\n",
    "    # Takes a list of samples, each sample is either 'clean' or 'dirty', if the percentage of the 'dirty' sample in the list samples exceed the given threshold, return 'Polluted';\n",
    "    # if not, return 'Clean'.\n",
    "    \n",
    "    # print(checkAir(\n",
    "    #  ['clean', 'clean', 'dirty', 'clean', 'dirty', 'clean', 'clean', 'dirty', 'clean', 'dirty'],\n",
    "    #  0.3\n",
    "    # ))\n",
    "    # >>> Polluted\n",
    "    \n",
    "    pollution_level = 0\n",
    "    sample_size = len(samples)\n",
    "    \n",
    "    \n",
    "    for sample in samples:\n",
    "        if sample == 'dirty':\n",
    "            pollution_level += 1\n",
    "    \n",
    "    pollution_percentage = pollution_level / sample_size\n",
    "    \n",
    "    if pollution_percentage >= threshold:\n",
    "        return('Polluted')\n",
    "    else:\n",
    "        return('Clean')"
   ]
  },
  {
   "cell_type": "markdown",
   "metadata": {},
   "source": [
    "#### Test:"
   ]
  },
  {
   "cell_type": "code",
   "execution_count": 815,
   "metadata": {},
   "outputs": [
    {
     "name": "stdout",
     "output_type": "stream",
     "text": [
      "Polluted\n",
      "Polluted\n",
      "Clean\n"
     ]
    }
   ],
   "source": [
    "print(checkAir(\n",
    "  ['clean', 'clean', 'dirty', 'clean', 'dirty', 'clean', 'clean', 'dirty', 'clean', 'dirty'],\n",
    "  0.3\n",
    "))\n",
    "\n",
    "print(checkAir(\n",
    "  ['dirty', 'dirty', 'dirty', 'dirty', 'clean'],\n",
    "  0.25\n",
    "))\n",
    "\n",
    "print(checkAir(\n",
    "  ['clean', 'dirty', 'clean', 'dirty', 'clean', 'dirty', 'clean'],\n",
    "  0.9\n",
    "))"
   ]
  },
  {
   "cell_type": "markdown",
   "metadata": {},
   "source": [
    "### (Stretch) Kata 6 - Repeating Numbers\n",
    "#### Create a function named repeatNumbers that will return a string with each of the given values repeated the appropriate number of times. If there are multiple sets of values each set should be separated by a comma. If there is only one set of values then you should omit the comma."
   ]
  },
  {
   "cell_type": "code",
   "execution_count": 21,
   "metadata": {},
   "outputs": [],
   "source": [
    "def repeatNumbers(data):\n",
    "\n",
    "    # print(repeatNumbers([[1, 10]]))\n",
    "    # print(repeatNumbers([[1, 2], [2, 3]]))\n",
    "    # print(repeatNumbers([[10, 4], [34, 6], [92, 2]]))\n",
    "\n",
    "    # >>> 1111111111\n",
    "    # >>> 11, 222\n",
    "    # >>> 10101010, 343434343434, 9292\n",
    "    \n",
    "    res = [str(datum[0]) * datum[1] for datum in data]\n",
    "    return(res)"
   ]
  },
  {
   "cell_type": "markdown",
   "metadata": {},
   "source": [
    "#### Test:"
   ]
  },
  {
   "cell_type": "code",
   "execution_count": 22,
   "metadata": {},
   "outputs": [
    {
     "name": "stdout",
     "output_type": "stream",
     "text": [
      "['1111111111']\n",
      "['11', '222']\n",
      "['10101010', '343434343434', '9292']\n"
     ]
    }
   ],
   "source": [
    "print(repeatNumbers([[1, 10]]))\n",
    "print(repeatNumbers([[1, 2], [2, 3]]))\n",
    "print(repeatNumbers([[10, 4], [34, 6], [92, 2]]))"
   ]
  },
  {
   "cell_type": "markdown",
   "metadata": {},
   "source": [
    "### (Stretch) Kata 7 - Case Maker\n",
    "#### Create a function named camelCase that will convert a string to a camel case, and return the result."
   ]
  },
  {
   "cell_type": "code",
   "execution_count": 71,
   "metadata": {},
   "outputs": [],
   "source": [
    "def camelCase(input):\n",
    "    \n",
    "    # print(camelCase(\"this is a string\"))\n",
    "    # print(camelCase(\"loopy lighthouse\"))\n",
    "    # print(camelCase(\"supercalifragalisticexpialidocious\"))\n",
    "\n",
    "    # >>> thisIsAString\n",
    "    # >>> loopyLighthouse\n",
    "    # >>> supercalifragalisticexpialidocious\n",
    "    \n",
    "    breakdown = input.split()\n",
    "    \n",
    "    cap = [i.capitalize() for i in breakdown[1 : len(breakdown)]]\n",
    "    cap.insert(0, breakdown[0])\n",
    "    \n",
    "    res = ''.join(cap)\n",
    "    \n",
    "    return(res)"
   ]
  },
  {
   "cell_type": "markdown",
   "metadata": {},
   "source": [
    "#### Test:"
   ]
  },
  {
   "cell_type": "code",
   "execution_count": 69,
   "metadata": {},
   "outputs": [
    {
     "name": "stdout",
     "output_type": "stream",
     "text": [
      "thisIsAString\n",
      "loopyLighthouse\n",
      "supercalifragalisticexpialidocious\n"
     ]
    }
   ],
   "source": [
    "print(camelCase(\"this is a string\"))\n",
    "print(camelCase(\"loopy lighthouse\"))\n",
    "print(camelCase(\"supercalifragalisticexpialidocious\"))"
   ]
  },
  {
   "cell_type": "markdown",
   "metadata": {},
   "source": [
    "### (Stretch) Kata 8 - Multiplication Table\n",
    "#### Create a function named multiplicationTable that receives a number maxValue as input and creates a square multiplication table where maxValue is the largest value in the table."
   ]
  },
  {
   "cell_type": "code",
   "execution_count": 174,
   "metadata": {},
   "outputs": [],
   "source": [
    "def multiplicationTable(maxValue):\n",
    "\n",
    "    # print(multiplicationTable(5))\n",
    "\n",
    "    # >>> 1 2 3 4 5\n",
    "    #     2 4 6 8 10\n",
    "    #     3 6 9 12 15\n",
    "    #     4 8 12 16 20\n",
    "    #     5 10 15 20 25 \n",
    "    \n",
    "    import numpy as np\n",
    "    \n",
    "    table = np.zeros((maxValue, maxValue))\n",
    "    \n",
    "    stand = np.array(range(1, maxValue+1))\n",
    "    \n",
    "    for i in range(maxValue):\n",
    "        table[i,:] = (i+1) * stand\n",
    "    return(table)"
   ]
  },
  {
   "cell_type": "markdown",
   "metadata": {},
   "source": [
    "#### Test:"
   ]
  },
  {
   "cell_type": "code",
   "execution_count": 175,
   "metadata": {},
   "outputs": [
    {
     "name": "stdout",
     "output_type": "stream",
     "text": [
      "[[1.]]\n",
      "[[ 1.  2.  3.  4.  5.]\n",
      " [ 2.  4.  6.  8. 10.]\n",
      " [ 3.  6.  9. 12. 15.]\n",
      " [ 4.  8. 12. 16. 20.]\n",
      " [ 5. 10. 15. 20. 25.]]\n",
      "[[  1.   2.   3.   4.   5.   6.   7.   8.   9.  10.]\n",
      " [  2.   4.   6.   8.  10.  12.  14.  16.  18.  20.]\n",
      " [  3.   6.   9.  12.  15.  18.  21.  24.  27.  30.]\n",
      " [  4.   8.  12.  16.  20.  24.  28.  32.  36.  40.]\n",
      " [  5.  10.  15.  20.  25.  30.  35.  40.  45.  50.]\n",
      " [  6.  12.  18.  24.  30.  36.  42.  48.  54.  60.]\n",
      " [  7.  14.  21.  28.  35.  42.  49.  56.  63.  70.]\n",
      " [  8.  16.  24.  32.  40.  48.  56.  64.  72.  80.]\n",
      " [  9.  18.  27.  36.  45.  54.  63.  72.  81.  90.]\n",
      " [ 10.  20.  30.  40.  50.  60.  70.  80.  90. 100.]]\n"
     ]
    }
   ],
   "source": [
    "print(multiplicationTable(1))\n",
    "print(multiplicationTable(5))\n",
    "print(multiplicationTable(10))"
   ]
  }
 ],
 "metadata": {
  "kernelspec": {
   "display_name": "Python 3",
   "language": "python",
   "name": "python3"
  },
  "language_info": {
   "codemirror_mode": {
    "name": "ipython",
    "version": 3
   },
   "file_extension": ".py",
   "mimetype": "text/x-python",
   "name": "python",
   "nbconvert_exporter": "python",
   "pygments_lexer": "ipython3",
   "version": "3.8.5"
  }
 },
 "nbformat": 4,
 "nbformat_minor": 4
}
