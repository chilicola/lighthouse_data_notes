{
 "cells": [
  {
   "cell_type": "markdown",
   "metadata": {
    "ExecuteTime": {
     "end_time": "2020-02-05T17:56:18.818219Z",
     "start_time": "2020-02-05T17:56:18.810698Z"
    }
   },
   "source": [
    "## Exercise 1\n",
    "In Orange County, 51% of the adults are males. (It doesn't take too much advanced\n",
    "mathematics to deduce that the other 49% are females.) One adult is randomly selected\n",
    "for a survey involving credit card usage.\n",
    "\n",
    "- **(a)** Find the probability that the selected person is a male.\n",
    "\n",
    "- **(b)** It is later learned that the selected survey subject was smoking a cigar. Also, 9.5% of males smoke cigars, whereas 1.7% of females smoke cigars (based on data from the Substance Abuse and Mental Health Services Administration). Use this additional information to find the probability that the cigar−smoking respondent is a male\n",
    "\n",
    "Use following notation: <br>\n",
    "M = male <br>\n",
    "F = female <br>\n",
    "C = cigar smoker<br>\n",
    "NC = not a cigar smoker<br>\n"
   ]
  },
  {
   "cell_type": "code",
   "execution_count": 1,
   "metadata": {},
   "outputs": [],
   "source": [
    "# import NumPy\n",
    "import numpy as np"
   ]
  },
  {
   "cell_type": "code",
   "execution_count": 85,
   "metadata": {},
   "outputs": [],
   "source": [
    "# run times\n",
    "n_runs = 100000\n",
    "\n",
    "M = 0\n",
    "M_C = 0\n",
    "M_NC = 0\n",
    "F = 0\n",
    "F_C = 0\n",
    "F_NC = 0\n",
    "C = 0\n",
    "NC = 0\n",
    "\n",
    "for _ in range(n_runs):\n",
    "    \n",
    "    # Male is selected\n",
    "    if np.random.random() < 0.51:\n",
    "        M += 1\n",
    "        \n",
    "        # Selected male is smoker\n",
    "        if np.random.random() < 0.095:\n",
    "            M_C += 1\n",
    "            C += 1\n",
    "            \n",
    "        # Selected male is NOT smoker\n",
    "        else:\n",
    "            M_NC += 1\n",
    "            NC += 1\n",
    "            \n",
    "    # Female is selected\n",
    "    if np.random.random() < 0.49:\n",
    "        F += 1\n",
    "        \n",
    "        # Selected female is smoker\n",
    "        if np.random.random() < 0.017:\n",
    "            F_C += 1\n",
    "            C += 1\n",
    "            \n",
    "        # Selected female is NOT smoker\n",
    "        else:\n",
    "            F_NC += 1\n",
    "            NC += 1"
   ]
  },
  {
   "cell_type": "code",
   "execution_count": 86,
   "metadata": {},
   "outputs": [
    {
     "name": "stdout",
     "output_type": "stream",
     "text": [
      "Male is selected: 51.17%\n",
      "Male is selected and a smoker: 4.93%\n",
      "Male is selected and not a smoker: 46.25%\n",
      "Female is selected: 49.02%\n",
      "Female is selected and a smoker: 0.83%\n",
      "Female is selected and not a smoker: 48.19%\n",
      "Smoker: 5.76%\n",
      "Not smoker: 94.43%\n"
     ]
    }
   ],
   "source": [
    "P_M = M / n_runs * 100\n",
    "P_M_C = M_C / n_runs * 100\n",
    "P_M_NC = M_NC / n_runs * 100\n",
    "P_F = F / n_runs * 100\n",
    "P_F_C = F_C / n_runs * 100\n",
    "P_F_NC = F_NC / n_runs * 100\n",
    "P_C = C / n_runs * 100\n",
    "P_NC = NC / n_runs * 100\n",
    "\n",
    "print(f'Male is selected: {P_M:.2f}%')\n",
    "print(f'Male is selected and a smoker: {P_M_C:.2f}%')\n",
    "print(f'Male is selected and not a smoker: {P_M_NC:.2f}%')\n",
    "print(f'Female is selected: {P_F:.2f}%')\n",
    "print(f'Female is selected and a smoker: {P_F_C:.2f}%')\n",
    "print(f'Female is selected and not a smoker: {P_F_NC:.2f}%')\n",
    "print(f'Smoker: {P_C:.2f}%')\n",
    "print(f'Not smoker: {P_NC:.2f}%')"
   ]
  },
  {
   "cell_type": "markdown",
   "metadata": {
    "ExecuteTime": {
     "end_time": "2020-02-05T17:56:20.532960Z",
     "start_time": "2020-02-05T17:56:20.525450Z"
    }
   },
   "source": [
    "# Exercise 2\n",
    "\n",
    "A diagnostic test has a probability 0.95 of giving a positive result when applied to a person suffering\n",
    "from a certain disease, and a probability 0.10 of giving a (false) positive when applied to a non-sufferer. It is\n",
    "estimated that 0.5 % of the population are sufferers. Suppose that the test is now administered to a person about\n",
    "whom we have no relevant information relating to the disease (apart from the fact that he/she comes from this\n",
    "population). \n",
    "\n",
    "Calculate the following probabilities:\n",
    "- **(a)** that the test result will be positive;\n",
    "- **(b)** that, given a positive result, the person is a sufferer;\n",
    "- **(c)** that, given a negative result, the person is a non-sufferer;\n",
    "- **(d)** that the person will be misclassified.\n",
    "\n",
    "Use following notation:\n",
    "\n",
    "T = test positive <br>\n",
    "NT = test negative<br>\n",
    "S = sufferer<br>\n",
    "NS = non-sufferer<br>\n",
    "M = misclassified<br>\n",
    "\n",
    "Solve it by two approaches:\n",
    "1. Arithmetically\n",
    "2. By simulation"
   ]
  },
  {
   "cell_type": "code",
   "execution_count": 140,
   "metadata": {},
   "outputs": [],
   "source": [
    "# run times\n",
    "n_runs = 100000\n",
    "\n",
    "S = 0\n",
    "S_T = 0\n",
    "S_NT = 0\n",
    "NS = 0\n",
    "NS_T = 0\n",
    "NS_NT = 0\n",
    "T = 0\n",
    "NT = 0\n",
    "\n",
    "for _ in range(n_runs):\n",
    "    \n",
    "    # Sufferer is selected\n",
    "    if np.random.random() < 0.005:\n",
    "        S += 1\n",
    "        \n",
    "        # Selected sufferer is tested positive\n",
    "        if np.random.random() < 0.95:\n",
    "            S_T += 1\n",
    "            T += 1\n",
    "            \n",
    "        # Selected sufferer is tested negative\n",
    "        else:\n",
    "            S_NT += 1\n",
    "            NT += 1\n",
    "            \n",
    "    # Non-sufferer is selected\n",
    "    if np.random.random() < 0.995:\n",
    "        NS += 1\n",
    "        \n",
    "        # Selected non-sufferer is tested positive\n",
    "        if np.random.random() < 0.1:\n",
    "            NS_T += 1\n",
    "            T += 1\n",
    "            \n",
    "        # Selected non-sufferer is tested negative\n",
    "        else:\n",
    "            NS_NT += 1\n",
    "            NT += 1\n",
    "            \n",
    "M = S_NT + NS_T"
   ]
  },
  {
   "cell_type": "code",
   "execution_count": 141,
   "metadata": {},
   "outputs": [
    {
     "name": "stdout",
     "output_type": "stream",
     "text": [
      "Sufferer is selected: 0.50%\n",
      "Sufferer is selected and tested positive: 0.48%\n",
      "Sufferer is selected and tested negative: 0.02%\n",
      "Non-sufferer is selected: 99.49%\n",
      "Non-sufferer is selected and tested positive: 9.75%\n",
      "Non-sufferer is selected and teste negative: 89.74%\n",
      "Test positive: 10.23%\n",
      "Test negative: 89.76%\n",
      "Misclassified: 9.77%\n"
     ]
    }
   ],
   "source": [
    "P_S = S / n_runs * 100\n",
    "P_S_T = S_T / n_runs * 100\n",
    "P_S_NT = S_NT / n_runs * 100\n",
    "P_NS = NS / n_runs * 100\n",
    "P_NS_T = NS_T / n_runs * 100\n",
    "P_NS_NT = NS_NT / n_runs * 100\n",
    "P_T = T / n_runs * 100\n",
    "P_NT = NT / n_runs * 100\n",
    "P_M = M / n_runs * 100\n",
    "\n",
    "print(f'Sufferer is selected: {P_S:.2f}%')\n",
    "print(f'Sufferer is selected and tested positive: {P_S_T:.2f}%')\n",
    "print(f'Sufferer is selected and tested negative: {P_S_NT:.2f}%')\n",
    "print(f'Non-sufferer is selected: {P_NS:.2f}%')\n",
    "print(f'Non-sufferer is selected and tested positive: {P_NS_T:.2f}%')\n",
    "print(f'Non-sufferer is selected and teste negative: {P_NS_NT:.2f}%')\n",
    "print(f'Test positive: {P_T:.2f}%')\n",
    "print(f'Test negative: {P_NT:.2f}%')\n",
    "print(f'Misclassified: {P_M:.2f}%')"
   ]
  },
  {
   "cell_type": "code",
   "execution_count": 142,
   "metadata": {},
   "outputs": [
    {
     "name": "stdout",
     "output_type": "stream",
     "text": [
      "Test positive: 10.23%\n",
      "Given a positive result, the person is a sufferer: 4.67%\n",
      "Given a negative result, the person is a non-sufferer: 99.98%\n",
      "The person will be misclassified: 9.77%\n"
     ]
    }
   ],
   "source": [
    "# Simulation\n",
    "\n",
    "# (a) that the test result will be positive;\n",
    "P_Test_Positive = (S_T + NS_T) / n_runs * 100\n",
    "print(f'Test positive: {P_Test_Positive:.2f}%')\n",
    "\n",
    "# (b) that, given a positive result, the person is a sufferer;\n",
    "# P(Sufferer|Positive)\n",
    "P_Sufferer_Positive = S_T / T * 100\n",
    "print(f'Given a positive result, the person is a sufferer: {P_Sufferer_Positive:.2f}%')\n",
    "\n",
    "# (c) that, given a negative result, the person is a non-sufferer;\n",
    "# P(Non-sufferer|Negative)\n",
    "P_Non_Sufferer_Negative = NS_NT / NT *100\n",
    "print(f'Given a negative result, the person is a non-sufferer: {P_Non_Sufferer_Negative:.2f}%')\n",
    "\n",
    "# (d) that the person will be misclassified.\n",
    "# False positive + False negative\n",
    "print(f'The person will be misclassified: {P_M:.2f}%')\n"
   ]
  },
  {
   "cell_type": "code",
   "execution_count": 143,
   "metadata": {},
   "outputs": [
    {
     "name": "stdout",
     "output_type": "stream",
     "text": [
      "Test positive: 10.43%\n",
      "Given a positive result, the person is a sufferer: 0.02%\n",
      "Given a negative result, the person is a non-sufferer: 99.47%\n",
      "The person will be misclassified: 9.98%\n"
     ]
    }
   ],
   "source": [
    "# Arithmetically\n",
    "\n",
    "# (a) that the test result will be positive;\n",
    "# Sufferer * test positive + non-sufferer * test positive\n",
    "answer_a = (0.005 * 0.95 + 0.995 * 0.1) * 100\n",
    "print(f'Test positive: {answer_a:.2f}%')\n",
    "\n",
    "# (b) that, given a positive result, the person is a sufferer;\n",
    "# P(Sufferer|Positive) = P(Sufferer) * P(Positive|Sufferer) / P(Positive)\n",
    "answer_b = ((0.005 * 0.005 * 0.95) / (0.005 * 0.95 + 0.995 * 0.1)) * 100\n",
    "print(f'Given a positive result, the person is a sufferer: {answer_b:.2f}%')\n",
    "\n",
    "# (c) that, given a negative result, the person is a non-sufferer;\n",
    "# P(Non-sufferer|Negative) = P(Non-sufferer) * P(Negative|Non-sufferer) / P(Negative)\n",
    "answer_c = ((0.995 * 0.995 * 0.9) / (0.005 * 0.05 + 0.995 * 0.9)) * 100\n",
    "print(f'Given a negative result, the person is a non-sufferer: {answer_c:.2f}%')\n",
    "\n",
    "# (d) that the person will be misclassified.\n",
    "# False positive + False negative\n",
    "answer_d = (0.005 * 0.05 + 0.995 * 0.1) * 100\n",
    "print(f'The person will be misclassified: {answer_d:.2f}%')"
   ]
  }
 ],
 "metadata": {
  "kernelspec": {
   "display_name": "Python 3",
   "language": "python",
   "name": "python3"
  },
  "language_info": {
   "codemirror_mode": {
    "name": "ipython",
    "version": 3
   },
   "file_extension": ".py",
   "mimetype": "text/x-python",
   "name": "python",
   "nbconvert_exporter": "python",
   "pygments_lexer": "ipython3",
   "version": "3.8.5"
  },
  "toc": {
   "base_numbering": 1,
   "nav_menu": {},
   "number_sections": true,
   "sideBar": true,
   "skip_h1_title": false,
   "title_cell": "Table of Contents",
   "title_sidebar": "Contents",
   "toc_cell": false,
   "toc_position": {},
   "toc_section_display": true,
   "toc_window_display": false
  },
  "varInspector": {
   "cols": {
    "lenName": 16,
    "lenType": 16,
    "lenVar": 40
   },
   "kernels_config": {
    "python": {
     "delete_cmd_postfix": "",
     "delete_cmd_prefix": "del ",
     "library": "var_list.py",
     "varRefreshCmd": "print(var_dic_list())"
    },
    "r": {
     "delete_cmd_postfix": ") ",
     "delete_cmd_prefix": "rm(",
     "library": "var_list.r",
     "varRefreshCmd": "cat(var_dic_list()) "
    }
   },
   "types_to_exclude": [
    "module",
    "function",
    "builtin_function_or_method",
    "instance",
    "_Feature"
   ],
   "window_display": false
  }
 },
 "nbformat": 4,
 "nbformat_minor": 4
}
