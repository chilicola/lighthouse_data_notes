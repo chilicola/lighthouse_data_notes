{
 "cells": [
  {
   "cell_type": "code",
   "execution_count": 22,
   "id": "9fb89910-1c39-41d2-bfd6-e0fef4612349",
   "metadata": {},
   "outputs": [],
   "source": [
    "from nltk.corpus import comtrans\n",
    "\n",
    "import string\n",
    "import re\n",
    "from unicodedata import normalize\n",
    "from numpy import array"
   ]
  },
  {
   "cell_type": "code",
   "execution_count": null,
   "id": "e299d757-3fc2-4c6e-b140-992941d2c404",
   "metadata": {},
   "outputs": [],
   "source": [
    "def extract_corpus(translated_pairs='alignment-en-fr.txt'):\n",
    "    als = comtrans.aligned_sents(translated_pairs)\n",
    "    sent1 = [sent.words for sent in als]\n",
    "    sent2 = [sent.mots for sent in als]\n",
    "    return sent1, sent2"
   ]
  },
  {
   "cell_type": "code",
   "execution_count": 28,
   "id": "0812a3ef-f7be-49cb-81de-c2e2f9aa6db9",
   "metadata": {},
   "outputs": [
    {
     "data": {
      "text/plain": [
       "['Resumption', 'of', 'the', 'session']"
      ]
     },
     "execution_count": 28,
     "metadata": {},
     "output_type": "execute_result"
    }
   ],
   "source": [
    "comtrans.aligned_sents('alignment-en-fr.txt')[0].words"
   ]
  },
  {
   "cell_type": "code",
   "execution_count": 7,
   "id": "f7f43828-038e-495e-8aab-eeb40e2d4c48",
   "metadata": {},
   "outputs": [
    {
     "data": {
      "text/plain": [
       "['Reprise', 'de', 'la', 'session']"
      ]
     },
     "execution_count": 7,
     "metadata": {},
     "output_type": "execute_result"
    }
   ],
   "source": [
    "comtrans.aligned_sents('alignment-en-fr.txt')[0].mots"
   ]
  },
  {
   "cell_type": "code",
   "execution_count": 8,
   "id": "a2a4e3d1-0d1e-473f-90fd-3cd0260afeb2",
   "metadata": {},
   "outputs": [],
   "source": [
    "# load doc into memory\n",
    "def load_doc(filename):\n",
    "\t# open the file as read only\n",
    "\tfile = open(filename, mode='rt', encoding='utf-8')\n",
    "\t# read all text\n",
    "\ttext = file.read()\n",
    "\t# close the file\n",
    "\tfile.close()\n",
    "\treturn text"
   ]
  },
  {
   "cell_type": "code",
   "execution_count": 9,
   "id": "beba6bd1-c896-40d5-a38b-2cc1a2e181b8",
   "metadata": {},
   "outputs": [],
   "source": [
    "# split a loaded document into sentences\n",
    "def to_pairs(doc):\n",
    "\tlines = doc.strip().split('\\n')\n",
    "\tpairs = [line.split('\\t') for line in  lines]\n",
    "\treturn pairs"
   ]
  },
  {
   "cell_type": "code",
   "execution_count": 13,
   "id": "d91cec36-e4e2-4264-b70a-213245b25dca",
   "metadata": {},
   "outputs": [],
   "source": [
    "# clean a list of lines\n",
    "def clean_pairs(lines):\n",
    "\tcleaned = list()\n",
    "\t# prepare regex for char filtering\n",
    "\tre_print = re.compile('[^%s]' % re.escape(string.printable))\n",
    "\t# prepare translation table for removing punctuation\n",
    "\ttable = str.maketrans('', '', string.punctuation)\n",
    "\tfor pair in lines:\n",
    "\t\tclean_pair = list()\n",
    "\t\tfor line in pair:\n",
    "\t\t\t# normalize unicode characters\n",
    "\t\t\tline = normalize('NFD', line).encode('ascii', 'ignore')\n",
    "\t\t\tline = line.decode('UTF-8')\n",
    "\t\t\t# tokenize on white space\n",
    "\t\t\tline = line.split()\n",
    "\t\t\t# convert to lowercase\n",
    "\t\t\tline = [word.lower() for word in line]\n",
    "\t\t\t# remove punctuation from each token\n",
    "\t\t\tline = [word.translate(table) for word in line]\n",
    "\t\t\t# remove non-printable chars form each token\n",
    "\t\t\tline = [re_print.sub('', w) for w in line]\n",
    "\t\t\t# remove tokens with numbers in them\n",
    "\t\t\tline = [word for word in line if word.isalpha()]\n",
    "\t\t\t# store as string\n",
    "\t\t\tclean_pair.append(' '.join(line))\n",
    "\t\tcleaned.append(clean_pair)\n",
    "\treturn array(cleaned)"
   ]
  },
  {
   "cell_type": "code",
   "execution_count": 11,
   "id": "6d03a52b-b864-49ec-94ea-67136c420f6b",
   "metadata": {
    "scrolled": true,
    "tags": []
   },
   "outputs": [],
   "source": [
    "text = load_doc('data/deu.txt')"
   ]
  },
  {
   "cell_type": "code",
   "execution_count": 14,
   "id": "9a07860a-2d23-4191-9dda-83bb12479a4a",
   "metadata": {},
   "outputs": [],
   "source": [
    "pairs = to_pairs(text)"
   ]
  },
  {
   "cell_type": "code",
   "execution_count": 25,
   "id": "d941aeae-fe9d-4e42-a2a5-58fa2b9f8594",
   "metadata": {},
   "outputs": [],
   "source": [
    "clean_pairs = clean_pairs(pairs)"
   ]
  },
  {
   "cell_type": "code",
   "execution_count": 31,
   "id": "1cd6152e-7f12-4b38-9de8-92ae3927de8d",
   "metadata": {},
   "outputs": [
    {
     "data": {
      "text/plain": [
       "array(['hi', 'hallo'], dtype='<U370')"
      ]
     },
     "execution_count": 31,
     "metadata": {},
     "output_type": "execute_result"
    }
   ],
   "source": [
    "clean_pairs[0]"
   ]
  }
 ],
 "metadata": {
  "kernelspec": {
   "display_name": "Python 3",
   "language": "python",
   "name": "python3"
  },
  "language_info": {
   "codemirror_mode": {
    "name": "ipython",
    "version": 3
   },
   "file_extension": ".py",
   "mimetype": "text/x-python",
   "name": "python",
   "nbconvert_exporter": "python",
   "pygments_lexer": "ipython3",
   "version": "3.8.5"
  }
 },
 "nbformat": 4,
 "nbformat_minor": 5
}
