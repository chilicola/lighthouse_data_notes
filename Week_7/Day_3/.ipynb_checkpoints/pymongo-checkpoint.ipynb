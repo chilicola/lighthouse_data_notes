{
 "cells": [
  {
   "cell_type": "code",
   "execution_count": 1,
   "id": "00e2301a-a3bc-4d88-9a23-83e60797ce7c",
   "metadata": {},
   "outputs": [],
   "source": [
    "import pymongo"
   ]
  },
  {
   "cell_type": "code",
   "execution_count": 2,
   "id": "aaaf0382-b153-4976-a596-b0c0e34ecfcc",
   "metadata": {},
   "outputs": [
    {
     "data": {
      "text/plain": [
       "MongoClient(host=['localhost:27017'], document_class=dict, tz_aware=False, connect=True)"
      ]
     },
     "execution_count": 2,
     "metadata": {},
     "output_type": "execute_result"
    }
   ],
   "source": [
    "from pymongo import MongoClient\n",
    "client = MongoClient()\n",
    "client"
   ]
  },
  {
   "cell_type": "code",
   "execution_count": 3,
   "id": "807d1b8b-571b-4a4f-b9d5-4e48b243561b",
   "metadata": {},
   "outputs": [
    {
     "data": {
      "text/plain": [
       "Database(MongoClient(host=['localhost:27017'], document_class=dict, tz_aware=False, connect=True), 'rptutorials')"
      ]
     },
     "execution_count": 3,
     "metadata": {},
     "output_type": "execute_result"
    }
   ],
   "source": [
    "# connect with the database\n",
    "db = client.rptutorials\n",
    "# also works with\n",
    "# db = client['rptutorials']\n",
    "db"
   ]
  },
  {
   "cell_type": "code",
   "execution_count": 6,
   "id": "6474566c-89aa-4271-a46d-0185618a4935",
   "metadata": {},
   "outputs": [],
   "source": [
    "# create a document\n",
    "tutorial1 = {\n",
    "    'title': 'Working With JSON Data in Python',\n",
    "    'author': 'Lucas',\n",
    "    'contributors': [\n",
    "        'Aldren',\n",
    "        'Dan',\n",
    "        'Joanna'\n",
    "    ],\n",
    "    'url': 'https://realpython.com/python-json'\n",
    "}"
   ]
  },
  {
   "cell_type": "code",
   "execution_count": 7,
   "id": "d4ee221f-cab5-4db7-8cad-ff70be4dc6de",
   "metadata": {},
   "outputs": [
    {
     "data": {
      "text/plain": [
       "Collection(Database(MongoClient(host=['localhost:27017'], document_class=dict, tz_aware=False, connect=True), 'rptutorials'), 'tutorial')"
      ]
     },
     "execution_count": 7,
     "metadata": {},
     "output_type": "execute_result"
    }
   ],
   "source": [
    "# connect with the collection within database\n",
    "tutorial = db.tutorial\n",
    "tutorial"
   ]
  },
  {
   "cell_type": "code",
   "execution_count": 8,
   "id": "5ad66db5-8800-4539-b019-4c1fe80f32f3",
   "metadata": {},
   "outputs": [
    {
     "data": {
      "text/plain": [
       "<pymongo.results.InsertOneResult at 0x2a3d7643e40>"
      ]
     },
     "execution_count": 8,
     "metadata": {},
     "output_type": "execute_result"
    }
   ],
   "source": [
    "result = tutorial.insert_one(tutorial1)\n",
    "result"
   ]
  },
  {
   "cell_type": "code",
   "execution_count": 9,
   "id": "7367f261-24f9-4388-8855-14b2715ed9e5",
   "metadata": {},
   "outputs": [
    {
     "name": "stdout",
     "output_type": "stream",
     "text": [
      "One tutorial: 60e6b6317cb50712bda9770c\n"
     ]
    }
   ],
   "source": [
    "print(f'One tutorial: {result.inserted_id}')"
   ]
  },
  {
   "cell_type": "code",
   "execution_count": 11,
   "id": "c4ce90ef-251d-4d12-ba03-74799467a9ec",
   "metadata": {},
   "outputs": [
    {
     "name": "stdout",
     "output_type": "stream",
     "text": [
      "Multiple tutorials: [ObjectId('60e6b7107cb50712bda9770f'), ObjectId('60e6b7107cb50712bda97710')]\n"
     ]
    }
   ],
   "source": [
    "# create multiple documents\n",
    "tutorial2 = {\n",
    "    \"title\": \"Python's Requests Library (Guide)\",\n",
    "    \"author\": \"Alex\",\n",
    "    \"contributors\": [\n",
    "        \"Aldren\",\n",
    "        \"Brad\",\n",
    "        \"Joanna\"\n",
    "    ],\n",
    "    \"url\": \"https://realpython.com/python-requests/\"\n",
    "}\n",
    "\n",
    "tutorial3 = {\n",
    "    \"title\": \"Object-Oriented Programming (OOP) in Python 3\",\n",
    "    \"author\": \"David\",\n",
    "    \"contributors\": [\n",
    "        \"Aldren\",\n",
    "        \"Joanna\",\n",
    "        \"Jacob\"\n",
    "    ],\n",
    "    \"url\": \"https://realpython.com/python3-object-oriented-programming/\"\n",
    "}\n",
    "\n",
    "# insert multiple documents at once\n",
    "new_result = tutorial.insert_many([tutorial2, tutorial3])\n",
    "print(f'Multiple tutorials: {new_result.inserted_ids}')"
   ]
  },
  {
   "cell_type": "code",
   "execution_count": 18,
   "id": "7dbb4144-514e-46a1-8355-2cb6c2a324cd",
   "metadata": {},
   "outputs": [
    {
     "name": "stdout",
     "output_type": "stream",
     "text": [
      "{'_id': ObjectId('60e6ae52a870ff8b240a3763'),\n",
      " 'author': 'Jon',\n",
      " 'contributors': ['Aldren', 'Geir Arne', 'Joanna', 'Jason'],\n",
      " 'title': 'Reading and writing CSV Files in Python',\n",
      " 'url': 'https://realpython.com/python-csv/'}\n",
      "{'_id': ObjectId('60e6b6317cb50712bda9770c'),\n",
      " 'author': 'Lucas',\n",
      " 'contributors': ['Aldren', 'Dan', 'Joanna'],\n",
      " 'title': 'Working With JSON Data in Python',\n",
      " 'url': 'https://realpython.com/python-json'}\n",
      "{'_id': ObjectId('60e6b7067cb50712bda9770d'),\n",
      " 'author': 'Alex',\n",
      " 'contributors': ['Aldren', 'Brad', 'Joanna'],\n",
      " 'title': \"Python's Requests Library (Guide)\",\n",
      " 'url': 'https://realpython.com/python-requests/'}\n",
      "{'_id': ObjectId('60e6b7067cb50712bda9770e'),\n",
      " 'author': 'David',\n",
      " 'contributors': ['Aldren', 'Joanna', 'Jacob'],\n",
      " 'title': 'Object-Oriented Programming (OOP) in Python 3',\n",
      " 'url': 'https://realpython.com/python3-object-oriented-programming/'}\n"
     ]
    }
   ],
   "source": [
    "import pprint\n",
    "\n",
    "# retrieve all documents\n",
    "for doc in tutorial.find():\n",
    "    pprint.pprint(doc)"
   ]
  },
  {
   "cell_type": "code",
   "execution_count": 20,
   "id": "ad75ee57-ee0f-4ae4-804f-c196443c5f3a",
   "metadata": {},
   "outputs": [
    {
     "name": "stdout",
     "output_type": "stream",
     "text": [
      "{'_id': ObjectId('60e6ae52a870ff8b240a3763'),\n",
      " 'author': 'Jon',\n",
      " 'contributors': ['Aldren', 'Geir Arne', 'Joanna', 'Jason'],\n",
      " 'title': 'Reading and writing CSV Files in Python',\n",
      " 'url': 'https://realpython.com/python-csv/'}\n"
     ]
    }
   ],
   "source": [
    "# retrieve specific document\n",
    "jon_tutorial = tutorial.find_one({'author': 'Jon'})\n",
    "\n",
    "pprint.pprint(jon_tutorial)"
   ]
  },
  {
   "cell_type": "code",
   "execution_count": 21,
   "id": "4ec1f5e7-4556-4a8d-8a8c-2f4dc779d45d",
   "metadata": {},
   "outputs": [],
   "source": [
    "# close connection once done working with database\n",
    "client.close()"
   ]
  },
  {
   "cell_type": "code",
   "execution_count": 24,
   "id": "f9a350bf-3c47-4267-b9b6-47299a317fb5",
   "metadata": {},
   "outputs": [
    {
     "name": "stdout",
     "output_type": "stream",
     "text": [
      "{'_id': ObjectId('60e6ae52a870ff8b240a3763'),\n",
      " 'author': 'Jon',\n",
      " 'contributors': ['Aldren', 'Geir Arne', 'Joanna', 'Jason'],\n",
      " 'title': 'Reading and writing CSV Files in Python',\n",
      " 'url': 'https://realpython.com/python-csv/'}\n",
      "{'_id': ObjectId('60e6b6317cb50712bda9770c'),\n",
      " 'author': 'Lucas',\n",
      " 'contributors': ['Aldren', 'Dan', 'Joanna'],\n",
      " 'title': 'Working With JSON Data in Python',\n",
      " 'url': 'https://realpython.com/python-json'}\n",
      "{'_id': ObjectId('60e6b7067cb50712bda9770d'),\n",
      " 'author': 'Alex',\n",
      " 'contributors': ['Aldren', 'Brad', 'Joanna'],\n",
      " 'title': \"Python's Requests Library (Guide)\",\n",
      " 'url': 'https://realpython.com/python-requests/'}\n",
      "{'_id': ObjectId('60e6b7067cb50712bda9770e'),\n",
      " 'author': 'David',\n",
      " 'contributors': ['Aldren', 'Joanna', 'Jacob'],\n",
      " 'title': 'Object-Oriented Programming (OOP) in Python 3',\n",
      " 'url': 'https://realpython.com/python3-object-oriented-programming/'}\n"
     ]
    }
   ],
   "source": [
    "# context manager protocol\n",
    "with MongoClient() as client:\n",
    "    db = client.rptutorials\n",
    "    for doc in db.tutorial.find():\n",
    "        pprint.pprint(doc)"
   ]
  },
  {
   "cell_type": "markdown",
   "id": "68a8670b-b5fb-4680-92ea-e7ffd78a2b62",
   "metadata": {},
   "source": [
    "### MongoEngine"
   ]
  },
  {
   "cell_type": "code",
   "execution_count": 1,
   "id": "55a10978-b15f-4eb3-9f5f-731d4e37a86e",
   "metadata": {},
   "outputs": [
    {
     "data": {
      "text/plain": [
       "MongoClient(host=['localhost:27017'], document_class=dict, tz_aware=False, connect=True, read_preference=Primary())"
      ]
     },
     "execution_count": 1,
     "metadata": {},
     "output_type": "execute_result"
    }
   ],
   "source": [
    "from mongoengine import connect\n",
    "connect(db='rptutorials', host='localhost', port=27017) # host and port can be omitted if using default"
   ]
  },
  {
   "cell_type": "code",
   "execution_count": 2,
   "id": "ff54c5b3-2e59-4386-a405-228de6d5af23",
   "metadata": {},
   "outputs": [],
   "source": [
    "from mongoengine import Document, ListField, StringField, URLField\n",
    "\n",
    "class Tutorial(Document):\n",
    "    title = StringField(required=True, max_length=70)\n",
    "    author = StringField(required=True, max_length=20)\n",
    "    contributors = ListField(StringField(max_length=20))\n",
    "    url = URLField(required=True)"
   ]
  },
  {
   "cell_type": "code",
   "execution_count": 3,
   "id": "e76c5e80-cbe0-4bee-96a6-1ab67cd21c52",
   "metadata": {},
   "outputs": [
    {
     "data": {
      "text/plain": [
       "<Tutorial: Tutorial object>"
      ]
     },
     "execution_count": 3,
     "metadata": {},
     "output_type": "execute_result"
    }
   ],
   "source": [
    "tutorial1 = Tutorial(\n",
    "    title = \"Beautiful Soup: Build a Web Scraper With Python\",\n",
    "    author = \"Martin\",\n",
    "    contributors = [\"Aldren\", \"Geir Arne\", \"Jaya\", \"Joanna\", \"Mike\"],\n",
    "    url = \"https://realpython.com/beautiful-soup-web-scraper-python/\"\n",
    ")\n",
    "\n",
    "tutorial1.save() #insert the new tutorial"
   ]
  },
  {
   "cell_type": "code",
   "execution_count": 4,
   "id": "9e4d4bb5-caec-42c1-9e22-74ab67d367dc",
   "metadata": {},
   "outputs": [
    {
     "name": "stdout",
     "output_type": "stream",
     "text": [
      "Reading and writing CSV Files in Python\n",
      "Working With JSON Data in Python\n",
      "Python's Requests Library (Guide)\n",
      "Object-Oriented Programming (OOP) in Python 3\n",
      "Beautiful Soup: Build a Web Scraper With Python\n"
     ]
    }
   ],
   "source": [
    "for doc in Tutorial.objects:\n",
    "    print(doc.title)"
   ]
  },
  {
   "cell_type": "code",
   "execution_count": 5,
   "id": "6369c6db-18eb-49d9-8630-7e261d5701de",
   "metadata": {},
   "outputs": [
    {
     "name": "stdout",
     "output_type": "stream",
     "text": [
      "Python's Requests Library (Guide)\n"
     ]
    }
   ],
   "source": [
    "for doc in Tutorial.objects(author='Alex'):\n",
    "    print(doc.title)"
   ]
  }
 ],
 "metadata": {
  "kernelspec": {
   "display_name": "Python 3",
   "language": "python",
   "name": "python3"
  },
  "language_info": {
   "codemirror_mode": {
    "name": "ipython",
    "version": 3
   },
   "file_extension": ".py",
   "mimetype": "text/x-python",
   "name": "python",
   "nbconvert_exporter": "python",
   "pygments_lexer": "ipython3",
   "version": "3.8.5"
  }
 },
 "nbformat": 4,
 "nbformat_minor": 5
}
