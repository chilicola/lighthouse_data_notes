{
 "cells": [
  {
   "cell_type": "code",
   "execution_count": 1,
   "id": "c7ba9d00-1117-488d-a36e-e363d3dbe23b",
   "metadata": {},
   "outputs": [],
   "source": [
    "from tensorflow.keras.datasets import mnist\n",
    "from tensorflow.keras import models\n",
    "from tensorflow.keras import layers\n",
    "from tensorflow.keras.utils import to_categorical"
   ]
  },
  {
   "cell_type": "code",
   "execution_count": 2,
   "id": "85298785-c78c-455d-9f15-20b5500b2c50",
   "metadata": {},
   "outputs": [
    {
     "name": "stdout",
     "output_type": "stream",
     "text": [
      "Downloading data from https://storage.googleapis.com/tensorflow/tf-keras-datasets/mnist.npz\n",
      "11493376/11490434 [==============================] - 2s 0us/step\n"
     ]
    }
   ],
   "source": [
    "# load dataset into train and test groups\n",
    "(train_images, train_labels), (test_images, test_labels) = mnist.load_data()"
   ]
  },
  {
   "cell_type": "code",
   "execution_count": 3,
   "id": "bd47abed-2113-4066-84da-9cf76ad0589f",
   "metadata": {},
   "outputs": [
    {
     "name": "stdout",
     "output_type": "stream",
     "text": [
      "(60000, 28, 28)\n",
      "(60000,)\n"
     ]
    }
   ],
   "source": [
    "# check shape\n",
    "print(train_images.shape)\n",
    "print(train_labels.shape)"
   ]
  },
  {
   "cell_type": "code",
   "execution_count": 4,
   "id": "0174cc84-9673-449e-b501-e1d5ec0457a4",
   "metadata": {},
   "outputs": [],
   "source": [
    "# build network\n",
    "network = models.Sequential()\n",
    "network.add(layers.Dense(784, activation='relu', input_shape=(28*28,)))\n",
    "network.add(layers.Dense(784, activation='relu', input_shape=(28*28,)))\n",
    "network.add(layers.Dense(10, activation='softmax'))\n",
    "network.compile(optimizer='adam', \n",
    "                loss='categorical_crossentropy', \n",
    "                metrics=['accuracy'])"
   ]
  },
  {
   "cell_type": "code",
   "execution_count": 5,
   "id": "1d892678-2d2a-4c96-acd0-9d3666d59418",
   "metadata": {},
   "outputs": [],
   "source": [
    "# reshape into 60,000 x 28*28\n",
    "train_images = train_images.reshape((60000, 28*28))\n",
    "train_images = train_images.astype('float32') / 255\n",
    "test_images = test_images.reshape((10000, 28*28))\n",
    "test_images = test_images.astype('float32') / 255"
   ]
  },
  {
   "cell_type": "code",
   "execution_count": 6,
   "id": "f5a20167-0571-4eb8-b0c0-e8a860b22cce",
   "metadata": {},
   "outputs": [],
   "source": [
    "# encode the target (0~9) as categorical\n",
    "train_labels = to_categorical(train_labels)\n",
    "test_labels = to_categorical(test_labels)"
   ]
  },
  {
   "cell_type": "code",
   "execution_count": 13,
   "id": "718e9a1d-7d1f-4583-8f47-69339c9bdf05",
   "metadata": {},
   "outputs": [
    {
     "name": "stdout",
     "output_type": "stream",
     "text": [
      "Epoch 1/10\n",
      "469/469 [==============================] - 4s 8ms/step - loss: 1.3107e-05 - accuracy: 1.0000\n",
      "Epoch 2/10\n",
      "469/469 [==============================] - 4s 8ms/step - loss: 9.6425e-06 - accuracy: 1.0000\n",
      "Epoch 3/10\n",
      "469/469 [==============================] - 4s 9ms/step - loss: 7.0923e-06 - accuracy: 1.0000\n",
      "Epoch 4/10\n",
      "469/469 [==============================] - 4s 9ms/step - loss: 5.1880e-06 - accuracy: 1.0000\n",
      "Epoch 5/10\n",
      "469/469 [==============================] - 4s 8ms/step - loss: 3.6979e-06 - accuracy: 1.0000\n",
      "Epoch 6/10\n",
      "469/469 [==============================] - 4s 8ms/step - loss: 2.5717e-06 - accuracy: 1.0000\n",
      "Epoch 7/10\n",
      "469/469 [==============================] - 4s 8ms/step - loss: 1.7553e-06 - accuracy: 1.0000\n",
      "Epoch 8/10\n",
      "469/469 [==============================] - 3s 7ms/step - loss: 1.1936e-06 - accuracy: 1.0000\n",
      "Epoch 9/10\n",
      "469/469 [==============================] - 4s 8ms/step - loss: 8.4498e-07 - accuracy: 1.0000\n",
      "Epoch 10/10\n",
      "469/469 [==============================] - 4s 8ms/step - loss: 6.1896e-07 - accuracy: 1.0000\n"
     ]
    },
    {
     "data": {
      "text/plain": [
       "<tensorflow.python.keras.callbacks.History at 0x1569f962490>"
      ]
     },
     "execution_count": 13,
     "metadata": {},
     "output_type": "execute_result"
    }
   ],
   "source": [
    "# fit the network\n",
    "network.fit(train_images, train_labels, epochs=10, batch_size=128)"
   ]
  },
  {
   "cell_type": "code",
   "execution_count": 14,
   "id": "7e0d9a93-ef01-4438-af1e-017a632a3ae8",
   "metadata": {},
   "outputs": [
    {
     "name": "stdout",
     "output_type": "stream",
     "text": [
      "313/313 [==============================] - 1s 2ms/step - loss: 0.1063 - accuracy: 0.9865\n",
      "test_acc: 0.9865000247955322\n",
      "test_loss: 0.1063220426440239\n"
     ]
    }
   ],
   "source": [
    "# check performance on test group\n",
    "test_loss, test_acc = network.evaluate(test_images, test_labels)\n",
    "print(f'test_acc: {test_acc}\\ntest_loss: {test_loss}')"
   ]
  }
 ],
 "metadata": {
  "kernelspec": {
   "display_name": "Python 3",
   "language": "python",
   "name": "python3"
  },
  "language_info": {
   "codemirror_mode": {
    "name": "ipython",
    "version": 3
   },
   "file_extension": ".py",
   "mimetype": "text/x-python",
   "name": "python",
   "nbconvert_exporter": "python",
   "pygments_lexer": "ipython3",
   "version": "3.8.5"
  }
 },
 "nbformat": 4,
 "nbformat_minor": 5
}
