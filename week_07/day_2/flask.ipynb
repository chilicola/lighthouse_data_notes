{
 "cells": [
  {
   "cell_type": "markdown",
   "id": "25ca36cc-ea71-4b90-9578-3e5e5e2909ef",
   "metadata": {},
   "source": [
    "### First Web Application"
   ]
  },
  {
   "cell_type": "markdown",
   "id": "94460a2d-747d-427f-bfed-8b4581439320",
   "metadata": {},
   "source": [
    "Create a new python file and type in the following command to import the flask library and its underlying objects"
   ]
  },
  {
   "cell_type": "code",
   "execution_count": 1,
   "id": "f0eb558b-3115-4d38-ba99-1d223a5de708",
   "metadata": {},
   "outputs": [],
   "source": [
    "from flask import Flask"
   ]
  },
  {
   "cell_type": "markdown",
   "id": "c58e5039-4d2e-42ce-871b-c5a4c8ae5444",
   "metadata": {},
   "source": [
    "Then initialise a new Flask object to a variable called app. \n",
    "\n",
    "Every Flask application must create an application instance. \n",
    "\n",
    "The web server will pass all the requests to this object under the WSGI protocol.\n",
    "\n",
    "> Concept Recap:\n",
    ">\n",
    "> The “__name__” is a special python variable of a file that is given the string value “__main__” when that file is executed. \n",
    ">\n",
    "> Otherwise, it receives its own name."
   ]
  },
  {
   "cell_type": "code",
   "execution_count": 2,
   "id": "1756c0a0-4a27-482f-a454-eddb240318b1",
   "metadata": {},
   "outputs": [],
   "source": [
    "app = Flask(__name__)"
   ]
  },
  {
   "cell_type": "markdown",
   "id": "4989638c-7182-48b4-8995-6e018a3701e7",
   "metadata": {},
   "source": [
    "Lets now connect our root directory to a function call.\n"
   ]
  },
  {
   "cell_type": "code",
   "execution_count": 3,
   "id": "ddb4c2b6-8711-45bd-9001-fe7b3f1a0cbc",
   "metadata": {},
   "outputs": [],
   "source": [
    "@app.route('/')\n",
    "def home():\n",
    "    return '<h1> Hello World </h1>'"
   ]
  },
  {
   "cell_type": "markdown",
   "id": "f8c6591b-d270-4b8d-8c18-af5d9d957210",
   "metadata": {},
   "source": [
    "**@app.route('/')** is how we define a route or a url. \n",
    "\n",
    "The string parameter takes in a url and when the client requests for that specific url, our nifty server calls the corresponding function(home() in this case). \n",
    "\n",
    "In the consequent article, we will see how this could be extended to html pages and even to passing values between those web pages.\n",
    "\n",
    "This is the advantage of using a framework. \n",
    "\n",
    "Implementing this without a framework would take several lines of code.\n",
    "\n",
    "This kind of abstraction saves a lot of time for a programmer."
   ]
  },
  {
   "cell_type": "code",
   "execution_count": 4,
   "id": "132c8190-cf87-46e9-908f-8ffc7bd3072c",
   "metadata": {},
   "outputs": [
    {
     "name": "stdout",
     "output_type": "stream",
     "text": [
      " * Serving Flask app \"__main__\" (lazy loading)\n",
      " * Environment: production\n",
      "   WARNING: This is a development server. Do not use it in a production deployment.\n",
      "   Use a production WSGI server instead.\n",
      " * Debug mode: on\n"
     ]
    },
    {
     "name": "stderr",
     "output_type": "stream",
     "text": [
      " * Restarting with windowsapi reloader\n"
     ]
    },
    {
     "ename": "SystemExit",
     "evalue": "1",
     "output_type": "error",
     "traceback": [
      "An exception has occurred, use %tb to see the full traceback.\n",
      "\u001b[1;31mSystemExit\u001b[0m\u001b[1;31m:\u001b[0m 1\n"
     ]
    },
    {
     "name": "stderr",
     "output_type": "stream",
     "text": [
      "D:\\anaconda3\\lib\\site-packages\\IPython\\core\\interactiveshell.py:3445: UserWarning: To exit: use 'exit', 'quit', or Ctrl-D.\n",
      "  warn(\"To exit: use 'exit', 'quit', or Ctrl-D.\", stacklevel=1)\n"
     ]
    }
   ],
   "source": [
    "if __name__ == '__main__':\n",
    "    app.run(debug=True, port=8000)"
   ]
  },
  {
   "cell_type": "markdown",
   "id": "fdb7e4aa-3f8c-42b7-a623-887b9ae835ba",
   "metadata": {},
   "source": []
  }
 ],
 "metadata": {
  "kernelspec": {
   "display_name": "Python 3",
   "language": "python",
   "name": "python3"
  },
  "language_info": {
   "codemirror_mode": {
    "name": "ipython",
    "version": 3
   },
   "file_extension": ".py",
   "mimetype": "text/x-python",
   "name": "python",
   "nbconvert_exporter": "python",
   "pygments_lexer": "ipython3",
   "version": "3.8.5"
  }
 },
 "nbformat": 4,
 "nbformat_minor": 5
}
