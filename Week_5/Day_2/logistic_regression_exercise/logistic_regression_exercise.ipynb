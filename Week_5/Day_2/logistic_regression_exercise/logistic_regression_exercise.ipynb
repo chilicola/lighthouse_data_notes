{
 "cells": [
  {
   "cell_type": "markdown",
   "metadata": {},
   "source": [
    "### Logistic Regression Exercise"
   ]
  },
  {
   "cell_type": "markdown",
   "metadata": {},
   "source": [
    "[guide](https://chrisalbon.com/machine_learning/model_selection/hyperparameter_tuning_using_grid_search/)"
   ]
  },
  {
   "cell_type": "code",
   "execution_count": 1,
   "metadata": {
    "ExecuteTime": {
     "end_time": "2020-04-27T08:17:12.193902Z",
     "start_time": "2020-04-27T08:17:11.493171Z"
    }
   },
   "outputs": [],
   "source": [
    "# import numpy\n",
    "import numpy as np\n",
    "\n",
    "# import linear_model and datasets from sklearn\n",
    "from sklearn import linear_model, datasets\n",
    "\n",
    "# import GridSearchCV from sklearn\n",
    "from sklearn.model_selection import GridSearchCV"
   ]
  },
  {
   "cell_type": "code",
   "execution_count": 2,
   "metadata": {
    "ExecuteTime": {
     "end_time": "2020-04-27T08:17:16.596033Z",
     "start_time": "2020-04-27T08:17:16.586871Z"
    }
   },
   "outputs": [],
   "source": [
    "# Load data\n",
    "iris = datasets.load_iris()\n",
    "X = iris.data\n",
    "y = iris.target"
   ]
  },
  {
   "cell_type": "markdown",
   "metadata": {},
   "source": [
    "* print the shape of X"
   ]
  },
  {
   "cell_type": "code",
   "execution_count": 3,
   "metadata": {
    "ExecuteTime": {
     "end_time": "2020-02-27T19:34:30.676131Z",
     "start_time": "2020-02-27T19:34:30.656354Z"
    }
   },
   "outputs": [
    {
     "data": {
      "text/plain": [
       "(150, 4)"
      ]
     },
     "execution_count": 3,
     "metadata": {},
     "output_type": "execute_result"
    }
   ],
   "source": [
    "X.shape"
   ]
  },
  {
   "cell_type": "markdown",
   "metadata": {},
   "source": [
    "* print y"
   ]
  },
  {
   "cell_type": "code",
   "execution_count": 4,
   "metadata": {
    "ExecuteTime": {
     "end_time": "2020-04-27T08:17:45.777675Z",
     "start_time": "2020-04-27T08:17:45.756952Z"
    },
    "tags": []
   },
   "outputs": [
    {
     "data": {
      "text/plain": [
       "array([0, 0, 0, 0, 0, 0, 0, 0, 0, 0, 0, 0, 0, 0, 0, 0, 0, 0, 0, 0, 0, 0,\n",
       "       0, 0, 0, 0, 0, 0, 0, 0, 0, 0, 0, 0, 0, 0, 0, 0, 0, 0, 0, 0, 0, 0,\n",
       "       0, 0, 0, 0, 0, 0, 1, 1, 1, 1, 1, 1, 1, 1, 1, 1, 1, 1, 1, 1, 1, 1,\n",
       "       1, 1, 1, 1, 1, 1, 1, 1, 1, 1, 1, 1, 1, 1, 1, 1, 1, 1, 1, 1, 1, 1,\n",
       "       1, 1, 1, 1, 1, 1, 1, 1, 1, 1, 1, 1, 2, 2, 2, 2, 2, 2, 2, 2, 2, 2,\n",
       "       2, 2, 2, 2, 2, 2, 2, 2, 2, 2, 2, 2, 2, 2, 2, 2, 2, 2, 2, 2, 2, 2,\n",
       "       2, 2, 2, 2, 2, 2, 2, 2, 2, 2, 2, 2, 2, 2, 2, 2, 2, 2])"
      ]
     },
     "execution_count": 4,
     "metadata": {},
     "output_type": "execute_result"
    }
   ],
   "source": [
    "y"
   ]
  },
  {
   "cell_type": "markdown",
   "metadata": {},
   "source": [
    "* create a logistic regression model\n",
    "    - **Note:** Spend some time on the logistic regression documentation to get familiar with the available parameters."
   ]
  },
  {
   "cell_type": "code",
   "execution_count": 5,
   "metadata": {
    "ExecuteTime": {
     "end_time": "2020-04-27T08:18:11.866225Z",
     "start_time": "2020-04-27T08:18:11.861203Z"
    }
   },
   "outputs": [],
   "source": [
    "logreg = linear_model.LogisticRegression(max_iter=1000) "
   ]
  },
  {
   "cell_type": "markdown",
   "metadata": {},
   "source": [
    "* create a regularization space for the **'penalty'** parameter (a.k.a. what values do we want to insert into our GridSearch?)"
   ]
  },
  {
   "cell_type": "code",
   "execution_count": 6,
   "metadata": {
    "ExecuteTime": {
     "end_time": "2020-04-27T08:18:34.600068Z",
     "start_time": "2020-04-27T08:18:34.594507Z"
    }
   },
   "outputs": [],
   "source": [
    "penalty = ['l1', 'l2']"
   ]
  },
  {
   "cell_type": "markdown",
   "metadata": {},
   "source": [
    "* create a regularization space for the **'c'** parameter (a.k.a. what values do we want to insert into our GridSearch?)"
   ]
  },
  {
   "cell_type": "code",
   "execution_count": 7,
   "metadata": {
    "ExecuteTime": {
     "end_time": "2020-04-27T08:18:55.021867Z",
     "start_time": "2020-04-27T08:18:55.016305Z"
    }
   },
   "outputs": [],
   "source": [
    "C = np.logspace(0, 4, 10)"
   ]
  },
  {
   "cell_type": "markdown",
   "metadata": {},
   "source": [
    "* create a hyperparameter options dictionary"
   ]
  },
  {
   "cell_type": "code",
   "execution_count": 8,
   "metadata": {
    "ExecuteTime": {
     "end_time": "2020-04-27T08:19:14.554533Z",
     "start_time": "2020-04-27T08:19:14.550166Z"
    }
   },
   "outputs": [],
   "source": [
    "hyperparameters = dict(C=C, penalty=penalty)"
   ]
  },
  {
   "cell_type": "markdown",
   "metadata": {},
   "source": [
    "* create a grid search using 5-fold cross validation"
   ]
  },
  {
   "cell_type": "code",
   "execution_count": 9,
   "metadata": {
    "ExecuteTime": {
     "end_time": "2020-04-27T08:19:32.496237Z",
     "start_time": "2020-04-27T08:19:32.490758Z"
    }
   },
   "outputs": [],
   "source": [
    "clf = GridSearchCV(estimator=logreg, param_grid=hyperparameters, cv=5, n_jobs=-1)"
   ]
  },
  {
   "cell_type": "markdown",
   "metadata": {},
   "source": [
    "* fit the grid search"
   ]
  },
  {
   "cell_type": "code",
   "execution_count": 10,
   "metadata": {
    "ExecuteTime": {
     "end_time": "2020-04-27T08:19:52.440086Z",
     "start_time": "2020-04-27T08:19:51.820550Z"
    },
    "tags": []
   },
   "outputs": [
    {
     "name": "stderr",
     "output_type": "stream",
     "text": [
      "D:\\anaconda3\\lib\\site-packages\\sklearn\\model_selection\\_search.py:922: UserWarning: One or more of the test scores are non-finite: [       nan 0.97333333        nan 0.97333333        nan 0.97333333\n",
      "        nan 0.98              nan 0.98              nan 0.97333333\n",
      "        nan 0.97333333        nan 0.97333333        nan 0.97333333\n",
      "        nan 0.97333333]\n",
      "  warnings.warn(\n"
     ]
    },
    {
     "data": {
      "text/plain": [
       "GridSearchCV(cv=5, estimator=LogisticRegression(max_iter=1000), n_jobs=-1,\n",
       "             param_grid={'C': array([1.00000000e+00, 2.78255940e+00, 7.74263683e+00, 2.15443469e+01,\n",
       "       5.99484250e+01, 1.66810054e+02, 4.64158883e+02, 1.29154967e+03,\n",
       "       3.59381366e+03, 1.00000000e+04]),\n",
       "                         'penalty': ['l1', 'l2']})"
      ]
     },
     "execution_count": 10,
     "metadata": {},
     "output_type": "execute_result"
    }
   ],
   "source": [
    "clf.fit(X, y)"
   ]
  },
  {
   "cell_type": "markdown",
   "metadata": {},
   "source": [
    "* take the best model from grid search"
   ]
  },
  {
   "cell_type": "code",
   "execution_count": 11,
   "metadata": {
    "ExecuteTime": {
     "end_time": "2020-04-27T08:20:17.866651Z",
     "start_time": "2020-04-27T08:20:17.860852Z"
    }
   },
   "outputs": [
    {
     "data": {
      "text/plain": [
       "LogisticRegression(C=21.544346900318832, max_iter=1000)"
      ]
     },
     "execution_count": 11,
     "metadata": {},
     "output_type": "execute_result"
    }
   ],
   "source": [
    "clf.best_estimator_"
   ]
  },
  {
   "cell_type": "markdown",
   "metadata": {},
   "source": [
    "* print the best hyperparameters"
   ]
  },
  {
   "cell_type": "code",
   "execution_count": 12,
   "metadata": {
    "ExecuteTime": {
     "end_time": "2020-02-27T19:34:32.570362Z",
     "start_time": "2020-02-27T19:34:32.554990Z"
    }
   },
   "outputs": [
    {
     "name": "stdout",
     "output_type": "stream",
     "text": [
      "Best C: 21.544346900318832\n",
      "Best Penalty: l2\n"
     ]
    }
   ],
   "source": [
    "# view best hyperparameters\n",
    "print(f'Best C: {clf.best_estimator_.C}')\n",
    "print(f'Best Penalty: {clf.best_estimator_.penalty}')"
   ]
  },
  {
   "cell_type": "markdown",
   "metadata": {},
   "source": [
    "* predict the target vector\n",
    "    - class ( *predict* )\n",
    "    - probabilities ( *predict_proba* )"
   ]
  },
  {
   "cell_type": "code",
   "execution_count": 13,
   "metadata": {},
   "outputs": [
    {
     "data": {
      "text/plain": [
       "array([0, 0, 0, 0, 0, 0, 0, 0, 0, 0, 0, 0, 0, 0, 0, 0, 0, 0, 0, 0, 0, 0,\n",
       "       0, 0, 0, 0, 0, 0, 0, 0, 0, 0, 0, 0, 0, 0, 0, 0, 0, 0, 0, 0, 0, 0,\n",
       "       0, 0, 0, 0, 0, 0, 1, 1, 1, 1, 1, 1, 1, 1, 1, 1, 1, 1, 1, 1, 1, 1,\n",
       "       1, 1, 1, 1, 2, 1, 1, 1, 1, 1, 1, 1, 1, 1, 1, 1, 1, 2, 1, 1, 1, 1,\n",
       "       1, 1, 1, 1, 1, 1, 1, 1, 1, 1, 1, 1, 2, 2, 2, 2, 2, 2, 2, 2, 2, 2,\n",
       "       2, 2, 2, 2, 2, 2, 2, 2, 2, 2, 2, 2, 2, 2, 2, 2, 2, 2, 2, 2, 2, 2,\n",
       "       2, 1, 2, 2, 2, 2, 2, 2, 2, 2, 2, 2, 2, 2, 2, 2, 2, 2])"
      ]
     },
     "execution_count": 13,
     "metadata": {},
     "output_type": "execute_result"
    }
   ],
   "source": [
    "y_pred = clf.predict(X)\n",
    "y_pred"
   ]
  },
  {
   "cell_type": "code",
   "execution_count": 14,
   "metadata": {
    "tags": []
   },
   "outputs": [
    {
     "data": {
      "text/plain": [
       "array([[9.98599690e-01, 1.40030959e-03, 9.37474407e-18],\n",
       "       [9.96647994e-01, 3.35200589e-03, 1.26175659e-16],\n",
       "       [9.99013625e-01, 9.86375187e-04, 1.77817818e-17],\n",
       "       [9.97398214e-01, 2.60178575e-03, 2.45798435e-16],\n",
       "       [9.99052031e-01, 9.47968873e-04, 5.91818090e-18],\n",
       "       [9.97000586e-01, 2.99941435e-03, 1.21443205e-16],\n",
       "       [9.99212686e-01, 7.87314162e-04, 4.23650421e-17],\n",
       "       [9.97630288e-01, 2.36971197e-03, 4.57878331e-17],\n",
       "       [9.98031131e-01, 1.96886928e-03, 2.58819500e-16],\n",
       "       [9.95696314e-01, 4.30368620e-03, 9.78924524e-17],\n",
       "       [9.97841706e-01, 2.15829388e-03, 8.52927380e-18],\n",
       "       [9.97284738e-01, 2.71526201e-03, 1.41203105e-16],\n",
       "       [9.96999290e-01, 3.00070992e-03, 5.97504601e-17],\n",
       "       [9.99632868e-01, 3.67131996e-04, 3.26648311e-18],\n",
       "       [9.99481164e-01, 5.18835618e-04, 7.00506859e-20],\n",
       "       [9.99398885e-01, 6.01115436e-04, 1.07841841e-18],\n",
       "       [9.99491882e-01, 5.08118088e-04, 1.89269365e-18],\n",
       "       [9.98658480e-01, 1.34152046e-03, 2.06703378e-17],\n",
       "       [9.93724356e-01, 6.27564350e-03, 7.98727430e-17],\n",
       "       [9.98970680e-01, 1.02931995e-03, 1.29404175e-17],\n",
       "       [9.89414133e-01, 1.05858673e-02, 3.06934787e-16],\n",
       "       [9.98751056e-01, 1.24894437e-03, 4.71800569e-17],\n",
       "       [9.99913410e-01, 8.65900780e-05, 1.09266393e-19],\n",
       "       [9.92548815e-01, 7.45118455e-03, 6.20549378e-15],\n",
       "       [9.89775408e-01, 1.02245918e-02, 3.18305613e-15],\n",
       "       [9.90546302e-01, 9.45369815e-03, 9.63655337e-16],\n",
       "       [9.96611666e-01, 3.38833358e-03, 6.29688549e-16],\n",
       "       [9.97455215e-01, 2.54478502e-03, 2.54085790e-17],\n",
       "       [9.97931954e-01, 2.06804617e-03, 1.48469343e-17],\n",
       "       [9.96267811e-01, 3.73218856e-03, 4.02775022e-16],\n",
       "       [9.94494251e-01, 5.50574915e-03, 6.37171837e-16],\n",
       "       [9.95980088e-01, 4.01991154e-03, 1.87264501e-16],\n",
       "       [9.99356294e-01, 6.43705515e-04, 5.63879481e-19],\n",
       "       [9.99504575e-01, 4.95425454e-04, 2.33480396e-19],\n",
       "       [9.95876492e-01, 4.12350807e-03, 2.15869049e-16],\n",
       "       [9.98996184e-01, 1.00381588e-03, 5.52265455e-18],\n",
       "       [9.98338058e-01, 1.66194218e-03, 2.78901335e-18],\n",
       "       [9.99151594e-01, 8.48405636e-04, 2.80184520e-18],\n",
       "       [9.99002622e-01, 9.97378451e-04, 5.53072763e-17],\n",
       "       [9.97236812e-01, 2.76318765e-03, 4.38534290e-17],\n",
       "       [9.99262207e-01, 7.37793305e-04, 7.62238822e-18],\n",
       "       [9.94189946e-01, 5.81005443e-03, 3.93798364e-15],\n",
       "       [9.99378355e-01, 6.21644711e-04, 2.02236451e-17],\n",
       "       [9.97543330e-01, 2.45666974e-03, 1.85231012e-15],\n",
       "       [9.94192736e-01, 5.80726404e-03, 1.82644027e-15],\n",
       "       [9.97245602e-01, 2.75439762e-03, 2.90518445e-16],\n",
       "       [9.98325208e-01, 1.67479222e-03, 1.66111303e-17],\n",
       "       [9.98681590e-01, 1.31841018e-03, 5.25412388e-17],\n",
       "       [9.98149205e-01, 1.85079472e-03, 8.90473663e-18],\n",
       "       [9.98074292e-01, 1.92570790e-03, 2.67542155e-17],\n",
       "       [1.33796867e-05, 9.97224940e-01, 2.76168054e-03],\n",
       "       [8.52976579e-05, 9.93658798e-01, 6.25590394e-03],\n",
       "       [5.12981250e-06, 9.67672870e-01, 3.23220007e-02],\n",
       "       [3.44397530e-04, 9.95771583e-01, 3.88401976e-03],\n",
       "       [1.78285392e-05, 9.73426334e-01, 2.65558373e-02],\n",
       "       [8.86526231e-05, 9.86405615e-01, 1.35057325e-02],\n",
       "       [5.21134199e-05, 9.57301166e-01, 4.26467204e-02],\n",
       "       [2.13258279e-02, 9.78662169e-01, 1.20029613e-05],\n",
       "       [1.81948966e-05, 9.96752193e-01, 3.22961216e-03],\n",
       "       [2.29025943e-03, 9.94655327e-01, 3.05441340e-03],\n",
       "       [2.97175213e-03, 9.96932047e-01, 9.62012139e-05],\n",
       "       [4.36012880e-04, 9.94793838e-01, 4.77014868e-03],\n",
       "       [1.11085153e-04, 9.99732796e-01, 1.56119331e-04],\n",
       "       [2.54650054e-05, 9.65022105e-01, 3.49524302e-02],\n",
       "       [7.20191608e-03, 9.92739001e-01, 5.90825256e-05],\n",
       "       [6.37069332e-05, 9.98847613e-01, 1.08868022e-03],\n",
       "       [1.74300287e-04, 9.50583336e-01, 4.92423638e-02],\n",
       "       [3.16244211e-04, 9.99573004e-01, 1.10752232e-04],\n",
       "       [9.66815521e-06, 8.81610494e-01, 1.18379838e-01],\n",
       "       [6.80532624e-04, 9.99124218e-01, 1.95249365e-04],\n",
       "       [2.49367482e-05, 4.48610104e-01, 5.51364960e-01],\n",
       "       [4.47666406e-04, 9.99236826e-01, 3.15507204e-04],\n",
       "       [2.09937309e-06, 6.49894706e-01, 3.50103194e-01],\n",
       "       [1.89449424e-05, 9.91133062e-01, 8.84799346e-03],\n",
       "       [9.41590891e-05, 9.99104290e-01, 8.01550490e-04],\n",
       "       [5.86213573e-05, 9.98212009e-01, 1.72936947e-03],\n",
       "       [4.44751751e-06, 9.78799154e-01, 2.11963980e-02],\n",
       "       [2.45300914e-06, 6.16635806e-01, 3.83361741e-01],\n",
       "       [7.58268104e-05, 9.70063072e-01, 2.98611009e-02],\n",
       "       [4.17606845e-03, 9.95819038e-01, 4.89385013e-06],\n",
       "       [9.77046368e-04, 9.98852078e-01, 1.70875560e-04],\n",
       "       [1.45931340e-03, 9.98499812e-01, 4.08748877e-05],\n",
       "       [8.37817146e-04, 9.98984348e-01, 1.77834470e-04],\n",
       "       [6.62857645e-07, 1.87698012e-01, 8.12301325e-01],\n",
       "       [2.31659933e-04, 9.28476120e-01, 7.12922196e-02],\n",
       "       [2.61353146e-04, 9.81408836e-01, 1.83298105e-02],\n",
       "       [1.72878999e-05, 9.85188187e-01, 1.47945250e-02],\n",
       "       [1.68985846e-05, 9.91276537e-01, 8.70656421e-03],\n",
       "       [9.93885831e-04, 9.98108116e-01, 8.97997985e-04],\n",
       "       [5.53538986e-04, 9.97164630e-01, 2.28183096e-03],\n",
       "       [1.12897570e-04, 9.91678090e-01, 8.20901291e-03],\n",
       "       [5.13544917e-05, 9.84900784e-01, 1.50478613e-02],\n",
       "       [4.24075977e-04, 9.99154278e-01, 4.21645660e-04],\n",
       "       [1.45306104e-02, 9.85456429e-01, 1.29608723e-05],\n",
       "       [3.12742264e-04, 9.96066088e-01, 3.62116947e-03],\n",
       "       [5.23722087e-04, 9.98893912e-01, 5.82366176e-04],\n",
       "       [4.31068145e-04, 9.97820910e-01, 1.74802180e-03],\n",
       "       [1.28071336e-04, 9.98684326e-01, 1.18760221e-03],\n",
       "       [7.43777678e-02, 9.25619977e-01, 2.25534080e-06],\n",
       "       [5.30902033e-04, 9.98211725e-01, 1.25737317e-03],\n",
       "       [1.31696396e-12, 5.31260899e-06, 9.99994687e-01],\n",
       "       [6.90155092e-08, 1.26257396e-02, 9.87374191e-01],\n",
       "       [2.74055357e-11, 5.86750359e-04, 9.99413250e-01],\n",
       "       [2.84692564e-09, 6.75278352e-03, 9.93247214e-01],\n",
       "       [2.72465658e-11, 1.42206270e-04, 9.99857794e-01],\n",
       "       [2.32433886e-14, 2.41333513e-05, 9.99975867e-01],\n",
       "       [3.50950145e-05, 1.95043955e-01, 8.04920950e-01],\n",
       "       [3.00667858e-12, 7.47011929e-04, 9.99252988e-01],\n",
       "       [5.65694863e-11, 1.55694558e-03, 9.98443054e-01],\n",
       "       [3.09222795e-12, 3.82646793e-05, 9.99961735e-01],\n",
       "       [4.88641893e-07, 7.71167761e-02, 9.22882735e-01],\n",
       "       [1.11244013e-08, 1.24733026e-02, 9.87526686e-01],\n",
       "       [1.54600624e-09, 3.52380786e-03, 9.96476191e-01],\n",
       "       [3.12916922e-08, 4.83774355e-03, 9.95162225e-01],\n",
       "       [2.21861936e-09, 2.58458461e-04, 9.99741539e-01],\n",
       "       [5.89185237e-09, 1.70468730e-03, 9.98295307e-01],\n",
       "       [1.42841164e-08, 2.33320514e-02, 9.76667934e-01],\n",
       "       [2.17644238e-13, 5.93490675e-05, 9.99940651e-01],\n",
       "       [2.93565461e-17, 3.18921266e-07, 9.99999681e-01],\n",
       "       [3.28058238e-07, 2.02911372e-01, 7.97088300e-01],\n",
       "       [1.13582040e-10, 4.20038314e-04, 9.99579962e-01],\n",
       "       [3.79954932e-07, 1.58781261e-02, 9.84121494e-01],\n",
       "       [6.90331826e-15, 2.18491489e-05, 9.99978151e-01],\n",
       "       [1.21528695e-06, 2.06060224e-01, 7.93938561e-01],\n",
       "       [8.37065271e-10, 1.95672782e-03, 9.98043271e-01],\n",
       "       [2.93907020e-10, 8.11383231e-03, 9.91886167e-01],\n",
       "       [4.56363257e-06, 3.35707019e-01, 6.64288417e-01],\n",
       "       [4.57570908e-06, 2.80401209e-01, 7.19594215e-01],\n",
       "       [1.68669807e-10, 5.19773012e-04, 9.99480227e-01],\n",
       "       [3.89602821e-09, 7.73296486e-02, 9.22670348e-01],\n",
       "       [6.89979182e-12, 9.97638091e-04, 9.99002362e-01],\n",
       "       [2.61048525e-11, 2.78194258e-03, 9.97218057e-01],\n",
       "       [7.65248404e-11, 2.25905332e-04, 9.99774095e-01],\n",
       "       [1.50167679e-06, 5.56142523e-01, 4.43855975e-01],\n",
       "       [1.29889339e-08, 5.46687093e-02, 9.45331278e-01],\n",
       "       [9.09040756e-13, 1.09468318e-04, 9.99890532e-01],\n",
       "       [3.08875357e-10, 1.73489566e-04, 9.99826510e-01],\n",
       "       [2.25989687e-08, 2.49782208e-02, 9.75021757e-01],\n",
       "       [1.09122091e-05, 3.67543800e-01, 6.32445288e-01],\n",
       "       [7.50838877e-09, 1.01030948e-02, 9.89896898e-01],\n",
       "       [8.09945573e-11, 1.71282138e-04, 9.99828718e-01],\n",
       "       [3.50375269e-08, 1.14030154e-02, 9.88596950e-01],\n",
       "       [6.90155092e-08, 1.26257396e-02, 9.87374191e-01],\n",
       "       [1.35732258e-11, 1.04677661e-04, 9.99895322e-01],\n",
       "       [3.54919006e-11, 6.98700465e-05, 9.99930130e-01],\n",
       "       [6.92314147e-09, 3.27187446e-03, 9.96728119e-01],\n",
       "       [8.64582501e-08, 3.51551869e-02, 9.64844727e-01],\n",
       "       [6.65417074e-08, 2.62888794e-02, 9.73711054e-01],\n",
       "       [5.22835351e-09, 1.08029757e-03, 9.98919697e-01],\n",
       "       [6.74083561e-07, 7.38483448e-02, 9.26150981e-01]])"
      ]
     },
     "execution_count": 14,
     "metadata": {},
     "output_type": "execute_result"
    }
   ],
   "source": [
    "y_pred_proba = clf.predict_proba(X)\n",
    "y_pred_proba"
   ]
  },
  {
   "cell_type": "markdown",
   "metadata": {},
   "source": [
    "- plot the ROC curve and print the AUC"
   ]
  },
  {
   "cell_type": "code",
   "execution_count": 15,
   "metadata": {},
   "outputs": [],
   "source": [
    "# binarize the output\n",
    "# each target for each classes\n",
    "from sklearn.preprocessing import label_binarize\n",
    "y_bin = label_binarize(y, classes=[0, 1, 2])\n",
    "n_classes = y_bin.shape[1]"
   ]
  },
  {
   "cell_type": "code",
   "execution_count": 16,
   "metadata": {
    "tags": []
   },
   "outputs": [],
   "source": [
    "# binarize the proba\n",
    "y_pred_proba_bin = label_binarize(y_pred, classes=[0, 1, 2])"
   ]
  },
  {
   "cell_type": "code",
   "execution_count": 17,
   "metadata": {},
   "outputs": [],
   "source": [
    "from sklearn import metrics\n",
    "import matplotlib.pyplot as plt"
   ]
  },
  {
   "cell_type": "code",
   "execution_count": 18,
   "metadata": {
    "ExecuteTime": {
     "end_time": "2020-04-27T08:21:04.489354Z",
     "start_time": "2020-04-27T08:21:04.480440Z"
    }
   },
   "outputs": [
    {
     "data": {
      "image/png": "[encoded data removed]",
      "text/plain": [
       "<Figure size 432x288 with 1 Axes>"
      ]
     },
     "metadata": {
      "needs_background": "light"
     },
     "output_type": "display_data"
    }
   ],
   "source": [
    "# auc for first class\n",
    "fpr = dict()\n",
    "tpr = dict()\n",
    "auc = dict()\n",
    "\n",
    "for i in range(n_classes):\n",
    "    fpr[i], tpr[i], _ = metrics.roc_curve(y_bin[:, i], y_pred_proba_bin[:, i])\n",
    "    auc[i] = metrics.roc_auc_score(y_bin[:, i], y_pred_proba_bin[:, i])\n",
    "    \n",
    "for i in range(n_classes):\n",
    "    plt.plot(fpr[i], tpr[i], label='Class {i}')\n",
    "\n",
    "plt.show()"
   ]
  },
  {
   "cell_type": "code",
   "execution_count": null,
   "metadata": {},
   "outputs": [],
   "source": []
  },
  {
   "cell_type": "code",
   "execution_count": null,
   "metadata": {},
   "outputs": [],
   "source": []
  },
  {
   "cell_type": "markdown",
   "metadata": {},
   "source": [
    "* print the Logreg coeficients"
   ]
  },
  {
   "cell_type": "code",
   "execution_count": 19,
   "metadata": {
    "ExecuteTime": {
     "end_time": "2020-04-27T08:21:18.147322Z",
     "start_time": "2020-04-27T08:21:18.138746Z"
    }
   },
   "outputs": [
    {
     "data": {
      "text/plain": [
       "array([[-0.3708001 ,  2.46594275, -4.95157957, -2.49224333],\n",
       "       [ 1.16931021,  0.10025475, -0.50669425, -2.9217291 ],\n",
       "       [-0.79851011, -2.5661975 ,  5.45827382,  5.41397243]])"
      ]
     },
     "execution_count": 19,
     "metadata": {},
     "output_type": "execute_result"
    }
   ],
   "source": [
    "clf.best_estimator_.coef_"
   ]
  },
  {
   "cell_type": "code",
   "execution_count": null,
   "metadata": {},
   "outputs": [],
   "source": []
  },
  {
   "cell_type": "markdown",
   "metadata": {},
   "source": [
    "* print the Logreg intercepts"
   ]
  },
  {
   "cell_type": "code",
   "execution_count": null,
   "metadata": {
    "ExecuteTime": {
     "end_time": "2020-04-27T08:21:35.654420Z",
     "start_time": "2020-04-27T08:21:35.645499Z"
    }
   },
   "outputs": [],
   "source": []
  },
  {
   "cell_type": "code",
   "execution_count": null,
   "metadata": {},
   "outputs": [],
   "source": []
  }
 ],
 "metadata": {
  "kernelspec": {
   "display_name": "Python 3",
   "language": "python",
   "name": "python3"
  },
  "language_info": {
   "codemirror_mode": {
    "name": "ipython",
    "version": 3
   },
   "file_extension": ".py",
   "mimetype": "text/x-python",
   "name": "python",
   "nbconvert_exporter": "python",
   "pygments_lexer": "ipython3",
   "version": "3.8.5"
  },
  "toc": {
   "base_numbering": 1,
   "nav_menu": {},
   "number_sections": true,
   "sideBar": true,
   "skip_h1_title": false,
   "title_cell": "Table of Contents",
   "title_sidebar": "Contents",
   "toc_cell": false,
   "toc_position": {},
   "toc_section_display": true,
   "toc_window_display": false
  },
  "varInspector": {
   "cols": {
    "lenName": 16,
    "lenType": 16,
    "lenVar": 40
   },
   "kernels_config": {
    "python": {
     "delete_cmd_postfix": "",
     "delete_cmd_prefix": "del ",
     "library": "var_list.py",
     "varRefreshCmd": "print(var_dic_list())"
    },
    "r": {
     "delete_cmd_postfix": ") ",
     "delete_cmd_prefix": "rm(",
     "library": "var_list.r",
     "varRefreshCmd": "cat(var_dic_list()) "
    }
   },
   "types_to_exclude": [
    "module",
    "function",
    "builtin_function_or_method",
    "instance",
    "_Feature"
   ],
   "window_display": false
  }
 },
 "nbformat": 4,
 "nbformat_minor": 4
}
