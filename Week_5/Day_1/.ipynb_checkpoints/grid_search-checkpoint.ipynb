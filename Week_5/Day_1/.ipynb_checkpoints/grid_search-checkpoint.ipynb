{
 "cells": [
  {
   "cell_type": "code",
   "execution_count": 2,
   "id": "3372174e-31a9-4b3d-b350-7b39d8751365",
   "metadata": {},
   "outputs": [],
   "source": [
    "import numpy as np\n",
    "from sklearn.model_selection import GridSearchCV\n",
    "from sklearn import datasets, svm\n",
    "import matplotlib.pyplot as plt"
   ]
  },
  {
   "cell_type": "markdown",
   "id": "1702b707-3d25-4520-ba17-a9ce25c071d7",
   "metadata": {},
   "source": [
    "## Create 2 Datasets\n",
    "\n",
    "In the code below, we load the digits dataset, which contains 64 feature variables. \n",
    "\n",
    "Each feature denotes the darkness of a pixel in an 8 by 8 image of a handwritten digit. \n",
    "\n",
    "We can see these features for the first observation:"
   ]
  },
  {
   "cell_type": "code",
   "execution_count": 3,
   "id": "00f0f679-57f1-49e3-a8aa-64f6763f251c",
   "metadata": {},
   "outputs": [],
   "source": [
    "# load the digit data\n",
    "digits = datasets.load_digits()"
   ]
  },
  {
   "cell_type": "code",
   "execution_count": 13,
   "id": "fe951fbc-056f-4e81-9d6b-f08fc9d69e11",
   "metadata": {},
   "outputs": [
    {
     "data": {
      "text/plain": [
       "array([ 0.,  0.,  5., 13.,  9.,  1.,  0.,  0.,  0.,  0., 13., 15., 10.,\n",
       "       15.,  5.,  0.,  0.,  3., 15.,  2.,  0., 11.,  8.,  0.,  0.,  4.,\n",
       "       12.,  0.,  0.,  8.,  8.,  0.,  0.,  5.,  8.,  0.,  0.,  9.,  8.,\n",
       "        0.,  0.,  4., 11.,  0.,  1., 12.,  7.,  0.,  0.,  2., 14.,  5.,\n",
       "       10., 12.,  0.,  0.,  0.,  0.,  6., 13., 10.,  0.,  0.,  0.])"
      ]
     },
     "execution_count": 13,
     "metadata": {},
     "output_type": "execute_result"
    }
   ],
   "source": [
    "# view the features of the first observation\n",
    "digits.data[0]"
   ]
  },
  {
   "cell_type": "code",
   "execution_count": 18,
   "id": "78ed1f44-080c-4c18-a48c-320bf02371e0",
   "metadata": {},
   "outputs": [
    {
     "data": {
      "text/plain": [
       "array([0, 1, 2, ..., 8, 9, 8])"
      ]
     },
     "execution_count": 18,
     "metadata": {},
     "output_type": "execute_result"
    }
   ],
   "source": [
    "# view the target of the first observation\n",
    "digits.target"
   ]
  },
  {
   "cell_type": "code",
   "execution_count": 26,
   "id": "1c4d5efe-184e-44fa-b85a-309bf3236d54",
   "metadata": {},
   "outputs": [],
   "source": [
    "# create dataset 1\n",
    "data1_features = digits.data[:1000]\n",
    "data1_target = digits.target[:1000]\n",
    "\n",
    "# create dataset 2\n",
    "data2_features = digits.data[1000:]\n",
    "data2_target = digits.target[1000:]"
   ]
  },
  {
   "cell_type": "markdown",
   "id": "ae1d87fd-750e-41c4-a90c-b91a9edd0152",
   "metadata": {},
   "source": [
    "## Create Parameter Candidates"
   ]
  },
  {
   "cell_type": "code",
   "execution_count": 21,
   "id": "20fc8135-79d5-491b-9de7-14c6747037cf",
   "metadata": {},
   "outputs": [],
   "source": [
    "parameter_candidates = [\n",
    "    {'C': [1, 10, 100, 1000], 'kernel': ['linear']},\n",
    "    {'C': [1, 10, 100, 1000], 'gamma': [0.001, 0.0001], 'kernel': ['rbf']}\n",
    "]"
   ]
  },
  {
   "cell_type": "markdown",
   "id": "3f28c722-9138-4f3a-95d5-fab6c8fb8aa5",
   "metadata": {},
   "source": [
    "## Conduct Grid Search to Find Parameters Producing Highest Score"
   ]
  },
  {
   "cell_type": "code",
   "execution_count": 22,
   "id": "eecd36ac-9aae-41d7-99b6-6ce0b443e4c2",
   "metadata": {},
   "outputs": [
    {
     "data": {
      "text/plain": [
       "GridSearchCV(estimator=SVC(), n_jobs=-1,\n",
       "             param_grid=[{'C': [1, 10, 100, 1000], 'kernel': ['linear']},\n",
       "                         {'C': [1, 10, 100, 1000], 'gamma': [0.001, 0.0001],\n",
       "                          'kernel': ['rbf']}])"
      ]
     },
     "execution_count": 22,
     "metadata": {},
     "output_type": "execute_result"
    }
   ],
   "source": [
    "# create a classifier object with the classifier and parameter candidates\n",
    "clf = GridSearchCV(estimator=svm.SVC(), param_grid=parameter_candidates, n_jobs=-1)\n",
    "\n",
    "# train the classifier on data1's feature and target data\n",
    "clf.fit(data1_features, data1_target)"
   ]
  },
  {
   "cell_type": "code",
   "execution_count": 23,
   "id": "c651f66a-6fc9-4780-a49c-040601ba5093",
   "metadata": {},
   "outputs": [
    {
     "name": "stdout",
     "output_type": "stream",
     "text": [
      "Best score for data1:  0.966\n"
     ]
    }
   ],
   "source": [
    "# view the accuracy score\n",
    "print('Best score for data1: ', clf.best_score_)"
   ]
  },
  {
   "cell_type": "code",
   "execution_count": 24,
   "id": "e6070aaf-02cb-4b3c-bca5-407cd5567ea7",
   "metadata": {},
   "outputs": [
    {
     "name": "stdout",
     "output_type": "stream",
     "text": [
      "Best C:  10\n",
      "Best Kernel:  rbf\n",
      "Best Gamma:  0.001\n"
     ]
    }
   ],
   "source": [
    "# view the best parameters for the model found using grid search\n",
    "print('Best C: ', clf.best_estimator_.C)\n",
    "print('Best Kernel: ', clf.best_estimator_.kernel)\n",
    "print('Best Gamma: ', clf.best_estimator_.gamma)"
   ]
  },
  {
   "cell_type": "markdown",
   "id": "034180db-fb75-4fe8-b126-d0907856a65b",
   "metadata": {},
   "source": [
    "## Sanity Check Using Second Dataset"
   ]
  },
  {
   "cell_type": "code",
   "execution_count": 27,
   "id": "70c9f022-160f-45c6-9cef-09a6aa675a6c",
   "metadata": {},
   "outputs": [
    {
     "data": {
      "text/plain": [
       "0.9698870765370138"
      ]
     },
     "execution_count": 27,
     "metadata": {},
     "output_type": "execute_result"
    }
   ],
   "source": [
    "# apply the classifier trained using data1 to data2 and view the accuracy score\n",
    "clf.score(data2_features, data2_target)"
   ]
  },
  {
   "cell_type": "code",
   "execution_count": 28,
   "id": "943b6221-d2b7-49ea-9a7b-dbb51fb12c3e",
   "metadata": {},
   "outputs": [
    {
     "data": {
      "text/plain": [
       "0.9698870765370138"
      ]
     },
     "execution_count": 28,
     "metadata": {},
     "output_type": "execute_result"
    }
   ],
   "source": [
    "# train a new classifier using the best parameters found by the grid search\n",
    "svm.SVC(C=10, kernel='rbf', gamma=0.001).fit(data1_features, data1_target).score(data2_features, data2_target)"
   ]
  }
 ],
 "metadata": {
  "kernelspec": {
   "display_name": "Python 3",
   "language": "python",
   "name": "python3"
  },
  "language_info": {
   "codemirror_mode": {
    "name": "ipython",
    "version": 3
   },
   "file_extension": ".py",
   "mimetype": "text/x-python",
   "name": "python",
   "nbconvert_exporter": "python",
   "pygments_lexer": "ipython3",
   "version": "3.8.5"
  }
 },
 "nbformat": 4,
 "nbformat_minor": 5
}
