{
 "cells": [
  {
   "cell_type": "markdown",
   "id": "5a929d45-fe87-4c86-90ec-97c1dae2638b",
   "metadata": {},
   "source": [
    "# Regression Models Evaluation"
   ]
  },
  {
   "cell_type": "code",
   "execution_count": 1,
   "id": "e1eebe86-6815-45e0-b2c4-d554399fc766",
   "metadata": {},
   "outputs": [],
   "source": [
    "import numpy as np"
   ]
  },
  {
   "cell_type": "code",
   "execution_count": 2,
   "id": "7dbef108-f6db-45f2-b027-644fd1cfbdd8",
   "metadata": {},
   "outputs": [],
   "source": [
    "# generate 'ground truth'\n",
    "y_true = np.random.normal(0, 1, 10)\n",
    "\n",
    "# generate random errors\n",
    "errors = np.random.normal(0, 0.02, 10)\n",
    "\n",
    "# simulate predictions\n",
    "y_pred = y_true + errors"
   ]
  },
  {
   "cell_type": "markdown",
   "id": "70548b43-d60b-48a9-8a49-56f15810d696",
   "metadata": {},
   "source": [
    "## Mean Squared Error (MSE) / Root Means Squared Error (RMSE)"
   ]
  },
  {
   "cell_type": "code",
   "execution_count": 3,
   "id": "0f0b1fe7-969a-409b-9111-26143101967a",
   "metadata": {},
   "outputs": [
    {
     "name": "stdout",
     "output_type": "stream",
     "text": [
      "0.00028598099171361837\n"
     ]
    }
   ],
   "source": [
    "# import MSE from sklearn\n",
    "from sklearn.metrics import mean_squared_error\n",
    "\n",
    "# compute MSE\n",
    "MSE = mean_squared_error(y_true, y_pred)\n",
    "\n",
    "# print MSE\n",
    "print(MSE)"
   ]
  },
  {
   "cell_type": "code",
   "execution_count": 4,
   "id": "335d63a3-6949-4d2b-a26f-17b9e2f4d08f",
   "metadata": {},
   "outputs": [
    {
     "name": "stdout",
     "output_type": "stream",
     "text": [
      "0.016910972524181403\n",
      "0.016910972524181403\n"
     ]
    }
   ],
   "source": [
    "# RMSE by Numpy\n",
    "RMSE = np.sqrt(MSE)\n",
    "print(RMSE)\n",
    "\n",
    "# RMSE by sklearn\n",
    "RMSE = mean_squared_error(y_true, y_pred, squared=False)\n",
    "print(RMSE)"
   ]
  },
  {
   "cell_type": "markdown",
   "id": "fa229e11-57a9-4dc8-8ff2-3b2c9eb3ec75",
   "metadata": {},
   "source": [
    "# Classification Models Evaluation"
   ]
  },
  {
   "cell_type": "code",
   "execution_count": 5,
   "id": "33d88f06-291d-4f29-9008-66fbfb358ad7",
   "metadata": {},
   "outputs": [],
   "source": [
    "# ground truth\n",
    "y_true = [1, 1, 0, 1, 0, 0, 1, 0, 0, 1]\n",
    "\n",
    "# simulate probabilities of positive class\n",
    "y_proba = [0.9, 0.7, 0.2, 0.99, 0.7, 0.1, 0.5, 0.2, 0.4, 0.6]\n",
    "\n",
    "# set the threshold to predict positive class\n",
    "thres = 0.5\n",
    "\n",
    "# class predictions\n",
    "y_pred = [int(value > thres) for value in y_proba]"
   ]
  },
  {
   "cell_type": "markdown",
   "id": "2b9a8707-45ae-4660-bc8b-cbcf735dc294",
   "metadata": {},
   "source": [
    "## Accuracy"
   ]
  },
  {
   "cell_type": "code",
   "execution_count": 6,
   "id": "2432aee0-e72b-430d-8382-310f870403f6",
   "metadata": {},
   "outputs": [
    {
     "name": "stdout",
     "output_type": "stream",
     "text": [
      "0.8\n"
     ]
    }
   ],
   "source": [
    "# import accuracy_score from sklearn\n",
    "from sklearn.metrics import accuracy_score\n",
    "\n",
    "# compute accuracy\n",
    "accuracy = accuracy_score(y_true, y_pred)\n",
    "\n",
    "# print accuracy\n",
    "print(accuracy)"
   ]
  },
  {
   "cell_type": "markdown",
   "id": "ba8de0d2-c8db-403f-a344-3826ff4430cf",
   "metadata": {},
   "source": [
    "## F1-score"
   ]
  },
  {
   "cell_type": "code",
   "execution_count": 7,
   "id": "c37b4068-78aa-44e7-9994-f6bfc5c7a691",
   "metadata": {},
   "outputs": [
    {
     "name": "stdout",
     "output_type": "stream",
     "text": [
      "0.8000000000000002\n"
     ]
    }
   ],
   "source": [
    "# import f1_score from sklearn\n",
    "from sklearn.metrics import f1_score\n",
    "\n",
    "# compute F1-score\n",
    "f1_score = f1_score(y_true, y_pred)\n",
    "\n",
    "# print F1-score\n",
    "print(f1_score)"
   ]
  },
  {
   "cell_type": "markdown",
   "id": "110503e4-cf2d-4167-a769-d714e87378cc",
   "metadata": {},
   "source": [
    "## AUC-score"
   ]
  },
  {
   "cell_type": "code",
   "execution_count": 9,
   "id": "84be1b9a-c4bd-496f-849c-c0187879e803",
   "metadata": {},
   "outputs": [
    {
     "name": "stdout",
     "output_type": "stream",
     "text": [
      "0.8\n"
     ]
    }
   ],
   "source": [
    "# import roc_auc_score from sklearn\n",
    "from sklearn.metrics import roc_auc_score\n",
    "\n",
    "# compute AUC-score\n",
    "auc = roc_auc_score(y_true, y_pred)\n",
    "\n",
    "# print AUC-score\n",
    "print(auc)"
   ]
  }
 ],
 "metadata": {
  "kernelspec": {
   "display_name": "Python 3",
   "language": "python",
   "name": "python3"
  },
  "language_info": {
   "codemirror_mode": {
    "name": "ipython",
    "version": 3
   },
   "file_extension": ".py",
   "mimetype": "text/x-python",
   "name": "python",
   "nbconvert_exporter": "python",
   "pygments_lexer": "ipython3",
   "version": "3.8.5"
  }
 },
 "nbformat": 4,
 "nbformat_minor": 5
}
