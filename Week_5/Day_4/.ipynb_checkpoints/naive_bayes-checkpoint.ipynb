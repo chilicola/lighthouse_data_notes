{
 "cells": [
  {
   "cell_type": "code",
   "execution_count": 1,
   "id": "cb96840f-8a0a-4664-9ba7-243e8f1683cd",
   "metadata": {},
   "outputs": [],
   "source": [
    "# load iris datasets\n",
    "from sklearn.datasets import load_iris"
   ]
  },
  {
   "cell_type": "code",
   "execution_count": 2,
   "id": "aacf198c-3d1f-49f4-921b-553529e76cdd",
   "metadata": {},
   "outputs": [],
   "source": [
    "iris = load_iris()"
   ]
  },
  {
   "cell_type": "code",
   "execution_count": 3,
   "id": "996bdb1b-5a04-4e12-ae0f-240732d20409",
   "metadata": {},
   "outputs": [],
   "source": [
    "# store the feature matrix X and response vector y\n",
    "X = iris.data\n",
    "y = iris.target"
   ]
  },
  {
   "cell_type": "code",
   "execution_count": 4,
   "id": "7c3368d0-f523-4e93-9973-499a9c66f0e6",
   "metadata": {},
   "outputs": [],
   "source": [
    "# splitting X and y into training and testing sets\n",
    "from sklearn.model_selection import train_test_split"
   ]
  },
  {
   "cell_type": "code",
   "execution_count": 5,
   "id": "53510fc0-21c5-49eb-9aa6-35ed52bfd562",
   "metadata": {},
   "outputs": [],
   "source": [
    "X_train, X_test, y_train, y_test = train_test_split(X, y, test_size=0.4, random_state=1)"
   ]
  },
  {
   "cell_type": "code",
   "execution_count": 6,
   "id": "65c5c4ad-d674-4f65-83fe-1646729bf922",
   "metadata": {},
   "outputs": [],
   "source": [
    "# training the model on training set\n",
    "from sklearn.naive_bayes import GaussianNB"
   ]
  },
  {
   "cell_type": "code",
   "execution_count": 7,
   "id": "806cede0-3283-4d43-9fe4-96ee273efe3f",
   "metadata": {},
   "outputs": [
    {
     "data": {
      "text/plain": [
       "GaussianNB()"
      ]
     },
     "execution_count": 7,
     "metadata": {},
     "output_type": "execute_result"
    }
   ],
   "source": [
    "gnb = GaussianNB()\n",
    "gnb.fit(X_train, y_train)"
   ]
  },
  {
   "cell_type": "code",
   "execution_count": 8,
   "id": "4b5ad583-a700-45a8-a936-4adb362304b4",
   "metadata": {},
   "outputs": [],
   "source": [
    "# making predictions on the testing set\n",
    "y_pred = gnb.predict(X_test)"
   ]
  },
  {
   "cell_type": "code",
   "execution_count": 9,
   "id": "50aba2c9-cb0e-496f-b220-abbf5dae1578",
   "metadata": {},
   "outputs": [],
   "source": [
    "# comparing actual response values y_test and predicted response y_pred\n",
    "from sklearn import metrics"
   ]
  },
  {
   "cell_type": "code",
   "execution_count": 10,
   "id": "05e06bb1-b7b2-47cc-b7fd-962e92b5cab1",
   "metadata": {},
   "outputs": [
    {
     "name": "stdout",
     "output_type": "stream",
     "text": [
      "Gaussian Naive Bayes model accuracy: 95.0\n"
     ]
    }
   ],
   "source": [
    "print(f'Gaussian Naive Bayes model accuracy: {metrics.accuracy_score(y_test, y_pred)*100}')"
   ]
  }
 ],
 "metadata": {
  "kernelspec": {
   "display_name": "Python 3",
   "language": "python",
   "name": "python3"
  },
  "language_info": {
   "codemirror_mode": {
    "name": "ipython",
    "version": 3
   },
   "file_extension": ".py",
   "mimetype": "text/x-python",
   "name": "python",
   "nbconvert_exporter": "python",
   "pygments_lexer": "ipython3",
   "version": "3.8.5"
  }
 },
 "nbformat": 4,
 "nbformat_minor": 5
}
