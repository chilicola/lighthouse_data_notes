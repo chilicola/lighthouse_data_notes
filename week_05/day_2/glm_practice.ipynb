{
 "cells": [
  {
   "cell_type": "code",
   "execution_count": 9,
   "id": "ec25d738-a03d-485a-9026-f39cdf12adef",
   "metadata": {},
   "outputs": [],
   "source": [
    "import pandas as pd\n",
    "import numpy as np\n",
    "import seaborn as sns\n",
    "import matplotlib.pyplot as plt"
   ]
  },
  {
   "cell_type": "code",
   "execution_count": 10,
   "id": "ff482bee-80a1-474b-b42a-71af9ab83eee",
   "metadata": {},
   "outputs": [],
   "source": [
    "bikes = pd.read_csv('nyc-east-river-bicycle-counts.csv')"
   ]
  },
  {
   "cell_type": "markdown",
   "id": "3e8c39e1-d421-4bf1-bf2b-6e5192b67785",
   "metadata": {},
   "source": [
    "#### Data Explore"
   ]
  },
  {
   "cell_type": "code",
   "execution_count": 11,
   "id": "f930945a-103d-42f3-98bb-202773d97259",
   "metadata": {},
   "outputs": [
    {
     "data": {
      "text/html": [
       "<div>\n",
       "<style scoped>\n",
       "    .dataframe tbody tr th:only-of-type {\n",
       "        vertical-align: middle;\n",
       "    }\n",
       "\n",
       "    .dataframe tbody tr th {\n",
       "        vertical-align: top;\n",
       "    }\n",
       "\n",
       "    .dataframe thead th {\n",
       "        text-align: right;\n",
       "    }\n",
       "</style>\n",
       "<table border=\"1\" class=\"dataframe\">\n",
       "  <thead>\n",
       "    <tr style=\"text-align: right;\">\n",
       "      <th></th>\n",
       "      <th>Unnamed: 0</th>\n",
       "      <th>Date</th>\n",
       "      <th>Day</th>\n",
       "      <th>High Temp (°F)</th>\n",
       "      <th>Low Temp (°F)</th>\n",
       "      <th>Precipitation</th>\n",
       "      <th>Brooklyn Bridge</th>\n",
       "      <th>Manhattan Bridge</th>\n",
       "      <th>Williamsburg Bridge</th>\n",
       "      <th>Queensboro Bridge</th>\n",
       "      <th>Total</th>\n",
       "    </tr>\n",
       "  </thead>\n",
       "  <tbody>\n",
       "    <tr>\n",
       "      <th>0</th>\n",
       "      <td>0</td>\n",
       "      <td>2016-04-01 00:00:00</td>\n",
       "      <td>2016-04-01 00:00:00</td>\n",
       "      <td>78.1</td>\n",
       "      <td>66.0</td>\n",
       "      <td>0.01</td>\n",
       "      <td>1704.0</td>\n",
       "      <td>3126</td>\n",
       "      <td>4115.0</td>\n",
       "      <td>2552.0</td>\n",
       "      <td>11497</td>\n",
       "    </tr>\n",
       "    <tr>\n",
       "      <th>1</th>\n",
       "      <td>1</td>\n",
       "      <td>2016-04-02 00:00:00</td>\n",
       "      <td>2016-04-02 00:00:00</td>\n",
       "      <td>55.0</td>\n",
       "      <td>48.9</td>\n",
       "      <td>0.15</td>\n",
       "      <td>827.0</td>\n",
       "      <td>1646</td>\n",
       "      <td>2565.0</td>\n",
       "      <td>1884.0</td>\n",
       "      <td>6922</td>\n",
       "    </tr>\n",
       "    <tr>\n",
       "      <th>2</th>\n",
       "      <td>2</td>\n",
       "      <td>2016-04-03 00:00:00</td>\n",
       "      <td>2016-04-03 00:00:00</td>\n",
       "      <td>39.9</td>\n",
       "      <td>34.0</td>\n",
       "      <td>0.09</td>\n",
       "      <td>526.0</td>\n",
       "      <td>1232</td>\n",
       "      <td>1695.0</td>\n",
       "      <td>1306.0</td>\n",
       "      <td>4759</td>\n",
       "    </tr>\n",
       "    <tr>\n",
       "      <th>3</th>\n",
       "      <td>3</td>\n",
       "      <td>2016-04-04 00:00:00</td>\n",
       "      <td>2016-04-04 00:00:00</td>\n",
       "      <td>44.1</td>\n",
       "      <td>33.1</td>\n",
       "      <td>0.47 (S)</td>\n",
       "      <td>521.0</td>\n",
       "      <td>1067</td>\n",
       "      <td>1440.0</td>\n",
       "      <td>1307.0</td>\n",
       "      <td>4335</td>\n",
       "    </tr>\n",
       "    <tr>\n",
       "      <th>4</th>\n",
       "      <td>4</td>\n",
       "      <td>2016-04-05 00:00:00</td>\n",
       "      <td>2016-04-05 00:00:00</td>\n",
       "      <td>42.1</td>\n",
       "      <td>26.1</td>\n",
       "      <td>0</td>\n",
       "      <td>1416.0</td>\n",
       "      <td>2617</td>\n",
       "      <td>3081.0</td>\n",
       "      <td>2357.0</td>\n",
       "      <td>9471</td>\n",
       "    </tr>\n",
       "  </tbody>\n",
       "</table>\n",
       "</div>"
      ],
      "text/plain": [
       "   Unnamed: 0                 Date                  Day  High Temp (°F)  \\\n",
       "0           0  2016-04-01 00:00:00  2016-04-01 00:00:00            78.1   \n",
       "1           1  2016-04-02 00:00:00  2016-04-02 00:00:00            55.0   \n",
       "2           2  2016-04-03 00:00:00  2016-04-03 00:00:00            39.9   \n",
       "3           3  2016-04-04 00:00:00  2016-04-04 00:00:00            44.1   \n",
       "4           4  2016-04-05 00:00:00  2016-04-05 00:00:00            42.1   \n",
       "\n",
       "   Low Temp (°F) Precipitation  Brooklyn Bridge  Manhattan Bridge  \\\n",
       "0           66.0          0.01           1704.0              3126   \n",
       "1           48.9          0.15            827.0              1646   \n",
       "2           34.0          0.09            526.0              1232   \n",
       "3           33.1      0.47 (S)            521.0              1067   \n",
       "4           26.1             0           1416.0              2617   \n",
       "\n",
       "   Williamsburg Bridge  Queensboro Bridge  Total  \n",
       "0               4115.0             2552.0  11497  \n",
       "1               2565.0             1884.0   6922  \n",
       "2               1695.0             1306.0   4759  \n",
       "3               1440.0             1307.0   4335  \n",
       "4               3081.0             2357.0   9471  "
      ]
     },
     "execution_count": 11,
     "metadata": {},
     "output_type": "execute_result"
    }
   ],
   "source": [
    "bikes.head()"
   ]
  },
  {
   "cell_type": "code",
   "execution_count": 12,
   "id": "2dab32c1-5714-4a48-a491-05990b954fb3",
   "metadata": {},
   "outputs": [],
   "source": [
    "# dropping 'Unnamed: 0' column, because it is not necessary for our analysis\n",
    "bikes = bikes.drop('Unnamed: 0', axis=1)"
   ]
  },
  {
   "cell_type": "code",
   "execution_count": 13,
   "id": "9869de48-8573-476f-a184-c5b70e2a4847",
   "metadata": {},
   "outputs": [
    {
     "data": {
      "text/plain": [
       "Date                    object\n",
       "Day                     object\n",
       "High Temp (°F)         float64\n",
       "Low Temp (°F)          float64\n",
       "Precipitation           object\n",
       "Brooklyn Bridge        float64\n",
       "Manhattan Bridge         int64\n",
       "Williamsburg Bridge    float64\n",
       "Queensboro Bridge      float64\n",
       "Total                    int64\n",
       "dtype: object"
      ]
     },
     "execution_count": 13,
     "metadata": {},
     "output_type": "execute_result"
    }
   ],
   "source": [
    "# checking data types to identify which variables are continuous, categorical and count\n",
    "# note: my dependent variable, \"Total\" is an integer (count)\n",
    "bikes.dtypes"
   ]
  },
  {
   "cell_type": "code",
   "execution_count": 17,
   "id": "4faf950f-129a-4808-8e5d-9d525af8eb36",
   "metadata": {},
   "outputs": [
    {
     "data": {
      "text/plain": [
       "False"
      ]
     },
     "execution_count": 17,
     "metadata": {},
     "output_type": "execute_result"
    }
   ],
   "source": [
    "# checking if there are any nans in the dataset\n",
    "bikes.isnull().values.any()"
   ]
  },
  {
   "cell_type": "code",
   "execution_count": 18,
   "id": "5362a381-68c8-437f-84cc-3d2d8e61a6da",
   "metadata": {},
   "outputs": [
    {
     "data": {
      "text/plain": [
       "count      210.000000\n",
       "mean     14534.500000\n",
       "std       5569.173496\n",
       "min       4335.000000\n",
       "25%       9596.000000\n",
       "50%      15292.500000\n",
       "75%      18315.000000\n",
       "max      23318.000000\n",
       "Name: Total, dtype: float64"
      ]
     },
     "execution_count": 18,
     "metadata": {},
     "output_type": "execute_result"
    }
   ],
   "source": [
    "# generating descriptive statistics summary\n",
    "bikes['Total'].describe()"
   ]
  },
  {
   "cell_type": "code",
   "execution_count": 28,
   "id": "8ecfda5b-c4da-495c-8b9e-66140faf0723",
   "metadata": {},
   "outputs": [
    {
     "name": "stdout",
     "output_type": "stream",
     "text": [
      "Skewness: -0.24298139053047868\n",
      "Kurtosis: -0.907533921471547\n"
     ]
    },
    {
     "name": "stderr",
     "output_type": "stream",
     "text": [
      "D:\\anaconda3\\lib\\site-packages\\seaborn\\distributions.py:2557: FutureWarning: `distplot` is a deprecated function and will be removed in a future version. Please adapt your code to use either `displot` (a figure-level function with similar flexibility) or `histplot` (an axes-level function for histograms).\n",
      "  warnings.warn(msg, FutureWarning)\n"
     ]
    },
    {
     "data": {
      "image/png": "[encoded data removed]",
      "text/plain": [
       "<Figure size 432x288 with 1 Axes>"
      ]
     },
     "metadata": {
      "needs_background": "light"
     },
     "output_type": "display_data"
    }
   ],
   "source": [
    "# checking the distribution to see if there are any outliers\n",
    "sns.distplot(bikes['Total'])\n",
    "\n",
    "# skewness and kurtosis\n",
    "print(f'Skewness: {bikes[\"Total\"].skew()}')\n",
    "print(f'Kurtosis: {bikes[\"Total\"].kurt()}')"
   ]
  },
  {
   "cell_type": "code",
   "execution_count": 29,
   "id": "507600ec-4a40-4cbf-b95e-c341d4116589",
   "metadata": {},
   "outputs": [],
   "source": [
    "# creating a new column for average temperature by adding the highest and\n",
    "# the lowest temperature and dividing it by 2\n",
    "bikes['Average Temp'] = (bikes['High Temp (°F)'] - bikes['Low Temp (°F)']) / 2"
   ]
  },
  {
   "cell_type": "code",
   "execution_count": 31,
   "id": "8e7076cd-a9d7-4701-adc8-556c92e3c834",
   "metadata": {},
   "outputs": [
    {
     "data": {
      "text/plain": [
       "<seaborn.axisgrid.FacetGrid at 0x28963165550>"
      ]
     },
     "execution_count": 31,
     "metadata": {},
     "output_type": "execute_result"
    },
    {
     "data": {
      "image/png": "[encoded data removed]",
      "text/plain": [
       "<Figure size 360x360 with 1 Axes>"
      ]
     },
     "metadata": {
      "needs_background": "light"
     },
     "output_type": "display_data"
    }
   ],
   "source": [
    "# plotting average temperature against total number of bikes\n",
    "# linear regression\n",
    "sns.lmplot(x='Average Temp', y='Total', data=bikes)"
   ]
  },
  {
   "cell_type": "code",
   "execution_count": 33,
   "id": "a227ba51-c0a1-46cf-9aee-94b822e83921",
   "metadata": {},
   "outputs": [],
   "source": [
    "# since I am predicting a count value, I should fit a poisson regression\n",
    "import statsmodels.api as sm\n",
    "\n",
    "X = bikes['Average Temp']\n",
    "y = bikes['Total']\n",
    "\n",
    "# add intercept to input variable\n",
    "X = sm.add_constant(X)\n",
    "\n",
    "# fit poisson regression model\n",
    "model = sm.GLM(y, X, family=sm.families.Poisson()).fit()\n",
    "\n",
    "# add poisson fitted values to dataframe\n",
    "bikes['reg_fit'] = model.fittedvalues"
   ]
  },
  {
   "cell_type": "code",
   "execution_count": 41,
   "id": "43f76631-f123-4f1a-b6d9-c1842599b873",
   "metadata": {},
   "outputs": [
    {
     "data": {
      "text/plain": [
       "[<matplotlib.lines.Line2D at 0x289668f0280>]"
      ]
     },
     "execution_count": 41,
     "metadata": {},
     "output_type": "execute_result"
    },
    {
     "data": {
      "image/png": "[encoded data removed]",
      "text/plain": [
       "<Figure size 432x288 with 1 Axes>"
      ]
     },
     "metadata": {
      "needs_background": "light"
     },
     "output_type": "display_data"
    }
   ],
   "source": [
    "# plot & add a regression line\n",
    "sns.regplot(x=bikes['Average Temp'], y=bikes['Total'], fit_reg=False)\n",
    "plt.plot(bikes['Average Temp'], bikes['reg_fit'])"
   ]
  }
 ],
 "metadata": {
  "kernelspec": {
   "display_name": "Python 3",
   "language": "python",
   "name": "python3"
  },
  "language_info": {
   "codemirror_mode": {
    "name": "ipython",
    "version": 3
   },
   "file_extension": ".py",
   "mimetype": "text/x-python",
   "name": "python",
   "nbconvert_exporter": "python",
   "pygments_lexer": "ipython3",
   "version": "3.8.5"
  }
 },
 "nbformat": 4,
 "nbformat_minor": 5
}
