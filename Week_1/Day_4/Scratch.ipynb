{
 "cells": [
  {
   "cell_type": "code",
   "execution_count": 55,
   "id": "afe14c4c-3509-4919-9c85-89e3c18ba0dc",
   "metadata": {},
   "outputs": [],
   "source": [
    "\"\"\"\n",
    "Adjust the function 'equal_slices' from question_00 to return number of pieces left as well.\n",
    "\n",
    "Examples:\n",
    "    equal_slices(11, 5, 2) ➞ (True, 1)\n",
    "    # 5 people x 2 slices each = 10 slices < 11 slices \n",
    "\n",
    "    equal_slices(11, 5, 3) ➞ (False,None)\n",
    "    # 5 people x 3 slices each = 15 slices > 11 slicess\n",
    "\n",
    "    equal_slices(8, 3, 2) ➞ (True, 2)\n",
    "\n",
    "    equal_slices(8, 3, 3) ➞ (False, None)\n",
    "\n",
    "    equal_slices(24, 12, 2) ➞ (True, 0)\n",
    "\n",
    "Notes:\n",
    " - Return (True, total_slices) if there are zero people.\n",
    " - All parameters are integers.\n",
    "\n",
    "\"\"\"\n",
    "\n",
    "def equal_slices(total_slices, no_recipients, slices_each):\n",
    "    try:\n",
    "        val = total_slices + no_recipients + slices_each\n",
    "\n",
    "        if total_slices > no_recipients * slices_each and no_recipients != 0:\n",
    "            left = total_slices - (no_recipients * slices_each)\n",
    "            return(True, left)\n",
    "        elif no_recipients == 0:\n",
    "            return(True, total_slices)\n",
    "        else:\n",
    "            return(False)\n",
    "    \n",
    "    except TypeError:\n",
    "        print('Inputs need to be integer.')"
   ]
  },
  {
   "cell_type": "code",
   "execution_count": 108,
   "id": "7a73ccc3-881d-4d82-8517-fe1d8653c9da",
   "metadata": {},
   "outputs": [],
   "source": [
    "def equal_slices(total_slices, no_recipients, slices_each):\n",
    "    try:\n",
    "        if total_slices > no_recipients * slices_each:\n",
    "            left = total_slices - no_recipients * slices_each\n",
    "            return(True, left)\n",
    "        else:\n",
    "            return(False, None)\n",
    "    \n",
    "    except:\n",
    "        print('Inputs need to be integer.')"
   ]
  },
  {
   "cell_type": "code",
   "execution_count": 109,
   "id": "447a9c42-ea8e-4205-8b73-35fa006fac7a",
   "metadata": {},
   "outputs": [
    {
     "name": "stdout",
     "output_type": "stream",
     "text": [
      "(True, 1)\n",
      "(False, None)\n",
      "(True, 2)\n",
      "(False, None)\n",
      "(False, None)\n"
     ]
    }
   ],
   "source": [
    "print(equal_slices(11, 5, 2))\n",
    "    # 5 people x 2 slices each = 10 slices < 11 slices \n",
    "\n",
    "print(equal_slices(11, 5, 3))\n",
    "    # 5 people x 3 slices each = 15 slices > 11 slicess\n",
    "\n",
    "print(equal_slices(8, 3, 2))\n",
    "print(equal_slices(8, 3, 3) )\n",
    "\n",
    "print(equal_slices(24, 12, 2))"
   ]
  },
  {
   "cell_type": "code",
   "execution_count": 62,
   "id": "c1ba32f0-cee1-48f3-a818-326f7b939c94",
   "metadata": {},
   "outputs": [],
   "source": [
    "def count_unique_chars(string_1, string_2):\n",
    "    cat = string_1 + string_2\n",
    "    return(len(set(cat)))"
   ]
  },
  {
   "cell_type": "code",
   "execution_count": 67,
   "id": "e730b641-c994-4f9b-96d3-5a4f542d6120",
   "metadata": {},
   "outputs": [
    {
     "data": {
      "text/plain": [
       "1"
      ]
     },
     "execution_count": 67,
     "metadata": {},
     "output_type": "execute_result"
    }
   ],
   "source": [
    "count_unique_chars(\" \", \" \")"
   ]
  },
  {
   "cell_type": "code",
   "execution_count": 73,
   "id": "96269378-6ad7-4f64-b5c6-a8ba832790d5",
   "metadata": {},
   "outputs": [],
   "source": [
    "def reverse_capitalize(string):\n",
    "    try:\n",
    "        return(string.upper()[::-1])\n",
    "    except:\n",
    "        print('Error')"
   ]
  },
  {
   "cell_type": "code",
   "execution_count": 74,
   "id": "0ebe35d6-3963-450b-9aef-8ed695b5dbed",
   "metadata": {},
   "outputs": [
    {
     "data": {
      "text/plain": [
       "'CBA'"
      ]
     },
     "execution_count": 74,
     "metadata": {},
     "output_type": "execute_result"
    }
   ],
   "source": [
    "reverse_capitalize('abc')"
   ]
  },
  {
   "cell_type": "code",
   "execution_count": 90,
   "id": "990dfd4f-0e50-4594-a1e0-e27fe6c25b34",
   "metadata": {},
   "outputs": [],
   "source": [
    "def divisible(integer):\n",
    "    try:\n",
    "        if integer % 100 == 0:\n",
    "            return(True)\n",
    "    \n",
    "    except TypeError:\n",
    "        print('Error')"
   ]
  },
  {
   "cell_type": "code",
   "execution_count": 91,
   "id": "2fdcef59-a6ac-4050-8472-45574bf85822",
   "metadata": {},
   "outputs": [
    {
     "data": {
      "text/plain": [
       "True"
      ]
     },
     "execution_count": 91,
     "metadata": {},
     "output_type": "execute_result"
    }
   ],
   "source": [
    "divisible(100)"
   ]
  }
 ],
 "metadata": {
  "kernelspec": {
   "display_name": "Python 3",
   "language": "python",
   "name": "python3"
  },
  "language_info": {
   "codemirror_mode": {
    "name": "ipython",
    "version": 3
   },
   "file_extension": ".py",
   "mimetype": "text/x-python",
   "name": "python",
   "nbconvert_exporter": "python",
   "pygments_lexer": "ipython3",
   "version": "3.8.5"
  }
 },
 "nbformat": 4,
 "nbformat_minor": 5
}
