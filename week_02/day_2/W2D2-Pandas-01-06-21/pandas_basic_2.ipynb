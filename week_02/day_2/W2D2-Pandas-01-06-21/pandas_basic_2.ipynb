{
 "cells": [
  {
   "cell_type": "code",
   "execution_count": 1,
   "id": "ff6ef1ec-1134-4c14-a698-ec838eea8847",
   "metadata": {},
   "outputs": [],
   "source": [
    "import numpy as np\n",
    "import pandas as pd"
   ]
  },
  {
   "cell_type": "code",
   "execution_count": 62,
   "id": "aad643ef-46a8-4593-b6ec-1affb98b882f",
   "metadata": {},
   "outputs": [
    {
     "data": {
      "text/html": [
       "<div>\n",
       "<style scoped>\n",
       "    .dataframe tbody tr th:only-of-type {\n",
       "        vertical-align: middle;\n",
       "    }\n",
       "\n",
       "    .dataframe tbody tr th {\n",
       "        vertical-align: top;\n",
       "    }\n",
       "\n",
       "    .dataframe thead th {\n",
       "        text-align: right;\n",
       "    }\n",
       "</style>\n",
       "<table border=\"1\" class=\"dataframe\">\n",
       "  <thead>\n",
       "    <tr style=\"text-align: right;\">\n",
       "      <th></th>\n",
       "      <th>one</th>\n",
       "      <th>two</th>\n",
       "      <th>three</th>\n",
       "    </tr>\n",
       "  </thead>\n",
       "  <tbody>\n",
       "    <tr>\n",
       "      <th>a</th>\n",
       "      <td>-0.926330</td>\n",
       "      <td>0.373670</td>\n",
       "      <td>NaN</td>\n",
       "    </tr>\n",
       "    <tr>\n",
       "      <th>b</th>\n",
       "      <td>0.075582</td>\n",
       "      <td>-0.423080</td>\n",
       "      <td>1.069148</td>\n",
       "    </tr>\n",
       "    <tr>\n",
       "      <th>c</th>\n",
       "      <td>-0.612162</td>\n",
       "      <td>-1.232719</td>\n",
       "      <td>-0.262003</td>\n",
       "    </tr>\n",
       "    <tr>\n",
       "      <th>d</th>\n",
       "      <td>NaN</td>\n",
       "      <td>0.075448</td>\n",
       "      <td>0.270596</td>\n",
       "    </tr>\n",
       "  </tbody>\n",
       "</table>\n",
       "</div>"
      ],
      "text/plain": [
       "        one       two     three\n",
       "a -0.926330  0.373670       NaN\n",
       "b  0.075582 -0.423080  1.069148\n",
       "c -0.612162 -1.232719 -0.262003\n",
       "d       NaN  0.075448  0.270596"
      ]
     },
     "execution_count": 62,
     "metadata": {},
     "output_type": "execute_result"
    }
   ],
   "source": [
    "df = pd.DataFrame({\n",
    "    'one': pd.Series(np.random.randn(3), index = ['a', 'b', 'c']),\n",
    "    'two': pd.Series(np.random.randn(4), index = ['a', 'b', 'c', 'd']),\n",
    "    'three': pd.Series(np.random.randn(3), index = ['b', 'c', 'd']),\n",
    "})\n",
    "df2 = df.copy()\n",
    "df2"
   ]
  },
  {
   "cell_type": "markdown",
   "id": "882059b3-8af6-4bf7-bc77-d81c6ac5a8bc",
   "metadata": {},
   "source": [
    "## Boolean Comparisons"
   ]
  },
  {
   "cell_type": "code",
   "execution_count": 63,
   "id": "5a06cd05-2f8b-4b88-a2f4-4888c89e0a6f",
   "metadata": {},
   "outputs": [
    {
     "data": {
      "text/html": [
       "<div>\n",
       "<style scoped>\n",
       "    .dataframe tbody tr th:only-of-type {\n",
       "        vertical-align: middle;\n",
       "    }\n",
       "\n",
       "    .dataframe tbody tr th {\n",
       "        vertical-align: top;\n",
       "    }\n",
       "\n",
       "    .dataframe thead th {\n",
       "        text-align: right;\n",
       "    }\n",
       "</style>\n",
       "<table border=\"1\" class=\"dataframe\">\n",
       "  <thead>\n",
       "    <tr style=\"text-align: right;\">\n",
       "      <th></th>\n",
       "      <th>one</th>\n",
       "      <th>two</th>\n",
       "      <th>three</th>\n",
       "    </tr>\n",
       "  </thead>\n",
       "  <tbody>\n",
       "    <tr>\n",
       "      <th>a</th>\n",
       "      <td>False</td>\n",
       "      <td>False</td>\n",
       "      <td>True</td>\n",
       "    </tr>\n",
       "    <tr>\n",
       "      <th>b</th>\n",
       "      <td>False</td>\n",
       "      <td>False</td>\n",
       "      <td>False</td>\n",
       "    </tr>\n",
       "    <tr>\n",
       "      <th>c</th>\n",
       "      <td>False</td>\n",
       "      <td>False</td>\n",
       "      <td>False</td>\n",
       "    </tr>\n",
       "    <tr>\n",
       "      <th>d</th>\n",
       "      <td>True</td>\n",
       "      <td>False</td>\n",
       "      <td>False</td>\n",
       "    </tr>\n",
       "  </tbody>\n",
       "</table>\n",
       "</div>"
      ],
      "text/plain": [
       "     one    two  three\n",
       "a  False  False   True\n",
       "b  False  False  False\n",
       "c  False  False  False\n",
       "d   True  False  False"
      ]
     },
     "execution_count": 63,
     "metadata": {},
     "output_type": "execute_result"
    }
   ],
   "source": [
    "df.gt(df2)\n",
    "df2.ne(df)\n",
    "\n",
    "# np.nan == np.nan returns False"
   ]
  },
  {
   "cell_type": "code",
   "execution_count": 64,
   "id": "007aa258-c646-4720-98d8-e967cb1173c7",
   "metadata": {},
   "outputs": [
    {
     "data": {
      "text/plain": [
       "True"
      ]
     },
     "execution_count": 64,
     "metadata": {},
     "output_type": "execute_result"
    }
   ],
   "source": [
    "(df > 0).all()\n",
    "(df > 0).any()\n",
    "(df > 0).any().any()"
   ]
  },
  {
   "cell_type": "code",
   "execution_count": 65,
   "id": "9fb07e96-23bb-4a82-8a05-1231db3104f3",
   "metadata": {
    "tags": []
   },
   "outputs": [
    {
     "data": {
      "text/plain": [
       "True"
      ]
     },
     "execution_count": 65,
     "metadata": {},
     "output_type": "execute_result"
    }
   ],
   "source": [
    "pd.Series([True]).bool()\n",
    "pd.Series([False]).bool()\n",
    "pd.DataFrame([[True]]).bool()"
   ]
  },
  {
   "cell_type": "markdown",
   "id": "9e81d37c-0c90-4d5c-9df4-15f3d3e3b895",
   "metadata": {},
   "source": [
    "## Objects Comparisons"
   ]
  },
  {
   "cell_type": "code",
   "execution_count": 66,
   "id": "a5753934-6d04-4b6c-922b-7bd7422c20b9",
   "metadata": {},
   "outputs": [
    {
     "data": {
      "text/plain": [
       "0    foo\n",
       "1    bar\n",
       "2    baz\n",
       "dtype: object"
      ]
     },
     "execution_count": 66,
     "metadata": {},
     "output_type": "execute_result"
    }
   ],
   "source": [
    "pd.Series(['foo', 'bar', 'baz'])"
   ]
  },
  {
   "cell_type": "code",
   "execution_count": 67,
   "id": "7d44807d-d3a8-49ac-a3be-3234018e63cb",
   "metadata": {},
   "outputs": [
    {
     "data": {
      "text/plain": [
       "0     True\n",
       "1     True\n",
       "2    False\n",
       "dtype: bool"
      ]
     },
     "execution_count": 67,
     "metadata": {},
     "output_type": "execute_result"
    }
   ],
   "source": [
    "pd.Series(['foo', 'bar', 'baz']) == 'foo'\n",
    "pd.Series(['foo', 'bar', 'baz']) == pd.Index(['foo', 'bar', 'qux'])"
   ]
  },
  {
   "cell_type": "code",
   "execution_count": 70,
   "id": "83e1582c-01f9-489e-950e-fb86e6773036",
   "metadata": {},
   "outputs": [
    {
     "data": {
      "text/plain": [
       "True"
      ]
     },
     "execution_count": 70,
     "metadata": {},
     "output_type": "execute_result"
    }
   ],
   "source": [
    "(df + df == df * 2).all().all()\n",
    "(df + df).equals(df * 2)"
   ]
  },
  {
   "cell_type": "markdown",
   "id": "0bbe46fa-cbe8-48ad-b11a-b86164b01527",
   "metadata": {},
   "source": [
    "## Descriptive Statistics"
   ]
  },
  {
   "cell_type": "code",
   "execution_count": 72,
   "id": "465e7095-8839-4980-9aaf-bdfdffe3fbbc",
   "metadata": {},
   "outputs": [
    {
     "data": {
      "text/plain": [
       "a   -0.276330\n",
       "b    0.240550\n",
       "c   -0.702295\n",
       "d    0.173022\n",
       "dtype: float64"
      ]
     },
     "execution_count": 72,
     "metadata": {},
     "output_type": "execute_result"
    }
   ],
   "source": [
    "df.mean()\n",
    "df.mean(1)"
   ]
  },
  {
   "cell_type": "code",
   "execution_count": 75,
   "id": "85e3f893-dac1-4d12-9434-ad2e4da6175b",
   "metadata": {},
   "outputs": [
    {
     "data": {
      "text/plain": [
       "one      1.0\n",
       "two      1.0\n",
       "three    1.0\n",
       "dtype: float64"
      ]
     },
     "execution_count": 75,
     "metadata": {},
     "output_type": "execute_result"
    }
   ],
   "source": [
    "ts_stand = (df - df.mean()) / df.std()\n",
    "ts_stand.std()"
   ]
  },
  {
   "cell_type": "code",
   "execution_count": 80,
   "id": "b9b5d389-7bbe-46a0-bbfc-8207ab1616a5",
   "metadata": {},
   "outputs": [
    {
     "data": {
      "text/plain": [
       "count    500.000000\n",
       "mean      -0.055059\n",
       "std        0.996863\n",
       "min       -2.982020\n",
       "25%       -0.731319\n",
       "50%       -0.053809\n",
       "75%        0.618111\n",
       "max        2.575541\n",
       "dtype: float64"
      ]
     },
     "execution_count": 80,
     "metadata": {},
     "output_type": "execute_result"
    }
   ],
   "source": [
    "series = pd.Series(np.random.randn(1000))\n",
    "series[::2] = np.nan\n",
    "series.describe()"
   ]
  },
  {
   "cell_type": "code",
   "execution_count": 91,
   "id": "9c298118-f333-44af-a417-ce4f1697af56",
   "metadata": {},
   "outputs": [
    {
     "data": {
      "text/html": [
       "<div>\n",
       "<style scoped>\n",
       "    .dataframe tbody tr th:only-of-type {\n",
       "        vertical-align: middle;\n",
       "    }\n",
       "\n",
       "    .dataframe tbody tr th {\n",
       "        vertical-align: top;\n",
       "    }\n",
       "\n",
       "    .dataframe thead th {\n",
       "        text-align: right;\n",
       "    }\n",
       "</style>\n",
       "<table border=\"1\" class=\"dataframe\">\n",
       "  <thead>\n",
       "    <tr style=\"text-align: right;\">\n",
       "      <th></th>\n",
       "      <th>a</th>\n",
       "      <th>b</th>\n",
       "      <th>c</th>\n",
       "      <th>d</th>\n",
       "      <th>e</th>\n",
       "    </tr>\n",
       "  </thead>\n",
       "  <tbody>\n",
       "    <tr>\n",
       "      <th>count</th>\n",
       "      <td>500.000000</td>\n",
       "      <td>500.000000</td>\n",
       "      <td>500.000000</td>\n",
       "      <td>500.000000</td>\n",
       "      <td>500.000000</td>\n",
       "    </tr>\n",
       "    <tr>\n",
       "      <th>mean</th>\n",
       "      <td>-0.060638</td>\n",
       "      <td>-0.015821</td>\n",
       "      <td>0.064653</td>\n",
       "      <td>-0.080959</td>\n",
       "      <td>0.003420</td>\n",
       "    </tr>\n",
       "    <tr>\n",
       "      <th>std</th>\n",
       "      <td>0.993974</td>\n",
       "      <td>1.018144</td>\n",
       "      <td>0.980136</td>\n",
       "      <td>1.014138</td>\n",
       "      <td>0.970389</td>\n",
       "    </tr>\n",
       "    <tr>\n",
       "      <th>min</th>\n",
       "      <td>-2.763340</td>\n",
       "      <td>-3.159840</td>\n",
       "      <td>-2.764524</td>\n",
       "      <td>-3.712428</td>\n",
       "      <td>-2.732238</td>\n",
       "    </tr>\n",
       "    <tr>\n",
       "      <th>25%</th>\n",
       "      <td>-0.778595</td>\n",
       "      <td>-0.692851</td>\n",
       "      <td>-0.593954</td>\n",
       "      <td>-0.820893</td>\n",
       "      <td>-0.629339</td>\n",
       "    </tr>\n",
       "    <tr>\n",
       "      <th>50%</th>\n",
       "      <td>-0.055475</td>\n",
       "      <td>-0.068801</td>\n",
       "      <td>0.040544</td>\n",
       "      <td>-0.075277</td>\n",
       "      <td>0.043308</td>\n",
       "    </tr>\n",
       "    <tr>\n",
       "      <th>75%</th>\n",
       "      <td>0.609831</td>\n",
       "      <td>0.677304</td>\n",
       "      <td>0.743581</td>\n",
       "      <td>0.527007</td>\n",
       "      <td>0.642687</td>\n",
       "    </tr>\n",
       "    <tr>\n",
       "      <th>max</th>\n",
       "      <td>2.908487</td>\n",
       "      <td>3.274045</td>\n",
       "      <td>2.936665</td>\n",
       "      <td>3.277804</td>\n",
       "      <td>2.878577</td>\n",
       "    </tr>\n",
       "  </tbody>\n",
       "</table>\n",
       "</div>"
      ],
      "text/plain": [
       "                a           b           c           d           e\n",
       "count  500.000000  500.000000  500.000000  500.000000  500.000000\n",
       "mean    -0.060638   -0.015821    0.064653   -0.080959    0.003420\n",
       "std      0.993974    1.018144    0.980136    1.014138    0.970389\n",
       "min     -2.763340   -3.159840   -2.764524   -3.712428   -2.732238\n",
       "25%     -0.778595   -0.692851   -0.593954   -0.820893   -0.629339\n",
       "50%     -0.055475   -0.068801    0.040544   -0.075277    0.043308\n",
       "75%      0.609831    0.677304    0.743581    0.527007    0.642687\n",
       "max      2.908487    3.274045    2.936665    3.277804    2.878577"
      ]
     },
     "execution_count": 91,
     "metadata": {},
     "output_type": "execute_result"
    }
   ],
   "source": [
    "frame = pd.DataFrame(np.random.randn(1000, 5), columns = ['a', 'b', 'c', 'd', 'e'])\n",
    "frame.iloc[::2] = np.nan\n",
    "frame.describe()"
   ]
  },
  {
   "cell_type": "code",
   "execution_count": 96,
   "id": "631ce90a-a327-40d6-9393-76f110ed2ae8",
   "metadata": {},
   "outputs": [
    {
     "data": {
      "text/plain": [
       "count     9\n",
       "unique    4\n",
       "top       a\n",
       "freq      5\n",
       "dtype: object"
      ]
     },
     "execution_count": 96,
     "metadata": {},
     "output_type": "execute_result"
    }
   ],
   "source": [
    "s = pd.Series(['a','a', 'b', 'b', 'a', 'a', np.nan, 'c', 'd', 'a'])\n",
    "s.describe()"
   ]
  },
  {
   "cell_type": "code",
   "execution_count": 100,
   "id": "fbfaec3f-c01b-452e-8a41-1d0104a2db22",
   "metadata": {},
   "outputs": [
    {
     "data": {
      "text/plain": [
       "0    0.658560\n",
       "1   -1.388871\n",
       "2    1.169117\n",
       "3    0.464620\n",
       "4   -0.376023\n",
       "dtype: float64"
      ]
     },
     "execution_count": 100,
     "metadata": {},
     "output_type": "execute_result"
    }
   ],
   "source": [
    "s1 = pd.Series(np.random.randn(5))\n",
    "s1"
   ]
  },
  {
   "cell_type": "code",
   "execution_count": 102,
   "id": "eaf8e85e-3944-49d6-8aba-1c3a84cbcd86",
   "metadata": {},
   "outputs": [
    {
     "data": {
      "text/plain": [
       "(1, 2)"
      ]
     },
     "execution_count": 102,
     "metadata": {},
     "output_type": "execute_result"
    }
   ],
   "source": [
    "s1.idxmin(), s1.idxmax()"
   ]
  },
  {
   "cell_type": "code",
   "execution_count": 105,
   "id": "8c2db2e6-8c32-497f-9c0b-d0082586188a",
   "metadata": {},
   "outputs": [
    {
     "data": {
      "text/html": [
       "<div>\n",
       "<style scoped>\n",
       "    .dataframe tbody tr th:only-of-type {\n",
       "        vertical-align: middle;\n",
       "    }\n",
       "\n",
       "    .dataframe tbody tr th {\n",
       "        vertical-align: top;\n",
       "    }\n",
       "\n",
       "    .dataframe thead th {\n",
       "        text-align: right;\n",
       "    }\n",
       "</style>\n",
       "<table border=\"1\" class=\"dataframe\">\n",
       "  <thead>\n",
       "    <tr style=\"text-align: right;\">\n",
       "      <th></th>\n",
       "      <th>A</th>\n",
       "      <th>B</th>\n",
       "      <th>C</th>\n",
       "    </tr>\n",
       "  </thead>\n",
       "  <tbody>\n",
       "    <tr>\n",
       "      <th>0</th>\n",
       "      <td>0.411611</td>\n",
       "      <td>-1.149591</td>\n",
       "      <td>1.702377</td>\n",
       "    </tr>\n",
       "    <tr>\n",
       "      <th>1</th>\n",
       "      <td>-1.094111</td>\n",
       "      <td>-0.823944</td>\n",
       "      <td>1.355576</td>\n",
       "    </tr>\n",
       "    <tr>\n",
       "      <th>2</th>\n",
       "      <td>-0.421896</td>\n",
       "      <td>0.406863</td>\n",
       "      <td>0.020997</td>\n",
       "    </tr>\n",
       "    <tr>\n",
       "      <th>3</th>\n",
       "      <td>-1.755119</td>\n",
       "      <td>-0.474278</td>\n",
       "      <td>-2.387165</td>\n",
       "    </tr>\n",
       "    <tr>\n",
       "      <th>4</th>\n",
       "      <td>-1.978347</td>\n",
       "      <td>1.343691</td>\n",
       "      <td>-1.078091</td>\n",
       "    </tr>\n",
       "  </tbody>\n",
       "</table>\n",
       "</div>"
      ],
      "text/plain": [
       "          A         B         C\n",
       "0  0.411611 -1.149591  1.702377\n",
       "1 -1.094111 -0.823944  1.355576\n",
       "2 -0.421896  0.406863  0.020997\n",
       "3 -1.755119 -0.474278 -2.387165\n",
       "4 -1.978347  1.343691 -1.078091"
      ]
     },
     "execution_count": 105,
     "metadata": {},
     "output_type": "execute_result"
    }
   ],
   "source": [
    "df1 = pd.DataFrame(np.random.randn(5, 3), columns = ['A', 'B', 'C'])\n",
    "df1"
   ]
  },
  {
   "cell_type": "code",
   "execution_count": 107,
   "id": "4ab31aad-8521-4f20-ba86-8765b631e4d7",
   "metadata": {},
   "outputs": [
    {
     "data": {
      "text/plain": [
       "(A    4\n",
       " B    0\n",
       " C    3\n",
       " dtype: int64,\n",
       " 0    C\n",
       " 1    C\n",
       " 2    B\n",
       " 3    B\n",
       " 4    B\n",
       " dtype: object)"
      ]
     },
     "execution_count": 107,
     "metadata": {},
     "output_type": "execute_result"
    }
   ],
   "source": [
    "df1.idxmin(), df1.idxmax(1)"
   ]
  },
  {
   "cell_type": "code",
   "execution_count": 113,
   "id": "390b7d35-f7f2-471d-99af-7ec98410f804",
   "metadata": {},
   "outputs": [
    {
     "name": "stdout",
     "output_type": "stream",
     "text": [
      "col1\n",
      "col2\n"
     ]
    }
   ],
   "source": [
    "df = pd.DataFrame({\n",
    "    'col1': np.random.randn(3),\n",
    "    'col2': np.random.rand(3)},\n",
    "    index = ['a', 'b', 'c']\n",
    ")\n",
    "\n",
    "for col in df:\n",
    "    print(col)"
   ]
  },
  {
   "cell_type": "code",
   "execution_count": 118,
   "id": "bf3b0317-4976-45fb-879e-be8c858e171a",
   "metadata": {},
   "outputs": [
    {
     "name": "stdout",
     "output_type": "stream",
     "text": [
      "a\n",
      "0    a\n",
      "1    b\n",
      "2    c\n",
      "Name: a, dtype: object\n",
      "b\n",
      "0    a\n",
      "1    b\n",
      "2    c\n",
      "Name: b, dtype: object\n"
     ]
    }
   ],
   "source": [
    "df = pd.DataFrame({\n",
    "    'a': ['a', 'b', 'c'],\n",
    "    'b': ['a', 'b', 'c']\n",
    "})\n",
    "for label, ser in df.items():\n",
    "    print(label)\n",
    "    print(ser)"
   ]
  },
  {
   "cell_type": "code",
   "execution_count": 121,
   "id": "6734e2e6-5a8b-4a2a-aa95-ee5ed1cfc3b6",
   "metadata": {},
   "outputs": [
    {
     "name": "stdout",
     "output_type": "stream",
     "text": [
      "0\n",
      "a    a\n",
      "b    a\n",
      "Name: 0, dtype: object\n",
      "1\n",
      "a    b\n",
      "b    b\n",
      "Name: 1, dtype: object\n",
      "2\n",
      "a    c\n",
      "b    c\n",
      "Name: 2, dtype: object\n"
     ]
    }
   ],
   "source": [
    "for row_index, row in df.iterrows():\n",
    "    print(row_index, row, sep = '\\n')"
   ]
  },
  {
   "cell_type": "code",
   "execution_count": 122,
   "id": "f01fba9b-c701-4023-b18b-9e50956fdbce",
   "metadata": {},
   "outputs": [
    {
     "name": "stdout",
     "output_type": "stream",
     "text": [
      "Pandas(Index=0, a='a', b='a')\n",
      "Pandas(Index=1, a='b', b='b')\n",
      "Pandas(Index=2, a='c', b='c')\n"
     ]
    }
   ],
   "source": [
    "for row in df.itertuples():\n",
    "    print(row)"
   ]
  }
 ],
 "metadata": {
  "kernelspec": {
   "display_name": "Python 3",
   "language": "python",
   "name": "python3"
  },
  "language_info": {
   "codemirror_mode": {
    "name": "ipython",
    "version": 3
   },
   "file_extension": ".py",
   "mimetype": "text/x-python",
   "name": "python",
   "nbconvert_exporter": "python",
   "pygments_lexer": "ipython3",
   "version": "3.8.5"
  }
 },
 "nbformat": 4,
 "nbformat_minor": 5
}
