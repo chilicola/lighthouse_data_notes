{
 "cells": [
  {
   "cell_type": "code",
   "execution_count": 1,
   "id": "8e64f754-98c2-4504-9811-a7191ce0d369",
   "metadata": {},
   "outputs": [],
   "source": [
    "import requests\n",
    "import pandas as pd\n",
    "# from pandas.io.json import json_normalize\n",
    "from config import *\n",
    "import sqlite3\n",
    "from sqlite3 import Error"
   ]
  },
  {
   "cell_type": "markdown",
   "id": "ad661fb4-d0f4-4985-a274-17aae8be034b",
   "metadata": {},
   "source": [
    "### Yelp"
   ]
  },
  {
   "cell_type": "code",
   "execution_count": 2,
   "id": "29091140-0795-456b-8750-93768c2536e9",
   "metadata": {},
   "outputs": [],
   "source": [
    "yelp_restaurant = requests.get('https://api.yelp.com/v3/businesses/search',\n",
    "            params = {\n",
    "                'location': 'Vancouver, BC',\n",
    "                'term': 'restaurants'},\n",
    "            headers = {'Authorization': f'Bearer {YELP_API}'})"
   ]
  },
  {
   "cell_type": "code",
   "execution_count": 3,
   "id": "08e948e2-203f-482d-86f2-7b0a25304808",
   "metadata": {},
   "outputs": [
    {
     "data": {
      "text/plain": [
       "200"
      ]
     },
     "execution_count": 3,
     "metadata": {},
     "output_type": "execute_result"
    }
   ],
   "source": [
    "yelp_restaurant.status_code"
   ]
  },
  {
   "cell_type": "code",
   "execution_count": 4,
   "id": "5c4720a1-7257-42de-a99a-ca9f5468244c",
   "metadata": {
    "scrolled": true,
    "tags": []
   },
   "outputs": [],
   "source": [
    "df_yelp = pd.json_normalize(yelp_restaurant.json(), 'businesses')\n",
    "df_yelp.to_csv('data/yelp_restaurants.csv')"
   ]
  },
  {
   "cell_type": "code",
   "execution_count": 5,
   "id": "eb8a48e8-6c37-45f8-bfad-472af0969895",
   "metadata": {},
   "outputs": [],
   "source": [
    "pop_yelp = df_yelp[['name', 'rating', 'review_count']]"
   ]
  },
  {
   "cell_type": "markdown",
   "id": "4d83c97a-b86a-4b22-8745-ae62c521c1bf",
   "metadata": {},
   "source": [
    "### Top 10 Ratings"
   ]
  },
  {
   "cell_type": "code",
   "execution_count": 6,
   "id": "10fb7061-e0b5-40e3-85c2-bf9edbd976de",
   "metadata": {
    "tags": []
   },
   "outputs": [
    {
     "data": {
      "text/html": [
       "<div>\n",
       "<style scoped>\n",
       "    .dataframe tbody tr th:only-of-type {\n",
       "        vertical-align: middle;\n",
       "    }\n",
       "\n",
       "    .dataframe tbody tr th {\n",
       "        vertical-align: top;\n",
       "    }\n",
       "\n",
       "    .dataframe thead th {\n",
       "        text-align: right;\n",
       "    }\n",
       "</style>\n",
       "<table border=\"1\" class=\"dataframe\">\n",
       "  <thead>\n",
       "    <tr style=\"text-align: right;\">\n",
       "      <th></th>\n",
       "      <th>name</th>\n",
       "      <th>rating</th>\n",
       "      <th>review_count</th>\n",
       "    </tr>\n",
       "  </thead>\n",
       "  <tbody>\n",
       "    <tr>\n",
       "      <th>0</th>\n",
       "      <td>Guu with Garlic</td>\n",
       "      <td>4.5</td>\n",
       "      <td>946</td>\n",
       "    </tr>\n",
       "    <tr>\n",
       "      <th>2</th>\n",
       "      <td>Saku Robson</td>\n",
       "      <td>4.5</td>\n",
       "      <td>214</td>\n",
       "    </tr>\n",
       "    <tr>\n",
       "      <th>4</th>\n",
       "      <td>Miku</td>\n",
       "      <td>4.5</td>\n",
       "      <td>1886</td>\n",
       "    </tr>\n",
       "    <tr>\n",
       "      <th>5</th>\n",
       "      <td>Fable Kitchen</td>\n",
       "      <td>4.5</td>\n",
       "      <td>693</td>\n",
       "    </tr>\n",
       "    <tr>\n",
       "      <th>6</th>\n",
       "      <td>Kingyo</td>\n",
       "      <td>4.5</td>\n",
       "      <td>889</td>\n",
       "    </tr>\n",
       "    <tr>\n",
       "      <th>7</th>\n",
       "      <td>Linh Cafe</td>\n",
       "      <td>4.5</td>\n",
       "      <td>17</td>\n",
       "    </tr>\n",
       "    <tr>\n",
       "      <th>1</th>\n",
       "      <td>The Flying Pig - Yaletown</td>\n",
       "      <td>4.0</td>\n",
       "      <td>1121</td>\n",
       "    </tr>\n",
       "    <tr>\n",
       "      <th>3</th>\n",
       "      <td>Saku Broadway</td>\n",
       "      <td>4.0</td>\n",
       "      <td>151</td>\n",
       "    </tr>\n",
       "    <tr>\n",
       "      <th>8</th>\n",
       "      <td>Phnom Penh</td>\n",
       "      <td>4.0</td>\n",
       "      <td>1355</td>\n",
       "    </tr>\n",
       "    <tr>\n",
       "      <th>9</th>\n",
       "      <td>Dinesty Dumpling House</td>\n",
       "      <td>4.0</td>\n",
       "      <td>805</td>\n",
       "    </tr>\n",
       "  </tbody>\n",
       "</table>\n",
       "</div>"
      ],
      "text/plain": [
       "                        name  rating  review_count\n",
       "0            Guu with Garlic     4.5           946\n",
       "2                Saku Robson     4.5           214\n",
       "4                       Miku     4.5          1886\n",
       "5              Fable Kitchen     4.5           693\n",
       "6                     Kingyo     4.5           889\n",
       "7                  Linh Cafe     4.5            17\n",
       "1  The Flying Pig - Yaletown     4.0          1121\n",
       "3              Saku Broadway     4.0           151\n",
       "8                 Phnom Penh     4.0          1355\n",
       "9     Dinesty Dumpling House     4.0           805"
      ]
     },
     "execution_count": 6,
     "metadata": {},
     "output_type": "execute_result"
    }
   ],
   "source": [
    "top10_rating_yelp = pop_yelp.head(10)\n",
    "top10_rating_yelp.sort_values('rating', ascending=False)"
   ]
  },
  {
   "cell_type": "markdown",
   "id": "b12219b2-6913-4ac0-b594-931d99d4d947",
   "metadata": {},
   "source": [
    "### Bottom 10 Ratings"
   ]
  },
  {
   "cell_type": "code",
   "execution_count": 7,
   "id": "e552d2a9-dabb-4896-8d53-211f19017bb5",
   "metadata": {},
   "outputs": [
    {
     "data": {
      "text/html": [
       "<div>\n",
       "<style scoped>\n",
       "    .dataframe tbody tr th:only-of-type {\n",
       "        vertical-align: middle;\n",
       "    }\n",
       "\n",
       "    .dataframe tbody tr th {\n",
       "        vertical-align: top;\n",
       "    }\n",
       "\n",
       "    .dataframe thead th {\n",
       "        text-align: right;\n",
       "    }\n",
       "</style>\n",
       "<table border=\"1\" class=\"dataframe\">\n",
       "  <thead>\n",
       "    <tr style=\"text-align: right;\">\n",
       "      <th></th>\n",
       "      <th>name</th>\n",
       "      <th>rating</th>\n",
       "      <th>review_count</th>\n",
       "    </tr>\n",
       "  </thead>\n",
       "  <tbody>\n",
       "    <tr>\n",
       "      <th>10</th>\n",
       "      <td>Fanny Bay Oyster Bar &amp; Shellfish Market</td>\n",
       "      <td>4.5</td>\n",
       "      <td>603</td>\n",
       "    </tr>\n",
       "    <tr>\n",
       "      <th>11</th>\n",
       "      <td>Kosoo</td>\n",
       "      <td>4.5</td>\n",
       "      <td>28</td>\n",
       "    </tr>\n",
       "    <tr>\n",
       "      <th>12</th>\n",
       "      <td>Blue Water Cafe</td>\n",
       "      <td>4.5</td>\n",
       "      <td>939</td>\n",
       "    </tr>\n",
       "    <tr>\n",
       "      <th>19</th>\n",
       "      <td>So Hyang Korean Cuisine</td>\n",
       "      <td>4.5</td>\n",
       "      <td>283</td>\n",
       "    </tr>\n",
       "    <tr>\n",
       "      <th>13</th>\n",
       "      <td>Chambar</td>\n",
       "      <td>4.0</td>\n",
       "      <td>1397</td>\n",
       "    </tr>\n",
       "    <tr>\n",
       "      <th>14</th>\n",
       "      <td>Twisted Fork</td>\n",
       "      <td>4.0</td>\n",
       "      <td>1052</td>\n",
       "    </tr>\n",
       "    <tr>\n",
       "      <th>15</th>\n",
       "      <td>The Flying Pig - Gastown</td>\n",
       "      <td>4.0</td>\n",
       "      <td>943</td>\n",
       "    </tr>\n",
       "    <tr>\n",
       "      <th>16</th>\n",
       "      <td>Kokoro Tokyo Mazesoba</td>\n",
       "      <td>4.0</td>\n",
       "      <td>370</td>\n",
       "    </tr>\n",
       "    <tr>\n",
       "      <th>17</th>\n",
       "      <td>Medina Cafe</td>\n",
       "      <td>4.0</td>\n",
       "      <td>2365</td>\n",
       "    </tr>\n",
       "    <tr>\n",
       "      <th>18</th>\n",
       "      <td>Forage</td>\n",
       "      <td>4.0</td>\n",
       "      <td>645</td>\n",
       "    </tr>\n",
       "  </tbody>\n",
       "</table>\n",
       "</div>"
      ],
      "text/plain": [
       "                                       name  rating  review_count\n",
       "10  Fanny Bay Oyster Bar & Shellfish Market     4.5           603\n",
       "11                                    Kosoo     4.5            28\n",
       "12                          Blue Water Cafe     4.5           939\n",
       "19                  So Hyang Korean Cuisine     4.5           283\n",
       "13                                  Chambar     4.0          1397\n",
       "14                             Twisted Fork     4.0          1052\n",
       "15                 The Flying Pig - Gastown     4.0           943\n",
       "16                    Kokoro Tokyo Mazesoba     4.0           370\n",
       "17                              Medina Cafe     4.0          2365\n",
       "18                                   Forage     4.0           645"
      ]
     },
     "execution_count": 7,
     "metadata": {},
     "output_type": "execute_result"
    }
   ],
   "source": [
    "bot10_rating_yelp = pop_yelp.tail(10)\n",
    "bot10_rating_yelp.sort_values('rating', ascending=False)"
   ]
  },
  {
   "cell_type": "markdown",
   "id": "6656751e-8115-42f3-9052-5f7ca68a3afc",
   "metadata": {},
   "source": [
    "### Summary"
   ]
  },
  {
   "cell_type": "code",
   "execution_count": 8,
   "id": "4378b5a7-014d-4ade-9f45-e4caab8ad857",
   "metadata": {},
   "outputs": [
    {
     "data": {
      "text/html": [
       "<div>\n",
       "<style scoped>\n",
       "    .dataframe tbody tr th:only-of-type {\n",
       "        vertical-align: middle;\n",
       "    }\n",
       "\n",
       "    .dataframe tbody tr th {\n",
       "        vertical-align: top;\n",
       "    }\n",
       "\n",
       "    .dataframe thead th {\n",
       "        text-align: right;\n",
       "    }\n",
       "</style>\n",
       "<table border=\"1\" class=\"dataframe\">\n",
       "  <thead>\n",
       "    <tr style=\"text-align: right;\">\n",
       "      <th></th>\n",
       "      <th>rating</th>\n",
       "      <th>review_count</th>\n",
       "    </tr>\n",
       "  </thead>\n",
       "  <tbody>\n",
       "    <tr>\n",
       "      <th>count</th>\n",
       "      <td>20.000000</td>\n",
       "      <td>20.000000</td>\n",
       "    </tr>\n",
       "    <tr>\n",
       "      <th>mean</th>\n",
       "      <td>4.250000</td>\n",
       "      <td>835.100000</td>\n",
       "    </tr>\n",
       "    <tr>\n",
       "      <th>std</th>\n",
       "      <td>0.256495</td>\n",
       "      <td>607.156175</td>\n",
       "    </tr>\n",
       "    <tr>\n",
       "      <th>min</th>\n",
       "      <td>4.000000</td>\n",
       "      <td>17.000000</td>\n",
       "    </tr>\n",
       "    <tr>\n",
       "      <th>25%</th>\n",
       "      <td>4.000000</td>\n",
       "      <td>348.250000</td>\n",
       "    </tr>\n",
       "    <tr>\n",
       "      <th>50%</th>\n",
       "      <td>4.250000</td>\n",
       "      <td>847.000000</td>\n",
       "    </tr>\n",
       "    <tr>\n",
       "      <th>75%</th>\n",
       "      <td>4.500000</td>\n",
       "      <td>1069.250000</td>\n",
       "    </tr>\n",
       "    <tr>\n",
       "      <th>max</th>\n",
       "      <td>4.500000</td>\n",
       "      <td>2365.000000</td>\n",
       "    </tr>\n",
       "  </tbody>\n",
       "</table>\n",
       "</div>"
      ],
      "text/plain": [
       "          rating  review_count\n",
       "count  20.000000     20.000000\n",
       "mean    4.250000    835.100000\n",
       "std     0.256495    607.156175\n",
       "min     4.000000     17.000000\n",
       "25%     4.000000    348.250000\n",
       "50%     4.250000    847.000000\n",
       "75%     4.500000   1069.250000\n",
       "max     4.500000   2365.000000"
      ]
     },
     "execution_count": 8,
     "metadata": {},
     "output_type": "execute_result"
    }
   ],
   "source": [
    "pop_yelp.describe()"
   ]
  },
  {
   "cell_type": "markdown",
   "id": "e3209427-9320-476e-bd07-af9d8b2adc2c",
   "metadata": {},
   "source": [
    "### Top 10 Reviews"
   ]
  },
  {
   "cell_type": "code",
   "execution_count": 9,
   "id": "91b12d51-8849-419d-9d23-fde0ca99fab4",
   "metadata": {},
   "outputs": [
    {
     "data": {
      "text/html": [
       "<div>\n",
       "<style scoped>\n",
       "    .dataframe tbody tr th:only-of-type {\n",
       "        vertical-align: middle;\n",
       "    }\n",
       "\n",
       "    .dataframe tbody tr th {\n",
       "        vertical-align: top;\n",
       "    }\n",
       "\n",
       "    .dataframe thead th {\n",
       "        text-align: right;\n",
       "    }\n",
       "</style>\n",
       "<table border=\"1\" class=\"dataframe\">\n",
       "  <thead>\n",
       "    <tr style=\"text-align: right;\">\n",
       "      <th></th>\n",
       "      <th>name</th>\n",
       "      <th>rating</th>\n",
       "      <th>review_count</th>\n",
       "    </tr>\n",
       "  </thead>\n",
       "  <tbody>\n",
       "    <tr>\n",
       "      <th>4</th>\n",
       "      <td>Miku</td>\n",
       "      <td>4.5</td>\n",
       "      <td>1886</td>\n",
       "    </tr>\n",
       "    <tr>\n",
       "      <th>8</th>\n",
       "      <td>Phnom Penh</td>\n",
       "      <td>4.0</td>\n",
       "      <td>1355</td>\n",
       "    </tr>\n",
       "    <tr>\n",
       "      <th>1</th>\n",
       "      <td>The Flying Pig - Yaletown</td>\n",
       "      <td>4.0</td>\n",
       "      <td>1121</td>\n",
       "    </tr>\n",
       "    <tr>\n",
       "      <th>0</th>\n",
       "      <td>Guu with Garlic</td>\n",
       "      <td>4.5</td>\n",
       "      <td>946</td>\n",
       "    </tr>\n",
       "    <tr>\n",
       "      <th>6</th>\n",
       "      <td>Kingyo</td>\n",
       "      <td>4.5</td>\n",
       "      <td>889</td>\n",
       "    </tr>\n",
       "    <tr>\n",
       "      <th>9</th>\n",
       "      <td>Dinesty Dumpling House</td>\n",
       "      <td>4.0</td>\n",
       "      <td>805</td>\n",
       "    </tr>\n",
       "    <tr>\n",
       "      <th>5</th>\n",
       "      <td>Fable Kitchen</td>\n",
       "      <td>4.5</td>\n",
       "      <td>693</td>\n",
       "    </tr>\n",
       "    <tr>\n",
       "      <th>2</th>\n",
       "      <td>Saku Robson</td>\n",
       "      <td>4.5</td>\n",
       "      <td>214</td>\n",
       "    </tr>\n",
       "    <tr>\n",
       "      <th>3</th>\n",
       "      <td>Saku Broadway</td>\n",
       "      <td>4.0</td>\n",
       "      <td>151</td>\n",
       "    </tr>\n",
       "    <tr>\n",
       "      <th>7</th>\n",
       "      <td>Linh Cafe</td>\n",
       "      <td>4.5</td>\n",
       "      <td>17</td>\n",
       "    </tr>\n",
       "  </tbody>\n",
       "</table>\n",
       "</div>"
      ],
      "text/plain": [
       "                        name  rating  review_count\n",
       "4                       Miku     4.5          1886\n",
       "8                 Phnom Penh     4.0          1355\n",
       "1  The Flying Pig - Yaletown     4.0          1121\n",
       "0            Guu with Garlic     4.5           946\n",
       "6                     Kingyo     4.5           889\n",
       "9     Dinesty Dumpling House     4.0           805\n",
       "5              Fable Kitchen     4.5           693\n",
       "2                Saku Robson     4.5           214\n",
       "3              Saku Broadway     4.0           151\n",
       "7                  Linh Cafe     4.5            17"
      ]
     },
     "execution_count": 9,
     "metadata": {},
     "output_type": "execute_result"
    }
   ],
   "source": [
    "top10_review_yelp = pop_yelp.head(10)\n",
    "top10_review_yelp.sort_values('review_count', ascending = False)"
   ]
  },
  {
   "cell_type": "markdown",
   "id": "f9a37c12-69eb-4f44-858c-6e9120da9f1c",
   "metadata": {},
   "source": [
    "### Bottom 10 Reviews"
   ]
  },
  {
   "cell_type": "code",
   "execution_count": 10,
   "id": "09780791-ced2-4747-bee5-c61aa26f0a5b",
   "metadata": {},
   "outputs": [
    {
     "data": {
      "text/html": [
       "<div>\n",
       "<style scoped>\n",
       "    .dataframe tbody tr th:only-of-type {\n",
       "        vertical-align: middle;\n",
       "    }\n",
       "\n",
       "    .dataframe tbody tr th {\n",
       "        vertical-align: top;\n",
       "    }\n",
       "\n",
       "    .dataframe thead th {\n",
       "        text-align: right;\n",
       "    }\n",
       "</style>\n",
       "<table border=\"1\" class=\"dataframe\">\n",
       "  <thead>\n",
       "    <tr style=\"text-align: right;\">\n",
       "      <th></th>\n",
       "      <th>name</th>\n",
       "      <th>rating</th>\n",
       "      <th>review_count</th>\n",
       "    </tr>\n",
       "  </thead>\n",
       "  <tbody>\n",
       "    <tr>\n",
       "      <th>11</th>\n",
       "      <td>Kosoo</td>\n",
       "      <td>4.5</td>\n",
       "      <td>28</td>\n",
       "    </tr>\n",
       "    <tr>\n",
       "      <th>19</th>\n",
       "      <td>So Hyang Korean Cuisine</td>\n",
       "      <td>4.5</td>\n",
       "      <td>283</td>\n",
       "    </tr>\n",
       "    <tr>\n",
       "      <th>16</th>\n",
       "      <td>Kokoro Tokyo Mazesoba</td>\n",
       "      <td>4.0</td>\n",
       "      <td>370</td>\n",
       "    </tr>\n",
       "    <tr>\n",
       "      <th>10</th>\n",
       "      <td>Fanny Bay Oyster Bar &amp; Shellfish Market</td>\n",
       "      <td>4.5</td>\n",
       "      <td>603</td>\n",
       "    </tr>\n",
       "    <tr>\n",
       "      <th>18</th>\n",
       "      <td>Forage</td>\n",
       "      <td>4.0</td>\n",
       "      <td>645</td>\n",
       "    </tr>\n",
       "    <tr>\n",
       "      <th>12</th>\n",
       "      <td>Blue Water Cafe</td>\n",
       "      <td>4.5</td>\n",
       "      <td>939</td>\n",
       "    </tr>\n",
       "    <tr>\n",
       "      <th>15</th>\n",
       "      <td>The Flying Pig - Gastown</td>\n",
       "      <td>4.0</td>\n",
       "      <td>943</td>\n",
       "    </tr>\n",
       "    <tr>\n",
       "      <th>14</th>\n",
       "      <td>Twisted Fork</td>\n",
       "      <td>4.0</td>\n",
       "      <td>1052</td>\n",
       "    </tr>\n",
       "    <tr>\n",
       "      <th>13</th>\n",
       "      <td>Chambar</td>\n",
       "      <td>4.0</td>\n",
       "      <td>1397</td>\n",
       "    </tr>\n",
       "    <tr>\n",
       "      <th>17</th>\n",
       "      <td>Medina Cafe</td>\n",
       "      <td>4.0</td>\n",
       "      <td>2365</td>\n",
       "    </tr>\n",
       "  </tbody>\n",
       "</table>\n",
       "</div>"
      ],
      "text/plain": [
       "                                       name  rating  review_count\n",
       "11                                    Kosoo     4.5            28\n",
       "19                  So Hyang Korean Cuisine     4.5           283\n",
       "16                    Kokoro Tokyo Mazesoba     4.0           370\n",
       "10  Fanny Bay Oyster Bar & Shellfish Market     4.5           603\n",
       "18                                   Forage     4.0           645\n",
       "12                          Blue Water Cafe     4.5           939\n",
       "15                 The Flying Pig - Gastown     4.0           943\n",
       "14                             Twisted Fork     4.0          1052\n",
       "13                                  Chambar     4.0          1397\n",
       "17                              Medina Cafe     4.0          2365"
      ]
     },
     "execution_count": 10,
     "metadata": {},
     "output_type": "execute_result"
    }
   ],
   "source": [
    "bot10_review_yelp = pop_yelp.tail(10)\n",
    "bot10_review_yelp.sort_values('review_count')"
   ]
  },
  {
   "cell_type": "markdown",
   "id": "45b4416d-cf3c-4d77-acf1-ca66311b7b3e",
   "metadata": {},
   "source": [
    "### FourSquare"
   ]
  },
  {
   "cell_type": "code",
   "execution_count": 11,
   "id": "0b121b7d-89c5-4183-bbe0-686b3ae689da",
   "metadata": {},
   "outputs": [],
   "source": [
    "fsq_restaurant = requests.get('https://api.foursquare.com/v3/places/search',\n",
    "                              params = {\n",
    "                                  'near': 'Vancouver, BC',\n",
    "                                  'categories': '13065',\n",
    "                                  'limit': 50\n",
    "                              },\n",
    "                              headers = {\n",
    "                                  'Accept': 'application/json',\n",
    "                                  'Authorization': 'fsq3NBY1z05TqyRLxaFXhEmuBXlW4C+oCQ8jFzDNErgRGfs='\n",
    "                              })"
   ]
  },
  {
   "cell_type": "code",
   "execution_count": 12,
   "id": "ffb8cb5e-8da8-45c7-9184-3919be335d67",
   "metadata": {},
   "outputs": [
    {
     "data": {
      "text/plain": [
       "200"
      ]
     },
     "execution_count": 12,
     "metadata": {},
     "output_type": "execute_result"
    }
   ],
   "source": [
    "fsq_restaurant.status_code"
   ]
  },
  {
   "cell_type": "code",
   "execution_count": 13,
   "id": "fb6cb2ec-c866-421d-b49c-a8a6bf674c89",
   "metadata": {},
   "outputs": [],
   "source": [
    "df_fsq = pd.json_normalize(fsq_restaurant.json(), 'results')\n",
    "df_fsq.to_csv('data/fsq_restaurant.csv')"
   ]
  },
  {
   "cell_type": "markdown",
   "id": "051ff1ce-6298-4787-9623-c41737882206",
   "metadata": {},
   "source": [
    "## SQL"
   ]
  },
  {
   "cell_type": "code",
   "execution_count": 15,
   "id": "17308a16-81fe-4726-9c42-82bf20499711",
   "metadata": {},
   "outputs": [],
   "source": [
    "# create and connect to database\n",
    "def create_connection(path):\n",
    "    try:\n",
    "        connection = sqlite3.connect(path)\n",
    "        print('Connection to SQLite DB successful')\n",
    "    except Error as e:\n",
    "        print(f'The error \"{e}\" occurred')\n",
    "    return connection\n",
    "\n",
    "# execute customized query\n",
    "def execute_query(connection, query):\n",
    "    cursor = connection.cursor()\n",
    "    try:\n",
    "        cursor.execute(query)\n",
    "        connection.commit()\n",
    "        print('Query executed successfully')\n",
    "    except Error as e:\n",
    "        print(f'The error {e} occurred')"
   ]
  },
  {
   "cell_type": "code",
   "execution_count": 17,
   "id": "818095f9-1396-44b8-9145-8571d31e9efe",
   "metadata": {},
   "outputs": [],
   "source": [
    "create_restaurant_table = '''\n",
    "CREATE TABLE IF NOT EXISTS restaurant (\n",
    "    id INTEGER PRIMARY KEY AUTOINCREMENT,\n",
    "    name TEXT NOT NULL,\n",
    "    review_count INTEGER,\n",
    "    rating FLOAT,\n",
    "    address_1 TEXT,\n",
    "    address_2 TEXT,\n",
    "    city TEXT,\n",
    "    postal_code TEXT)\n",
    "'''"
   ]
  },
  {
   "cell_type": "code",
   "execution_count": 16,
   "id": "d65bfbaf-7b65-42c8-b8cd-afb52a2df73b",
   "metadata": {},
   "outputs": [
    {
     "name": "stdout",
     "output_type": "stream",
     "text": [
      "Connection to SQLite DB successful\n"
     ]
    }
   ],
   "source": [
    "# create connection\n",
    "connection = create_connection(\"lhl_project_2.sqlite\")"
   ]
  },
  {
   "cell_type": "code",
   "execution_count": 18,
   "id": "afcd2c2c-bfa2-4e0b-83a2-881eca08de12",
   "metadata": {},
   "outputs": [
    {
     "name": "stdout",
     "output_type": "stream",
     "text": [
      "Query executed successfully\n"
     ]
    }
   ],
   "source": [
    "execute_query(connection, create_restaurant_table)"
   ]
  }
 ],
 "metadata": {
  "kernelspec": {
   "display_name": "Python 3",
   "language": "python",
   "name": "python3"
  },
  "language_info": {
   "codemirror_mode": {
    "name": "ipython",
    "version": 3
   },
   "file_extension": ".py",
   "mimetype": "text/x-python",
   "name": "python",
   "nbconvert_exporter": "python",
   "pygments_lexer": "ipython3",
   "version": "3.8.8"
  }
 },
 "nbformat": 4,
 "nbformat_minor": 5
}
