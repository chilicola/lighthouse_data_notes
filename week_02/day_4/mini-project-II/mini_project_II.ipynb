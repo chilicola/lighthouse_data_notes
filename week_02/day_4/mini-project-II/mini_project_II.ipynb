{
 "cells": [
  {
   "cell_type": "code",
   "execution_count": 1,
   "id": "8e64f754-98c2-4504-9811-a7191ce0d369",
   "metadata": {},
   "outputs": [],
   "source": [
    "import requests\n",
    "import pandas as pd\n",
    "# from pandas.io.json import json_normalize\n",
    "from config import *\n",
    "import sqlite3\n",
    "from sqlite3 import Error"
   ]
  },
  {
   "cell_type": "markdown",
   "id": "ad661fb4-d0f4-4985-a274-17aae8be034b",
   "metadata": {},
   "source": [
    "### Yelp"
   ]
  },
  {
   "cell_type": "code",
   "execution_count": 2,
   "id": "29091140-0795-456b-8750-93768c2536e9",
   "metadata": {},
   "outputs": [],
   "source": [
    "yelp_restaurant = requests.get('https://api.yelp.com/v3/businesses/search',\n",
    "            params = {\n",
    "                'location': 'Vancouver, BC',\n",
    "                'term': 'restaurants'},\n",
    "            headers = {'Authorization': f'Bearer {YELP_API}'})"
   ]
  },
  {
   "cell_type": "code",
   "execution_count": 3,
   "id": "08e948e2-203f-482d-86f2-7b0a25304808",
   "metadata": {},
   "outputs": [
    {
     "data": {
      "text/plain": [
       "200"
      ]
     },
     "execution_count": 3,
     "metadata": {},
     "output_type": "execute_result"
    }
   ],
   "source": [
    "yelp_restaurant.status_code"
   ]
  },
  {
   "cell_type": "markdown",
   "id": "38c7c767-7e9f-4662-8cca-c23ade2d6891",
   "metadata": {},
   "source": [
    "### Yelp"
   ]
  },
  {
   "cell_type": "code",
   "execution_count": 51,
   "id": "5c4720a1-7257-42de-a99a-ca9f5468244c",
   "metadata": {
    "scrolled": true,
    "tags": []
   },
   "outputs": [],
   "source": [
    "df_yelp = pd.json_normalize(yelp_restaurant.json(), 'businesses')\n",
    "df_yelp.to_csv('data/yelp_restaurants.csv')"
   ]
  },
  {
   "cell_type": "code",
   "execution_count": 62,
   "id": "eb8a48e8-6c37-45f8-bfad-472af0969895",
   "metadata": {},
   "outputs": [],
   "source": [
    "pop_yelp = df_yelp[['name', 'rating', 'review_count']]"
   ]
  },
  {
   "cell_type": "markdown",
   "id": "4d83c97a-b86a-4b22-8745-ae62c521c1bf",
   "metadata": {},
   "source": [
    "### Top 10 Ratings"
   ]
  },
  {
   "cell_type": "code",
   "execution_count": 63,
   "id": "10fb7061-e0b5-40e3-85c2-bf9edbd976de",
   "metadata": {
    "tags": []
   },
   "outputs": [
    {
     "data": {
      "text/html": [
       "<div>\n",
       "<style scoped>\n",
       "    .dataframe tbody tr th:only-of-type {\n",
       "        vertical-align: middle;\n",
       "    }\n",
       "\n",
       "    .dataframe tbody tr th {\n",
       "        vertical-align: top;\n",
       "    }\n",
       "\n",
       "    .dataframe thead th {\n",
       "        text-align: right;\n",
       "    }\n",
       "</style>\n",
       "<table border=\"1\" class=\"dataframe\">\n",
       "  <thead>\n",
       "    <tr style=\"text-align: right;\">\n",
       "      <th></th>\n",
       "      <th>name</th>\n",
       "      <th>rating</th>\n",
       "      <th>review_count</th>\n",
       "    </tr>\n",
       "  </thead>\n",
       "  <tbody>\n",
       "    <tr>\n",
       "      <th>0</th>\n",
       "      <td>Miku</td>\n",
       "      <td>4.5</td>\n",
       "      <td>1883</td>\n",
       "    </tr>\n",
       "    <tr>\n",
       "      <th>1</th>\n",
       "      <td>Fable Kitchen</td>\n",
       "      <td>4.5</td>\n",
       "      <td>693</td>\n",
       "    </tr>\n",
       "    <tr>\n",
       "      <th>2</th>\n",
       "      <td>Kingyo</td>\n",
       "      <td>4.5</td>\n",
       "      <td>888</td>\n",
       "    </tr>\n",
       "    <tr>\n",
       "      <th>4</th>\n",
       "      <td>Guu with Garlic</td>\n",
       "      <td>4.5</td>\n",
       "      <td>946</td>\n",
       "    </tr>\n",
       "    <tr>\n",
       "      <th>6</th>\n",
       "      <td>Saku Robson</td>\n",
       "      <td>4.5</td>\n",
       "      <td>214</td>\n",
       "    </tr>\n",
       "    <tr>\n",
       "      <th>8</th>\n",
       "      <td>Blue Water Cafe</td>\n",
       "      <td>4.5</td>\n",
       "      <td>939</td>\n",
       "    </tr>\n",
       "    <tr>\n",
       "      <th>9</th>\n",
       "      <td>Kosoo</td>\n",
       "      <td>4.5</td>\n",
       "      <td>27</td>\n",
       "    </tr>\n",
       "    <tr>\n",
       "      <th>3</th>\n",
       "      <td>The Flying Pig - Yaletown</td>\n",
       "      <td>4.0</td>\n",
       "      <td>1120</td>\n",
       "    </tr>\n",
       "    <tr>\n",
       "      <th>5</th>\n",
       "      <td>Dinesty Dumpling House</td>\n",
       "      <td>4.0</td>\n",
       "      <td>805</td>\n",
       "    </tr>\n",
       "    <tr>\n",
       "      <th>7</th>\n",
       "      <td>Saku Broadway</td>\n",
       "      <td>4.0</td>\n",
       "      <td>150</td>\n",
       "    </tr>\n",
       "  </tbody>\n",
       "</table>\n",
       "</div>"
      ],
      "text/plain": [
       "                        name  rating  review_count\n",
       "0                       Miku     4.5          1883\n",
       "1              Fable Kitchen     4.5           693\n",
       "2                     Kingyo     4.5           888\n",
       "4            Guu with Garlic     4.5           946\n",
       "6                Saku Robson     4.5           214\n",
       "8            Blue Water Cafe     4.5           939\n",
       "9                      Kosoo     4.5            27\n",
       "3  The Flying Pig - Yaletown     4.0          1120\n",
       "5     Dinesty Dumpling House     4.0           805\n",
       "7              Saku Broadway     4.0           150"
      ]
     },
     "execution_count": 63,
     "metadata": {},
     "output_type": "execute_result"
    }
   ],
   "source": [
    "top10_rating_yelp = pop_yelp.head(10)\n",
    "top10_rating_yelp.sort_values('rating', ascending=False)"
   ]
  },
  {
   "cell_type": "markdown",
   "id": "b12219b2-6913-4ac0-b594-931d99d4d947",
   "metadata": {},
   "source": [
    "### Bottom 10 Ratings"
   ]
  },
  {
   "cell_type": "code",
   "execution_count": 64,
   "id": "e552d2a9-dabb-4896-8d53-211f19017bb5",
   "metadata": {},
   "outputs": [
    {
     "data": {
      "text/html": [
       "<div>\n",
       "<style scoped>\n",
       "    .dataframe tbody tr th:only-of-type {\n",
       "        vertical-align: middle;\n",
       "    }\n",
       "\n",
       "    .dataframe tbody tr th {\n",
       "        vertical-align: top;\n",
       "    }\n",
       "\n",
       "    .dataframe thead th {\n",
       "        text-align: right;\n",
       "    }\n",
       "</style>\n",
       "<table border=\"1\" class=\"dataframe\">\n",
       "  <thead>\n",
       "    <tr style=\"text-align: right;\">\n",
       "      <th></th>\n",
       "      <th>name</th>\n",
       "      <th>rating</th>\n",
       "      <th>review_count</th>\n",
       "    </tr>\n",
       "  </thead>\n",
       "  <tbody>\n",
       "    <tr>\n",
       "      <th>13</th>\n",
       "      <td>Fanny Bay Oyster Bar &amp; Shellfish Market</td>\n",
       "      <td>4.5</td>\n",
       "      <td>603</td>\n",
       "    </tr>\n",
       "    <tr>\n",
       "      <th>15</th>\n",
       "      <td>Linh Cafe</td>\n",
       "      <td>4.5</td>\n",
       "      <td>17</td>\n",
       "    </tr>\n",
       "    <tr>\n",
       "      <th>17</th>\n",
       "      <td>Jam Cafe on Beatty</td>\n",
       "      <td>4.5</td>\n",
       "      <td>1146</td>\n",
       "    </tr>\n",
       "    <tr>\n",
       "      <th>19</th>\n",
       "      <td>So Hyang Korean Cuisine</td>\n",
       "      <td>4.5</td>\n",
       "      <td>284</td>\n",
       "    </tr>\n",
       "    <tr>\n",
       "      <th>10</th>\n",
       "      <td>Phnom Penh</td>\n",
       "      <td>4.0</td>\n",
       "      <td>1356</td>\n",
       "    </tr>\n",
       "    <tr>\n",
       "      <th>11</th>\n",
       "      <td>Chambar</td>\n",
       "      <td>4.0</td>\n",
       "      <td>1396</td>\n",
       "    </tr>\n",
       "    <tr>\n",
       "      <th>12</th>\n",
       "      <td>Medina Cafe</td>\n",
       "      <td>4.0</td>\n",
       "      <td>2364</td>\n",
       "    </tr>\n",
       "    <tr>\n",
       "      <th>14</th>\n",
       "      <td>Twisted Fork</td>\n",
       "      <td>4.0</td>\n",
       "      <td>1052</td>\n",
       "    </tr>\n",
       "    <tr>\n",
       "      <th>16</th>\n",
       "      <td>The Flying Pig - Gastown</td>\n",
       "      <td>4.0</td>\n",
       "      <td>943</td>\n",
       "    </tr>\n",
       "    <tr>\n",
       "      <th>18</th>\n",
       "      <td>Forage</td>\n",
       "      <td>4.0</td>\n",
       "      <td>645</td>\n",
       "    </tr>\n",
       "  </tbody>\n",
       "</table>\n",
       "</div>"
      ],
      "text/plain": [
       "                                       name  rating  review_count\n",
       "13  Fanny Bay Oyster Bar & Shellfish Market     4.5           603\n",
       "15                                Linh Cafe     4.5            17\n",
       "17                       Jam Cafe on Beatty     4.5          1146\n",
       "19                  So Hyang Korean Cuisine     4.5           284\n",
       "10                               Phnom Penh     4.0          1356\n",
       "11                                  Chambar     4.0          1396\n",
       "12                              Medina Cafe     4.0          2364\n",
       "14                             Twisted Fork     4.0          1052\n",
       "16                 The Flying Pig - Gastown     4.0           943\n",
       "18                                   Forage     4.0           645"
      ]
     },
     "execution_count": 64,
     "metadata": {},
     "output_type": "execute_result"
    }
   ],
   "source": [
    "bot10_rating_yelp = pop_yelp.tail(10)\n",
    "bot10_rating_yelp.sort_values('rating', ascending=False)"
   ]
  },
  {
   "cell_type": "markdown",
   "id": "6656751e-8115-42f3-9052-5f7ca68a3afc",
   "metadata": {},
   "source": [
    "### Summary"
   ]
  },
  {
   "cell_type": "code",
   "execution_count": 65,
   "id": "4378b5a7-014d-4ade-9f45-e4caab8ad857",
   "metadata": {},
   "outputs": [
    {
     "data": {
      "text/html": [
       "<div>\n",
       "<style scoped>\n",
       "    .dataframe tbody tr th:only-of-type {\n",
       "        vertical-align: middle;\n",
       "    }\n",
       "\n",
       "    .dataframe tbody tr th {\n",
       "        vertical-align: top;\n",
       "    }\n",
       "\n",
       "    .dataframe thead th {\n",
       "        text-align: right;\n",
       "    }\n",
       "</style>\n",
       "<table border=\"1\" class=\"dataframe\">\n",
       "  <thead>\n",
       "    <tr style=\"text-align: right;\">\n",
       "      <th></th>\n",
       "      <th>rating</th>\n",
       "      <th>review_count</th>\n",
       "    </tr>\n",
       "  </thead>\n",
       "  <tbody>\n",
       "    <tr>\n",
       "      <th>count</th>\n",
       "      <td>20.000000</td>\n",
       "      <td>20.000000</td>\n",
       "    </tr>\n",
       "    <tr>\n",
       "      <th>mean</th>\n",
       "      <td>4.275000</td>\n",
       "      <td>873.550000</td>\n",
       "    </tr>\n",
       "    <tr>\n",
       "      <th>std</th>\n",
       "      <td>0.255209</td>\n",
       "      <td>600.292602</td>\n",
       "    </tr>\n",
       "    <tr>\n",
       "      <th>min</th>\n",
       "      <td>4.000000</td>\n",
       "      <td>17.000000</td>\n",
       "    </tr>\n",
       "    <tr>\n",
       "      <th>25%</th>\n",
       "      <td>4.000000</td>\n",
       "      <td>523.250000</td>\n",
       "    </tr>\n",
       "    <tr>\n",
       "      <th>50%</th>\n",
       "      <td>4.500000</td>\n",
       "      <td>913.500000</td>\n",
       "    </tr>\n",
       "    <tr>\n",
       "      <th>75%</th>\n",
       "      <td>4.500000</td>\n",
       "      <td>1126.500000</td>\n",
       "    </tr>\n",
       "    <tr>\n",
       "      <th>max</th>\n",
       "      <td>4.500000</td>\n",
       "      <td>2364.000000</td>\n",
       "    </tr>\n",
       "  </tbody>\n",
       "</table>\n",
       "</div>"
      ],
      "text/plain": [
       "          rating  review_count\n",
       "count  20.000000     20.000000\n",
       "mean    4.275000    873.550000\n",
       "std     0.255209    600.292602\n",
       "min     4.000000     17.000000\n",
       "25%     4.000000    523.250000\n",
       "50%     4.500000    913.500000\n",
       "75%     4.500000   1126.500000\n",
       "max     4.500000   2364.000000"
      ]
     },
     "execution_count": 65,
     "metadata": {},
     "output_type": "execute_result"
    }
   ],
   "source": [
    "pop_yelp.describe()"
   ]
  },
  {
   "cell_type": "markdown",
   "id": "e3209427-9320-476e-bd07-af9d8b2adc2c",
   "metadata": {},
   "source": [
    "### Top 10 Reviews"
   ]
  },
  {
   "cell_type": "code",
   "execution_count": 66,
   "id": "91b12d51-8849-419d-9d23-fde0ca99fab4",
   "metadata": {},
   "outputs": [
    {
     "data": {
      "text/html": [
       "<div>\n",
       "<style scoped>\n",
       "    .dataframe tbody tr th:only-of-type {\n",
       "        vertical-align: middle;\n",
       "    }\n",
       "\n",
       "    .dataframe tbody tr th {\n",
       "        vertical-align: top;\n",
       "    }\n",
       "\n",
       "    .dataframe thead th {\n",
       "        text-align: right;\n",
       "    }\n",
       "</style>\n",
       "<table border=\"1\" class=\"dataframe\">\n",
       "  <thead>\n",
       "    <tr style=\"text-align: right;\">\n",
       "      <th></th>\n",
       "      <th>name</th>\n",
       "      <th>rating</th>\n",
       "      <th>review_count</th>\n",
       "    </tr>\n",
       "  </thead>\n",
       "  <tbody>\n",
       "    <tr>\n",
       "      <th>0</th>\n",
       "      <td>Miku</td>\n",
       "      <td>4.5</td>\n",
       "      <td>1883</td>\n",
       "    </tr>\n",
       "    <tr>\n",
       "      <th>3</th>\n",
       "      <td>The Flying Pig - Yaletown</td>\n",
       "      <td>4.0</td>\n",
       "      <td>1120</td>\n",
       "    </tr>\n",
       "    <tr>\n",
       "      <th>4</th>\n",
       "      <td>Guu with Garlic</td>\n",
       "      <td>4.5</td>\n",
       "      <td>946</td>\n",
       "    </tr>\n",
       "    <tr>\n",
       "      <th>8</th>\n",
       "      <td>Blue Water Cafe</td>\n",
       "      <td>4.5</td>\n",
       "      <td>939</td>\n",
       "    </tr>\n",
       "    <tr>\n",
       "      <th>2</th>\n",
       "      <td>Kingyo</td>\n",
       "      <td>4.5</td>\n",
       "      <td>888</td>\n",
       "    </tr>\n",
       "    <tr>\n",
       "      <th>5</th>\n",
       "      <td>Dinesty Dumpling House</td>\n",
       "      <td>4.0</td>\n",
       "      <td>805</td>\n",
       "    </tr>\n",
       "    <tr>\n",
       "      <th>1</th>\n",
       "      <td>Fable Kitchen</td>\n",
       "      <td>4.5</td>\n",
       "      <td>693</td>\n",
       "    </tr>\n",
       "    <tr>\n",
       "      <th>6</th>\n",
       "      <td>Saku Robson</td>\n",
       "      <td>4.5</td>\n",
       "      <td>214</td>\n",
       "    </tr>\n",
       "    <tr>\n",
       "      <th>7</th>\n",
       "      <td>Saku Broadway</td>\n",
       "      <td>4.0</td>\n",
       "      <td>150</td>\n",
       "    </tr>\n",
       "    <tr>\n",
       "      <th>9</th>\n",
       "      <td>Kosoo</td>\n",
       "      <td>4.5</td>\n",
       "      <td>27</td>\n",
       "    </tr>\n",
       "  </tbody>\n",
       "</table>\n",
       "</div>"
      ],
      "text/plain": [
       "                        name  rating  review_count\n",
       "0                       Miku     4.5          1883\n",
       "3  The Flying Pig - Yaletown     4.0          1120\n",
       "4            Guu with Garlic     4.5           946\n",
       "8            Blue Water Cafe     4.5           939\n",
       "2                     Kingyo     4.5           888\n",
       "5     Dinesty Dumpling House     4.0           805\n",
       "1              Fable Kitchen     4.5           693\n",
       "6                Saku Robson     4.5           214\n",
       "7              Saku Broadway     4.0           150\n",
       "9                      Kosoo     4.5            27"
      ]
     },
     "execution_count": 66,
     "metadata": {},
     "output_type": "execute_result"
    }
   ],
   "source": [
    "top10_review_yelp = pop_yelp.head(10)\n",
    "top10_review_yelp.sort_values('review_count', ascending = False)"
   ]
  },
  {
   "cell_type": "markdown",
   "id": "f9a37c12-69eb-4f44-858c-6e9120da9f1c",
   "metadata": {},
   "source": [
    "### Bottom 10 Reviews"
   ]
  },
  {
   "cell_type": "code",
   "execution_count": 67,
   "id": "09780791-ced2-4747-bee5-c61aa26f0a5b",
   "metadata": {},
   "outputs": [
    {
     "data": {
      "text/html": [
       "<div>\n",
       "<style scoped>\n",
       "    .dataframe tbody tr th:only-of-type {\n",
       "        vertical-align: middle;\n",
       "    }\n",
       "\n",
       "    .dataframe tbody tr th {\n",
       "        vertical-align: top;\n",
       "    }\n",
       "\n",
       "    .dataframe thead th {\n",
       "        text-align: right;\n",
       "    }\n",
       "</style>\n",
       "<table border=\"1\" class=\"dataframe\">\n",
       "  <thead>\n",
       "    <tr style=\"text-align: right;\">\n",
       "      <th></th>\n",
       "      <th>name</th>\n",
       "      <th>rating</th>\n",
       "      <th>review_count</th>\n",
       "    </tr>\n",
       "  </thead>\n",
       "  <tbody>\n",
       "    <tr>\n",
       "      <th>15</th>\n",
       "      <td>Linh Cafe</td>\n",
       "      <td>4.5</td>\n",
       "      <td>17</td>\n",
       "    </tr>\n",
       "    <tr>\n",
       "      <th>19</th>\n",
       "      <td>So Hyang Korean Cuisine</td>\n",
       "      <td>4.5</td>\n",
       "      <td>284</td>\n",
       "    </tr>\n",
       "    <tr>\n",
       "      <th>13</th>\n",
       "      <td>Fanny Bay Oyster Bar &amp; Shellfish Market</td>\n",
       "      <td>4.5</td>\n",
       "      <td>603</td>\n",
       "    </tr>\n",
       "    <tr>\n",
       "      <th>18</th>\n",
       "      <td>Forage</td>\n",
       "      <td>4.0</td>\n",
       "      <td>645</td>\n",
       "    </tr>\n",
       "    <tr>\n",
       "      <th>16</th>\n",
       "      <td>The Flying Pig - Gastown</td>\n",
       "      <td>4.0</td>\n",
       "      <td>943</td>\n",
       "    </tr>\n",
       "    <tr>\n",
       "      <th>14</th>\n",
       "      <td>Twisted Fork</td>\n",
       "      <td>4.0</td>\n",
       "      <td>1052</td>\n",
       "    </tr>\n",
       "    <tr>\n",
       "      <th>17</th>\n",
       "      <td>Jam Cafe on Beatty</td>\n",
       "      <td>4.5</td>\n",
       "      <td>1146</td>\n",
       "    </tr>\n",
       "    <tr>\n",
       "      <th>10</th>\n",
       "      <td>Phnom Penh</td>\n",
       "      <td>4.0</td>\n",
       "      <td>1356</td>\n",
       "    </tr>\n",
       "    <tr>\n",
       "      <th>11</th>\n",
       "      <td>Chambar</td>\n",
       "      <td>4.0</td>\n",
       "      <td>1396</td>\n",
       "    </tr>\n",
       "    <tr>\n",
       "      <th>12</th>\n",
       "      <td>Medina Cafe</td>\n",
       "      <td>4.0</td>\n",
       "      <td>2364</td>\n",
       "    </tr>\n",
       "  </tbody>\n",
       "</table>\n",
       "</div>"
      ],
      "text/plain": [
       "                                       name  rating  review_count\n",
       "15                                Linh Cafe     4.5            17\n",
       "19                  So Hyang Korean Cuisine     4.5           284\n",
       "13  Fanny Bay Oyster Bar & Shellfish Market     4.5           603\n",
       "18                                   Forage     4.0           645\n",
       "16                 The Flying Pig - Gastown     4.0           943\n",
       "14                             Twisted Fork     4.0          1052\n",
       "17                       Jam Cafe on Beatty     4.5          1146\n",
       "10                               Phnom Penh     4.0          1356\n",
       "11                                  Chambar     4.0          1396\n",
       "12                              Medina Cafe     4.0          2364"
      ]
     },
     "execution_count": 67,
     "metadata": {},
     "output_type": "execute_result"
    }
   ],
   "source": [
    "bot10_review_yelp = pop_yelp.tail(10)\n",
    "bot10_review_yelp.sort_values('review_count')"
   ]
  },
  {
   "cell_type": "markdown",
   "id": "45b4416d-cf3c-4d77-acf1-ca66311b7b3e",
   "metadata": {},
   "source": [
    "### FourSquare"
   ]
  },
  {
   "cell_type": "code",
   "execution_count": 97,
   "id": "0b121b7d-89c5-4183-bbe0-686b3ae689da",
   "metadata": {},
   "outputs": [],
   "source": [
    "fsq_restaurant = requests.get('https://api.foursquare.com/v3/places/search',\n",
    "                              params = {\n",
    "                                  'near': 'Vancouver, BC',\n",
    "                                  'categories': '13065',\n",
    "                                  'limit': 50\n",
    "                              },\n",
    "                              headers = {\n",
    "                                  'Accept': 'application/json',\n",
    "                                  'Authorization': 'fsq3NBY1z05TqyRLxaFXhEmuBXlW4C+oCQ8jFzDNErgRGfs='\n",
    "                              })"
   ]
  },
  {
   "cell_type": "code",
   "execution_count": 99,
   "id": "ffb8cb5e-8da8-45c7-9184-3919be335d67",
   "metadata": {},
   "outputs": [
    {
     "data": {
      "text/plain": [
       "200"
      ]
     },
     "execution_count": 99,
     "metadata": {},
     "output_type": "execute_result"
    }
   ],
   "source": [
    "fsq_restaurant.status_code"
   ]
  },
  {
   "cell_type": "code",
   "execution_count": 100,
   "id": "fb6cb2ec-c866-421d-b49c-a8a6bf674c89",
   "metadata": {},
   "outputs": [],
   "source": [
    "df_fsq = pd.json_normalize(fsq_restaurant.json(), 'results')\n",
    "df_fsq.to_csv('data/fsq_restaurant.csv')"
   ]
  },
  {
   "cell_type": "code",
   "execution_count": 250,
   "id": "aed16cbe-39fb-4cb1-8e19-e1c1028356bb",
   "metadata": {},
   "outputs": [
    {
     "data": {
      "text/html": [
       "<div>\n",
       "<style scoped>\n",
       "    .dataframe tbody tr th:only-of-type {\n",
       "        vertical-align: middle;\n",
       "    }\n",
       "\n",
       "    .dataframe tbody tr th {\n",
       "        vertical-align: top;\n",
       "    }\n",
       "\n",
       "    .dataframe thead th {\n",
       "        text-align: right;\n",
       "    }\n",
       "</style>\n",
       "<table border=\"1\" class=\"dataframe\">\n",
       "  <thead>\n",
       "    <tr style=\"text-align: right;\">\n",
       "      <th></th>\n",
       "      <th>Name</th>\n",
       "      <th>Latitude</th>\n",
       "      <th>Longitude</th>\n",
       "      <th>Likes</th>\n",
       "      <th>City</th>\n",
       "      <th>State</th>\n",
       "      <th>Category</th>\n",
       "    </tr>\n",
       "  </thead>\n",
       "  <tbody>\n",
       "    <tr>\n",
       "      <th>0</th>\n",
       "      <td>Warehouse31</td>\n",
       "      <td>33.296218</td>\n",
       "      <td>-86.813072</td>\n",
       "      <td>9</td>\n",
       "      <td>Pelham</td>\n",
       "      <td>AL</td>\n",
       "      <td>Arts/Entertainment</td>\n",
       "    </tr>\n",
       "    <tr>\n",
       "      <th>1</th>\n",
       "      <td>Cowboy Cheerleading</td>\n",
       "      <td>33.270635</td>\n",
       "      <td>-86.797635</td>\n",
       "      <td>0</td>\n",
       "      <td>Pelham</td>\n",
       "      <td>AL</td>\n",
       "      <td>Arts/Entertainment</td>\n",
       "    </tr>\n",
       "    <tr>\n",
       "      <th>2</th>\n",
       "      <td>Pelham Civic Complex</td>\n",
       "      <td>33.329325</td>\n",
       "      <td>-86.788621</td>\n",
       "      <td>10</td>\n",
       "      <td>Pelham</td>\n",
       "      <td>AL</td>\n",
       "      <td>Arts/Entertainment</td>\n",
       "    </tr>\n",
       "    <tr>\n",
       "      <th>3</th>\n",
       "      <td>Jelly's Bar</td>\n",
       "      <td>33.309999</td>\n",
       "      <td>-86.802501</td>\n",
       "      <td>3</td>\n",
       "      <td>Pelham</td>\n",
       "      <td>AL</td>\n",
       "      <td>Arts/Entertainment</td>\n",
       "    </tr>\n",
       "    <tr>\n",
       "      <th>4</th>\n",
       "      <td>Task 3</td>\n",
       "      <td>33.251538</td>\n",
       "      <td>-86.828777</td>\n",
       "      <td>0</td>\n",
       "      <td>Pelham</td>\n",
       "      <td>AL</td>\n",
       "      <td>Arts/Entertainment</td>\n",
       "    </tr>\n",
       "    <tr>\n",
       "      <th>...</th>\n",
       "      <td>...</td>\n",
       "      <td>...</td>\n",
       "      <td>...</td>\n",
       "      <td>...</td>\n",
       "      <td>...</td>\n",
       "      <td>...</td>\n",
       "      <td>...</td>\n",
       "    </tr>\n",
       "    <tr>\n",
       "      <th>101</th>\n",
       "      <td>King's Crest Lookout</td>\n",
       "      <td>33.275789</td>\n",
       "      <td>-86.759066</td>\n",
       "      <td>0</td>\n",
       "      <td>Pelham</td>\n",
       "      <td>AL</td>\n",
       "      <td>Outdoor/Rec</td>\n",
       "    </tr>\n",
       "    <tr>\n",
       "      <th>102</th>\n",
       "      <td>YMCA Pool</td>\n",
       "      <td>33.319859</td>\n",
       "      <td>-86.798235</td>\n",
       "      <td>1</td>\n",
       "      <td>Pelham</td>\n",
       "      <td>AL</td>\n",
       "      <td>Outdoor/Rec</td>\n",
       "    </tr>\n",
       "    <tr>\n",
       "      <th>103</th>\n",
       "      <td>gym time</td>\n",
       "      <td>33.241736</td>\n",
       "      <td>-86.817824</td>\n",
       "      <td>1</td>\n",
       "      <td>Pelham</td>\n",
       "      <td>AL</td>\n",
       "      <td>Outdoor/Rec</td>\n",
       "    </tr>\n",
       "    <tr>\n",
       "      <th>104</th>\n",
       "      <td>Ballantrae Club House</td>\n",
       "      <td>33.271496</td>\n",
       "      <td>-86.754196</td>\n",
       "      <td>6</td>\n",
       "      <td>Pelham</td>\n",
       "      <td>AL</td>\n",
       "      <td>Outdoor/Rec</td>\n",
       "    </tr>\n",
       "    <tr>\n",
       "      <th>105</th>\n",
       "      <td>Peavine Falls</td>\n",
       "      <td>33.304401</td>\n",
       "      <td>-86.758173</td>\n",
       "      <td>13</td>\n",
       "      <td>Pelham</td>\n",
       "      <td>AL</td>\n",
       "      <td>Outdoor/Rec</td>\n",
       "    </tr>\n",
       "  </tbody>\n",
       "</table>\n",
       "<p>106 rows × 7 columns</p>\n",
       "</div>"
      ],
      "text/plain": [
       "                      Name   Latitude  Longitude  Likes    City State  \\\n",
       "0              Warehouse31  33.296218 -86.813072      9  Pelham    AL   \n",
       "1      Cowboy Cheerleading  33.270635 -86.797635      0  Pelham    AL   \n",
       "2     Pelham Civic Complex  33.329325 -86.788621     10  Pelham    AL   \n",
       "3              Jelly's Bar  33.309999 -86.802501      3  Pelham    AL   \n",
       "4                   Task 3  33.251538 -86.828777      0  Pelham    AL   \n",
       "..                     ...        ...        ...    ...     ...   ...   \n",
       "101   King's Crest Lookout  33.275789 -86.759066      0  Pelham    AL   \n",
       "102              YMCA Pool  33.319859 -86.798235      1  Pelham    AL   \n",
       "103               gym time  33.241736 -86.817824      1  Pelham    AL   \n",
       "104  Ballantrae Club House  33.271496 -86.754196      6  Pelham    AL   \n",
       "105          Peavine Falls  33.304401 -86.758173     13  Pelham    AL   \n",
       "\n",
       "               Category  \n",
       "0    Arts/Entertainment  \n",
       "1    Arts/Entertainment  \n",
       "2    Arts/Entertainment  \n",
       "3    Arts/Entertainment  \n",
       "4    Arts/Entertainment  \n",
       "..                  ...  \n",
       "101         Outdoor/Rec  \n",
       "102         Outdoor/Rec  \n",
       "103         Outdoor/Rec  \n",
       "104         Outdoor/Rec  \n",
       "105         Outdoor/Rec  \n",
       "\n",
       "[106 rows x 7 columns]"
      ]
     },
     "execution_count": 250,
     "metadata": {},
     "output_type": "execute_result"
    }
   ],
   "source": [
    "fsq_data = pd.read_csv('foursquare_data.csv')\n",
    "df_fsq = pd.DataFrame(fsq_data)\n",
    "df_fsq"
   ]
  },
  {
   "cell_type": "code",
   "execution_count": 180,
   "id": "69d69534-66b0-44b5-9122-e33485078bb5",
   "metadata": {},
   "outputs": [
    {
     "data": {
      "text/plain": [
       "Category\n",
       "Arts/Entertainment    25\n",
       "Food                  30\n",
       "Nightlife             24\n",
       "Outdoor/Rec           27\n",
       "dtype: int64"
      ]
     },
     "execution_count": 180,
     "metadata": {},
     "output_type": "execute_result"
    }
   ],
   "source": [
    "df_fsq.groupby('Category').size()"
   ]
  },
  {
   "cell_type": "code",
   "execution_count": 273,
   "id": "d3b17e1c-930c-4e6e-ae0d-c59dea1dbaf4",
   "metadata": {},
   "outputs": [
    {
     "data": {
      "text/html": [
       "<div>\n",
       "<style scoped>\n",
       "    .dataframe tbody tr th:only-of-type {\n",
       "        vertical-align: middle;\n",
       "    }\n",
       "\n",
       "    .dataframe tbody tr th {\n",
       "        vertical-align: top;\n",
       "    }\n",
       "\n",
       "    .dataframe thead th {\n",
       "        text-align: right;\n",
       "    }\n",
       "</style>\n",
       "<table border=\"1\" class=\"dataframe\">\n",
       "  <thead>\n",
       "    <tr style=\"text-align: right;\">\n",
       "      <th></th>\n",
       "      <th>Likes</th>\n",
       "    </tr>\n",
       "    <tr>\n",
       "      <th>Name</th>\n",
       "      <th></th>\n",
       "    </tr>\n",
       "  </thead>\n",
       "  <tbody>\n",
       "    <tr>\n",
       "      <th>Publix</th>\n",
       "      <td>82</td>\n",
       "    </tr>\n",
       "    <tr>\n",
       "      <th>Joe's Italian</th>\n",
       "      <td>68</td>\n",
       "    </tr>\n",
       "    <tr>\n",
       "      <th>Cozumel Grill &amp; Mexican Restaurant</th>\n",
       "      <td>52</td>\n",
       "    </tr>\n",
       "    <tr>\n",
       "      <th>The Depot Deli &amp; Grill</th>\n",
       "      <td>33</td>\n",
       "    </tr>\n",
       "    <tr>\n",
       "      <th>Donut Joe's</th>\n",
       "      <td>30</td>\n",
       "    </tr>\n",
       "    <tr>\n",
       "      <th>Jack's</th>\n",
       "      <td>29</td>\n",
       "    </tr>\n",
       "    <tr>\n",
       "      <th>Sonic Drive-In</th>\n",
       "      <td>19</td>\n",
       "    </tr>\n",
       "    <tr>\n",
       "      <th>Zaxby's Chicken Fingers &amp; Buffalo Wings</th>\n",
       "      <td>19</td>\n",
       "    </tr>\n",
       "    <tr>\n",
       "      <th>Hibachi Super Buffet</th>\n",
       "      <td>18</td>\n",
       "    </tr>\n",
       "    <tr>\n",
       "      <th>El Patron</th>\n",
       "      <td>15</td>\n",
       "    </tr>\n",
       "  </tbody>\n",
       "</table>\n",
       "</div>"
      ],
      "text/plain": [
       "                                         Likes\n",
       "Name                                          \n",
       "Publix                                      82\n",
       "Joe's Italian                               68\n",
       "Cozumel Grill & Mexican Restaurant          52\n",
       "The Depot Deli & Grill                      33\n",
       "Donut Joe's                                 30\n",
       "Jack's                                      29\n",
       "Sonic Drive-In                              19\n",
       "Zaxby's Chicken Fingers & Buffalo Wings     19\n",
       "Hibachi Super Buffet                        18\n",
       "El Patron                                   15"
      ]
     },
     "execution_count": 273,
     "metadata": {},
     "output_type": "execute_result"
    }
   ],
   "source": [
    "pop_fsq = df_fsq[df_fsq['Category'] == 'Food'][['Name', 'Likes']]\n",
    "pop_fsq.groupby('Name').sum().sort_values('Likes', ascending = False).head(10)"
   ]
  },
  {
   "cell_type": "code",
   "execution_count": 292,
   "id": "b2aedfce-5558-42db-a388-d02ae582f6df",
   "metadata": {},
   "outputs": [
    {
     "data": {
      "text/html": [
       "<div>\n",
       "<style scoped>\n",
       "    .dataframe tbody tr th:only-of-type {\n",
       "        vertical-align: middle;\n",
       "    }\n",
       "\n",
       "    .dataframe tbody tr th {\n",
       "        vertical-align: top;\n",
       "    }\n",
       "\n",
       "    .dataframe thead th {\n",
       "        text-align: right;\n",
       "    }\n",
       "</style>\n",
       "<table border=\"1\" class=\"dataframe\">\n",
       "  <thead>\n",
       "    <tr style=\"text-align: right;\">\n",
       "      <th></th>\n",
       "      <th>name</th>\n",
       "      <th>review_count</th>\n",
       "      <th>rating</th>\n",
       "    </tr>\n",
       "  </thead>\n",
       "  <tbody>\n",
       "    <tr>\n",
       "      <th>0</th>\n",
       "      <td>Smiley Brothers Specialty Foods</td>\n",
       "      <td>67</td>\n",
       "      <td>5.0</td>\n",
       "    </tr>\n",
       "    <tr>\n",
       "      <th>17</th>\n",
       "      <td>Blue Pacific At Hoover Foodmart</td>\n",
       "      <td>284</td>\n",
       "      <td>4.5</td>\n",
       "    </tr>\n",
       "    <tr>\n",
       "      <th>16</th>\n",
       "      <td>Baha Burger</td>\n",
       "      <td>280</td>\n",
       "      <td>4.5</td>\n",
       "    </tr>\n",
       "    <tr>\n",
       "      <th>6</th>\n",
       "      <td>Taqueria Garibaldi</td>\n",
       "      <td>75</td>\n",
       "      <td>4.5</td>\n",
       "    </tr>\n",
       "    <tr>\n",
       "      <th>1</th>\n",
       "      <td>Donut Joe's</td>\n",
       "      <td>72</td>\n",
       "      <td>4.5</td>\n",
       "    </tr>\n",
       "    <tr>\n",
       "      <th>2</th>\n",
       "      <td>Oak Mountain State Park</td>\n",
       "      <td>72</td>\n",
       "      <td>4.5</td>\n",
       "    </tr>\n",
       "    <tr>\n",
       "      <th>3</th>\n",
       "      <td>The Beer Hog</td>\n",
       "      <td>69</td>\n",
       "      <td>4.5</td>\n",
       "    </tr>\n",
       "    <tr>\n",
       "      <th>13</th>\n",
       "      <td>Ooka Chinese &amp; Japanese Restaurant</td>\n",
       "      <td>69</td>\n",
       "      <td>4.5</td>\n",
       "    </tr>\n",
       "    <tr>\n",
       "      <th>8</th>\n",
       "      <td>Pelham Diner</td>\n",
       "      <td>59</td>\n",
       "      <td>4.5</td>\n",
       "    </tr>\n",
       "    <tr>\n",
       "      <th>9</th>\n",
       "      <td>La Libertad</td>\n",
       "      <td>40</td>\n",
       "      <td>4.5</td>\n",
       "    </tr>\n",
       "  </tbody>\n",
       "</table>\n",
       "</div>"
      ],
      "text/plain": [
       "                                  name  review_count  rating\n",
       "0      Smiley Brothers Specialty Foods            67     5.0\n",
       "17     Blue Pacific At Hoover Foodmart           284     4.5\n",
       "16                         Baha Burger           280     4.5\n",
       "6                   Taqueria Garibaldi            75     4.5\n",
       "1                          Donut Joe's            72     4.5\n",
       "2              Oak Mountain State Park            72     4.5\n",
       "3                         The Beer Hog            69     4.5\n",
       "13  Ooka Chinese & Japanese Restaurant            69     4.5\n",
       "8                         Pelham Diner            59     4.5\n",
       "9                          La Libertad            40     4.5"
      ]
     },
     "execution_count": 292,
     "metadata": {},
     "output_type": "execute_result"
    }
   ],
   "source": [
    "pop_yelp.sort_values(['rating', 'review_count'], ascending = False).head(10)"
   ]
  },
  {
   "cell_type": "markdown",
   "id": "051ff1ce-6298-4787-9623-c41737882206",
   "metadata": {},
   "source": [
    "## SQL"
   ]
  },
  {
   "cell_type": "code",
   "execution_count": 103,
   "id": "17308a16-81fe-4726-9c42-82bf20499711",
   "metadata": {},
   "outputs": [],
   "source": [
    "def create_connection(path):\n",
    "    try:\n",
    "        connection = sqlite3.connect(path)\n",
    "        print('Connection to SQLite DB successful')\n",
    "    except Error as e:\n",
    "        print(f'The error \"{e}\" occurred')\n",
    "    return connection\n",
    "\n",
    "def execute_query(connection, query):\n",
    "    cursor = connection.cursor()\n",
    "    try:\n",
    "        cursor.execute(query)\n",
    "        connection.commit()\n",
    "        print('Query executed successfully')\n",
    "    except Error as e:\n",
    "        print(f'The error {e} occurred')"
   ]
  },
  {
   "cell_type": "code",
   "execution_count": 104,
   "id": "d65bfbaf-7b65-42c8-b8cd-afb52a2df73b",
   "metadata": {},
   "outputs": [
    {
     "name": "stdout",
     "output_type": "stream",
     "text": [
      "Connection to SQLite DB successful\n"
     ]
    }
   ],
   "source": [
    "connection = create_connection(\"lhl_project_2.sqlite\")"
   ]
  },
  {
   "cell_type": "code",
   "execution_count": 105,
   "id": "818095f9-1396-44b8-9145-8571d31e9efe",
   "metadata": {},
   "outputs": [],
   "source": [
    "create_restaurant_table = '''\n",
    "CREATE TABLE IF NOT EXISTS restaurant (\n",
    "    id INTEGER PRIMARY KEY AUTOINCREMENT,\n",
    "    name TEXT NOT NULL,\n",
    "    review_count INTEGER,\n",
    "    rating FLOAT,\n",
    "    address_1 TEXT,\n",
    "    address_2 TEXT,\n",
    "    city TEXT,\n",
    "    postal_code TEXT)\n",
    "'''"
   ]
  },
  {
   "cell_type": "code",
   "execution_count": 106,
   "id": "afcd2c2c-bfa2-4e0b-83a2-881eca08de12",
   "metadata": {},
   "outputs": [
    {
     "name": "stdout",
     "output_type": "stream",
     "text": [
      "Query executed successfully\n"
     ]
    }
   ],
   "source": [
    "execute_query(connection, create_restaurant_table)"
   ]
  },
  {
   "cell_type": "markdown",
   "id": "638927cf-e11e-4c41-bb09-ba27a479b686",
   "metadata": {},
   "source": [
    "## Run out of query"
   ]
  },
  {
   "cell_type": "code",
   "execution_count": 19,
   "id": "edbf0a7e-053f-46e5-b99f-6108250dd252",
   "metadata": {},
   "outputs": [],
   "source": [
    "location = 'Vancouver'\n",
    "v = '20200731'"
   ]
  },
  {
   "cell_type": "code",
   "execution_count": 106,
   "id": "778f4aab-d956-4a3a-a615-959aa45dfcf2",
   "metadata": {},
   "outputs": [],
   "source": [
    "fsq_url = requests.get('https://api.foursquare.com/v2/venues/search?near=' + location + '&client_id=' + fsq_client_id + '&client_secret=' + fsq_client_secret + '&v=' + v)"
   ]
  },
  {
   "cell_type": "code",
   "execution_count": 147,
   "id": "eaac3c37-0304-45e0-8a36-c8d4ce949052",
   "metadata": {},
   "outputs": [],
   "source": [
    "fsq_detail = requests.get('https://api.foursquare.com/v2/venues/4ae7afb2f964a52058ad21e3?client_id=' + fsq_client_id + '&client_secret=' + fsq_client_secret + '&v=' + v)"
   ]
  },
  {
   "cell_type": "code",
   "execution_count": 107,
   "id": "9a7808ed-cfec-44c1-9e43-5b5b4269782b",
   "metadata": {},
   "outputs": [
    {
     "data": {
      "text/plain": [
       "<Response [200]>"
      ]
     },
     "execution_count": 107,
     "metadata": {},
     "output_type": "execute_result"
    }
   ],
   "source": [
    "fsq_url"
   ]
  },
  {
   "cell_type": "code",
   "execution_count": 127,
   "id": "477395d7-20dd-4d33-9a69-cabe1d75564d",
   "metadata": {},
   "outputs": [
    {
     "data": {
      "text/plain": [
       "<Response [200]>"
      ]
     },
     "execution_count": 127,
     "metadata": {},
     "output_type": "execute_result"
    }
   ],
   "source": [
    "fsq_detail"
   ]
  },
  {
   "cell_type": "code",
   "execution_count": 113,
   "id": "75730967-2fd4-4e69-b7fe-10b0cfaf086d",
   "metadata": {
    "tags": []
   },
   "outputs": [
    {
     "data": {
      "text/html": [
       "<div>\n",
       "<style scoped>\n",
       "    .dataframe tbody tr th:only-of-type {\n",
       "        vertical-align: middle;\n",
       "    }\n",
       "\n",
       "    .dataframe tbody tr th {\n",
       "        vertical-align: top;\n",
       "    }\n",
       "\n",
       "    .dataframe thead th {\n",
       "        text-align: right;\n",
       "    }\n",
       "</style>\n",
       "<table border=\"1\" class=\"dataframe\">\n",
       "  <thead>\n",
       "    <tr style=\"text-align: right;\">\n",
       "      <th></th>\n",
       "      <th>id</th>\n",
       "      <th>name</th>\n",
       "      <th>categories</th>\n",
       "      <th>referralId</th>\n",
       "      <th>hasPerk</th>\n",
       "      <th>location.address</th>\n",
       "      <th>location.crossStreet</th>\n",
       "      <th>location.lat</th>\n",
       "      <th>location.lng</th>\n",
       "      <th>location.labeledLatLngs</th>\n",
       "      <th>location.cc</th>\n",
       "      <th>location.city</th>\n",
       "      <th>location.state</th>\n",
       "      <th>location.country</th>\n",
       "      <th>location.formattedAddress</th>\n",
       "      <th>location.postalCode</th>\n",
       "    </tr>\n",
       "  </thead>\n",
       "  <tbody>\n",
       "    <tr>\n",
       "      <th>0</th>\n",
       "      <td>4ab56c01f964a520857420e3</td>\n",
       "      <td>King Edward SkyTrain Station</td>\n",
       "      <td>[{'id': '4bf58dd8d48988d1fc931735', 'name': 'L...</td>\n",
       "      <td>v-1622825860</td>\n",
       "      <td>False</td>\n",
       "      <td>500 W King Edward Ave.</td>\n",
       "      <td>at Cambie St.</td>\n",
       "      <td>49.249120</td>\n",
       "      <td>-123.115703</td>\n",
       "      <td>[{'label': 'display', 'lat': 49.24912042946037...</td>\n",
       "      <td>CA</td>\n",
       "      <td>Vancouver</td>\n",
       "      <td>BC</td>\n",
       "      <td>Canada</td>\n",
       "      <td>[500 W King Edward Ave. (at Cambie St.), Vanco...</td>\n",
       "      <td>NaN</td>\n",
       "    </tr>\n",
       "    <tr>\n",
       "      <th>1</th>\n",
       "      <td>5a481d41610f044748e5e260</td>\n",
       "      <td>The Hobbit House</td>\n",
       "      <td>[{'id': '4deefb944765f83613cdba6e', 'name': 'H...</td>\n",
       "      <td>v-1622825860</td>\n",
       "      <td>False</td>\n",
       "      <td>587 W King Edward Ave</td>\n",
       "      <td>NaN</td>\n",
       "      <td>49.249083</td>\n",
       "      <td>-123.116835</td>\n",
       "      <td>[{'label': 'display', 'lat': 49.249083, 'lng':...</td>\n",
       "      <td>CA</td>\n",
       "      <td>Vancouver</td>\n",
       "      <td>BC</td>\n",
       "      <td>Canada</td>\n",
       "      <td>[587 W King Edward Ave, Vancouver BC V5Z, Canada]</td>\n",
       "      <td>V5Z</td>\n",
       "    </tr>\n",
       "    <tr>\n",
       "      <th>2</th>\n",
       "      <td>5cf4eb74cabcff002c2ef9b3</td>\n",
       "      <td>Blue Hat Bistro</td>\n",
       "      <td>[{'id': '4bf58dd8d48988d1c4941735', 'name': 'R...</td>\n",
       "      <td>v-1622825860</td>\n",
       "      <td>False</td>\n",
       "      <td>1505 #101 West 2nd Ave.</td>\n",
       "      <td>(Entrance on Anderson Street)</td>\n",
       "      <td>49.269970</td>\n",
       "      <td>-123.137713</td>\n",
       "      <td>[{'label': 'display', 'lat': 49.26996950868134...</td>\n",
       "      <td>CA</td>\n",
       "      <td>Vancouver</td>\n",
       "      <td>BC</td>\n",
       "      <td>Canada</td>\n",
       "      <td>[1505 #101 West 2nd Ave. ((Entrance on Anderso...</td>\n",
       "      <td>V6H 3Y4</td>\n",
       "    </tr>\n",
       "    <tr>\n",
       "      <th>3</th>\n",
       "      <td>4ae7afb2f964a52058ad21e3</td>\n",
       "      <td>Landmark Hot Pot House 春秋火鍋</td>\n",
       "      <td>[{'id': '4bf58dd8d48988d145941735', 'name': 'C...</td>\n",
       "      <td>v-1622825860</td>\n",
       "      <td>False</td>\n",
       "      <td>4023 Cambie St.</td>\n",
       "      <td>at W. King Edward Ave.</td>\n",
       "      <td>49.249759</td>\n",
       "      <td>-123.115515</td>\n",
       "      <td>[{'label': 'display', 'lat': 49.24975945918286...</td>\n",
       "      <td>CA</td>\n",
       "      <td>Vancouver</td>\n",
       "      <td>BC</td>\n",
       "      <td>Canada</td>\n",
       "      <td>[4023 Cambie St. (at W. King Edward Ave.), Van...</td>\n",
       "      <td>V5Z 2X9‎</td>\n",
       "    </tr>\n",
       "    <tr>\n",
       "      <th>4</th>\n",
       "      <td>5be40c66b25fee002c19e60f</td>\n",
       "      <td>Starbucks</td>\n",
       "      <td>[{'id': '4bf58dd8d48988d1e0931735', 'name': 'C...</td>\n",
       "      <td>v-1622825860</td>\n",
       "      <td>False</td>\n",
       "      <td>990 25 Ave W, Safeway Grocery Store</td>\n",
       "      <td>NaN</td>\n",
       "      <td>49.248601</td>\n",
       "      <td>-123.126520</td>\n",
       "      <td>[{'label': 'display', 'lat': 49.248601, 'lng':...</td>\n",
       "      <td>CA</td>\n",
       "      <td>Vancouver</td>\n",
       "      <td>BC</td>\n",
       "      <td>Canada</td>\n",
       "      <td>[990 25 Ave W, Safeway Grocery Store, Vancouve...</td>\n",
       "      <td>V5Z 2E2</td>\n",
       "    </tr>\n",
       "  </tbody>\n",
       "</table>\n",
       "</div>"
      ],
      "text/plain": [
       "                         id                          name  \\\n",
       "0  4ab56c01f964a520857420e3  King Edward SkyTrain Station   \n",
       "1  5a481d41610f044748e5e260              The Hobbit House   \n",
       "2  5cf4eb74cabcff002c2ef9b3               Blue Hat Bistro   \n",
       "3  4ae7afb2f964a52058ad21e3   Landmark Hot Pot House 春秋火鍋   \n",
       "4  5be40c66b25fee002c19e60f                     Starbucks   \n",
       "\n",
       "                                          categories    referralId  hasPerk  \\\n",
       "0  [{'id': '4bf58dd8d48988d1fc931735', 'name': 'L...  v-1622825860    False   \n",
       "1  [{'id': '4deefb944765f83613cdba6e', 'name': 'H...  v-1622825860    False   \n",
       "2  [{'id': '4bf58dd8d48988d1c4941735', 'name': 'R...  v-1622825860    False   \n",
       "3  [{'id': '4bf58dd8d48988d145941735', 'name': 'C...  v-1622825860    False   \n",
       "4  [{'id': '4bf58dd8d48988d1e0931735', 'name': 'C...  v-1622825860    False   \n",
       "\n",
       "                      location.address           location.crossStreet  \\\n",
       "0               500 W King Edward Ave.                  at Cambie St.   \n",
       "1                587 W King Edward Ave                            NaN   \n",
       "2              1505 #101 West 2nd Ave.  (Entrance on Anderson Street)   \n",
       "3                      4023 Cambie St.         at W. King Edward Ave.   \n",
       "4  990 25 Ave W, Safeway Grocery Store                            NaN   \n",
       "\n",
       "   location.lat  location.lng  \\\n",
       "0     49.249120   -123.115703   \n",
       "1     49.249083   -123.116835   \n",
       "2     49.269970   -123.137713   \n",
       "3     49.249759   -123.115515   \n",
       "4     49.248601   -123.126520   \n",
       "\n",
       "                             location.labeledLatLngs location.cc  \\\n",
       "0  [{'label': 'display', 'lat': 49.24912042946037...          CA   \n",
       "1  [{'label': 'display', 'lat': 49.249083, 'lng':...          CA   \n",
       "2  [{'label': 'display', 'lat': 49.26996950868134...          CA   \n",
       "3  [{'label': 'display', 'lat': 49.24975945918286...          CA   \n",
       "4  [{'label': 'display', 'lat': 49.248601, 'lng':...          CA   \n",
       "\n",
       "  location.city location.state location.country  \\\n",
       "0     Vancouver             BC           Canada   \n",
       "1     Vancouver             BC           Canada   \n",
       "2     Vancouver             BC           Canada   \n",
       "3     Vancouver             BC           Canada   \n",
       "4     Vancouver             BC           Canada   \n",
       "\n",
       "                           location.formattedAddress location.postalCode  \n",
       "0  [500 W King Edward Ave. (at Cambie St.), Vanco...                 NaN  \n",
       "1  [587 W King Edward Ave, Vancouver BC V5Z, Canada]                 V5Z  \n",
       "2  [1505 #101 West 2nd Ave. ((Entrance on Anderso...             V6H 3Y4  \n",
       "3  [4023 Cambie St. (at W. King Edward Ave.), Van...            V5Z 2X9‎  \n",
       "4  [990 25 Ave W, Safeway Grocery Store, Vancouve...             V5Z 2E2  "
      ]
     },
     "execution_count": 113,
     "metadata": {},
     "output_type": "execute_result"
    }
   ],
   "source": [
    "fsq_json = fsq_url.json()\n",
    "df_fsq = pd.json_normalize(fsq_json, record_path = ['response', 'venues'])\n",
    "df_fsq.head()"
   ]
  },
  {
   "cell_type": "code",
   "execution_count": 146,
   "id": "3e5552e1-7a0f-4136-b20b-2b25de89293d",
   "metadata": {
    "tags": []
   },
   "outputs": [
    {
     "name": "stdout",
     "output_type": "stream",
     "text": [
      "30\n"
     ]
    }
   ],
   "source": [
    "pop_fsq = df_fsq[['name', 'id']]\n",
    "print(len(df_fsq))\n",
    "pop_fsq = pop_fsq.head(100)"
   ]
  },
  {
   "cell_type": "code",
   "execution_count": 144,
   "id": "40112d70-e6d6-40f3-b17d-c5ec6720a74e",
   "metadata": {},
   "outputs": [],
   "source": [
    "ratings = []\n",
    "\n",
    "\n",
    "for i in range(0, len(pop_fsq['id'])):\n",
    "#     print(f'This is row {i}')\n",
    "    \n",
    "    fsq_id = pop_fsq['id'][i]\n",
    "    try:\n",
    "        fsq_rating = requests.get('https://api.foursquare.com/v2/venues/' + fsq_id + '?client_id=' + fsq_client_id + '&client_secret=' + fsq_client_secret + '&v=' + v)\n",
    "\n",
    "        fsq_rating_json = fsq_rating.json()\n",
    "        rating = fsq_rating_json['response']['venue']['rating']\n",
    "    \n",
    "        ratings.append(rating)\n",
    "        \n",
    "    except KeyError: \n",
    "#         print('No rating for this ID')\n",
    "        ratings.append('NA')"
   ]
  },
  {
   "cell_type": "code",
   "execution_count": 145,
   "id": "57151569-f8fb-445b-aa1c-b2e8edb10c03",
   "metadata": {},
   "outputs": [
    {
     "name": "stdout",
     "output_type": "stream",
     "text": [
      "['NA', 'NA', 'NA', 'NA', 'NA', 'NA', 'NA', 'NA', 'NA', 'NA', 'NA', 'NA', 'NA', 'NA', 'NA', 'NA', 'NA', 'NA', 'NA', 'NA', 'NA', 'NA', 'NA', 'NA', 'NA', 'NA', 'NA', 'NA', 'NA', 'NA']\n"
     ]
    }
   ],
   "source": [
    "print(ratings)"
   ]
  },
  {
   "cell_type": "code",
   "execution_count": null,
   "id": "35501bad-a482-4728-b5cf-063f7122fd42",
   "metadata": {},
   "outputs": [],
   "source": [
    "pop_fsq = pd.Series(ratings)\n",
    "\n",
    "# df_fsq['rating'] = pd.Series(ratings)"
   ]
  },
  {
   "cell_type": "code",
   "execution_count": 149,
   "id": "ea90f348-d7f2-475b-9391-416609e3efac",
   "metadata": {
    "tags": []
   },
   "outputs": [
    {
     "name": "stdout",
     "output_type": "stream",
     "text": [
      "{'meta': {'code': 429, 'errorType': 'quota_exceeded', 'errorDetail': 'Quota exceeded', 'requestId': '60ba7b7fea5de365004a1873'}, 'response': {}}\n"
     ]
    }
   ],
   "source": [
    "fsq_detail_json = fsq_detail.json()\n",
    "print(fsq_detail_json)\n",
    "# fsq_detail_json['response']['venue']['rating']\n",
    "\n",
    "# df_fsq_detail = pd.json_normalize(fsq_detail_json, record_path = ['response', 'venue'])\n",
    "# df_fsq.head(10)\n",
    "\n",
    "# pop_fsq = df_fsq[['name', 'id']]\n",
    "# pop_fsq"
   ]
  },
  {
   "cell_type": "code",
   "execution_count": null,
   "id": "4c7d7ef4-3f4c-4de4-b092-5ae850213ecd",
   "metadata": {},
   "outputs": [],
   "source": []
  },
  {
   "cell_type": "code",
   "execution_count": null,
   "id": "9204b23d-091a-4c46-abd9-31f008225323",
   "metadata": {},
   "outputs": [],
   "source": []
  },
  {
   "cell_type": "code",
   "execution_count": null,
   "id": "35e4516c-9ebe-4634-bcb5-478962104530",
   "metadata": {},
   "outputs": [],
   "source": []
  }
 ],
 "metadata": {
  "kernelspec": {
   "display_name": "Python 3",
   "language": "python",
   "name": "python3"
  },
  "language_info": {
   "codemirror_mode": {
    "name": "ipython",
    "version": 3
   },
   "file_extension": ".py",
   "mimetype": "text/x-python",
   "name": "python",
   "nbconvert_exporter": "python",
   "pygments_lexer": "ipython3",
   "version": "3.8.8"
  }
 },
 "nbformat": 4,
 "nbformat_minor": 5
}
