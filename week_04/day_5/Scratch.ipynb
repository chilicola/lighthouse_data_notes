{
 "cells": [
  {
   "cell_type": "code",
   "execution_count": 1,
   "id": "e3d1da0f-2f0a-4f8a-b5ce-6cf25528690d",
   "metadata": {},
   "outputs": [],
   "source": [
    "\"\"\"\n",
    "A pie chart is a circular graphical representation of a dataset, \n",
    "where each category frequency is represented by a slice (or circular sector) \n",
    "with an amplitude in degrees given by the single frequency percentage over the total of frequencies. \n",
    "\n",
    "You can obtain the degrees of sectors following these steps:\n",
    "    - Calculate frequencies total.\n",
    "    - Calculate percentage of every category frequency dividing it by the frequencies total.\n",
    "    - Transform every percentage in degrees multiplying it for 360.\n",
    "\n",
    "You are given a dictionary data with keys being the data categories (represented by letters) and values \n",
    "being the data frequencies. Implement a function that returns a map to design a pie chart, \n",
    "like to say the same dictionary with values transformed in degrees instead of frequencies. \n",
    "Round final values to the nearest tenth.\n",
    "\n",
    "Example:\n",
    "    pie_chart({ \"a\": 1, \"b\": 2 }) ➞ { \"a\": 120, \"b\": 240 }\n",
    "\n",
    "    pie_chart({ \"a\": 30, \"b\": 15, \"c\": 55 }) ➞ { \"a\": 108, \"b\": 54, \"c\": 198 }\n",
    "\n",
    "    pie_chart({ \"a\": 8, \"b\": 21, \"c\": 12, \"d\": 5, \"e\": 4 }) ➞ { \"a\": 57.6, \"b\": 151.2, \"c\": 86.4, \"d\": 36, \"e\": 28.8 }\n",
    "\"\"\"\n",
    "\n",
    "\n",
    "def pie_chart(dictionary):\n",
    "    # get sum of dict\n",
    "    values = dictionary.values()\n",
    "    sum_values = sum(values)\n",
    "    \n",
    "    # ratio from value to degrees\n",
    "    ratio = 360 / sum_values \n",
    "    \n",
    "    for key in dictionary:\n",
    "        dictionary[key] = round(dictionary[key] * ratio, 2)\n",
    "    \n",
    "    return dictionary"
   ]
  },
  {
   "cell_type": "code",
   "execution_count": 2,
   "id": "8ee9f481-fb48-47d6-9352-fcee42f673ad",
   "metadata": {},
   "outputs": [
    {
     "data": {
      "text/plain": [
       "{'a': 57.6, 'b': 151.2, 'c': 86.4, 'd': 36.0, 'e': 28.8}"
      ]
     },
     "execution_count": 2,
     "metadata": {},
     "output_type": "execute_result"
    }
   ],
   "source": [
    "pie_chart({ \"a\": 8, \"b\": 21, \"c\": 12, \"d\": 5, \"e\": 4 })"
   ]
  },
  {
   "cell_type": "code",
   "execution_count": 3,
   "id": "5ad81d00-b5e8-49ae-a124-1eb3390fd230",
   "metadata": {},
   "outputs": [],
   "source": [
    "\"\"\"\n",
    "Create a function that performs an even-odd transform to a list, n times. \n",
    "Each even-odd transformation:\n",
    "    - Adds 2(+2) to each odd integer.\n",
    "    - Subtracts 2 (-2) to each even integer.\n",
    "\n",
    "Example:\n",
    "    even_odd_transform([3, 4, 9], 3) ➞ [9, -2, 15]\n",
    "    # Since [3, 4, 9] => [5, 2, 11] => [7, 0, 13] => [9, -2, 15]\n",
    "\n",
    "    even_odd_transform([0, 0, 0], 10) ➞ [-20, -20, -20]\n",
    "\n",
    "    even_odd_transform([1, 2, 3], 1) ➞ [3, 0, 5]\n",
    "\n",
    "\"\"\"\n",
    "\n",
    "def even_odd_transform(lst,repeat):\n",
    "    new_list=[]\n",
    "    for num in lst:\n",
    "        if num % 2:\n",
    "            num = num + (2 * repeat)\n",
    "        else:\n",
    "            num = num - (2 * repeat)\n",
    "        new_list.append(num)\n",
    "    return new_list"
   ]
  },
  {
   "cell_type": "code",
   "execution_count": 4,
   "id": "b1c30101-f502-4dcb-9a57-51e556dfe4aa",
   "metadata": {},
   "outputs": [
    {
     "data": {
      "text/plain": [
       "[3, 0, 5]"
      ]
     },
     "execution_count": 4,
     "metadata": {},
     "output_type": "execute_result"
    }
   ],
   "source": [
    "even_odd_transform([1, 2, 3], 1)"
   ]
  },
  {
   "cell_type": "code",
   "execution_count": 7,
   "id": "0a6fc44b-5294-47b0-b892-3051cd5eab3d",
   "metadata": {},
   "outputs": [],
   "source": [
    "import os \n",
    "os.getcwd()\n",
    "os.chdir('E:\\\\lighthouse_data_notes\\\\Week_4\\\\Day_5\\\\assessment-exam-student-python')"
   ]
  },
  {
   "cell_type": "code",
   "execution_count": 8,
   "id": "26c711f7-5807-472c-a811-6ad0d6619359",
   "metadata": {},
   "outputs": [],
   "source": [
    "import pandas as pd\n",
    "import sys\n",
    "from supporting_files.data_loader import load_excel"
   ]
  },
  {
   "cell_type": "code",
   "execution_count": 20,
   "id": "22494558-676f-4b06-af8b-d7283191f456",
   "metadata": {},
   "outputs": [],
   "source": [
    "df = load_excel('supporting_files/SaleData.xlsx')\n",
    "\n",
    "\n",
    "\"\"\"\n",
    "Write a Pandas program to find the total sale amount (Sale_amt) region and manager wise. \n",
    "Order the dataframe by Sale_amt, starting with the highest.\n",
    "Output should be DataFrame with 3 columns (order is important):\n",
    "    - Region\n",
    "    - Manager\n",
    "    - Sale_amt\n",
    "and numeric index starting with 0 (after sorting).\n",
    "\"\"\"\n",
    "\n",
    "def compute_total_sale(df):\n",
    "    final_df = df.groupby(['Region','Manager']).sum().sort_values('Sale_amt', ascending=False)\n",
    "               df.groupby(['Region','Manager'])[['Sale_amt']].sum().sort_values('Sale_amt', ascending=False).reset_index()\n",
    "    return final_df"
   ]
  },
  {
   "cell_type": "code",
   "execution_count": 39,
   "id": "a12d70ee-130a-49eb-a72f-4cf55f0aaa86",
   "metadata": {},
   "outputs": [
    {
     "data": {
      "text/html": [
       "<div>\n",
       "<style scoped>\n",
       "    .dataframe tbody tr th:only-of-type {\n",
       "        vertical-align: middle;\n",
       "    }\n",
       "\n",
       "    .dataframe tbody tr th {\n",
       "        vertical-align: top;\n",
       "    }\n",
       "\n",
       "    .dataframe thead th {\n",
       "        text-align: right;\n",
       "    }\n",
       "</style>\n",
       "<table border=\"1\" class=\"dataframe\">\n",
       "  <thead>\n",
       "    <tr style=\"text-align: right;\">\n",
       "      <th></th>\n",
       "      <th>Region</th>\n",
       "      <th>Manager</th>\n",
       "      <th>Sale_amt</th>\n",
       "    </tr>\n",
       "  </thead>\n",
       "  <tbody>\n",
       "    <tr>\n",
       "      <th>0</th>\n",
       "      <td>Central</td>\n",
       "      <td>Hermann</td>\n",
       "      <td>365108.5</td>\n",
       "    </tr>\n",
       "    <tr>\n",
       "      <th>1</th>\n",
       "      <td>East</td>\n",
       "      <td>Martha</td>\n",
       "      <td>272803.0</td>\n",
       "    </tr>\n",
       "    <tr>\n",
       "      <th>2</th>\n",
       "      <td>Central</td>\n",
       "      <td>Martha</td>\n",
       "      <td>199690.0</td>\n",
       "    </tr>\n",
       "    <tr>\n",
       "      <th>3</th>\n",
       "      <td>Central</td>\n",
       "      <td>Timothy</td>\n",
       "      <td>140955.0</td>\n",
       "    </tr>\n",
       "    <tr>\n",
       "      <th>4</th>\n",
       "      <td>Central</td>\n",
       "      <td>Douglas</td>\n",
       "      <td>124016.0</td>\n",
       "    </tr>\n",
       "    <tr>\n",
       "      <th>5</th>\n",
       "      <td>West</td>\n",
       "      <td>Timothy</td>\n",
       "      <td>88063.0</td>\n",
       "    </tr>\n",
       "    <tr>\n",
       "      <th>6</th>\n",
       "      <td>West</td>\n",
       "      <td>Douglas</td>\n",
       "      <td>66836.0</td>\n",
       "    </tr>\n",
       "    <tr>\n",
       "      <th>7</th>\n",
       "      <td>East</td>\n",
       "      <td>Douglas</td>\n",
       "      <td>48204.0</td>\n",
       "    </tr>\n",
       "  </tbody>\n",
       "</table>\n",
       "</div>"
      ],
      "text/plain": [
       "    Region  Manager  Sale_amt\n",
       "0  Central  Hermann  365108.5\n",
       "1     East   Martha  272803.0\n",
       "2  Central   Martha  199690.0\n",
       "3  Central  Timothy  140955.0\n",
       "4  Central  Douglas  124016.0\n",
       "5     West  Timothy   88063.0\n",
       "6     West  Douglas   66836.0\n",
       "7     East  Douglas   48204.0"
      ]
     },
     "execution_count": 39,
     "metadata": {},
     "output_type": "execute_result"
    }
   ],
   "source": [
    "df.groupby(['Region','Manager'])[['Sale_amt']].sum().sort_values('Sale_amt', ascending=False).reset_index()"
   ]
  },
  {
   "cell_type": "code",
   "execution_count": 89,
   "id": "4bff0747-f2c1-4011-81a0-cb3c48925fdb",
   "metadata": {},
   "outputs": [],
   "source": [
    "import pandas as pd\n",
    "import sys\n",
    "from supporting_files.data_loader import load_excel\n",
    "\n",
    "df = load_excel('supporting_files/SaleData.xlsx')\n",
    "\n",
    "\n",
    "\"\"\"\n",
    "Write a function to count the manager wise sale (sale_cnt)\n",
    "and mean value of sale amount (sale_mean). \n",
    "Order the output dataframe by sale_cnt, starting with the highest.\n",
    "Output should be DataFrame with 3 columns (order is important):\n",
    "    - Manager\n",
    "    - sale_cnt\n",
    "    - sale_mean\n",
    "and numeric index starting with 0 (after sorting).\n",
    "\"\"\"\n",
    "\n",
    "def compute_agg_stats(df):\n",
    "    final_df = pd.DataFrame()\n",
    "    \n",
    "    final_df['Manager'] = df.groupby('Manager').size().index\n",
    "    final_df['sale_cnt'] = df.groupby('Manager').size().values\n",
    "    final_df['sale_mean'] = df.groupby('Manager')['Sale_amt'].mean().values\n",
    "    final_df = final_df.sort_values('sale_cnt', ascending=False).reset_index(drop=True)\n",
    "    return final_df"
   ]
  },
  {
   "cell_type": "code",
   "execution_count": 90,
   "id": "9c44dd42-40bb-4ea6-a336-cea4e5a3fce1",
   "metadata": {},
   "outputs": [
    {
     "data": {
      "text/html": [
       "<div>\n",
       "<style scoped>\n",
       "    .dataframe tbody tr th:only-of-type {\n",
       "        vertical-align: middle;\n",
       "    }\n",
       "\n",
       "    .dataframe tbody tr th {\n",
       "        vertical-align: top;\n",
       "    }\n",
       "\n",
       "    .dataframe thead th {\n",
       "        text-align: right;\n",
       "    }\n",
       "</style>\n",
       "<table border=\"1\" class=\"dataframe\">\n",
       "  <thead>\n",
       "    <tr style=\"text-align: right;\">\n",
       "      <th></th>\n",
       "      <th>Manager</th>\n",
       "      <th>sale_cnt</th>\n",
       "      <th>sale_mean</th>\n",
       "    </tr>\n",
       "  </thead>\n",
       "  <tbody>\n",
       "    <tr>\n",
       "      <th>0</th>\n",
       "      <td>Martha</td>\n",
       "      <td>14</td>\n",
       "      <td>33749.500000</td>\n",
       "    </tr>\n",
       "    <tr>\n",
       "      <th>1</th>\n",
       "      <td>Hermann</td>\n",
       "      <td>12</td>\n",
       "      <td>30425.708333</td>\n",
       "    </tr>\n",
       "    <tr>\n",
       "      <th>2</th>\n",
       "      <td>Timothy</td>\n",
       "      <td>9</td>\n",
       "      <td>25446.444444</td>\n",
       "    </tr>\n",
       "    <tr>\n",
       "      <th>3</th>\n",
       "      <td>Douglas</td>\n",
       "      <td>8</td>\n",
       "      <td>29882.000000</td>\n",
       "    </tr>\n",
       "  </tbody>\n",
       "</table>\n",
       "</div>"
      ],
      "text/plain": [
       "   Manager  sale_cnt     sale_mean\n",
       "0   Martha        14  33749.500000\n",
       "1  Hermann        12  30425.708333\n",
       "2  Timothy         9  25446.444444\n",
       "3  Douglas         8  29882.000000"
      ]
     },
     "execution_count": 90,
     "metadata": {},
     "output_type": "execute_result"
    }
   ],
   "source": [
    "compute_agg_stats(df)"
   ]
  },
  {
   "cell_type": "code",
   "execution_count": null,
   "id": "c7003c08-71f3-43c8-906f-e7b946a6bf3d",
   "metadata": {},
   "outputs": [],
   "source": [
    "\"\"\"\n",
    " - Connect to the hr.db (stored in supporting-files directory) with sqlite3 \n",
    " - Write a query to get the department name and number of employees in the department.\n",
    " - Sort the data by number of employees starting from the highest.\n",
    "\n",
    "\n",
    "\n",
    "Expected columns:\n",
    "    - department_name\n",
    "    - number_of_employees\n",
    "\n",
    "Notes:\n",
    "    - Use tables employees and departments\n",
    "    - You can connect to DB from Jupyter Lab/Notebook, explore the table and try different queries\n",
    "    - In the variable 'SQL' store only the final query ready for validation \n",
    "\"\"\"\n",
    "\n",
    "\n",
    "SQL = \"\"\"\n",
    "SELECT department_name, COUNT() as number_of_employees\n",
    "FROM employees\n",
    "JOIN departments ON employees.department_id = departments.department_id\n",
    "GROUP BY employees.department_id\n",
    "ORDER BY number_of_employees DESC, department_name DESC\n",
    "\"\"\""
   ]
  }
 ],
 "metadata": {
  "kernelspec": {
   "display_name": "Python 3",
   "language": "python",
   "name": "python3"
  },
  "language_info": {
   "codemirror_mode": {
    "name": "ipython",
    "version": 3
   },
   "file_extension": ".py",
   "mimetype": "text/x-python",
   "name": "python",
   "nbconvert_exporter": "python",
   "pygments_lexer": "ipython3",
   "version": "3.8.5"
  }
 },
 "nbformat": 4,
 "nbformat_minor": 5
}
