{
 "cells": [
  {
   "cell_type": "markdown",
   "id": "ce14e65d-d39c-476d-bfad-8118431aca3f",
   "metadata": {},
   "source": [
    "## Regression Feature Selection\n",
    "### (Numerical Input, Numerical Output)"
   ]
  },
  {
   "cell_type": "markdown",
   "id": "6a4f1bdc-94a4-4dc1-a633-9b0e0a7c0608",
   "metadata": {},
   "source": [
    "This section demonstrates feature selection for a regression problem that as numerical inputs and numerical outputs.\n",
    "\n",
    "A test regression problem is prepared using the [make_regression() function](https://scikit-learn.org/stable/modules/generated/sklearn.datasets.make_regression.html).\n",
    "\n",
    "Feature selection is performed using [Pearson’s Correlation Coefficient](https://en.wikipedia.org/wiki/Pearson_correlation_coefficient) via the [f_regression()](https://scikit-learn.org/stable/modules/generated/sklearn.feature_selection.f_regression.html) function."
   ]
  },
  {
   "cell_type": "code",
   "execution_count": 4,
   "id": "fb22554c-413e-4951-ae9d-635acae8c822",
   "metadata": {},
   "outputs": [
    {
     "name": "stdout",
     "output_type": "stream",
     "text": [
      "(100, 10)\n"
     ]
    }
   ],
   "source": [
    "# pearson's correlation feature selection for numeric input and numeric output\n",
    "\n",
    "from sklearn.datasets import make_regression\n",
    "from sklearn.feature_selection import SelectKBest\n",
    "from sklearn.feature_selection import f_regression\n",
    "\n",
    "# generate dataset\n",
    "X, y = make_regression(n_samples=100, n_features=100, n_informative=10)\n",
    "\n",
    "# define feature selection\n",
    "fs = SelectKBest(score_func=f_regression, k=10)\n",
    "\n",
    "# apply feature selection\n",
    "X_selected = fs.fit_transform(X, y)\n",
    "\n",
    "print(X_selected.shape)"
   ]
  },
  {
   "cell_type": "markdown",
   "id": "bb0ee675-1504-43c5-ac90-50f37219e7db",
   "metadata": {},
   "source": [
    "## Classification Feature Selection\n",
    "### (Numerical Input, Categorical Output)"
   ]
  },
  {
   "cell_type": "markdown",
   "id": "62e99db1-2b0f-4a7d-bdcf-b25d2c10119f",
   "metadata": {},
   "source": [
    "This section demonstrates feature selection for a classification problem that as numerical inputs and categorical outputs.\n",
    "\n",
    "A test regression problem is prepared using the [make_classification()](https://scikit-learn.org/stable/modules/generated/sklearn.datasets.make_classification.html) function.\n",
    "\n",
    "Feature selection is performed using [ANOVA F measure](https://en.wikipedia.org/wiki/F-test) via the [f_classif()](https://scikit-learn.org/stable/modules/generated/sklearn.feature_selection.f_classif.html) function."
   ]
  },
  {
   "cell_type": "code",
   "execution_count": 5,
   "id": "5324b104-4394-448a-b373-bd6e9a598636",
   "metadata": {},
   "outputs": [
    {
     "name": "stdout",
     "output_type": "stream",
     "text": [
      "(100, 2)\n"
     ]
    }
   ],
   "source": [
    "# ANOVA feature selection for numeric input and categorical output\n",
    "\n",
    "from sklearn.datasets import make_classification\n",
    "from sklearn.feature_selection import SelectKBest\n",
    "from sklearn.feature_selection import f_classif\n",
    "\n",
    "# generate dataset\n",
    "X, y = make_classification(n_samples=100, n_features=20, n_informative=2)\n",
    "\n",
    "# define feature selection\n",
    "fs = SelectKBest(score_func=f_classif, k=2)\n",
    "\n",
    "# apply feature selection\n",
    "X_selected = fs.fit_transform(X, y)\n",
    "\n",
    "print(X_selected.shape)"
   ]
  },
  {
   "cell_type": "markdown",
   "id": "93fb8791-783e-4eeb-9691-2f58b1779c84",
   "metadata": {},
   "source": [
    "## Classification Feature Selection\n",
    "### (Categorical Input, Categorical Output)"
   ]
  },
  {
   "cell_type": "markdown",
   "id": "2ab2e9a0-90fe-4e27-9f78-b84a3bccac03",
   "metadata": {
    "tags": []
   },
   "source": [
    "[How to Perform Feature Selection with Categorical Data](https://machinelearningmastery.com/feature-selection-with-categorical-data/)"
   ]
  }
 ],
 "metadata": {
  "kernelspec": {
   "display_name": "Python 3",
   "language": "python",
   "name": "python3"
  },
  "language_info": {
   "codemirror_mode": {
    "name": "ipython",
    "version": 3
   },
   "file_extension": ".py",
   "mimetype": "text/x-python",
   "name": "python",
   "nbconvert_exporter": "python",
   "pygments_lexer": "ipython3",
   "version": "3.8.5"
  }
 },
 "nbformat": 4,
 "nbformat_minor": 5
}
