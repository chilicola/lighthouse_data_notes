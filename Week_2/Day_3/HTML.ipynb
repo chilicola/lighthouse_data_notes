{
 "cells": [
  {
   "cell_type": "code",
   "execution_count": 2,
   "id": "354e861c-462a-41db-a49d-a595625b57c7",
   "metadata": {},
   "outputs": [],
   "source": [
    "import pandas as pd\n",
    "import requests"
   ]
  },
  {
   "cell_type": "markdown",
   "id": "c4355121-9142-40f2-8804-029432010513",
   "metadata": {},
   "source": [
    "## URL with Table (easier extraction)"
   ]
  },
  {
   "cell_type": "code",
   "execution_count": 11,
   "id": "eab5649b-d79a-49c2-b85d-de7fbaab8a2d",
   "metadata": {},
   "outputs": [
    {
     "data": {
      "text/plain": [
       "<Response [200]>"
      ]
     },
     "execution_count": 11,
     "metadata": {},
     "output_type": "execute_result"
    }
   ],
   "source": [
    "url = 'https://www.worldcoinindex.com/'\n",
    "crypto_url = requests.get(url)\n",
    "crypto_url"
   ]
  },
  {
   "cell_type": "code",
   "execution_count": 13,
   "id": "8f31ca93-0bb5-43b4-9a45-f482345ecc1b",
   "metadata": {
    "tags": []
   },
   "outputs": [],
   "source": [
    "body = crypto_url.text"
   ]
  },
  {
   "cell_type": "code",
   "execution_count": 14,
   "id": "8b9ca841-70f7-4ac6-9e76-6b452653e5b3",
   "metadata": {},
   "outputs": [
    {
     "name": "stdout",
     "output_type": "stream",
     "text": [
      "<class 'list'>\n",
      "1\n"
     ]
    }
   ],
   "source": [
    "crypto_data = pd.read_html(body)\n",
    "print(type(crypto_data))\n",
    "print(len(crypto_data))"
   ]
  },
  {
   "cell_type": "code",
   "execution_count": 15,
   "id": "9b386cac-4fb8-474e-83c5-6e0e0adbf2f9",
   "metadata": {},
   "outputs": [
    {
     "data": {
      "text/html": [
       "<div>\n",
       "<style scoped>\n",
       "    .dataframe tbody tr th:only-of-type {\n",
       "        vertical-align: middle;\n",
       "    }\n",
       "\n",
       "    .dataframe tbody tr th {\n",
       "        vertical-align: top;\n",
       "    }\n",
       "\n",
       "    .dataframe thead th {\n",
       "        text-align: right;\n",
       "    }\n",
       "</style>\n",
       "<table border=\"1\" class=\"dataframe\">\n",
       "  <thead>\n",
       "    <tr style=\"text-align: right;\">\n",
       "      <th></th>\n",
       "      <th>#</th>\n",
       "      <th>Unnamed: 1</th>\n",
       "      <th>Name</th>\n",
       "      <th>Ticker</th>\n",
       "      <th>Last price</th>\n",
       "      <th>%</th>\n",
       "      <th>24 high</th>\n",
       "      <th>24 low</th>\n",
       "      <th>Price Charts 7d</th>\n",
       "      <th>24 volume</th>\n",
       "      <th># Coins</th>\n",
       "      <th>Market cap</th>\n",
       "    </tr>\n",
       "  </thead>\n",
       "  <tbody>\n",
       "    <tr>\n",
       "      <th>0</th>\n",
       "      <td>1</td>\n",
       "      <td>NaN</td>\n",
       "      <td>Ethereum</td>\n",
       "      <td>ETH</td>\n",
       "      <td>$ 2,796.37</td>\n",
       "      <td>+3.28%</td>\n",
       "      <td>$ 2,890.34</td>\n",
       "      <td>$ 2,664.86</td>\n",
       "      <td>NaN</td>\n",
       "      <td>$ 16.25B</td>\n",
       "      <td>116.14M</td>\n",
       "      <td>$ 324.77B</td>\n",
       "    </tr>\n",
       "    <tr>\n",
       "      <th>1</th>\n",
       "      <td>2</td>\n",
       "      <td>NaN</td>\n",
       "      <td>Bitcoin</td>\n",
       "      <td>BTC</td>\n",
       "      <td>$ 38,576</td>\n",
       "      <td>+2.66%</td>\n",
       "      <td>$ 39,475</td>\n",
       "      <td>$ 37,215</td>\n",
       "      <td>NaN</td>\n",
       "      <td>$ 11.59B</td>\n",
       "      <td>18.72M</td>\n",
       "      <td>$ 722.38B</td>\n",
       "    </tr>\n",
       "    <tr>\n",
       "      <th>2</th>\n",
       "      <td>3</td>\n",
       "      <td>NaN</td>\n",
       "      <td>Dogecoin</td>\n",
       "      <td>DOGE</td>\n",
       "      <td>$ 0.389339</td>\n",
       "      <td>-7.97%</td>\n",
       "      <td>$ 0.440510</td>\n",
       "      <td>$ 0.378179</td>\n",
       "      <td>NaN</td>\n",
       "      <td>$ 6.98B</td>\n",
       "      <td>129.40B</td>\n",
       "      <td>$ 50.38B</td>\n",
       "    </tr>\n",
       "    <tr>\n",
       "      <th>3</th>\n",
       "      <td>4</td>\n",
       "      <td>NaN</td>\n",
       "      <td>Binancecoin</td>\n",
       "      <td>BNB</td>\n",
       "      <td>$ 414.54</td>\n",
       "      <td>+3.25%</td>\n",
       "      <td>$ 432.45</td>\n",
       "      <td>$ 391.85</td>\n",
       "      <td>NaN</td>\n",
       "      <td>$ 3.04B</td>\n",
       "      <td>154.53M</td>\n",
       "      <td>$ 64.05B</td>\n",
       "    </tr>\n",
       "    <tr>\n",
       "      <th>4</th>\n",
       "      <td>5</td>\n",
       "      <td>NaN</td>\n",
       "      <td>Ripple</td>\n",
       "      <td>XRP</td>\n",
       "      <td>$ 1.03</td>\n",
       "      <td>+0.64%</td>\n",
       "      <td>$ 1.08</td>\n",
       "      <td>$ 1.01</td>\n",
       "      <td>NaN</td>\n",
       "      <td>$ 2.80B</td>\n",
       "      <td>46.15B</td>\n",
       "      <td>$ 47.59B</td>\n",
       "    </tr>\n",
       "  </tbody>\n",
       "</table>\n",
       "</div>"
      ],
      "text/plain": [
       "   # Unnamed: 1         Name Ticker  Last price       %     24 high  \\\n",
       "0  1        NaN     Ethereum    ETH  $ 2,796.37  +3.28%  $ 2,890.34   \n",
       "1  2        NaN      Bitcoin    BTC    $ 38,576  +2.66%    $ 39,475   \n",
       "2  3        NaN     Dogecoin   DOGE  $ 0.389339  -7.97%  $ 0.440510   \n",
       "3  4        NaN  Binancecoin    BNB    $ 414.54  +3.25%    $ 432.45   \n",
       "4  5        NaN       Ripple    XRP      $ 1.03  +0.64%      $ 1.08   \n",
       "\n",
       "       24 low Price Charts 7d 24 volume  # Coins Market cap  \n",
       "0  $ 2,664.86             NaN  $ 16.25B  116.14M  $ 324.77B  \n",
       "1    $ 37,215             NaN  $ 11.59B   18.72M  $ 722.38B  \n",
       "2  $ 0.378179             NaN   $ 6.98B  129.40B   $ 50.38B  \n",
       "3    $ 391.85             NaN   $ 3.04B  154.53M   $ 64.05B  \n",
       "4      $ 1.01             NaN   $ 2.80B   46.15B   $ 47.59B  "
      ]
     },
     "execution_count": 15,
     "metadata": {},
     "output_type": "execute_result"
    }
   ],
   "source": [
    "crypto_data = crypto_data[0]\n",
    "crypto_data.head()"
   ]
  },
  {
   "cell_type": "markdown",
   "id": "1740c162-89bd-4e87-9e08-0683b225669e",
   "metadata": {},
   "source": [
    "## URL without Table (harder extraction)"
   ]
  },
  {
   "cell_type": "code",
   "execution_count": 38,
   "id": "dd958021-3a1c-4361-afae-4e096a184e05",
   "metadata": {},
   "outputs": [
    {
     "name": "stdout",
     "output_type": "stream",
     "text": [
      "<!DOCTYPE html>\n",
      "<html>\n",
      "    <head>\n",
      "        <title>A simple example page</title>\n",
      "    </head>\n",
      "    <body>\n",
      "        <p>Here is some simple content for this page.</p>\n",
      "    </body>\n",
      "</html>\n"
     ]
    }
   ],
   "source": [
    "page = requests.get('https://dataquestio.github.io/web-scraping-pages/simple.html')\n",
    "page.status_code\n",
    "print(page.text)"
   ]
  },
  {
   "cell_type": "code",
   "execution_count": 21,
   "id": "31eef8b1-8bb3-459d-a313-47619cc261e0",
   "metadata": {},
   "outputs": [],
   "source": [
    "from bs4 import BeautifulSoup"
   ]
  },
  {
   "cell_type": "code",
   "execution_count": 59,
   "id": "99197cfc-5033-498f-a2a5-5dd4d3aea65a",
   "metadata": {},
   "outputs": [
    {
     "name": "stdout",
     "output_type": "stream",
     "text": [
      "<!DOCTYPE html>\n",
      "<html>\n",
      " <head>\n",
      "  <title>\n",
      "   A simple example page\n",
      "  </title>\n",
      " </head>\n",
      " <body>\n",
      "  <p>\n",
      "   Here is some simple content for this page.\n",
      "  </p>\n",
      " </body>\n",
      "</html>\n"
     ]
    }
   ],
   "source": [
    "soup = BeautifulSoup(page.text, 'html.parser')\n",
    "print(soup.prettify())"
   ]
  },
  {
   "cell_type": "code",
   "execution_count": 63,
   "id": "1e201708-b949-4906-932d-3fec88af6646",
   "metadata": {},
   "outputs": [
    {
     "data": {
      "text/plain": [
       "['html',\n",
       " '\\n',\n",
       " <html>\n",
       " <head>\n",
       " <title>A simple example page</title>\n",
       " </head>\n",
       " <body>\n",
       " <p>Here is some simple content for this page.</p>\n",
       " </body>\n",
       " </html>]"
      ]
     },
     "execution_count": 63,
     "metadata": {},
     "output_type": "execute_result"
    }
   ],
   "source": [
    "list(soup.children)"
   ]
  },
  {
   "cell_type": "code",
   "execution_count": 41,
   "id": "150af84d-0cb3-4450-b847-6e7af12dc4bf",
   "metadata": {},
   "outputs": [
    {
     "data": {
      "text/plain": [
       "[bs4.element.Doctype, bs4.element.NavigableString, bs4.element.Tag]"
      ]
     },
     "execution_count": 41,
     "metadata": {},
     "output_type": "execute_result"
    }
   ],
   "source": [
    "[type(item) for item in list(soup.children)]"
   ]
  },
  {
   "cell_type": "code",
   "execution_count": 68,
   "id": "92af70ce-f9ee-42a6-a2e7-d947d081cbf0",
   "metadata": {},
   "outputs": [],
   "source": [
    "html = list(soup.children)[2]"
   ]
  },
  {
   "cell_type": "code",
   "execution_count": 49,
   "id": "4188ae0c-481e-490e-b12f-364438245d94",
   "metadata": {},
   "outputs": [
    {
     "data": {
      "text/plain": [
       "['\\n',\n",
       " <head>\n",
       " <title>A simple example page</title>\n",
       " </head>,\n",
       " '\\n',\n",
       " <body>\n",
       " <p>Here is some simple content for this page.</p>\n",
       " </body>,\n",
       " '\\n']"
      ]
     },
     "execution_count": 49,
     "metadata": {},
     "output_type": "execute_result"
    }
   ],
   "source": [
    "list(html.children)"
   ]
  },
  {
   "cell_type": "code",
   "execution_count": 50,
   "id": "2b0a0034-cf41-4abe-9400-8dcea5754d5e",
   "metadata": {},
   "outputs": [],
   "source": [
    "body = list(html.children)[3]"
   ]
  },
  {
   "cell_type": "code",
   "execution_count": 51,
   "id": "7ad2c7ea-7293-4941-99ad-77540044b9af",
   "metadata": {},
   "outputs": [
    {
     "data": {
      "text/plain": [
       "['\\n', <p>Here is some simple content for this page.</p>, '\\n']"
      ]
     },
     "execution_count": 51,
     "metadata": {},
     "output_type": "execute_result"
    }
   ],
   "source": [
    "list(body.children)"
   ]
  },
  {
   "cell_type": "code",
   "execution_count": 52,
   "id": "92c1fc5c-c0d4-46ee-97f9-88577eb4ad49",
   "metadata": {},
   "outputs": [],
   "source": [
    "p = list(body.children)[1]"
   ]
  },
  {
   "cell_type": "code",
   "execution_count": 58,
   "id": "a7ad4da6-014d-4318-bf2c-2e423715c4f5",
   "metadata": {},
   "outputs": [
    {
     "data": {
      "text/plain": [
       "'Here is some simple content for this page.'"
      ]
     },
     "execution_count": 58,
     "metadata": {},
     "output_type": "execute_result"
    }
   ],
   "source": [
    "p.text"
   ]
  },
  {
   "cell_type": "code",
   "execution_count": 72,
   "id": "44eac387-998c-49df-be39-d75779f7c281",
   "metadata": {},
   "outputs": [
    {
     "data": {
      "text/plain": [
       "'Here is some simple content for this page.'"
      ]
     },
     "execution_count": 72,
     "metadata": {},
     "output_type": "execute_result"
    }
   ],
   "source": [
    "soup = BeautifulSoup(page.text, 'html.parser')\n",
    "soup.find_all('p')[0].text"
   ]
  },
  {
   "cell_type": "code",
   "execution_count": 73,
   "id": "3ea148ad-1760-49fd-a6ea-58829ea4e51f",
   "metadata": {},
   "outputs": [
    {
     "data": {
      "text/plain": [
       "<p>Here is some simple content for this page.</p>"
      ]
     },
     "execution_count": 73,
     "metadata": {},
     "output_type": "execute_result"
    }
   ],
   "source": [
    "soup.find('p')"
   ]
  },
  {
   "cell_type": "markdown",
   "id": "f422c6e7-68c1-427b-9356-d717e50e2b90",
   "metadata": {},
   "source": [
    "## Searching for tags by class and id"
   ]
  },
  {
   "cell_type": "code",
   "execution_count": 76,
   "id": "a743bf02-2e08-49d1-a55a-deb039d6f015",
   "metadata": {
    "tags": []
   },
   "outputs": [
    {
     "data": {
      "text/plain": [
       "<html>\n",
       "<head>\n",
       "<title>A simple example page</title>\n",
       "</head>\n",
       "<body>\n",
       "<div>\n",
       "<p class=\"inner-text first-item\" id=\"first\">\n",
       "                First paragraph.\n",
       "            </p>\n",
       "<p class=\"inner-text\">\n",
       "                Second paragraph.\n",
       "            </p>\n",
       "</div>\n",
       "<p class=\"outer-text first-item\" id=\"second\">\n",
       "<b>\n",
       "                First outer paragraph.\n",
       "            </b>\n",
       "</p>\n",
       "<p class=\"outer-text\">\n",
       "<b>\n",
       "                Second outer paragraph.\n",
       "            </b>\n",
       "</p>\n",
       "</body>\n",
       "</html>"
      ]
     },
     "execution_count": 76,
     "metadata": {},
     "output_type": "execute_result"
    }
   ],
   "source": [
    "page = requests.get('https://dataquestio.github.io/web-scraping-pages/ids_and_classes.html')\n",
    "soup = BeautifulSoup(page.text, 'html.parser')\n",
    "soup"
   ]
  },
  {
   "cell_type": "code",
   "execution_count": 78,
   "id": "99a7b839-b039-4841-822e-ae26b80173a3",
   "metadata": {},
   "outputs": [
    {
     "data": {
      "text/plain": [
       "[<p class=\"outer-text first-item\" id=\"second\">\n",
       " <b>\n",
       "                 First outer paragraph.\n",
       "             </b>\n",
       " </p>,\n",
       " <p class=\"outer-text\">\n",
       " <b>\n",
       "                 Second outer paragraph.\n",
       "             </b>\n",
       " </p>]"
      ]
     },
     "execution_count": 78,
     "metadata": {},
     "output_type": "execute_result"
    }
   ],
   "source": [
    "soup.find_all('p', class_ = 'outer-text')"
   ]
  },
  {
   "cell_type": "code",
   "execution_count": 79,
   "id": "8c1fbc2e-a55b-4d4f-9ca9-a1a4a241ec93",
   "metadata": {},
   "outputs": [
    {
     "data": {
      "text/plain": [
       "[<p class=\"outer-text first-item\" id=\"second\">\n",
       " <b>\n",
       "                 First outer paragraph.\n",
       "             </b>\n",
       " </p>,\n",
       " <p class=\"outer-text\">\n",
       " <b>\n",
       "                 Second outer paragraph.\n",
       "             </b>\n",
       " </p>]"
      ]
     },
     "execution_count": 79,
     "metadata": {},
     "output_type": "execute_result"
    }
   ],
   "source": [
    "soup.find_all(class_ = 'outer-text')"
   ]
  },
  {
   "cell_type": "code",
   "execution_count": 80,
   "id": "54d5d2b6-6ac9-41d8-a07b-fe6a66fd6e8f",
   "metadata": {},
   "outputs": [
    {
     "data": {
      "text/plain": [
       "[<p class=\"inner-text first-item\" id=\"first\">\n",
       "                 First paragraph.\n",
       "             </p>]"
      ]
     },
     "execution_count": 80,
     "metadata": {},
     "output_type": "execute_result"
    }
   ],
   "source": [
    "soup.find_all(id = 'first')"
   ]
  },
  {
   "cell_type": "markdown",
   "id": "7ff1443e-0d43-462a-8231-681327a3c4e5",
   "metadata": {},
   "source": [
    "## Using CSS Selectors"
   ]
  },
  {
   "cell_type": "markdown",
   "id": "a5ab08c5-7c32-4d6f-a7c1-91acfa23f658",
   "metadata": {},
   "source": [
    "* p a — finds all a tags inside of a p tag.\n",
    "* body p a — finds all a tags inside of a p tag inside of a body tag.\n",
    "* html body — finds all body tags inside of an html tag.\n",
    "* p.outer-text — finds all p tags with a class of outer-text.\n",
    "* p#first — finds all p tags with an id of first.\n",
    "* body p.outer-text — finds any p tags with a class of outer-text inside of a body tag."
   ]
  },
  {
   "cell_type": "code",
   "execution_count": 81,
   "id": "b23cdc4a-207a-432b-8777-29d4e2722bfc",
   "metadata": {},
   "outputs": [
    {
     "data": {
      "text/plain": [
       "[<p class=\"inner-text first-item\" id=\"first\">\n",
       "                 First paragraph.\n",
       "             </p>,\n",
       " <p class=\"inner-text\">\n",
       "                 Second paragraph.\n",
       "             </p>]"
      ]
     },
     "execution_count": 81,
     "metadata": {},
     "output_type": "execute_result"
    }
   ],
   "source": [
    "soup.select('div p')"
   ]
  },
  {
   "cell_type": "markdown",
   "id": "d6f01d61-4684-4aa1-b799-c5fb4d8c34f6",
   "metadata": {},
   "source": [
    "# Weather Data"
   ]
  },
  {
   "cell_type": "code",
   "execution_count": 144,
   "id": "2ef43550-32ca-4ce1-aee7-a0e5ac3ba779",
   "metadata": {},
   "outputs": [
    {
     "name": "stdout",
     "output_type": "stream",
     "text": [
      "<div class=\"tombstone-container\">\n",
      " <p class=\"period-name\">\n",
      "  Tonight\n",
      "  <br/>\n",
      "  <br/>\n",
      " </p>\n",
      " <p>\n",
      "  <img alt=\"Tonight: Increasing clouds, with a low around 54. West wind 16 to 21 mph, with gusts as high as 28 mph. \" class=\"forecast-icon\" src=\"newimages/medium/nsct.png\" title=\"Tonight: Increasing clouds, with a low around 54. West wind 16 to 21 mph, with gusts as high as 28 mph. \"/>\n",
      " </p>\n",
      " <p class=\"short-desc\">\n",
      "  Increasing\n",
      "  <br/>\n",
      "  Clouds\n",
      " </p>\n",
      " <p class=\"temp temp-low\">\n",
      "  Low: 54 °F\n",
      " </p>\n",
      "</div>\n"
     ]
    }
   ],
   "source": [
    "weather_url = requests.get('https://forecast.weather.gov/MapClick.php?lat=37.7772&lon=-122.4168')\n",
    "soup = BeautifulSoup(weather_url.text, 'html.parser')\n",
    "seven_day = soup.find(id = 'seven-day-forecast')\n",
    "forecast_items = seven_day.find_all(class_ = 'tombstone-container')\n",
    "tonight = forecast_items[1]\n",
    "print(tonight.prettify())"
   ]
  },
  {
   "cell_type": "code",
   "execution_count": 176,
   "id": "5ea78075-c631-4568-9ac4-6fa98108c30b",
   "metadata": {},
   "outputs": [
    {
     "name": "stdout",
     "output_type": "stream",
     "text": [
      "Tonight\n",
      "IncreasingClouds\n",
      "Low: 54 °F\n"
     ]
    }
   ],
   "source": [
    "period = tonight.find('p', class_ = 'period-name').text\n",
    "short_desc = tonight.find(class_ = 'short-desc').text\n",
    "temp = tonight.find(class_ = 'temp').text\n",
    "print(period)\n",
    "print(short_desc)\n",
    "print(temp)"
   ]
  }
 ],
 "metadata": {
  "kernelspec": {
   "display_name": "Python 3",
   "language": "python",
   "name": "python3"
  },
  "language_info": {
   "codemirror_mode": {
    "name": "ipython",
    "version": 3
   },
   "file_extension": ".py",
   "mimetype": "text/x-python",
   "name": "python",
   "nbconvert_exporter": "python",
   "pygments_lexer": "ipython3",
   "version": "3.8.5"
  }
 },
 "nbformat": 4,
 "nbformat_minor": 5
}
