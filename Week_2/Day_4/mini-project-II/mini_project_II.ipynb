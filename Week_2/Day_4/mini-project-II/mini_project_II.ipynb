{
 "cells": [
  {
   "cell_type": "code",
   "execution_count": 1,
   "id": "8e64f754-98c2-4504-9811-a7191ce0d369",
   "metadata": {},
   "outputs": [],
   "source": [
    "import requests\n",
    "import pandas as pd\n",
    "from pandas.io.json import json_normalize\n",
    "from config import *"
   ]
  },
  {
   "cell_type": "code",
   "execution_count": 4,
   "id": "d477b2a5-9cf5-4920-8b9f-811cab8def52",
   "metadata": {
    "tags": []
   },
   "outputs": [],
   "source": [
    "yelp_url = requests.get('https://api.yelp.com/v3/businesses/search',\n",
    "                       params = {'location': 'Vancouver'},\n",
    "                       headers = {'Authorization': 'Bearer ' + yelp_api})"
   ]
  },
  {
   "cell_type": "code",
   "execution_count": 5,
   "id": "0ecad7d8-976e-4854-ba95-542974d64ce0",
   "metadata": {},
   "outputs": [
    {
     "data": {
      "text/plain": [
       "<Response [200]>"
      ]
     },
     "execution_count": 5,
     "metadata": {},
     "output_type": "execute_result"
    }
   ],
   "source": [
    "yelp_url"
   ]
  },
  {
   "cell_type": "code",
   "execution_count": 6,
   "id": "924fdf49-c224-4360-bdd8-16efa6f86b17",
   "metadata": {},
   "outputs": [
    {
     "data": {
      "text/html": [
       "<div>\n",
       "<style scoped>\n",
       "    .dataframe tbody tr th:only-of-type {\n",
       "        vertical-align: middle;\n",
       "    }\n",
       "\n",
       "    .dataframe tbody tr th {\n",
       "        vertical-align: top;\n",
       "    }\n",
       "\n",
       "    .dataframe thead th {\n",
       "        text-align: right;\n",
       "    }\n",
       "</style>\n",
       "<table border=\"1\" class=\"dataframe\">\n",
       "  <thead>\n",
       "    <tr style=\"text-align: right;\">\n",
       "      <th></th>\n",
       "      <th>name</th>\n",
       "      <th>review_count</th>\n",
       "      <th>rating</th>\n",
       "    </tr>\n",
       "  </thead>\n",
       "  <tbody>\n",
       "    <tr>\n",
       "      <th>1</th>\n",
       "      <td>Medina Cafe</td>\n",
       "      <td>2309</td>\n",
       "      <td>4.0</td>\n",
       "    </tr>\n",
       "    <tr>\n",
       "      <th>2</th>\n",
       "      <td>Miku</td>\n",
       "      <td>1816</td>\n",
       "      <td>4.5</td>\n",
       "    </tr>\n",
       "    <tr>\n",
       "      <th>4</th>\n",
       "      <td>Chambar</td>\n",
       "      <td>1363</td>\n",
       "      <td>4.0</td>\n",
       "    </tr>\n",
       "    <tr>\n",
       "      <th>6</th>\n",
       "      <td>Phnom Penh</td>\n",
       "      <td>1306</td>\n",
       "      <td>4.0</td>\n",
       "    </tr>\n",
       "    <tr>\n",
       "      <th>3</th>\n",
       "      <td>Jam Cafe on Beatty</td>\n",
       "      <td>1104</td>\n",
       "      <td>4.5</td>\n",
       "    </tr>\n",
       "    <tr>\n",
       "      <th>17</th>\n",
       "      <td>The Flying Pig - Yaletown</td>\n",
       "      <td>1090</td>\n",
       "      <td>4.0</td>\n",
       "    </tr>\n",
       "    <tr>\n",
       "      <th>10</th>\n",
       "      <td>Twisted Fork</td>\n",
       "      <td>1036</td>\n",
       "      <td>4.0</td>\n",
       "    </tr>\n",
       "    <tr>\n",
       "      <th>16</th>\n",
       "      <td>Japadog</td>\n",
       "      <td>991</td>\n",
       "      <td>4.0</td>\n",
       "    </tr>\n",
       "    <tr>\n",
       "      <th>9</th>\n",
       "      <td>Hokkaido Ramen Santouka</td>\n",
       "      <td>946</td>\n",
       "      <td>4.0</td>\n",
       "    </tr>\n",
       "    <tr>\n",
       "      <th>0</th>\n",
       "      <td>Stanley Park</td>\n",
       "      <td>946</td>\n",
       "      <td>5.0</td>\n",
       "    </tr>\n",
       "  </tbody>\n",
       "</table>\n",
       "</div>"
      ],
      "text/plain": [
       "                         name  review_count  rating\n",
       "1                 Medina Cafe          2309     4.0\n",
       "2                        Miku          1816     4.5\n",
       "4                     Chambar          1363     4.0\n",
       "6                  Phnom Penh          1306     4.0\n",
       "3          Jam Cafe on Beatty          1104     4.5\n",
       "17  The Flying Pig - Yaletown          1090     4.0\n",
       "10               Twisted Fork          1036     4.0\n",
       "16                    Japadog           991     4.0\n",
       "9     Hokkaido Ramen Santouka           946     4.0\n",
       "0                Stanley Park           946     5.0"
      ]
     },
     "execution_count": 6,
     "metadata": {},
     "output_type": "execute_result"
    }
   ],
   "source": [
    "yelp_json = yelp_url.json()\n",
    "df_yelp = pd.json_normalize(yelp_json, record_path = 'businesses')\n",
    "df_yelp.head()\n",
    "\n",
    "# name, review_count, rating\n",
    "\n",
    "pop = df_yelp[['name', 'review_count', 'rating']]\n",
    "pop.sort_values('review_count', ascending = False).head(10)"
   ]
  },
  {
   "cell_type": "code",
   "execution_count": 7,
   "id": "9577acf8-9a0a-43f1-adeb-773243389cf3",
   "metadata": {},
   "outputs": [
    {
     "data": {
      "text/html": [
       "<div>\n",
       "<style scoped>\n",
       "    .dataframe tbody tr th:only-of-type {\n",
       "        vertical-align: middle;\n",
       "    }\n",
       "\n",
       "    .dataframe tbody tr th {\n",
       "        vertical-align: top;\n",
       "    }\n",
       "\n",
       "    .dataframe thead th {\n",
       "        text-align: right;\n",
       "    }\n",
       "</style>\n",
       "<table border=\"1\" class=\"dataframe\">\n",
       "  <thead>\n",
       "    <tr style=\"text-align: right;\">\n",
       "      <th></th>\n",
       "      <th>name</th>\n",
       "      <th>review_count</th>\n",
       "      <th>rating</th>\n",
       "    </tr>\n",
       "  </thead>\n",
       "  <tbody>\n",
       "    <tr>\n",
       "      <th>0</th>\n",
       "      <td>Stanley Park</td>\n",
       "      <td>946</td>\n",
       "      <td>5.0</td>\n",
       "    </tr>\n",
       "    <tr>\n",
       "      <th>13</th>\n",
       "      <td>Fable</td>\n",
       "      <td>682</td>\n",
       "      <td>4.5</td>\n",
       "    </tr>\n",
       "    <tr>\n",
       "      <th>2</th>\n",
       "      <td>Miku</td>\n",
       "      <td>1816</td>\n",
       "      <td>4.5</td>\n",
       "    </tr>\n",
       "  </tbody>\n",
       "</table>\n",
       "</div>"
      ],
      "text/plain": [
       "            name  review_count  rating\n",
       "0   Stanley Park           946     5.0\n",
       "13         Fable           682     4.5\n",
       "2           Miku          1816     4.5"
      ]
     },
     "execution_count": 7,
     "metadata": {},
     "output_type": "execute_result"
    }
   ],
   "source": [
    "pop.sort_values('rating', ascending = False).head(3)"
   ]
  }
 ],
 "metadata": {
  "kernelspec": {
   "display_name": "Python 3",
   "language": "python",
   "name": "python3"
  },
  "language_info": {
   "codemirror_mode": {
    "name": "ipython",
    "version": 3
   },
   "file_extension": ".py",
   "mimetype": "text/x-python",
   "name": "python",
   "nbconvert_exporter": "python",
   "pygments_lexer": "ipython3",
   "version": "3.8.5"
  }
 },
 "nbformat": 4,
 "nbformat_minor": 5
}
