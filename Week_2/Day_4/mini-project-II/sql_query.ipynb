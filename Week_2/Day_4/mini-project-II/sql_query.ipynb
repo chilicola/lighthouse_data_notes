{
 "cells": [
  {
   "cell_type": "code",
   "execution_count": 2,
   "id": "b84210c3-87ba-4092-b524-434c4ea293a3",
   "metadata": {},
   "outputs": [],
   "source": [
    "import sqlite3\n",
    "from sqlite3 import Error"
   ]
  },
  {
   "cell_type": "code",
   "execution_count": 3,
   "id": "b4913f01-a17a-466b-8f7d-e778f77f6ecc",
   "metadata": {},
   "outputs": [],
   "source": [
    "# connection\n",
    "\n",
    "def create_connection(path):\n",
    "    \n",
    "    try:\n",
    "        connection = sqlite3.connect(path)\n",
    "        print('Connection to SQLite DB successful')\n",
    "    except Error as e:\n",
    "        print(f'The error \"{e}\" occurred')\n",
    "    return connection"
   ]
  },
  {
   "cell_type": "code",
   "execution_count": 4,
   "id": "99eb857f-7895-49a2-8b67-31402e00273d",
   "metadata": {},
   "outputs": [
    {
     "name": "stdout",
     "output_type": "stream",
     "text": [
      "Connection to SQLite DB successful\n"
     ]
    }
   ],
   "source": [
    "connection = create_connection(\"pj2_db.sqlite\")"
   ]
  }
 ],
 "metadata": {
  "kernelspec": {
   "display_name": "Python 3",
   "language": "python",
   "name": "python3"
  },
  "language_info": {
   "codemirror_mode": {
    "name": "ipython",
    "version": 3
   },
   "file_extension": ".py",
   "mimetype": "text/x-python",
   "name": "python",
   "nbconvert_exporter": "python",
   "pygments_lexer": "ipython3",
   "version": "3.8.5"
  }
 },
 "nbformat": 4,
 "nbformat_minor": 5
}
