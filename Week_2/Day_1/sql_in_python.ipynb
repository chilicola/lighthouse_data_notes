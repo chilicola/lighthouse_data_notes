{
 "cells": [
  {
   "cell_type": "code",
   "execution_count": 1,
   "id": "0af8ecd7-b5c3-4158-ab2f-492f9f8c42ee",
   "metadata": {},
   "outputs": [],
   "source": [
    "import sqlite3\n",
    "from sqlite3 import Error"
   ]
  },
  {
   "cell_type": "code",
   "execution_count": 4,
   "id": "7946eda3-01ad-428d-ad5f-d11977b00f7e",
   "metadata": {},
   "outputs": [],
   "source": [
    "def create_connection(path):\n",
    "    \n",
    "    try:\n",
    "        connection = sqlite3.connect(path)\n",
    "        print('Connection to SQLite DB successful')\n",
    "    except Error as e:\n",
    "        print(f'The error \"{e}\" occurred')\n",
    "    return connection"
   ]
  },
  {
   "cell_type": "code",
   "execution_count": 5,
   "id": "57dac68d-36be-43e5-8939-ad25ab45f555",
   "metadata": {},
   "outputs": [
    {
     "name": "stdout",
     "output_type": "stream",
     "text": [
      "Connection to SQLite DB successful\n"
     ]
    }
   ],
   "source": [
    "connection = create_connection(\"sm_app.sqlite\")"
   ]
  },
  {
   "cell_type": "markdown",
   "id": "7623e32b-4ad3-48db-89d5-a0f958d2eb70",
   "metadata": {},
   "source": [
    "## Creating Tables"
   ]
  },
  {
   "cell_type": "code",
   "execution_count": 6,
   "id": "80d9380b-0b23-4fa1-b807-81e405824e18",
   "metadata": {},
   "outputs": [],
   "source": [
    "def execute_query(connection, query):\n",
    "    cursor = connection.cursor()\n",
    "    try:\n",
    "        cursor.execute(query)\n",
    "        connection.commit()\n",
    "        print('Query executed successfully')\n",
    "    except Error as e:\n",
    "        print(f'The error \"{e}\" occured')"
   ]
  },
  {
   "cell_type": "code",
   "execution_count": 7,
   "id": "e7aad0af-4efe-4147-befd-20763e18cca6",
   "metadata": {},
   "outputs": [],
   "source": [
    "create_users_table = \"\"\"\n",
    "CREATE TABLE IF NOT EXISTS users (\n",
    "    id INTEGER PRIMARY KEY AUTOINCREMENT,\n",
    "    name TEXT NOT NULL,\n",
    "    age INTEGER,\n",
    "    gender TEXT,\n",
    "    nationality TEXT);\n",
    "\"\"\""
   ]
  },
  {
   "cell_type": "code",
   "execution_count": 9,
   "id": "af0ab20f-bdc6-4933-8bd1-17f2f7638372",
   "metadata": {},
   "outputs": [
    {
     "name": "stdout",
     "output_type": "stream",
     "text": [
      "Query executed successfully\n"
     ]
    }
   ],
   "source": [
    "execute_query(connection, create_users_table)"
   ]
  },
  {
   "cell_type": "code",
   "execution_count": 10,
   "id": "23f6602d-ee79-481d-a0a2-71e974febb72",
   "metadata": {},
   "outputs": [],
   "source": [
    "create_posts_table = \"\"\"\n",
    "CREATE TABLE IF NOT EXISTS posts(\n",
    "    id INTEGER PRIMARY KEY AUTOINCREMENT,\n",
    "    title TEXT NOT NULL,\n",
    "    description TEXT NOT NULL,\n",
    "    user_id INTEGER NOT NULL,\n",
    "    FOREIGN KEY (user_id) REFERENCES users (id));\n",
    "\"\"\""
   ]
  },
  {
   "cell_type": "code",
   "execution_count": 11,
   "id": "9402316e-5401-400c-989b-db5945722765",
   "metadata": {},
   "outputs": [
    {
     "name": "stdout",
     "output_type": "stream",
     "text": [
      "Query executed successfully\n"
     ]
    }
   ],
   "source": [
    "execute_query(connection, create_posts_table)"
   ]
  },
  {
   "cell_type": "code",
   "execution_count": 12,
   "id": "c7dc4da4-51bd-4ab5-813d-e71c8dc49416",
   "metadata": {},
   "outputs": [],
   "source": [
    "create_comments_table = \"\"\"\n",
    "CREATE TABLE IF NOT EXISTS comments(\n",
    "    id INTEGER PRIMARY KEY AUTOINCREMENT,\n",
    "    text TEXT NOT NULL,\n",
    "    user_id INTEGER NOT NULL,\n",
    "    post_id INTEGER NOT NULL,\n",
    "    FOREIGN KEY (user_id) REFERENCES users (id) FOREIGN KEY (post_id) REFERENCES posts (id));\n",
    "\"\"\"\n",
    "\n",
    "create_likes_table = \"\"\"\n",
    "CREATE TABLE IF NOT EXISTS likes(\n",
    "    id INTEGER PRIMARY KEY AUTOINCREMENT,\n",
    "    user_id INTEGER NOT NULL,\n",
    "    post_id INTEGER NOT NULL,\n",
    "    FOREIGN KEY (user_id) REFERENCES users (id) FOREIGN KEY (post_id) REFERENCES posts (id));\n",
    "\"\"\""
   ]
  },
  {
   "cell_type": "code",
   "execution_count": 14,
   "id": "82497f61-15e2-480b-ae7f-d8ee335e3365",
   "metadata": {},
   "outputs": [
    {
     "name": "stdout",
     "output_type": "stream",
     "text": [
      "Query executed successfully\n",
      "Query executed successfully\n"
     ]
    }
   ],
   "source": [
    "execute_query(connection, create_comments_table)\n",
    "execute_query(connection, create_likes_table)"
   ]
  },
  {
   "cell_type": "markdown",
   "id": "8d8c7eab-cf1d-40ca-bcbd-acb5887505e2",
   "metadata": {},
   "source": [
    "## Inserting Records"
   ]
  },
  {
   "cell_type": "code",
   "execution_count": 15,
   "id": "ad1e10c7-61b2-4400-b966-b588eaaddde2",
   "metadata": {},
   "outputs": [],
   "source": [
    "create_users = \"\"\"\n",
    "INSERT INTO\n",
    "    users (name, age, gender, nationality)\n",
    "VALUES\n",
    "    ('James', 25, 'male', 'USA'),\n",
    "    ('Leila', 32, 'female', 'France'),\n",
    "    ('Brigitte', 35, 'female', 'England'),\n",
    "    ('Mike', 40, 'male', 'Denmark'),\n",
    "    ('Elizabeth', 21, 'female', 'Canada');\n",
    "\"\"\""
   ]
  },
  {
   "cell_type": "code",
   "execution_count": 16,
   "id": "2555f1ad-3538-4f6b-aae5-d02814ff0f6e",
   "metadata": {},
   "outputs": [
    {
     "name": "stdout",
     "output_type": "stream",
     "text": [
      "Query executed successfully\n"
     ]
    }
   ],
   "source": [
    "execute_query(connection, create_users)"
   ]
  },
  {
   "cell_type": "code",
   "execution_count": 20,
   "id": "6015f5d5-6cd0-410a-9336-7e41a4b77410",
   "metadata": {},
   "outputs": [],
   "source": [
    "create_posts = \"\"\"\n",
    "INSERT INTO\n",
    "    posts (title, description, user_id)\n",
    "VALUES\n",
    "    ('Happy', 'I am feeling very happy today', 1),\n",
    "    (\"Hot Weather\", \"The weather is very hot today\", 2),\n",
    "    (\"Help\", \"I need some help with my work\", 2),\n",
    "    (\"Great News\", \"I am getting married\", 1),\n",
    "    (\"Interesting Game\", \"It was a fantastic game of tennis\", 5),\n",
    "    (\"Party\", \"Anyone up for a late-night party today?\", 3);\n",
    "\"\"\""
   ]
  },
  {
   "cell_type": "code",
   "execution_count": 21,
   "id": "d9b5fd66-0aee-4c82-9e16-982251adeab7",
   "metadata": {},
   "outputs": [
    {
     "name": "stdout",
     "output_type": "stream",
     "text": [
      "Query executed successfully\n"
     ]
    }
   ],
   "source": [
    "execute_query(connection, create_posts)"
   ]
  },
  {
   "cell_type": "code",
   "execution_count": 22,
   "id": "a84a68cf-a7e9-49af-b517-8265a85fd6b4",
   "metadata": {},
   "outputs": [],
   "source": [
    "create_comments = \"\"\"\n",
    "INSERT INTO\n",
    "    comments (text, user_id, post_id)\n",
    "VALUES\n",
    "    ('Count me in', 1, 6),\n",
    "    ('What sort of help?', 5, 3),\n",
    "    ('Congrats buddy', 2, 4),\n",
    "    ('I was rooting for Nadal though', 4, 5),\n",
    "    ('Help with your thesis?', 2, 3),\n",
    "    ('Many congratulations', 5, 4);\n",
    "\"\"\"\n",
    "\n",
    "create_likes = \"\"\"\n",
    "INSERT INTO\n",
    "    likes (user_id, post_id)\n",
    "VALUES\n",
    "    (1, 6),\n",
    "    (2, 3),\n",
    "    (1, 5),\n",
    "    (5, 4),\n",
    "    (2, 4),\n",
    "    (4, 2),\n",
    "    (3, 6);\n",
    "\"\"\""
   ]
  },
  {
   "cell_type": "code",
   "execution_count": 23,
   "id": "ce76b550-b157-4771-bd01-7a8b3acd5692",
   "metadata": {},
   "outputs": [
    {
     "name": "stdout",
     "output_type": "stream",
     "text": [
      "Query executed successfully\n",
      "Query executed successfully\n"
     ]
    }
   ],
   "source": [
    "execute_query(connection, create_comments)\n",
    "execute_query(connection, create_likes) "
   ]
  },
  {
   "cell_type": "markdown",
   "id": "ea4c7c76-a5c7-4a46-8c22-732c12b0e9d2",
   "metadata": {},
   "source": [
    "## Selecting Records"
   ]
  },
  {
   "cell_type": "code",
   "execution_count": 24,
   "id": "29da0e79-e559-4d6f-b2c6-e248c4c3bca6",
   "metadata": {},
   "outputs": [],
   "source": [
    "def execute_read_query(connection, query):\n",
    "    cursor = connection.cursor()\n",
    "    \n",
    "    try:\n",
    "        cursor.execute(query)\n",
    "        result = cursor.fetchall()\n",
    "        return result\n",
    "    except Error as e:\n",
    "        print(f'The error \"{e}\" occurred')"
   ]
  },
  {
   "cell_type": "code",
   "execution_count": 25,
   "id": "62aab421-ddec-4aab-8b5f-151b23648343",
   "metadata": {},
   "outputs": [],
   "source": [
    "select_users = 'SELECT * FROM users'\n",
    "users = execute_read_query(connection, select_users)"
   ]
  },
  {
   "cell_type": "code",
   "execution_count": 26,
   "id": "7a4ccd29-b111-4c7c-be75-2207a89efdb4",
   "metadata": {},
   "outputs": [
    {
     "name": "stdout",
     "output_type": "stream",
     "text": [
      "(1, 'James', 25, 'male', 'USA')\n",
      "(2, 'Leila', 32, 'female', 'France')\n",
      "(3, 'Brigitte', 35, 'female', 'England')\n",
      "(4, 'Mike', 40, 'male', 'Denmark')\n",
      "(5, 'Elizabeth', 21, 'female', 'Canada')\n"
     ]
    }
   ],
   "source": [
    "for user in users:\n",
    "    print(user)"
   ]
  },
  {
   "cell_type": "markdown",
   "id": "886b051a-cf11-4993-a70f-78ba435f8e55",
   "metadata": {},
   "source": [
    "## Updating Table Records"
   ]
  },
  {
   "cell_type": "code",
   "execution_count": 29,
   "id": "f67698c6-c4b0-4327-a7fe-38c2e71da7a5",
   "metadata": {},
   "outputs": [],
   "source": [
    "update_post_description = \"\"\"\n",
    "UPDATE\n",
    "    posts\n",
    "SET\n",
    "    description = 'The weather has become pleasant now'\n",
    "WHERE\n",
    "    id = 2\n",
    "\"\"\""
   ]
  },
  {
   "cell_type": "code",
   "execution_count": 30,
   "id": "8d351871-3063-456f-891c-923728da2125",
   "metadata": {},
   "outputs": [
    {
     "name": "stdout",
     "output_type": "stream",
     "text": [
      "Query executed successfully\n"
     ]
    }
   ],
   "source": [
    "execute_query(connection, update_post_description)"
   ]
  },
  {
   "cell_type": "markdown",
   "id": "ccd355b0-832d-4cc2-93b4-29d6d7aa4eef",
   "metadata": {},
   "source": [
    "## Deleting Table Records"
   ]
  },
  {
   "cell_type": "code",
   "execution_count": 31,
   "id": "c2440a34-a54b-42b2-a07c-69dfbbb8d701",
   "metadata": {},
   "outputs": [],
   "source": [
    "delete_comment = 'DELETE FROM comments WHERE id = 5'"
   ]
  },
  {
   "cell_type": "code",
   "execution_count": 32,
   "id": "77bba5de-3e68-4219-acfb-2ada1ca712e9",
   "metadata": {},
   "outputs": [
    {
     "name": "stdout",
     "output_type": "stream",
     "text": [
      "Query executed successfully\n"
     ]
    }
   ],
   "source": [
    "execute_query(connection, delete_comment)"
   ]
  }
 ],
 "metadata": {
  "kernelspec": {
   "display_name": "Python 3",
   "language": "python",
   "name": "python3"
  },
  "language_info": {
   "codemirror_mode": {
    "name": "ipython",
    "version": 3
   },
   "file_extension": ".py",
   "mimetype": "text/x-python",
   "name": "python",
   "nbconvert_exporter": "python",
   "pygments_lexer": "ipython3",
   "version": "3.8.5"
  }
 },
 "nbformat": 4,
 "nbformat_minor": 5
}
