{
 "cells": [
  {
   "cell_type": "code",
   "execution_count": 1,
   "id": "dc351595-265a-4d7a-97f1-2a80fab67a77",
   "metadata": {},
   "outputs": [],
   "source": [
    "import re"
   ]
  },
  {
   "cell_type": "markdown",
   "id": "a6b0a65b-d4e0-4cd2-951d-889c122ec56e",
   "metadata": {},
   "source": [
    "### Matching a String"
   ]
  },
  {
   "cell_type": "code",
   "execution_count": 2,
   "id": "8407d977-97a6-42c5-a8c8-bfca53368717",
   "metadata": {},
   "outputs": [
    {
     "name": "stdout",
     "output_type": "stream",
     "text": [
      "Match at index 0, 7\n",
      "Full match: June 24\n",
      "Month: June\n",
      "Day: 24\n"
     ]
    }
   ],
   "source": [
    "# Lets use a regular expression to match a date string. Ignore\n",
    "# the output since we are just testing if the regex matches.\n",
    "regex = r\"([a-zA-Z]+) (\\d+)\"\n",
    "\n",
    "if re.search(regex, \"June 24\"):\n",
    "    # Indeed, the expression \"([a-zA-Z]+) (\\d+)\" matches the date string\n",
    "    \n",
    "    # If we want, we can use the MatchObject's start() and end() methods \n",
    "    # to retrieve where the pattern matches in the input string, and the \n",
    "    # group() method to get all the matches and captured groups.\n",
    "    match = re.search(regex, \"June 24\")\n",
    "    \n",
    "    # This will print [0, 7), since it matches at the beginning and end of the \n",
    "    # string\n",
    "    print(\"Match at index %s, %s\" % (match.start(), match.end()))\n",
    "    \n",
    "    # The groups contain the matched values.  In particular:\n",
    "    #    match.group(0) always returns the fully matched string\n",
    "    #    match.group(1), match.group(2), ... will return the capture\n",
    "    #            groups in order from left to right in the input string\n",
    "    #    match.group() is equivalent to match.group(0)\n",
    "    \n",
    "    # So this will print \"June 24\"\n",
    "    print(\"Full match: %s\" % (match.group(0)))\n",
    "    # So this will print \"June\"\n",
    "    print(\"Month: %s\" % (match.group(1)))\n",
    "    # So this will print \"24\"\n",
    "    print(\"Day: %s\" % (match.group(2)))\n",
    "else:\n",
    "    # If re.search() does not match, then None is returned\n",
    "    print(\"The regex pattern does not match. :(\")"
   ]
  },
  {
   "cell_type": "markdown",
   "id": "5a74185d-2292-4138-9834-ede7ee55eafc",
   "metadata": {},
   "source": [
    "### Capturing Groups"
   ]
  },
  {
   "cell_type": "code",
   "execution_count": 3,
   "id": "9f7f0ed0-a58a-48ed-928e-8e5c1dd0da0c",
   "metadata": {},
   "outputs": [
    {
     "name": "stdout",
     "output_type": "stream",
     "text": [
      "Full match: June 24\n",
      "Full match: August 9\n",
      "Full match: Dec 12\n",
      "Match month: June\n",
      "Match month: August\n",
      "Match month: Dec\n",
      "Match at index: 0, 7\n",
      "Match at index: 9, 17\n",
      "Match at index: 19, 25\n"
     ]
    }
   ],
   "source": [
    "# Lets use a regular expression to match a few date strings.\n",
    "regex = r\"[a-zA-Z]+ \\d+\"\n",
    "matches = re.findall(regex, \"June 24, August 9, Dec 12\")\n",
    "for match in matches:\n",
    "    # This will print:\n",
    "    #   June 24\n",
    "    #   August 9\n",
    "    #   Dec 12\n",
    "    print(\"Full match: %s\" % (match))\n",
    "\n",
    "# To capture the specific months of each date we can use the following pattern\n",
    "regex = r\"([a-zA-Z]+) \\d+\"\n",
    "matches = re.findall(regex, \"June 24, August 9, Dec 12\")\n",
    "for match in matches:\n",
    "    # This will now print:\n",
    "    #   June\n",
    "    #   August\n",
    "    #   Dec\n",
    "    print(\"Match month: %s\" % (match))\n",
    "\n",
    "# If we need the exact positions of each match\n",
    "regex = r\"([a-zA-Z]+) \\d+\"\n",
    "matches = re.finditer(regex, \"June 24, August 9, Dec 12\")\n",
    "for match in matches:\n",
    "    # This will now print:\n",
    "    #   0 7\n",
    "    #   9 17\n",
    "    #   19 25\n",
    "    # which corresponds with the start and end of each match in the input string\n",
    "    print(\"Match at index: %s, %s\" % (match.start(), match.end()))"
   ]
  },
  {
   "cell_type": "markdown",
   "id": "af7ac0ee-bfac-486f-b6e4-fccd6afd1702",
   "metadata": {},
   "source": [
    "### Finding and Replacing String"
   ]
  },
  {
   "cell_type": "code",
   "execution_count": 4,
   "id": "c54f57b9-edd6-4c64-b920-7f86289d0175",
   "metadata": {},
   "outputs": [
    {
     "name": "stdout",
     "output_type": "stream",
     "text": [
      "24 of June, 9 of August, 12 of Dec\n"
     ]
    }
   ],
   "source": [
    "# Lets try and reverse the order of the day and month in a date \n",
    "# string. Notice how the replacement string also contains metacharacters\n",
    "# (the back references to the captured groups) so we use a raw \n",
    "# string for that as well.\n",
    "regex = r\"([a-zA-Z]+) (\\d+)\"\n",
    "\n",
    "# This will reorder the string and print:\n",
    "#   24 of June, 9 of August, 12 of Dec\n",
    "print(re.sub(regex, r\"\\2 of \\1\", \"June 24, August 9, Dec 12\"))"
   ]
  },
  {
   "cell_type": "markdown",
   "id": "47b6bda1-08e1-415f-85c1-73efac31b4a0",
   "metadata": {},
   "source": [
    "### re Flags"
   ]
  },
  {
   "cell_type": "markdown",
   "id": "c1ed1f67-fd8a-40bb-91c7-2d0a554d10eb",
   "metadata": {},
   "source": [
    "In the Python regular expression methods above, you will notice that each of them also take an optional flags argument. Most of the available flags are a convenience and can be written into the into the regular expression itself directly, but some can be useful in certain cases.\n",
    "\n",
    "* re.IGNORECASE makes the pattern case insensitive so that it matches strings of different capitalizations\n",
    "* re.MULTILINE is necessary if your input string has newline characters (\\n), this flag allows the start and end metacharacter (^ and $ respectively) to match at the beginning and end of each line instead of at the beginning and end of the whole input string\n",
    "* re.DOTALL allows the dot (.) metacharacter match all characters, including the newline character (\\n)"
   ]
  },
  {
   "cell_type": "markdown",
   "id": "8d6bf6d9-fe72-418d-a6e8-0fa9139b7290",
   "metadata": {},
   "source": [
    "### Compiling a Pattern for Performance"
   ]
  },
  {
   "cell_type": "code",
   "execution_count": 5,
   "id": "d498a061-f0c3-4e47-9306-98146cdc7263",
   "metadata": {},
   "outputs": [
    {
     "name": "stdout",
     "output_type": "stream",
     "text": [
      "0 11\n",
      "Hello\n",
      "Bonjour\n",
      "Hello Earth\n"
     ]
    }
   ],
   "source": [
    "# Lets create a pattern and extract some information with it\n",
    "regex = re.compile(r\"(\\w+) World\")\n",
    "result = regex.search(\"Hello World is the easiest\")\n",
    "if result:\n",
    "    # This will print:\n",
    "    #   0 11\n",
    "    # for the start and end of the match\n",
    "    print(result.start(), result.end())\n",
    "\n",
    "# This will print:\n",
    "#   Hello\n",
    "#   Bonjour\n",
    "# for each of the captured groups that matched\n",
    "for result in regex.findall(\"Hello World, Bonjour World\"):\n",
    "    print(result)\n",
    "\n",
    "# This will substitute \"World\" with \"Earth\" and print:\n",
    "#   Hello Earth\n",
    "print(regex.sub(r\"\\1 Earth\", \"Hello World\"))"
   ]
  }
 ],
 "metadata": {
  "kernelspec": {
   "display_name": "Python 3",
   "language": "python",
   "name": "python3"
  },
  "language_info": {
   "codemirror_mode": {
    "name": "ipython",
    "version": 3
   },
   "file_extension": ".py",
   "mimetype": "text/x-python",
   "name": "python",
   "nbconvert_exporter": "python",
   "pygments_lexer": "ipython3",
   "version": "3.8.5"
  }
 },
 "nbformat": 4,
 "nbformat_minor": 5
}
