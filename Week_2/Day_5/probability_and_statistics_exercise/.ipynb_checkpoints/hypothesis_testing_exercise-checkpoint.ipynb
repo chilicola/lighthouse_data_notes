{
 "cells": [
  {
   "cell_type": "markdown",
   "metadata": {},
   "source": [
    "## Hypothesis Testing Assignment"
   ]
  },
  {
   "cell_type": "code",
   "execution_count": 1,
   "metadata": {},
   "outputs": [],
   "source": [
    "#Importing necessary packages\n",
    "import pandas as pd\n",
    "import numpy as np\n",
    "# package with hypothesis tests\n",
    "import scipy.stats as st"
   ]
  },
  {
   "cell_type": "markdown",
   "metadata": {},
   "source": [
    "### Data"
   ]
  },
  {
   "cell_type": "markdown",
   "metadata": {},
   "source": [
    "You can download the data from [**here**](https://drive.google.com/file/d/19b9lHlkixZhs8yka8zV0QFieao66dUcY/view?usp=sharing). The data contains results of all NBA games from seasons 2013/2014 to 2015/2016."
   ]
  },
  {
   "cell_type": "code",
   "execution_count": 278,
   "metadata": {},
   "outputs": [
    {
     "data": {
      "text/html": [
       "<div>\n",
       "<style scoped>\n",
       "    .dataframe tbody tr th:only-of-type {\n",
       "        vertical-align: middle;\n",
       "    }\n",
       "\n",
       "    .dataframe tbody tr th {\n",
       "        vertical-align: top;\n",
       "    }\n",
       "\n",
       "    .dataframe thead th {\n",
       "        text-align: right;\n",
       "    }\n",
       "</style>\n",
       "<table border=\"1\" class=\"dataframe\">\n",
       "  <thead>\n",
       "    <tr style=\"text-align: right;\">\n",
       "      <th></th>\n",
       "      <th>SEASON_ID</th>\n",
       "      <th>TEAM_ID</th>\n",
       "      <th>TEAM_ABBREVIATION</th>\n",
       "      <th>TEAM_NAME</th>\n",
       "      <th>GAME_ID</th>\n",
       "      <th>GAME_DATE</th>\n",
       "      <th>MATCHUP</th>\n",
       "      <th>WL</th>\n",
       "      <th>MIN</th>\n",
       "      <th>PTS</th>\n",
       "      <th>...</th>\n",
       "      <th>FT_PCT</th>\n",
       "      <th>OREB</th>\n",
       "      <th>DREB</th>\n",
       "      <th>REB</th>\n",
       "      <th>AST</th>\n",
       "      <th>STL</th>\n",
       "      <th>BLK</th>\n",
       "      <th>TOV</th>\n",
       "      <th>PF</th>\n",
       "      <th>PLUS_MINUS</th>\n",
       "    </tr>\n",
       "  </thead>\n",
       "  <tbody>\n",
       "    <tr>\n",
       "      <th>0</th>\n",
       "      <td>22015</td>\n",
       "      <td>1610612750</td>\n",
       "      <td>MIN</td>\n",
       "      <td>Minnesota Timberwolves</td>\n",
       "      <td>21501226</td>\n",
       "      <td>2016-04-13</td>\n",
       "      <td>MIN vs. NOP</td>\n",
       "      <td>W</td>\n",
       "      <td>240</td>\n",
       "      <td>144</td>\n",
       "      <td>...</td>\n",
       "      <td>0.826</td>\n",
       "      <td>5</td>\n",
       "      <td>38</td>\n",
       "      <td>43</td>\n",
       "      <td>41</td>\n",
       "      <td>14</td>\n",
       "      <td>8</td>\n",
       "      <td>13</td>\n",
       "      <td>20</td>\n",
       "      <td>35.0</td>\n",
       "    </tr>\n",
       "    <tr>\n",
       "      <th>1</th>\n",
       "      <td>22015</td>\n",
       "      <td>1610612749</td>\n",
       "      <td>MIL</td>\n",
       "      <td>Milwaukee Bucks</td>\n",
       "      <td>21501225</td>\n",
       "      <td>2016-04-13</td>\n",
       "      <td>MIL vs. IND</td>\n",
       "      <td>L</td>\n",
       "      <td>240</td>\n",
       "      <td>92</td>\n",
       "      <td>...</td>\n",
       "      <td>0.846</td>\n",
       "      <td>7</td>\n",
       "      <td>36</td>\n",
       "      <td>43</td>\n",
       "      <td>23</td>\n",
       "      <td>8</td>\n",
       "      <td>3</td>\n",
       "      <td>15</td>\n",
       "      <td>15</td>\n",
       "      <td>-5.0</td>\n",
       "    </tr>\n",
       "    <tr>\n",
       "      <th>2</th>\n",
       "      <td>22015</td>\n",
       "      <td>1610612738</td>\n",
       "      <td>BOS</td>\n",
       "      <td>Boston Celtics</td>\n",
       "      <td>21501217</td>\n",
       "      <td>2016-04-13</td>\n",
       "      <td>BOS vs. MIA</td>\n",
       "      <td>W</td>\n",
       "      <td>240</td>\n",
       "      <td>98</td>\n",
       "      <td>...</td>\n",
       "      <td>0.864</td>\n",
       "      <td>10</td>\n",
       "      <td>29</td>\n",
       "      <td>39</td>\n",
       "      <td>20</td>\n",
       "      <td>7</td>\n",
       "      <td>3</td>\n",
       "      <td>7</td>\n",
       "      <td>20</td>\n",
       "      <td>10.0</td>\n",
       "    </tr>\n",
       "    <tr>\n",
       "      <th>3</th>\n",
       "      <td>22015</td>\n",
       "      <td>1610612747</td>\n",
       "      <td>LAL</td>\n",
       "      <td>Los Angeles Lakers</td>\n",
       "      <td>21501228</td>\n",
       "      <td>2016-04-13</td>\n",
       "      <td>LAL vs. UTA</td>\n",
       "      <td>W</td>\n",
       "      <td>239</td>\n",
       "      <td>101</td>\n",
       "      <td>...</td>\n",
       "      <td>0.867</td>\n",
       "      <td>8</td>\n",
       "      <td>39</td>\n",
       "      <td>47</td>\n",
       "      <td>19</td>\n",
       "      <td>6</td>\n",
       "      <td>3</td>\n",
       "      <td>13</td>\n",
       "      <td>17</td>\n",
       "      <td>5.0</td>\n",
       "    </tr>\n",
       "    <tr>\n",
       "      <th>4</th>\n",
       "      <td>22015</td>\n",
       "      <td>1610612739</td>\n",
       "      <td>CLE</td>\n",
       "      <td>Cleveland Cavaliers</td>\n",
       "      <td>21501220</td>\n",
       "      <td>2016-04-13</td>\n",
       "      <td>CLE vs. DET</td>\n",
       "      <td>L</td>\n",
       "      <td>265</td>\n",
       "      <td>110</td>\n",
       "      <td>...</td>\n",
       "      <td>0.733</td>\n",
       "      <td>8</td>\n",
       "      <td>35</td>\n",
       "      <td>43</td>\n",
       "      <td>21</td>\n",
       "      <td>4</td>\n",
       "      <td>7</td>\n",
       "      <td>10</td>\n",
       "      <td>23</td>\n",
       "      <td>-2.0</td>\n",
       "    </tr>\n",
       "  </tbody>\n",
       "</table>\n",
       "<p>5 rows × 28 columns</p>\n",
       "</div>"
      ],
      "text/plain": [
       "   SEASON_ID     TEAM_ID TEAM_ABBREVIATION               TEAM_NAME   GAME_ID  \\\n",
       "0      22015  1610612750               MIN  Minnesota Timberwolves  21501226   \n",
       "1      22015  1610612749               MIL         Milwaukee Bucks  21501225   \n",
       "2      22015  1610612738               BOS          Boston Celtics  21501217   \n",
       "3      22015  1610612747               LAL      Los Angeles Lakers  21501228   \n",
       "4      22015  1610612739               CLE     Cleveland Cavaliers  21501220   \n",
       "\n",
       "    GAME_DATE      MATCHUP WL  MIN  PTS  ...  FT_PCT  OREB  DREB  REB  AST  \\\n",
       "0  2016-04-13  MIN vs. NOP  W  240  144  ...   0.826     5    38   43   41   \n",
       "1  2016-04-13  MIL vs. IND  L  240   92  ...   0.846     7    36   43   23   \n",
       "2  2016-04-13  BOS vs. MIA  W  240   98  ...   0.864    10    29   39   20   \n",
       "3  2016-04-13  LAL vs. UTA  W  239  101  ...   0.867     8    39   47   19   \n",
       "4  2016-04-13  CLE vs. DET  L  265  110  ...   0.733     8    35   43   21   \n",
       "\n",
       "   STL  BLK  TOV  PF  PLUS_MINUS  \n",
       "0   14    8   13  20        35.0  \n",
       "1    8    3   15  15        -5.0  \n",
       "2    7    3    7  20        10.0  \n",
       "3    6    3   13  17         5.0  \n",
       "4    4    7   10  23        -2.0  \n",
       "\n",
       "[5 rows x 28 columns]"
      ]
     },
     "execution_count": 278,
     "metadata": {},
     "output_type": "execute_result"
    }
   ],
   "source": [
    "# Load csv file\n",
    "\n",
    "nba_csv = pd.read_csv('nba_games_2013_2015.csv', sep = ';')\n",
    "nba_csv.head()"
   ]
  },
  {
   "cell_type": "markdown",
   "metadata": {},
   "source": [
    "--------------\n",
    "### Task 1\n",
    "Split the data into **3** separate dataframes for each NBA season!"
   ]
  },
  {
   "cell_type": "code",
   "execution_count": 199,
   "metadata": {},
   "outputs": [
    {
     "data": {
      "text/plain": [
       "SEASON_ID\n",
       "22013    2460\n",
       "22014    2460\n",
       "22015    2460\n",
       "dtype: int64"
      ]
     },
     "execution_count": 199,
     "metadata": {},
     "output_type": "execute_result"
    }
   ],
   "source": [
    "nba_csv.groupby('SEASON_ID').size()"
   ]
  },
  {
   "cell_type": "code",
   "execution_count": 200,
   "metadata": {},
   "outputs": [],
   "source": [
    "# Split data into 3 dataframes based on NBA season\n",
    "\n",
    "df_s22013 = nba_csv[nba_csv['SEASON_ID'] == 22013]\n",
    "df_s22014 = nba_csv[nba_csv['SEASON_ID'] == 22014]\n",
    "df_s22015 = nba_csv[nba_csv['SEASON_ID'] == 22015]"
   ]
  },
  {
   "cell_type": "markdown",
   "metadata": {},
   "source": [
    "---------------\n",
    "### Task 2\n",
    "Test the hypothesis that the offensive productions stats of the Cleveland Cavaliers and Golden State Warriors (the teams that met in the finals that year) were from the same distribution in the 2015/2016 season.\n",
    "\n",
    "Offensive production refers to two variables: **PTS (Points)** and **FG_PCT (Field Goal Percentage)**. We will need to do two separate hypothesis tests, one for each variable."
   ]
  },
  {
   "cell_type": "code",
   "execution_count": 201,
   "metadata": {},
   "outputs": [],
   "source": [
    "# Extract PTS data from both teams\n",
    "\n",
    "CLE_PTS = nba_csv[nba_csv['TEAM_NAME'] == 'Cleveland Cavaliers']['PTS']\n",
    "GSW_PTS = nba_csv[nba_csv['TEAM_NAME'] == 'Golden State Warriors']['PTS']"
   ]
  },
  {
   "cell_type": "code",
   "execution_count": 202,
   "metadata": {},
   "outputs": [],
   "source": [
    "def check_hnull(pvalue, alpha = 0.05):\n",
    "    if pvalue[1] <= alpha:\n",
    "        print(f'Reject H null, p-value: {pvalue[1]:.3} <= alpha: {alpha}')\n",
    "    else:\n",
    "        print(f'Fail to reject H null, 0-value: {pvalue[1]:.3} > alpha: {alpha}')"
   ]
  },
  {
   "cell_type": "code",
   "execution_count": 238,
   "metadata": {},
   "outputs": [],
   "source": [
    "def check_counts(a, b):\n",
    "    if len(a) == len(b):\n",
    "        print(f'Same counts: {len(a)}')\n",
    "    else:\n",
    "        print(f'Different counts: a = {len(a)}, b = {len(b)}')"
   ]
  },
  {
   "cell_type": "code",
   "execution_count": 204,
   "metadata": {},
   "outputs": [
    {
     "name": "stdout",
     "output_type": "stream",
     "text": [
      "Reject H null, p-value: 0.022 <= alpha: 0.05\n",
      "Fail to reject H null, 0-value: 0.506 > alpha: 0.05\n"
     ]
    }
   ],
   "source": [
    "# Test for normality\n",
    "\n",
    "check_hnull(st.normaltest(CLE_PTS))\n",
    "check_hnull(st.normaltest(GSW_PTS))"
   ]
  },
  {
   "cell_type": "code",
   "execution_count": 235,
   "metadata": {},
   "outputs": [
    {
     "name": "stdout",
     "output_type": "stream",
     "text": [
      "Same counts: 246\n"
     ]
    }
   ],
   "source": [
    "check_counts(CLE_PTS, GSW_PTS)"
   ]
  },
  {
   "cell_type": "code",
   "execution_count": 205,
   "metadata": {},
   "outputs": [
    {
     "name": "stdout",
     "output_type": "stream",
     "text": [
      "Reject H null, p-value: 6.04e-12 <= alpha: 0.05\n"
     ]
    }
   ],
   "source": [
    "# T test\n",
    "# H null: 2 teams' PTS are from the same distribution\n",
    "\n",
    "check_hnull(st.ttest_ind(CLE_PTS, GSW_PTS))"
   ]
  },
  {
   "cell_type": "code",
   "execution_count": 214,
   "metadata": {},
   "outputs": [],
   "source": [
    "# Extract FG_PCT data from both teams\n",
    "\n",
    "CLE_FG_PCT = nba_csv[nba_csv['TEAM_NAME'] == 'Cleveland Cavaliers']['FG_PCT']\n",
    "GSW_FG_PCT = nba_csv[nba_csv['TEAM_NAME'] == 'Golden State Warriors']['FG_PCT']"
   ]
  },
  {
   "cell_type": "code",
   "execution_count": 215,
   "metadata": {},
   "outputs": [
    {
     "name": "stdout",
     "output_type": "stream",
     "text": [
      "Reject H null, p-value: 0.022 <= alpha: 0.05\n",
      "Fail to reject H null, 0-value: 0.506 > alpha: 0.05\n"
     ]
    }
   ],
   "source": [
    "# Test for normality\n",
    "\n",
    "check_hnull(st.normaltest(CLE_PTS))\n",
    "check_hnull(st.normaltest(GSW_PTS))"
   ]
  },
  {
   "cell_type": "code",
   "execution_count": 236,
   "metadata": {},
   "outputs": [
    {
     "name": "stdout",
     "output_type": "stream",
     "text": [
      "Same counts: 246\n"
     ]
    }
   ],
   "source": [
    "check_counts(CLE_FG_PCT, GSW_FG_PCT)"
   ]
  },
  {
   "cell_type": "code",
   "execution_count": 216,
   "metadata": {},
   "outputs": [
    {
     "name": "stdout",
     "output_type": "stream",
     "text": [
      "Reject H null, p-value: 2.7e-06 <= alpha: 0.05\n"
     ]
    }
   ],
   "source": [
    "# T test\n",
    "# H null: 2 teams' FG_PCT are from the same distribution\n",
    "\n",
    "check_hnull(st.ttest_ind(CLE_FG_PCT, GSW_FG_PCT))"
   ]
  },
  {
   "cell_type": "markdown",
   "metadata": {},
   "source": [
    "-----------------\n",
    "### Task 3\n",
    "Test the hypothesis that the number of points (PTS) scored by Cleveland Cavaliers changed significantly after the head coach changed in the 2015/2016 season.\n",
    "\n",
    "- **Coach Blatt was fired on 24th of Jan, 2016**. \n",
    "\n",
    "Use the data from seasons 2014/2015 and 2015/2016 - those are years when Cleveland was coached by Blatt. \n",
    "\n",
    "**We have two possible solutions to try here:**\n",
    "- Take the same amount of games from before and after and try t-test.\n",
    "- Take all the games from before and after and look for the right test to compare two samples with different sizes. (You will need to go through the scipy documentation or google to figure out what kind of test is required.)"
   ]
  },
  {
   "cell_type": "code",
   "execution_count": 233,
   "metadata": {
    "tags": []
   },
   "outputs": [],
   "source": [
    "b_fire1 = df_s22015[(df_s22015['TEAM_NAME'] == 'Cleveland Cavaliers') & (df_s22015['GAME_DATE'] < '2016-01-24')]['PTS']\n",
    "b_fire2 = df_s22014[(df_s22014['TEAM_NAME'] == 'Cleveland Cavaliers') & (df_s22014['GAME_DATE'] < '2016-01-24')]['PTS']\n",
    "b_fire = pd.concat([b_fire1, b_fire2])\n",
    "\n",
    "a_fire = df_s22015[(df_s22015['TEAM_NAME'] == 'Cleveland Cavaliers') & (df_s22015['GAME_DATE'] >= '2016-01-24')]['PTS']"
   ]
  },
  {
   "cell_type": "code",
   "execution_count": 234,
   "metadata": {},
   "outputs": [
    {
     "name": "stdout",
     "output_type": "stream",
     "text": [
      "Fail to reject H null, 0-value: 0.294 > alpha: 0.05\n",
      "Fail to reject H null, 0-value: 0.457 > alpha: 0.05\n"
     ]
    }
   ],
   "source": [
    "# Test for normality\n",
    "\n",
    "check_hnull(st.normaltest(b_fire))\n",
    "check_hnull(st.normaltest(a_fire))\n",
    "\n",
    "# st.normaltest(b_fire)"
   ]
  },
  {
   "cell_type": "code",
   "execution_count": 239,
   "metadata": {},
   "outputs": [
    {
     "name": "stdout",
     "output_type": "stream",
     "text": [
      "Different counts: a = 124, b = 40\n"
     ]
    }
   ],
   "source": [
    "check_counts(b_fire, a_fire)"
   ]
  },
  {
   "cell_type": "code",
   "execution_count": 253,
   "metadata": {},
   "outputs": [
    {
     "name": "stdout",
     "output_type": "stream",
     "text": [
      "Reject H null, p-value: 0.00329 <= alpha: 0.05\n"
     ]
    }
   ],
   "source": [
    "# T test for different variant counts\n",
    "\n",
    "check_hnull(st.ttest_ind(b_fire, a_fire, equal_var = False))"
   ]
  },
  {
   "cell_type": "markdown",
   "metadata": {},
   "source": [
    "----------------\n",
    "\n",
    "\n",
    "### Task 4\n",
    "Download [**the similar dataset**](https://drive.google.com/file/d/1jY57bAOZp9y83b4W2PAoSH1uFARaxxls/view?usp=sharing) with scores from playoff games in 2016."
   ]
  },
  {
   "cell_type": "code",
   "execution_count": 257,
   "metadata": {},
   "outputs": [
    {
     "data": {
      "text/html": [
       "<div>\n",
       "<style scoped>\n",
       "    .dataframe tbody tr th:only-of-type {\n",
       "        vertical-align: middle;\n",
       "    }\n",
       "\n",
       "    .dataframe tbody tr th {\n",
       "        vertical-align: top;\n",
       "    }\n",
       "\n",
       "    .dataframe thead th {\n",
       "        text-align: right;\n",
       "    }\n",
       "</style>\n",
       "<table border=\"1\" class=\"dataframe\">\n",
       "  <thead>\n",
       "    <tr style=\"text-align: right;\">\n",
       "      <th></th>\n",
       "      <th>SEASON_ID</th>\n",
       "      <th>TEAM_ID</th>\n",
       "      <th>TEAM_ABBREVIATION</th>\n",
       "      <th>TEAM_NAME</th>\n",
       "      <th>GAME_ID</th>\n",
       "      <th>GAME_DATE</th>\n",
       "      <th>MATCHUP</th>\n",
       "      <th>WL</th>\n",
       "      <th>MIN</th>\n",
       "      <th>PTS</th>\n",
       "      <th>...</th>\n",
       "      <th>FT_PCT</th>\n",
       "      <th>OREB</th>\n",
       "      <th>DREB</th>\n",
       "      <th>REB</th>\n",
       "      <th>AST</th>\n",
       "      <th>STL</th>\n",
       "      <th>BLK</th>\n",
       "      <th>TOV</th>\n",
       "      <th>PF</th>\n",
       "      <th>PLUS_MINUS</th>\n",
       "    </tr>\n",
       "  </thead>\n",
       "  <tbody>\n",
       "    <tr>\n",
       "      <th>0</th>\n",
       "      <td>42015</td>\n",
       "      <td>1610612739</td>\n",
       "      <td>CLE</td>\n",
       "      <td>Cleveland Cavaliers</td>\n",
       "      <td>41500407</td>\n",
       "      <td>2016-06-19</td>\n",
       "      <td>CLE @ GSW</td>\n",
       "      <td>W</td>\n",
       "      <td>241</td>\n",
       "      <td>93</td>\n",
       "      <td>...</td>\n",
       "      <td>0.840</td>\n",
       "      <td>9</td>\n",
       "      <td>39</td>\n",
       "      <td>48</td>\n",
       "      <td>17</td>\n",
       "      <td>7</td>\n",
       "      <td>6</td>\n",
       "      <td>11</td>\n",
       "      <td>15</td>\n",
       "      <td>4.0</td>\n",
       "    </tr>\n",
       "    <tr>\n",
       "      <th>1</th>\n",
       "      <td>42015</td>\n",
       "      <td>1610612744</td>\n",
       "      <td>GSW</td>\n",
       "      <td>Golden State Warriors</td>\n",
       "      <td>41500407</td>\n",
       "      <td>2016-06-19</td>\n",
       "      <td>GSW vs. CLE</td>\n",
       "      <td>L</td>\n",
       "      <td>239</td>\n",
       "      <td>89</td>\n",
       "      <td>...</td>\n",
       "      <td>0.769</td>\n",
       "      <td>7</td>\n",
       "      <td>32</td>\n",
       "      <td>39</td>\n",
       "      <td>22</td>\n",
       "      <td>7</td>\n",
       "      <td>5</td>\n",
       "      <td>10</td>\n",
       "      <td>23</td>\n",
       "      <td>-4.0</td>\n",
       "    </tr>\n",
       "    <tr>\n",
       "      <th>2</th>\n",
       "      <td>42015</td>\n",
       "      <td>1610612744</td>\n",
       "      <td>GSW</td>\n",
       "      <td>Golden State Warriors</td>\n",
       "      <td>41500406</td>\n",
       "      <td>2016-06-16</td>\n",
       "      <td>GSW @ CLE</td>\n",
       "      <td>L</td>\n",
       "      <td>238</td>\n",
       "      <td>101</td>\n",
       "      <td>...</td>\n",
       "      <td>0.690</td>\n",
       "      <td>9</td>\n",
       "      <td>26</td>\n",
       "      <td>35</td>\n",
       "      <td>19</td>\n",
       "      <td>5</td>\n",
       "      <td>3</td>\n",
       "      <td>14</td>\n",
       "      <td>25</td>\n",
       "      <td>-14.0</td>\n",
       "    </tr>\n",
       "    <tr>\n",
       "      <th>3</th>\n",
       "      <td>42015</td>\n",
       "      <td>1610612739</td>\n",
       "      <td>CLE</td>\n",
       "      <td>Cleveland Cavaliers</td>\n",
       "      <td>41500406</td>\n",
       "      <td>2016-06-16</td>\n",
       "      <td>CLE vs. GSW</td>\n",
       "      <td>W</td>\n",
       "      <td>240</td>\n",
       "      <td>115</td>\n",
       "      <td>...</td>\n",
       "      <td>0.781</td>\n",
       "      <td>8</td>\n",
       "      <td>37</td>\n",
       "      <td>45</td>\n",
       "      <td>24</td>\n",
       "      <td>12</td>\n",
       "      <td>7</td>\n",
       "      <td>10</td>\n",
       "      <td>25</td>\n",
       "      <td>14.0</td>\n",
       "    </tr>\n",
       "    <tr>\n",
       "      <th>4</th>\n",
       "      <td>42015</td>\n",
       "      <td>1610612739</td>\n",
       "      <td>CLE</td>\n",
       "      <td>Cleveland Cavaliers</td>\n",
       "      <td>41500405</td>\n",
       "      <td>2016-06-13</td>\n",
       "      <td>CLE @ GSW</td>\n",
       "      <td>W</td>\n",
       "      <td>241</td>\n",
       "      <td>112</td>\n",
       "      <td>...</td>\n",
       "      <td>0.609</td>\n",
       "      <td>8</td>\n",
       "      <td>33</td>\n",
       "      <td>41</td>\n",
       "      <td>15</td>\n",
       "      <td>11</td>\n",
       "      <td>9</td>\n",
       "      <td>16</td>\n",
       "      <td>22</td>\n",
       "      <td>15.0</td>\n",
       "    </tr>\n",
       "  </tbody>\n",
       "</table>\n",
       "<p>5 rows × 28 columns</p>\n",
       "</div>"
      ],
      "text/plain": [
       "   SEASON_ID     TEAM_ID TEAM_ABBREVIATION              TEAM_NAME   GAME_ID  \\\n",
       "0      42015  1610612739               CLE    Cleveland Cavaliers  41500407   \n",
       "1      42015  1610612744               GSW  Golden State Warriors  41500407   \n",
       "2      42015  1610612744               GSW  Golden State Warriors  41500406   \n",
       "3      42015  1610612739               CLE    Cleveland Cavaliers  41500406   \n",
       "4      42015  1610612739               CLE    Cleveland Cavaliers  41500405   \n",
       "\n",
       "    GAME_DATE      MATCHUP WL  MIN  PTS  ...  FT_PCT  OREB  DREB  REB  AST  \\\n",
       "0  2016-06-19    CLE @ GSW  W  241   93  ...   0.840     9    39   48   17   \n",
       "1  2016-06-19  GSW vs. CLE  L  239   89  ...   0.769     7    32   39   22   \n",
       "2  2016-06-16    GSW @ CLE  L  238  101  ...   0.690     9    26   35   19   \n",
       "3  2016-06-16  CLE vs. GSW  W  240  115  ...   0.781     8    37   45   24   \n",
       "4  2016-06-13    CLE @ GSW  W  241  112  ...   0.609     8    33   41   15   \n",
       "\n",
       "   STL  BLK  TOV  PF  PLUS_MINUS  \n",
       "0    7    6   11  15         4.0  \n",
       "1    7    5   10  23        -4.0  \n",
       "2    5    3   14  25       -14.0  \n",
       "3   12    7   10  25        14.0  \n",
       "4   11    9   16  22        15.0  \n",
       "\n",
       "[5 rows x 28 columns]"
      ]
     },
     "execution_count": 257,
     "metadata": {},
     "output_type": "execute_result"
    }
   ],
   "source": [
    "nbapf = pd.read_csv('nba_playoff_games_2016.csv', sep = ';')\n",
    "nbapf.head()"
   ]
  },
  {
   "cell_type": "markdown",
   "metadata": {},
   "source": [
    "------------\n",
    "### Task 5\n",
    "Test the hypothesis that **number of blocks (BLK)** are from the same distribution in both the NBA playoffs and in the NBA regular season for 2015/2016 seaon for the **Toronto Raptors**. \n",
    "\n",
    "- We will be working with two samples with different sizes again."
   ]
  },
  {
   "cell_type": "code",
   "execution_count": 290,
   "metadata": {},
   "outputs": [],
   "source": [
    "nbar_blk = nba_csv[nba_csv['TEAM_NAME'] == 'Toronto Raptors']['BLK']\n",
    "nbapf_blk = nbapf[nbapf['TEAM_NAME'] == 'Toronto Raptors']['BLK']"
   ]
  },
  {
   "cell_type": "code",
   "execution_count": 271,
   "metadata": {},
   "outputs": [
    {
     "name": "stdout",
     "output_type": "stream",
     "text": [
      "Reject H null, p-value: 0.000295 <= alpha: 0.05\n",
      "Fail to reject H null, 0-value: 0.993 > alpha: 0.05\n"
     ]
    }
   ],
   "source": [
    "# Test normality\n",
    "\n",
    "check_hnull(st.normaltest(nbar_blk))\n",
    "check_hnull(st.normaltest(nbapf_blk))"
   ]
  },
  {
   "cell_type": "code",
   "execution_count": 273,
   "metadata": {},
   "outputs": [
    {
     "name": "stdout",
     "output_type": "stream",
     "text": [
      "Different counts: a = 246, b = 20\n"
     ]
    }
   ],
   "source": [
    "# Test for variant counts\n",
    "\n",
    "check_counts(nbar_blk, nbapf_blk)"
   ]
  },
  {
   "cell_type": "code",
   "execution_count": 275,
   "metadata": {},
   "outputs": [
    {
     "name": "stdout",
     "output_type": "stream",
     "text": [
      "Reject H null, p-value: 0.0333 <= alpha: 0.05\n"
     ]
    }
   ],
   "source": [
    "# T test with different variant counts\n",
    "\n",
    "check_hnull(st.ttest_ind(nbar_blk, nbapf_blk, equal_var = False))"
   ]
  },
  {
   "cell_type": "markdown",
   "metadata": {},
   "source": [
    "\n",
    "-----------------\n",
    "### Task 6\n",
    "Test the hypothesis that the number of points (PTS) scored by Cleveland Cavaliers is equally distributed for all 3 seasons. \n",
    "\n",
    "- In this case, we need a hypothesis test that compares more than 2 distributions at the same. (You will need to go through the scipy documentation or google to figure out what kind of test is required.)"
   ]
  },
  {
   "cell_type": "code",
   "execution_count": 284,
   "metadata": {},
   "outputs": [],
   "source": [
    "PTS_2013 = df_s22013[df_s22013['TEAM_NAME'] == 'Cleveland Cavaliers']['PTS']\n",
    "PTS_2014 = df_s22014[df_s22014['TEAM_NAME'] == 'Cleveland Cavaliers']['PTS']\n",
    "PTS_2015 = df_s22015[df_s22015['TEAM_NAME'] == 'Cleveland Cavaliers']['PTS']"
   ]
  },
  {
   "cell_type": "code",
   "execution_count": 286,
   "metadata": {},
   "outputs": [
    {
     "name": "stdout",
     "output_type": "stream",
     "text": [
      "Fail to reject H null, 0-value: 0.233 > alpha: 0.05\n",
      "Fail to reject H null, 0-value: 0.453 > alpha: 0.05\n",
      "Fail to reject H null, 0-value: 0.311 > alpha: 0.05\n"
     ]
    }
   ],
   "source": [
    "# Check normality\n",
    "\n",
    "check_hnull(st.normaltest(PTS_2013))\n",
    "check_hnull(st.normaltest(PTS_2014))\n",
    "check_hnull(st.normaltest(PTS_2015))"
   ]
  },
  {
   "cell_type": "code",
   "execution_count": 287,
   "metadata": {},
   "outputs": [
    {
     "name": "stdout",
     "output_type": "stream",
     "text": [
      "82\n",
      "82\n",
      "82\n"
     ]
    }
   ],
   "source": [
    "# Check variants counts\n",
    "print(len(PTS_2013))\n",
    "print(len(PTS_2014))\n",
    "print(len(PTS_2015))"
   ]
  },
  {
   "cell_type": "code",
   "execution_count": 292,
   "metadata": {},
   "outputs": [
    {
     "name": "stdout",
     "output_type": "stream",
     "text": [
      "Reject H null, p-value: 0.00309 <= alpha: 0.05\n"
     ]
    }
   ],
   "source": [
    "check_hnull(st.f_oneway(PTS_2013, PTS_2014, PTS_2015))"
   ]
  },
  {
   "cell_type": "markdown",
   "metadata": {},
   "source": [
    "#### Follow Up\n",
    "**Between which seasons can we see the significant difference?**\n",
    "\n",
    "+ Unfortunatelly, this is not the output of an ANOVA test and further tests are needed to be run.\n",
    "+ Note: Lebron James came back to the Cleveland Caveliers prior to season 2014/2015. We can use this fact to interpret our results correctly."
   ]
  },
  {
   "cell_type": "code",
   "execution_count": null,
   "metadata": {},
   "outputs": [],
   "source": []
  },
  {
   "cell_type": "code",
   "execution_count": null,
   "metadata": {},
   "outputs": [],
   "source": []
  },
  {
   "cell_type": "code",
   "execution_count": null,
   "metadata": {},
   "outputs": [],
   "source": []
  }
 ],
 "metadata": {
  "kernelspec": {
   "display_name": "Python 3",
   "language": "python",
   "name": "python3"
  },
  "language_info": {
   "codemirror_mode": {
    "name": "ipython",
    "version": 3
   },
   "file_extension": ".py",
   "mimetype": "text/x-python",
   "name": "python",
   "nbconvert_exporter": "python",
   "pygments_lexer": "ipython3",
   "version": "3.8.5"
  }
 },
 "nbformat": 4,
 "nbformat_minor": 4
}
