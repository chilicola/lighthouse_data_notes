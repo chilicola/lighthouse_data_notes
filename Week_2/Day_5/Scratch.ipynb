{
 "cells": [
  {
   "cell_type": "code",
   "execution_count": 10,
   "id": "6bfa9d6e-3ee6-41b1-9792-3a3b3455c0fc",
   "metadata": {},
   "outputs": [
    {
     "data": {
      "text/plain": [
       "2.5"
      ]
     },
     "execution_count": 10,
     "metadata": {},
     "output_type": "execute_result"
    }
   ],
   "source": [
    "# 01\n",
    "\n",
    "dig = 1234\n",
    "\n",
    "lst_str = []\n",
    "\n",
    "for ele in str(dig):\n",
    "    lst_str.append(ele)\n",
    "\n",
    "digi_sum = 0.0\n",
    "\n",
    "for ele in lst_str:\n",
    "    digi_sum += float(ele)\n",
    "    digi_avg = digi_sum / len(lst_str)\n",
    "    \n",
    "    \n",
    "lst_str\n",
    "digi_avg"
   ]
  },
  {
   "cell_type": "code",
   "execution_count": 68,
   "id": "f8ec91f8-aab0-4a66-85bc-9b9217fe8e49",
   "metadata": {},
   "outputs": [
    {
     "data": {
      "text/plain": [
       "{'LETTERS': 7, 'DIGITS': 3}"
      ]
     },
     "execution_count": 68,
     "metadata": {},
     "output_type": "execute_result"
    }
   ],
   "source": [
    "# 02\n",
    "\n",
    "string = 'H3ll0 Wor1d'\n",
    "str_nspace = string.replace(' ', '')\n",
    "\n",
    "lst_str = []\n",
    "\n",
    "for ele in str_nspace:\n",
    "    lst_str.append(ele)\n",
    "\n",
    "result = {'LETTERS': int,\n",
    "         'DIGITS': int}\n",
    "\n",
    "letters = []\n",
    "digits = []\n",
    "\n",
    "for ele in lst_str:\n",
    "    if ele.isdigit():\n",
    "        digits.append(int(ele))\n",
    "    \n",
    "    else:\n",
    "        letters.append(ele)\n",
    "\n",
    "result['LETTERS'] = len(letters)\n",
    "result['DIGITS'] = len(digits)\n",
    "    \n",
    "result"
   ]
  }
 ],
 "metadata": {
  "kernelspec": {
   "display_name": "Python 3",
   "language": "python",
   "name": "python3"
  },
  "language_info": {
   "codemirror_mode": {
    "name": "ipython",
    "version": 3
   },
   "file_extension": ".py",
   "mimetype": "text/x-python",
   "name": "python",
   "nbconvert_exporter": "python",
   "pygments_lexer": "ipython3",
   "version": "3.8.5"
  }
 },
 "nbformat": 4,
 "nbformat_minor": 5
}
