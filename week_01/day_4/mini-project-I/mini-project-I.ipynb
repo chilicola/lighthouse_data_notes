{
 "cells": [
  {
   "cell_type": "markdown",
   "metadata": {
    "tags": []
   },
   "source": [
    "# Mini-Project I\n",
    "During this project, we will practice handling of complex lists and dictionaries in Python. Plus, we will learn how to work with API documentation. Don't be afraid to search for the information in the [**documentation**](https://api.tfl.gov.uk/swagger/ui/index.html?url=/swagger/docs/v1#!/AccidentStats/AccidentStats_Get).\n",
    "\n",
    "Let's go to the tasks, we have some parsing to do :)!!"
   ]
  },
  {
   "cell_type": "code",
   "execution_count": 353,
   "metadata": {
    "tags": []
   },
   "outputs": [],
   "source": [
    "# import packages we need (remember what packages we used yesterday during the API session)\n",
    "import requests\n",
    "from config import *\n",
    "from datetime import datetime\n",
    "import pandas as pd"
   ]
  },
  {
   "cell_type": "markdown",
   "metadata": {},
   "source": [
    "## Demo"
   ]
  },
  {
   "cell_type": "code",
   "execution_count": 354,
   "metadata": {},
   "outputs": [],
   "source": [
    "# don't forget package os\n",
    "app_id = tfl_client_id\n",
    "app_key = tfl_client_secret\n",
    "url_append = f'?app_id={app_id}&app_key={app_key}' "
   ]
  },
  {
   "cell_type": "code",
   "execution_count": 355,
   "metadata": {},
   "outputs": [],
   "source": [
    "# URL\n",
    "url = \"https://api.tfl.gov.uk/AirQuality\""
   ]
  },
  {
   "cell_type": "code",
   "execution_count": 375,
   "metadata": {
    "tags": []
   },
   "outputs": [],
   "source": [
    "# We send the request to the API\n",
    "# NOTE: if you don't have your APP_KEY, run this without the url_append\n",
    "res = requests.get(url+url_append)"
   ]
  },
  {
   "cell_type": "code",
   "execution_count": 376,
   "metadata": {},
   "outputs": [
    {
     "data": {
      "text/plain": [
       "200"
      ]
     },
     "execution_count": 376,
     "metadata": {},
     "output_type": "execute_result"
    }
   ],
   "source": [
    "# We can check if the request was successful\n",
    "res.status_code"
   ]
  },
  {
   "cell_type": "code",
   "execution_count": 377,
   "metadata": {
    "collapsed": true,
    "jupyter": {
     "outputs_hidden": true
    },
    "tags": []
   },
   "outputs": [
    {
     "data": {
      "text/plain": [
       "{'$id': '1',\n",
       " '$type': 'Tfl.Api.Presentation.Entities.LondonAirForecast, Tfl.Api.Presentation.Entities',\n",
       " 'updatePeriod': 'hourly',\n",
       " 'updateFrequency': '1',\n",
       " 'forecastURL': 'http://londonair.org.uk/forecast',\n",
       " 'disclaimerText': 'This forecast is intended to provide information on expected pollution levels in areas of significant public exposure. It may not apply in very specific locations close to unusually strong or short-lived local sources of pollution.',\n",
       " 'currentForecast': [{'$id': '2',\n",
       "   '$type': 'Tfl.Api.Presentation.Entities.CurrentForecast, Tfl.Api.Presentation.Entities',\n",
       "   'forecastType': 'Current',\n",
       "   'forecastID': '31833',\n",
       "   'forecastBand': 'Low',\n",
       "   'forecastSummary': 'Low air pollution forecast valid from Friday 28 May to end of Friday 28 May GMT',\n",
       "   'nO2Band': 'Low',\n",
       "   'o3Band': 'Low',\n",
       "   'pM10Band': 'Low',\n",
       "   'pM25Band': 'Low',\n",
       "   'sO2Band': 'Low',\n",
       "   'forecastText': 'Friday will see the weather continuing to improve, with a dry, bright and sunny day.&lt;br/&gt;&lt;br/&gt;A light breeze may cause some build-up of local emissions, overall air pollution is expected to remain &#39;Low&#39; for the following pollutants:&lt;br/&gt;&lt;br/&gt;&lt;br/&gt;Nitrogen Dioxide&lt;br/&gt;Ozone&lt;br/&gt;PM10 Particulate&lt;br/&gt;PM2.5 Particulate&lt;br/&gt;Sulphur Dioxide&lt;br/&gt;&lt;br/&gt;&lt;br/&gt;&lt;br/&gt;&lt;br/&gt;&lt;br/&gt;&lt;br/&gt;&lt;br/&gt;&lt;br/&gt;'},\n",
       "  {'$id': '3',\n",
       "   '$type': 'Tfl.Api.Presentation.Entities.CurrentForecast, Tfl.Api.Presentation.Entities',\n",
       "   'forecastType': 'Future',\n",
       "   'forecastID': '31863',\n",
       "   'forecastBand': 'Moderate',\n",
       "   'forecastSummary': 'Moderate air pollution forecast valid from Saturday 29 May to end of Monday 31 May GMT',\n",
       "   'nO2Band': 'Low',\n",
       "   'o3Band': 'Moderate',\n",
       "   'pM10Band': 'Moderate',\n",
       "   'pM25Band': 'Moderate',\n",
       "   'sO2Band': 'Low',\n",
       "   'forecastText': 'Dry with variable amounts of cloud but some clear, bright and sunny weather, improving each day through the Bank Holiday weekend. Coupled with a light breeze there may be a build-up of local and imported pollutants. &lt;br/&gt;&lt;br/&gt;Particulate PM10 and PM2.5 might increase in some areas reaching &#39;Moderate&#39; levels. We may also see a number of monitoring sites reaching the threshold for &#39;Moderate&#39; Ozone. &lt;br/&gt;&lt;br/&gt;These increases may be caused by air recirculating over the UK and some air feeding in from the near continent and the Channel, causing an import of particulates and ozone precursors adding to our own pollutants. The long periods of sunshine may also give rise to ground-level ozone formation, adding to what is imported. &lt;br/&gt;&lt;br/&gt;Overall air pollution is expected to remain &#39;Low&#39; for the following pollutants:&lt;br/&gt;&lt;br/&gt;Nitrogen Dioxide&lt;br/&gt;Sulphur Dioxide&lt;br/&gt;&lt;br/&gt;&lt;br/&gt;&lt;br/&gt;&lt;br/&gt;&lt;br/&gt;&lt;br/&gt;&lt;br/&gt;&lt;br/&gt;'}]}"
      ]
     },
     "execution_count": 377,
     "metadata": {},
     "output_type": "execute_result"
    }
   ],
   "source": [
    "# We can export the information that was returned using method .json()\n",
    "res.json()"
   ]
  },
  {
   "cell_type": "markdown",
   "metadata": {},
   "source": [
    "## Task\n",
    "Parse the dictionary and print the AirQuality predictions for tomorrow"
   ]
  },
  {
   "cell_type": "code",
   "execution_count": 378,
   "metadata": {},
   "outputs": [
    {
     "name": "stdout",
     "output_type": "stream",
     "text": [
      "AirQuality prediction for tomorrow:\n",
      "Low air pollution forecast valid from Friday 28 May to end of Friday 28 May GMT\n"
     ]
    }
   ],
   "source": [
    "print(f'AirQuality prediction for tomorrow:\\n{res.json()[\"currentForecast\"][0][\"forecastSummary\"]}')"
   ]
  },
  {
   "cell_type": "markdown",
   "metadata": {},
   "source": [
    "## Task\n",
    "What are the different modes of transport which are operated by Transport for London? How many of modes do they have?\n",
    "\n",
    "Print the list with different modes of transport, plus their count. Example output:\n",
    "```\n",
    "[bus, cable-car,.....]\n",
    "Number of different modes of transport is: xyz\n",
    "```\n",
    "\n",
    "We need to search the documentation for correct request."
   ]
  },
  {
   "cell_type": "code",
   "execution_count": 360,
   "metadata": {
    "tags": []
   },
   "outputs": [],
   "source": [
    "res_modes = requests.get('https://api.tfl.gov.uk/Journey/Meta/Modes')"
   ]
  },
  {
   "cell_type": "code",
   "execution_count": 361,
   "metadata": {
    "tags": []
   },
   "outputs": [
    {
     "name": "stdout",
     "output_type": "stream",
     "text": [
      "['black-cab-as-customer', 'black-cab-as-driver', 'bus', 'cable-car', 'coach', 'cycle', 'cycle-hire', 'dlr', 'electric-car', 'goods-vehicle-as-driver', 'interchange-keep-sitting', 'interchange-secure', 'international-rail', 'motorbike-scooter', 'national-rail', 'overground', 'plane', 'private-car', 'private-coach-as-customer', 'private-coach-as-driver', 'private-hire-as-customer', 'private-hire-as-driver', 'replacement-bus', 'river-bus', 'river-tour', 'taxi', 'tflrail', 'tram', 'tube', 'walking']\n",
      "\n",
      "Number of different modes of transport is: 30\n"
     ]
    }
   ],
   "source": [
    "list_modes = [res_modes.json()[i]['modeName'] for i in range(len(res_modes.json()))]\n",
    "print(f'{list_modes}\\n\\nNumber of different modes of transport is: {len(list_modes)}')"
   ]
  },
  {
   "cell_type": "markdown",
   "metadata": {},
   "source": [
    "## Task\n",
    "How many BikePoints in London are operated by Transport for London? How many docks are in **all** BikePoints? There is the information for empty and full docks for each BikePoint."
   ]
  },
  {
   "cell_type": "code",
   "execution_count": 362,
   "metadata": {
    "tags": []
   },
   "outputs": [],
   "source": [
    "res_bikePoints = requests.get('https://api.tfl.gov.uk/BikePoint')"
   ]
  },
  {
   "cell_type": "code",
   "execution_count": 363,
   "metadata": {
    "collapsed": true,
    "jupyter": {
     "outputs_hidden": true
    },
    "tags": []
   },
   "outputs": [
    {
     "name": "stdout",
     "output_type": "stream",
     "text": [
      "Total BikePoints in London operated by Transfor for London: 790\n",
      "['BikePoints_840', 'BikePoints_841', 'BikePoints_842', 'BikePoints_844', 'BikePoints_845', 'BikePoints_4', 'BikePoints_5', 'BikePoints_13', 'BikePoints_15', 'BikePoints_23', 'BikePoints_25', 'BikePoints_40', 'BikePoints_42', 'BikePoints_51', 'BikePoints_54', 'BikePoints_57', 'BikePoints_61', 'BikePoints_62', 'BikePoints_63', 'BikePoints_67', 'BikePoints_69', 'BikePoints_70', 'BikePoints_74', 'BikePoints_75', 'BikePoints_76', 'BikePoints_85', 'BikePoints_88', 'BikePoints_91', 'BikePoints_92', 'BikePoints_94', 'BikePoints_98', 'BikePoints_99', 'BikePoints_100', 'BikePoints_112', 'BikePoints_115', 'BikePoints_117', 'BikePoints_119', 'BikePoints_121', 'BikePoints_122', 'BikePoints_123', 'BikePoints_124', 'BikePoints_127', 'BikePoints_131', 'BikePoints_139', 'BikePoints_141', 'BikePoints_142', 'BikePoints_148', 'BikePoints_149', 'BikePoints_150', 'BikePoints_156', 'BikePoints_157', 'BikePoints_164', 'BikePoints_166', 'BikePoints_170', 'BikePoints_173', 'BikePoints_175', 'BikePoints_176', 'BikePoints_182', 'BikePoints_183', 'BikePoints_184', 'BikePoints_185', 'BikePoints_187', 'BikePoints_189', 'BikePoints_190', 'BikePoints_196', 'BikePoints_197', 'BikePoints_200', 'BikePoints_201', 'BikePoints_206', 'BikePoints_207', 'BikePoints_208', 'BikePoints_219', 'BikePoints_220', 'BikePoints_221', 'BikePoints_222', 'BikePoints_231', 'BikePoints_234', 'BikePoints_238', 'BikePoints_243', 'BikePoints_247', 'BikePoints_257', 'BikePoints_259', 'BikePoints_262', 'BikePoints_263', 'BikePoints_266', 'BikePoints_268', 'BikePoints_273', 'BikePoints_275', 'BikePoints_278', 'BikePoints_282', 'BikePoints_286', 'BikePoints_292', 'BikePoints_294', 'BikePoints_299', 'BikePoints_308', 'BikePoints_309', 'BikePoints_310', 'BikePoints_315', 'BikePoints_324', 'BikePoints_325', 'BikePoints_330', 'BikePoints_338', 'BikePoints_340', 'BikePoints_343', 'BikePoints_354', 'BikePoints_355', 'BikePoints_356', 'BikePoints_357', 'BikePoints_362', 'BikePoints_365', 'BikePoints_381', 'BikePoints_387', 'BikePoints_393', 'BikePoints_394', 'BikePoints_395', 'BikePoints_396', 'BikePoints_399', 'BikePoints_401', 'BikePoints_405', 'BikePoints_410', 'BikePoints_818', 'BikePoints_1', 'BikePoints_2', 'BikePoints_3', 'BikePoints_6', 'BikePoints_7', 'BikePoints_8', 'BikePoints_9', 'BikePoints_10', 'BikePoints_11', 'BikePoints_265', 'BikePoints_267', 'BikePoints_269', 'BikePoints_271', 'BikePoints_274', 'BikePoints_276', 'BikePoints_277', 'BikePoints_279', 'BikePoints_280', 'BikePoints_281', 'BikePoints_283', 'BikePoints_284', 'BikePoints_287', 'BikePoints_288', 'BikePoints_289', 'BikePoints_291', 'BikePoints_293', 'BikePoints_295', 'BikePoints_296', 'BikePoints_297', 'BikePoints_298', 'BikePoints_301', 'BikePoints_302', 'BikePoints_306', 'BikePoints_311', 'BikePoints_312', 'BikePoints_313', 'BikePoints_314', 'BikePoints_317', 'BikePoints_319', 'BikePoints_320', 'BikePoints_321', 'BikePoints_322', 'BikePoints_323', 'BikePoints_326', 'BikePoints_327', 'BikePoints_328', 'BikePoints_329', 'BikePoints_331', 'BikePoints_332', 'BikePoints_337', 'BikePoints_339', 'BikePoints_344', 'BikePoints_345', 'BikePoints_347', 'BikePoints_348', 'BikePoints_350', 'BikePoints_351', 'BikePoints_352', 'BikePoints_353', 'BikePoints_358', 'BikePoints_363', 'BikePoints_364', 'BikePoints_367', 'BikePoints_368', 'BikePoints_370', 'BikePoints_371', 'BikePoints_375', 'BikePoints_376', 'BikePoints_377', 'BikePoints_378', 'BikePoints_379', 'BikePoints_380', 'BikePoints_382', 'BikePoints_384', 'BikePoints_388', 'BikePoints_389', 'BikePoints_390', 'BikePoints_613', 'BikePoints_614', 'BikePoints_615', 'BikePoints_616', 'BikePoints_617', 'BikePoints_618', 'BikePoints_619', 'BikePoints_620', 'BikePoints_621', 'BikePoints_622', 'BikePoints_623', 'BikePoints_624', 'BikePoints_625', 'BikePoints_626', 'BikePoints_627', 'BikePoints_628', 'BikePoints_629', 'BikePoints_630', 'BikePoints_631', 'BikePoints_632', 'BikePoints_633', 'BikePoints_634', 'BikePoints_635', 'BikePoints_636', 'BikePoints_637', 'BikePoints_638', 'BikePoints_639', 'BikePoints_640', 'BikePoints_641', 'BikePoints_642', 'BikePoints_643', 'BikePoints_644', 'BikePoints_645', 'BikePoints_646', 'BikePoints_647', 'BikePoints_648', 'BikePoints_649', 'BikePoints_650', 'BikePoints_651', 'BikePoints_652', 'BikePoints_653', 'BikePoints_654', 'BikePoints_655', 'BikePoints_656', 'BikePoints_657', 'BikePoints_658', 'BikePoints_659', 'BikePoints_660', 'BikePoints_661', 'BikePoints_662', 'BikePoints_663', 'BikePoints_664', 'BikePoints_665', 'BikePoints_667', 'BikePoints_668', 'BikePoints_669', 'BikePoints_670', 'BikePoints_671', 'BikePoints_673', 'BikePoints_674', 'BikePoints_675', 'BikePoints_676', 'BikePoints_677', 'BikePoints_678', 'BikePoints_679', 'BikePoints_680', 'BikePoints_681', 'BikePoints_682', 'BikePoints_683', 'BikePoints_684', 'BikePoints_685', 'BikePoints_686', 'BikePoints_687', 'BikePoints_688', 'BikePoints_689', 'BikePoints_690', 'BikePoints_691', 'BikePoints_692', 'BikePoints_693', 'BikePoints_694', 'BikePoints_695', 'BikePoints_696', 'BikePoints_697', 'BikePoints_698', 'BikePoints_699', 'BikePoints_700', 'BikePoints_701', 'BikePoints_702', 'BikePoints_703', 'BikePoints_704', 'BikePoints_705', 'BikePoints_706', 'BikePoints_707', 'BikePoints_708', 'BikePoints_709', 'BikePoints_710', 'BikePoints_16', 'BikePoints_19', 'BikePoints_22', 'BikePoints_26', 'BikePoints_27', 'BikePoints_28', 'BikePoints_29', 'BikePoints_30', 'BikePoints_31', 'BikePoints_32', 'BikePoints_33', 'BikePoints_34', 'BikePoints_37', 'BikePoints_38', 'BikePoints_43', 'BikePoints_45', 'BikePoints_46', 'BikePoints_47', 'BikePoints_49', 'BikePoints_50', 'BikePoints_52', 'BikePoints_56', 'BikePoints_58', 'BikePoints_60', 'BikePoints_72', 'BikePoints_78', 'BikePoints_79', 'BikePoints_80', 'BikePoints_81', 'BikePoints_82', 'BikePoints_83', 'BikePoints_84', 'BikePoints_86', 'BikePoints_87', 'BikePoints_89', 'BikePoints_90', 'BikePoints_96', 'BikePoints_97', 'BikePoints_101', 'BikePoints_102', 'BikePoints_103', 'BikePoints_104', 'BikePoints_105', 'BikePoints_106', 'BikePoints_107', 'BikePoints_110', 'BikePoints_113', 'BikePoints_114', 'BikePoints_118', 'BikePoints_120', 'BikePoints_125', 'BikePoints_126', 'BikePoints_128', 'BikePoints_129', 'BikePoints_133', 'BikePoints_134', 'BikePoints_135', 'BikePoints_136', 'BikePoints_138', 'BikePoints_140', 'BikePoints_392', 'BikePoints_397', 'BikePoints_398', 'BikePoints_400', 'BikePoints_402', 'BikePoints_403', 'BikePoints_404', 'BikePoints_409', 'BikePoints_411', 'BikePoints_412', 'BikePoints_419', 'BikePoints_420', 'BikePoints_421', 'BikePoints_423', 'BikePoints_424', 'BikePoints_425', 'BikePoints_426', 'BikePoints_430', 'BikePoints_431', 'BikePoints_432', 'BikePoints_433', 'BikePoints_435', 'BikePoints_437', 'BikePoints_439', 'BikePoints_440', 'BikePoints_441', 'BikePoints_442', 'BikePoints_443', 'BikePoints_444', 'BikePoints_445', 'BikePoints_446', 'BikePoints_447', 'BikePoints_448', 'BikePoints_449', 'BikePoints_450', 'BikePoints_451', 'BikePoints_452', 'BikePoints_453', 'BikePoints_454', 'BikePoints_455', 'BikePoints_456', 'BikePoints_457', 'BikePoints_458', 'BikePoints_459', 'BikePoints_460', 'BikePoints_461', 'BikePoints_462', 'BikePoints_463', 'BikePoints_464', 'BikePoints_465', 'BikePoints_466', 'BikePoints_467', 'BikePoints_468', 'BikePoints_469', 'BikePoints_470', 'BikePoints_471', 'BikePoints_472', 'BikePoints_473', 'BikePoints_474', 'BikePoints_475', 'BikePoints_476', 'BikePoints_477', 'BikePoints_478', 'BikePoints_479', 'BikePoints_480', 'BikePoints_481', 'BikePoints_482', 'BikePoints_483', 'BikePoints_484', 'BikePoints_485', 'BikePoints_486', 'BikePoints_487', 'BikePoints_488', 'BikePoints_489', 'BikePoints_490', 'BikePoints_491', 'BikePoints_492', 'BikePoints_494', 'BikePoints_495', 'BikePoints_496', 'BikePoints_497', 'BikePoints_498', 'BikePoints_499', 'BikePoints_500', 'BikePoints_501', 'BikePoints_502', 'BikePoints_503', 'BikePoints_504', 'BikePoints_819', 'BikePoints_820', 'BikePoints_821', 'BikePoints_826', 'BikePoints_827', 'BikePoints_828', 'BikePoints_829', 'BikePoints_830', 'BikePoints_831', 'BikePoints_832', 'BikePoints_833', 'BikePoints_834', 'BikePoints_835', 'BikePoints_836', 'BikePoints_838', 'BikePoints_839', 'BikePoints_143', 'BikePoints_145', 'BikePoints_146', 'BikePoints_151', 'BikePoints_152', 'BikePoints_155', 'BikePoints_158', 'BikePoints_159', 'BikePoints_160', 'BikePoints_161', 'BikePoints_162', 'BikePoints_163', 'BikePoints_165', 'BikePoints_167', 'BikePoints_168', 'BikePoints_169', 'BikePoints_171', 'BikePoints_172', 'BikePoints_177', 'BikePoints_178', 'BikePoints_180', 'BikePoints_181', 'BikePoints_188', 'BikePoints_193', 'BikePoints_195', 'BikePoints_199', 'BikePoints_204', 'BikePoints_209', 'BikePoints_211', 'BikePoints_212', 'BikePoints_216', 'BikePoints_218', 'BikePoints_223', 'BikePoints_224', 'BikePoints_226', 'BikePoints_227', 'BikePoints_230', 'BikePoints_232', 'BikePoints_233', 'BikePoints_235', 'BikePoints_236', 'BikePoints_237', 'BikePoints_240', 'BikePoints_242', 'BikePoints_244', 'BikePoints_245', 'BikePoints_249', 'BikePoints_250', 'BikePoints_252', 'BikePoints_253', 'BikePoints_254', 'BikePoints_255', 'BikePoints_256', 'BikePoints_260', 'BikePoints_261', 'BikePoints_264', 'BikePoints_505', 'BikePoints_506', 'BikePoints_507', 'BikePoints_508', 'BikePoints_509', 'BikePoints_510', 'BikePoints_511', 'BikePoints_512', 'BikePoints_513', 'BikePoints_514', 'BikePoints_515', 'BikePoints_516', 'BikePoints_517', 'BikePoints_518', 'BikePoints_519', 'BikePoints_520', 'BikePoints_521', 'BikePoints_522', 'BikePoints_523', 'BikePoints_524', 'BikePoints_526', 'BikePoints_527', 'BikePoints_528', 'BikePoints_529', 'BikePoints_530', 'BikePoints_531', 'BikePoints_532', 'BikePoints_533', 'BikePoints_534', 'BikePoints_535', 'BikePoints_536', 'BikePoints_537', 'BikePoints_538', 'BikePoints_539', 'BikePoints_540', 'BikePoints_542', 'BikePoints_543', 'BikePoints_544', 'BikePoints_545', 'BikePoints_546', 'BikePoints_547', 'BikePoints_548', 'BikePoints_549', 'BikePoints_550', 'BikePoints_551', 'BikePoints_552', 'BikePoints_554', 'BikePoints_556', 'BikePoints_557', 'BikePoints_558', 'BikePoints_559', 'BikePoints_560', 'BikePoints_561', 'BikePoints_562', 'BikePoints_563', 'BikePoints_564', 'BikePoints_565', 'BikePoints_566', 'BikePoints_568', 'BikePoints_569', 'BikePoints_570', 'BikePoints_571', 'BikePoints_572', 'BikePoints_573', 'BikePoints_574', 'BikePoints_576', 'BikePoints_577', 'BikePoints_578', 'BikePoints_580', 'BikePoints_581', 'BikePoints_584', 'BikePoints_586', 'BikePoints_587', 'BikePoints_588', 'BikePoints_589', 'BikePoints_590', 'BikePoints_592', 'BikePoints_593', 'BikePoints_594', 'BikePoints_595', 'BikePoints_596', 'BikePoints_597', 'BikePoints_598', 'BikePoints_599', 'BikePoints_600', 'BikePoints_601', 'BikePoints_602', 'BikePoints_603', 'BikePoints_604', 'BikePoints_605', 'BikePoints_606', 'BikePoints_607', 'BikePoints_608', 'BikePoints_609', 'BikePoints_610', 'BikePoints_611', 'BikePoints_612', 'BikePoints_711', 'BikePoints_712', 'BikePoints_713', 'BikePoints_714', 'BikePoints_715', 'BikePoints_716', 'BikePoints_717', 'BikePoints_718', 'BikePoints_719', 'BikePoints_720', 'BikePoints_721', 'BikePoints_722', 'BikePoints_723', 'BikePoints_724', 'BikePoints_725', 'BikePoints_726', 'BikePoints_727', 'BikePoints_728', 'BikePoints_729', 'BikePoints_730', 'BikePoints_731', 'BikePoints_732', 'BikePoints_733', 'BikePoints_734', 'BikePoints_735', 'BikePoints_736', 'BikePoints_737', 'BikePoints_738', 'BikePoints_739', 'BikePoints_740', 'BikePoints_741', 'BikePoints_742', 'BikePoints_743', 'BikePoints_744', 'BikePoints_745', 'BikePoints_746', 'BikePoints_747', 'BikePoints_748', 'BikePoints_749', 'BikePoints_750', 'BikePoints_754', 'BikePoints_755', 'BikePoints_756', 'BikePoints_757', 'BikePoints_758', 'BikePoints_759', 'BikePoints_761', 'BikePoints_762', 'BikePoints_763', 'BikePoints_764', 'BikePoints_765', 'BikePoints_766', 'BikePoints_767', 'BikePoints_768', 'BikePoints_769', 'BikePoints_770', 'BikePoints_771', 'BikePoints_772', 'BikePoints_773', 'BikePoints_774', 'BikePoints_775', 'BikePoints_776', 'BikePoints_777', 'BikePoints_779', 'BikePoints_780', 'BikePoints_781', 'BikePoints_782', 'BikePoints_783', 'BikePoints_784', 'BikePoints_786', 'BikePoints_790', 'BikePoints_792', 'BikePoints_793', 'BikePoints_794', 'BikePoints_796', 'BikePoints_797', 'BikePoints_798', 'BikePoints_799', 'BikePoints_800', 'BikePoints_801', 'BikePoints_802', 'BikePoints_803', 'BikePoints_804', 'BikePoints_805', 'BikePoints_806', 'BikePoints_807', 'BikePoints_808', 'BikePoints_809', 'BikePoints_810', 'BikePoints_811', 'BikePoints_812', 'BikePoints_813', 'BikePoints_814', 'BikePoints_815', 'BikePoints_816', 'BikePoints_817', 'BikePoints_202', 'BikePoints_203', 'BikePoints_210', 'BikePoints_213', 'BikePoints_214', 'BikePoints_215', 'BikePoints_217', 'BikePoints_225', 'BikePoints_228', 'BikePoints_229', 'BikePoints_239', 'BikePoints_246', 'BikePoints_248', 'BikePoints_251', 'BikePoints_258', 'BikePoints_270', 'BikePoints_272', 'BikePoints_290', 'BikePoints_300', 'BikePoints_12', 'BikePoints_14', 'BikePoints_17', 'BikePoints_18', 'BikePoints_20', 'BikePoints_24', 'BikePoints_36', 'BikePoints_39', 'BikePoints_41', 'BikePoints_44', 'BikePoints_48', 'BikePoints_53', 'BikePoints_55', 'BikePoints_64', 'BikePoints_66', 'BikePoints_68', 'BikePoints_71', 'BikePoints_73', 'BikePoints_77', 'BikePoints_93', 'BikePoints_95', 'BikePoints_427', 'BikePoints_428', 'BikePoints_436', 'BikePoints_108', 'BikePoints_109', 'BikePoints_111', 'BikePoints_116', 'BikePoints_130', 'BikePoints_132', 'BikePoints_144', 'BikePoints_153', 'BikePoints_154', 'BikePoints_186', 'BikePoints_191', 'BikePoints_192', 'BikePoints_194', 'BikePoints_541', 'BikePoints_553', 'BikePoints_579', 'BikePoints_303', 'BikePoints_307', 'BikePoints_316', 'BikePoints_333', 'BikePoints_334', 'BikePoints_335', 'BikePoints_336', 'BikePoints_341', 'BikePoints_349', 'BikePoints_359', 'BikePoints_360', 'BikePoints_361', 'BikePoints_366', 'BikePoints_372', 'BikePoints_373', 'BikePoints_374', 'BikePoints_383', 'BikePoints_386', 'BikePoints_391', 'BikePoints_751', 'BikePoints_785', 'BikePoints_787', 'BikePoints_789', 'BikePoints_795']\n"
     ]
    }
   ],
   "source": [
    "list_bikePoints = [res_bikePoints.json()[i]['id'] for i in range(len(res_bikePoints.json()))]\n",
    "print(f'Total BikePoints in London operated by Transfor for London: {len(list_bikePoints)}\\n{list_bikePoints}')"
   ]
  },
  {
   "cell_type": "code",
   "execution_count": 364,
   "metadata": {
    "tags": []
   },
   "outputs": [
    {
     "name": "stdout",
     "output_type": "stream",
     "text": [
      "Total docks is: 20990\n"
     ]
    }
   ],
   "source": [
    "total_docks = sum([int(res_bikePoints.json()[i]['additionalProperties'][8]['value']) for i in range(len(res_bikePoints.json()))])\n",
    "\n",
    "print(f'Total docks is: {total_docks}')"
   ]
  },
  {
   "cell_type": "markdown",
   "metadata": {},
   "source": [
    "## Task\n",
    "How many tube and bus lines are in London? Print names of all tube lines."
   ]
  },
  {
   "cell_type": "code",
   "execution_count": 365,
   "metadata": {
    "tags": []
   },
   "outputs": [],
   "source": [
    "res_tube = requests.get('https://api.tfl.gov.uk/Line/Mode/tube')\n",
    "res_bus = requests.get('https://api.tfl.gov.uk/Line/Mode/bus')"
   ]
  },
  {
   "cell_type": "code",
   "execution_count": 366,
   "metadata": {
    "tags": []
   },
   "outputs": [
    {
     "name": "stdout",
     "output_type": "stream",
     "text": [
      "There are 22 tube and bus lines.\n",
      "\n",
      "Names of all tube lines:\n",
      "['Bakerloo', 'Central', 'Circle', 'District', 'Hammersmith & City', 'Jubilee', 'Metropolitan', 'Northern', 'Piccadilly', 'Victoria', 'Waterloo & City']\n"
     ]
    }
   ],
   "source": [
    "tubes = [res_tube.json()[i]['name'] for i in range(len(res_tube.json()))]\n",
    "lines_tubes = len(tubes)\n",
    "\n",
    "buses = [res_bus.json()[i]['name'] for i in range(len(res_tube.json()))]\n",
    "lines_buses = len(buses)\n",
    "\n",
    "total_lines = lines_tubes + lines_buses\n",
    "\n",
    "print(f'There are {total_lines} tube and bus lines.\\n\\nNames of all tube lines:\\n{tubes}')"
   ]
  },
  {
   "cell_type": "markdown",
   "metadata": {},
   "source": [
    "## Task\n",
    "How many station has `victoria` line?"
   ]
  },
  {
   "cell_type": "code",
   "execution_count": 367,
   "metadata": {
    "tags": []
   },
   "outputs": [],
   "source": [
    "res_stat_vic = requests.get('https://api.tfl.gov.uk/Line/victoria/StopPoints')"
   ]
  },
  {
   "cell_type": "code",
   "execution_count": 368,
   "metadata": {
    "tags": []
   },
   "outputs": [
    {
     "name": "stdout",
     "output_type": "stream",
     "text": [
      "Stations that have victoria line: 16\n"
     ]
    }
   ],
   "source": [
    "total_stat_vic = len([res_stat_vic.json()[i]['commonName'] for i in range(len(res_stat_vic.json()))])\n",
    "print(f'Stations that have victoria line: {total_stat_vic}')"
   ]
  },
  {
   "cell_type": "markdown",
   "metadata": {},
   "source": [
    "## Task\n",
    "Plan the journey from Heathrow Airport to Tower Bridge using Bus and Tube? Which way is faster? Example output:\n",
    "```\n",
    "Planned duration:\n",
    "Bus: x minutes\n",
    "Tube: y minutes\n",
    "```\n",
    "\n",
    "We need to search the documentation for correct requests and parameters we need."
   ]
  },
  {
   "cell_type": "code",
   "execution_count": 369,
   "metadata": {
    "tags": []
   },
   "outputs": [],
   "source": [
    "by_bus = requests.get('https://api.tfl.gov.uk/Journey/JourneyResults/51.4700%2C%20-0.4543/to/51.5055%2C%20-0.0754?mode=bus')\n",
    "by_tube = requests.get('https://api.tfl.gov.uk/Journey/JourneyResults/51.4700%2C%20-0.4543/to/51.5055%2C%20-0.0754?mode=tube')"
   ]
  },
  {
   "cell_type": "code",
   "execution_count": 370,
   "metadata": {
    "tags": []
   },
   "outputs": [
    {
     "name": "stdout",
     "output_type": "stream",
     "text": [
      "Travel time by bus: 0 days 02:44:00\n",
      "Travel time by tube: 0 days 01:26:00\n",
      "Tube is faster by 0 days 01:18:00\n"
     ]
    }
   ],
   "source": [
    "dt_bus = pd.to_datetime(by_bus.json()['journeys'][0]['arrivalDateTime']) - pd.to_datetime(by_bus.json()['journeys'][0]['startDateTime'])\n",
    "print(f'Travel time by bus: {dt_bus}')\n",
    "\n",
    "dt_tube = pd.to_datetime(by_tube.json()['journeys'][0]['arrivalDateTime']) - pd.to_datetime(by_tube.json()['journeys'][0]['startDateTime'])\n",
    "print(f'Travel time by tube: {dt_tube}')\n",
    "\n",
    "if dt_bus < dt_tube:\n",
    "    print(f'Bus is faster by {dt_tube - dt_bus}')\n",
    "else:\n",
    "    print(f'Tube is faster by {dt_bus - dt_tube}')"
   ]
  }
 ],
 "metadata": {
  "kernelspec": {
   "display_name": "Python 3",
   "language": "python",
   "name": "python3"
  },
  "language_info": {
   "codemirror_mode": {
    "name": "ipython",
    "version": 3
   },
   "file_extension": ".py",
   "mimetype": "text/x-python",
   "name": "python",
   "nbconvert_exporter": "python",
   "pygments_lexer": "ipython3",
   "version": "3.8.8"
  }
 },
 "nbformat": 4,
 "nbformat_minor": 4
}
