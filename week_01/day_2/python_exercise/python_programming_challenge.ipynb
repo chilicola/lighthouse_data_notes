{
 "cells": [
  {
   "cell_type": "markdown",
   "metadata": {},
   "source": [
    "# Python Programming Challenge\n",
    "\n",
    "## Poker Hand\n",
    "\n",
    "In this challenge, we have to determine which kind of Poker combination is present in a deck of 5 cards. Every card is a string containing the card value **with the upper-case initial for face-cards** and the **lower-case initial for the suit**, as seen in the examples below:\n",
    "\n",
    "> \"Ah\" ➞ Ace of hearts <br>\n",
    "> \"Ks\" ➞ King of spades<br>\n",
    "> \"3d\" ➞ Three of diamonds<br>\n",
    "> \"Qc\" ➞ Queen of clubs <br>\n",
    "\n",
    "There are 10 different combinations. Here's the list, in descending order of importance:"
   ]
  },
  {
   "cell_type": "markdown",
   "metadata": {},
   "source": [
    "| Name            | Description                                         |\n",
    "|-----------------|-----------------------------------------------------|\n",
    "| Royal Flush     | A, K, Q, J, 10, all with the same suit.             |\n",
    "| Straight Flush  | Five cards in sequence, all with the same suit.     |\n",
    "| Four of a Kind  | Four cards of the same rank.                        |\n",
    "| Full House      | Three of a Kind with a Pair.                        |\n",
    "| Flush           | Any five cards of the same suit, not in sequence    |\n",
    "| Straight        | Five cards in a sequence, but not of the same suit. |\n",
    "| Three of a Kind | Three cards of the same rank.                       |\n",
    "| Two Pair        | Two different Pairs.                                |\n",
    "| Pair            | Two cards of the same rank.                         |\n",
    "| High Card       | No other valid combination.                         |\n",
    "\n",
    "---------"
   ]
  },
  {
   "cell_type": "markdown",
   "metadata": {},
   "source": [
    "##### https://briancaffey.github.io/2018/01/02/checking-poker-hands-with-python.html/"
   ]
  },
  {
   "cell_type": "markdown",
   "metadata": {},
   "source": [
    "#### 1. Given a list `hand` containing five strings being the cards. Implement a function called `poker_hand_ranking` that **returns a string with the name of the highest combination obtained.** According to the table above.\n",
    "\n",
    "**Examples:**\n",
    "\n",
    "> poker_hand_ranking([\"10h\", \"Jh\", \"Qh\", \"Ah\", \"Kh\"]) ➞ \"Royal Flush\"<br>\n",
    "> poker_hand_ranking([\"3h\", \"5h\", \"Qs\", \"9h\", \"Ad\"]) ➞ \"High Card\"<br>\n",
    "> poker_hand_ranking([\"10s\", \"10c\", \"8d\", \"10d\", \"10h\"]) ➞ \"Four of a Kind\"<br>"
   ]
  },
  {
   "cell_type": "code",
   "execution_count": 487,
   "metadata": {},
   "outputs": [],
   "source": [
    "def poker_hand_ranking(hand):\n",
    "    value = {\n",
    "        '2': 2,\n",
    "        '3': 3,\n",
    "        '4': 4,\n",
    "        '5': 5,\n",
    "        '6': 6,\n",
    "        '7': 7,\n",
    "        '8': 8,\n",
    "        '9': 9,\n",
    "        '10': 10,\n",
    "        'J': 11,\n",
    "        'Q': 12,\n",
    "        'K': 13,\n",
    "        'A': 14}\n",
    "\n",
    "    suit = [card[-1] for card in hand]\n",
    "    \n",
    "    num_str = [card[-3 : -1] for card in hand]\n",
    "    num = [value[ns] for ns in num_str]\n",
    "    num.sort()\n",
    "    \n",
    "    def check_flush(suit):\n",
    "        if len(set(suit)) == 1:\n",
    "            return(True)\n",
    "        else:\n",
    "            return(False)\n",
    "    \n",
    "    def check_straight(num):\n",
    "        if num == list(range(min(num), max(num) + 1)):\n",
    "            return(True)\n",
    "        else:\n",
    "            return(False)\n",
    "        \n",
    "    def check_full_house(num):\n",
    "        value_list = []\n",
    "        for n in num:\n",
    "            value_list.append(num.count(n))\n",
    "        if set(value_list) == {2, 3}:\n",
    "            return(True)\n",
    "        else:\n",
    "            return(False)\n",
    "        \n",
    "    def check_three_of_a_kind(num):\n",
    "        value_list = []\n",
    "        for n in num:\n",
    "            value_list.append(num.count(n))\n",
    "        if set(value_list) == {1, 3}:\n",
    "            return(True)\n",
    "        else:\n",
    "            return(False)\n",
    "        \n",
    "    def check_two_pair(num):\n",
    "        value_list = []\n",
    "        for n in num:\n",
    "            value_list.append(num.count(n))\n",
    "        if len(set(num)) == 3 and set(value_list) == {1, 2}:\n",
    "            return(True)\n",
    "        else:\n",
    "            return(False)\n",
    "    \n",
    "    def check_pair(num):\n",
    "        value_list = []\n",
    "        for n in num:\n",
    "            value_list.append(num.count(n))\n",
    "        if len(set(num)) == 4 and set(value_list) == {1, 2}:\n",
    "            return(True)\n",
    "        else:\n",
    "            return(False)\n",
    "        \n",
    "    if check_flush(suit) and num == [10, 11, 12, 13, 14]:\n",
    "        return('Royal Flush')\n",
    "    \n",
    "    elif check_flush(suit) and check_straight(num):\n",
    "        return('Straight Flush')\n",
    "    \n",
    "    elif num[0] == num[3] or num[1] == num[4]:\n",
    "        return('Four of a Kind')\n",
    "    \n",
    "    elif check_full_house(num):\n",
    "        return('Full House')\n",
    "    \n",
    "    elif len(set(suit)) == 1:\n",
    "        return('Flush')\n",
    "    \n",
    "    elif check_straight(num):\n",
    "        return('Straight')\n",
    "    \n",
    "    elif check_three_of_a_kind(num):\n",
    "        return('Three of a Kind')\n",
    "    \n",
    "    elif check_two_pair(num):\n",
    "        return('Two Pair')\n",
    "    \n",
    "    elif check_pair(num):\n",
    "        return('Pair')\n",
    "    \n",
    "    else:\n",
    "        return('High Card')"
   ]
  },
  {
   "cell_type": "code",
   "execution_count": 488,
   "metadata": {},
   "outputs": [
    {
     "data": {
      "text/plain": [
       "'High Card'"
      ]
     },
     "execution_count": 488,
     "metadata": {},
     "output_type": "execute_result"
    }
   ],
   "source": [
    "# Testing\n",
    "\n",
    "poker_hand_ranking([\"8s\", \"4s\", \"5d\", \"As\", \"2s\"])"
   ]
  },
  {
   "cell_type": "markdown",
   "metadata": {},
   "source": [
    "------------\n",
    "### **Stretch Content**\n",
    "\n",
    "#### 2.  Implement a function `winner_is` that returns the winner given a dictionary with different players and their hands. \n",
    "**Example**\n",
    "\n",
    "We define dictionary like\n",
    "```python\n",
    "round_1 = {\"John\" = [\"10h\", \"Jh\", \"Qh\", \"Ah\", \"Kh\"], \n",
    "        \"Peter\" = [\"3h\", \"5h\", \"Qs\", \"9h\", \"Ad\"]}\n",
    "```\n",
    "\n",
    "Our function returns the name of the winner:\n",
    "> winner_is(round_1) --> \"John\"\n",
    "\n",
    "One table can have up to 10 players.\n"
   ]
  },
  {
   "cell_type": "code",
   "execution_count": 511,
   "metadata": {},
   "outputs": [],
   "source": [
    "def winner_is(round_n):\n",
    "    \n",
    "    rank = {\n",
    "        'Royal Flush': 10,\n",
    "        'Straight Flush': 9, \n",
    "        'Four of a Kind': 8,\n",
    "        'Full House': 7,\n",
    "        'Flush': 6,\n",
    "        'Straight': 5,\n",
    "        'Three of a Kind': 4,\n",
    "        'Two Pair': 3, \n",
    "        'Pair': 2,\n",
    "        'High Card': 1}\n",
    "    \n",
    "    temp_rank = 0\n",
    "    \n",
    "    for player in round_n:    \n",
    "        if rank[poker_hand_ranking(round_1[player])] > temp_rank:\n",
    "            winner = player\n",
    "            temp_rank = rank[poker_hand_ranking(round_1[player])]\n",
    "        else:\n",
    "            continue\n",
    "\n",
    "    return(winner)"
   ]
  },
  {
   "cell_type": "code",
   "execution_count": 494,
   "metadata": {},
   "outputs": [
    {
     "data": {
      "text/plain": [
       "'John'"
      ]
     },
     "execution_count": 494,
     "metadata": {},
     "output_type": "execute_result"
    }
   ],
   "source": [
    "winner_is(round_1)"
   ]
  },
  {
   "cell_type": "code",
   "execution_count": 464,
   "metadata": {},
   "outputs": [],
   "source": [
    "# Testing\n",
    "\n",
    "round_1 = {\"John\": [\"10h\", \"Jh\", \"Qh\", \"Ah\", \"Kh\"], \n",
    "        \"Peter\": [\"3h\", \"5h\", \"Qs\", \"9h\", \"Ad\"]}\n",
    "\n",
    "rank = {\n",
    "    'Royal Flush': 10,\n",
    "    'Straight Flush': 9, \n",
    "    'Four of a Kind': 8,\n",
    "    'Full House': 7,\n",
    "    'Flush': 6,\n",
    "    'Straight': 5,\n",
    "    'Three of a Kind': 4,\n",
    "    'Two Pair': 3, \n",
    "    'Pair': 2,\n",
    "    'High Card': 1}"
   ]
  },
  {
   "cell_type": "markdown",
   "metadata": {},
   "source": [
    "#### 3. Create a function `distribute_cards` that randomly generates and gives 5 cards to every player given a list of player names.\n",
    "\n",
    "**Example**\n",
    "\n",
    "> distribute_cards([\"John\",\"Peter\"])  -> round_1 = {\"John\" = [\"10h\", \"Jh\", \"Qh\", \"Ah\", \"Kh\"], \n",
    "        \"Peter\" = [\"3h\", \"5h\", \"Qs\", \"9h\", \"Ad\"]\n",
    "}"
   ]
  },
  {
   "cell_type": "code",
   "execution_count": 512,
   "metadata": {},
   "outputs": [],
   "source": [
    "def distribute_cards(players):\n",
    "    import numpy as np\n",
    "    \n",
    "    player_list = {}\n",
    "    \n",
    "    for player in players:\n",
    "        player_list[player] = []\n",
    "    print(player_list) # check point\n",
    "    \n",
    "    "
   ]
  },
  {
   "cell_type": "code",
   "execution_count": null,
   "metadata": {},
   "outputs": [],
   "source": []
  },
  {
   "cell_type": "code",
   "execution_count": 509,
   "metadata": {},
   "outputs": [
    {
     "name": "stdout",
     "output_type": "stream",
     "text": [
      "{'John': [], 'Peter': []}\n"
     ]
    }
   ],
   "source": [
    "# Testing\n",
    "\n",
    "distribute_cards([\"John\",\"Peter\"])"
   ]
  },
  {
   "cell_type": "code",
   "execution_count": 523,
   "metadata": {},
   "outputs": [],
   "source": [
    "import random"
   ]
  },
  {
   "cell_type": "code",
   "execution_count": 553,
   "metadata": {},
   "outputs": [
    {
     "data": {
      "text/plain": [
       "7"
      ]
     },
     "execution_count": 553,
     "metadata": {},
     "output_type": "execute_result"
    }
   ],
   "source": [
    "for n in \n",
    "\n",
    "num = [1, 2, 3, 4, 5, 6, 7, 8, 9, 10, 'J', 'Q', 'K', 'A']\n",
    "\n",
    "\n",
    "random.choice(num)"
   ]
  }
 ],
 "metadata": {
  "kernelspec": {
   "display_name": "Python 3",
   "language": "python",
   "name": "python3"
  },
  "language_info": {
   "codemirror_mode": {
    "name": "ipython",
    "version": 3
   },
   "file_extension": ".py",
   "mimetype": "text/x-python",
   "name": "python",
   "nbconvert_exporter": "python",
   "pygments_lexer": "ipython3",
   "version": "3.8.5"
  }
 },
 "nbformat": 4,
 "nbformat_minor": 4
}
