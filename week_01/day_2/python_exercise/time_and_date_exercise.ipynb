{
 "cells": [
  {
   "cell_type": "markdown",
   "metadata": {},
   "source": [
    "# Time & Date Exercise"
   ]
  },
  {
   "cell_type": "code",
   "execution_count": 39,
   "metadata": {
    "ExecuteTime": {
     "end_time": "2020-04-23T12:59:43.427172Z",
     "start_time": "2020-04-23T12:59:43.421241Z"
    }
   },
   "outputs": [],
   "source": [
    "import datetime\n",
    "import calendar\n",
    "import pandas as pd"
   ]
  },
  {
   "cell_type": "markdown",
   "metadata": {
    "ExecuteTime": {
     "end_time": "2020-04-23T12:52:58.201151Z",
     "start_time": "2020-04-23T12:52:58.193651Z"
    }
   },
   "source": [
    "**print:**\n",
    "1.  Current date and time\n",
    "2.  Current year\n",
    "3.  Month of year\n",
    "4.  Week number of the year\n",
    "5.  Weekday of the week\n",
    "6.  Day of year\n",
    "7.  Day of the month\n",
    "8.  Day of week"
   ]
  },
  {
   "cell_type": "code",
   "execution_count": 66,
   "metadata": {
    "ExecuteTime": {
     "end_time": "2020-04-23T12:53:26.216074Z",
     "start_time": "2020-04-23T12:53:26.206960Z"
    }
   },
   "outputs": [
    {
     "name": "stdout",
     "output_type": "stream",
     "text": [
      "1. 2021-05-27 04:21:51.565887\n",
      "2. 2021\n",
      "3. 5\n",
      "4. 21\n",
      "5. 3\n",
      "6. 147\n",
      "7. 21\n",
      "8. 4\n"
     ]
    }
   ],
   "source": [
    "now = datetime.datetime.today()\n",
    "\n",
    "print('1.', now)\n",
    "print('2.', now.year)\n",
    "print('3.', now.month)\n",
    "print('4.', now.strftime('%W'))\n",
    "print('5.', now.weekday())\n",
    "print('6.', now.strftime('%j'))\n",
    "print('7.', now.strftime('%M'))\n",
    "print('8.', now.strftime('%w'))"
   ]
  },
  {
   "cell_type": "markdown",
   "metadata": {},
   "source": [
    "* convert a string to datetime\n",
    "* **string** = *'Jan 1 2014 2:43PM'*"
   ]
  },
  {
   "cell_type": "code",
   "execution_count": 77,
   "metadata": {
    "ExecuteTime": {
     "end_time": "2020-04-23T12:53:52.241615Z",
     "start_time": "2020-04-23T12:53:52.231428Z"
    }
   },
   "outputs": [
    {
     "name": "stdout",
     "output_type": "stream",
     "text": [
      "2014-01-01 14:43:00\n"
     ]
    }
   ],
   "source": [
    "string = 'Jan 1 2014 2:43PM'\n",
    "dt_string = pd.to_datetime(string)\n",
    "print(dt_string)"
   ]
  },
  {
   "cell_type": "markdown",
   "metadata": {},
   "source": [
    "* print the current time "
   ]
  },
  {
   "cell_type": "code",
   "execution_count": 81,
   "metadata": {
    "ExecuteTime": {
     "end_time": "2020-03-11T18:16:28.915595Z",
     "start_time": "2020-03-11T18:16:28.909658Z"
    }
   },
   "outputs": [
    {
     "name": "stdout",
     "output_type": "stream",
     "text": [
      "04:21:51.565887\n"
     ]
    }
   ],
   "source": [
    "print(now.time())"
   ]
  },
  {
   "cell_type": "markdown",
   "metadata": {},
   "source": [
    "* subtract five days from current date"
   ]
  },
  {
   "cell_type": "code",
   "execution_count": 86,
   "metadata": {
    "ExecuteTime": {
     "end_time": "2020-04-23T12:54:56.116690Z",
     "start_time": "2020-04-23T12:54:56.111293Z"
    }
   },
   "outputs": [
    {
     "name": "stdout",
     "output_type": "stream",
     "text": [
      "2021-05-22 04:21:51.565887\n"
     ]
    }
   ],
   "source": [
    "days_5_ago = now - datetime.timedelta(days = 5)\n",
    "print(days_5_ago)"
   ]
  },
  {
   "cell_type": "markdown",
   "metadata": {
    "ExecuteTime": {
     "end_time": "2020-04-23T12:55:10.916163Z",
     "start_time": "2020-04-23T12:55:10.910245Z"
    }
   },
   "source": [
    "* convert unix timestamp string to readable date\n",
    "* **unix** = *1284105682*"
   ]
  },
  {
   "cell_type": "code",
   "execution_count": 88,
   "metadata": {
    "ExecuteTime": {
     "end_time": "2020-03-11T18:19:02.952818Z",
     "start_time": "2020-03-11T18:19:02.946930Z"
    }
   },
   "outputs": [
    {
     "name": "stdout",
     "output_type": "stream",
     "text": [
      "2010-09-10 01:01:22\n"
     ]
    }
   ],
   "source": [
    "unix = 1284105682\n",
    "\n",
    "print(datetime.datetime.fromtimestamp(unix))"
   ]
  },
  {
   "cell_type": "markdown",
   "metadata": {
    "ExecuteTime": {
     "end_time": "2020-04-23T12:56:00.886007Z",
     "start_time": "2020-04-23T12:56:00.878697Z"
    }
   },
   "source": [
    "* convert today's date to Day of Year"
   ]
  },
  {
   "cell_type": "code",
   "execution_count": 96,
   "metadata": {
    "ExecuteTime": {
     "end_time": "2020-04-23T12:55:58.575327Z",
     "start_time": "2020-04-23T12:55:58.553895Z"
    }
   },
   "outputs": [
    {
     "name": "stdout",
     "output_type": "stream",
     "text": [
      "147\n"
     ]
    }
   ],
   "source": [
    "print(now.strftime('%j'))"
   ]
  },
  {
   "cell_type": "markdown",
   "metadata": {},
   "source": [
    "* get week number from today's date"
   ]
  },
  {
   "cell_type": "code",
   "execution_count": 97,
   "metadata": {
    "ExecuteTime": {
     "end_time": "2020-04-23T12:56:28.577424Z",
     "start_time": "2020-04-23T12:56:28.572138Z"
    }
   },
   "outputs": [
    {
     "name": "stdout",
     "output_type": "stream",
     "text": [
      "21\n"
     ]
    }
   ],
   "source": [
    "print(now.strftime('%W'))"
   ]
  },
  {
   "cell_type": "markdown",
   "metadata": {
    "ExecuteTime": {
     "end_time": "2020-04-23T12:56:43.939475Z",
     "start_time": "2020-04-23T12:56:43.932915Z"
    }
   },
   "source": [
    "* get the number of days between the two dates"
   ]
  },
  {
   "cell_type": "code",
   "execution_count": 98,
   "metadata": {
    "ExecuteTime": {
     "end_time": "2020-04-23T12:59:47.672905Z",
     "start_time": "2020-04-23T12:59:47.667373Z"
    }
   },
   "outputs": [
    {
     "name": "stdout",
     "output_type": "stream",
     "text": [
      "32 days, 0:00:00\n"
     ]
    }
   ],
   "source": [
    "date_a = datetime.date(2020,2,2)\n",
    "date_b = datetime.date(2020,1,1)\n",
    "\n",
    "delta_time = date_a - date_b\n",
    "print(delta_time)"
   ]
  },
  {
   "cell_type": "markdown",
   "metadata": {},
   "source": [
    "* get the number of days of the given month and year"
   ]
  },
  {
   "cell_type": "code",
   "execution_count": 101,
   "metadata": {
    "ExecuteTime": {
     "end_time": "2020-04-23T12:59:48.516068Z",
     "start_time": "2020-04-23T12:59:48.511765Z"
    }
   },
   "outputs": [
    {
     "data": {
      "text/plain": [
       "31"
      ]
     },
     "execution_count": 101,
     "metadata": {},
     "output_type": "execute_result"
    }
   ],
   "source": [
    "month = 10\n",
    "year = 2016\n",
    "calendar.monthrange(year, month)[1]"
   ]
  },
  {
   "cell_type": "markdown",
   "metadata": {},
   "source": [
    "* get a list of dates between the two dates"
   ]
  },
  {
   "cell_type": "code",
   "execution_count": 102,
   "metadata": {
    "ExecuteTime": {
     "end_time": "2020-04-23T12:59:53.461312Z",
     "start_time": "2020-04-23T12:59:53.456769Z"
    }
   },
   "outputs": [],
   "source": [
    "start_dt = datetime.date(2015, 12, 20)\n",
    "end_dt = datetime.date(2016, 1, 11)"
   ]
  },
  {
   "cell_type": "code",
   "execution_count": 121,
   "metadata": {
    "tags": []
   },
   "outputs": [
    {
     "name": "stdout",
     "output_type": "stream",
     "text": [
      "2015-12-20\n",
      "2015-12-21\n",
      "2015-12-22\n",
      "2015-12-23\n",
      "2015-12-24\n",
      "2015-12-25\n",
      "2015-12-26\n",
      "2015-12-27\n",
      "2015-12-28\n",
      "2015-12-29\n",
      "2015-12-30\n",
      "2015-12-31\n",
      "2016-01-01\n",
      "2016-01-02\n",
      "2016-01-03\n",
      "2016-01-04\n",
      "2016-01-05\n",
      "2016-01-06\n",
      "2016-01-07\n",
      "2016-01-08\n",
      "2016-01-09\n",
      "2016-01-10\n",
      "2016-01-11\n"
     ]
    }
   ],
   "source": [
    "day_range = [start_dt + datetime.timedelta(days=x) for x in range((end_dt - start_dt).days + 1)]\n",
    "\n",
    "for days in day_range:\n",
    "    print(days)"
   ]
  }
 ],
 "metadata": {
  "kernelspec": {
   "display_name": "Python 3",
   "language": "python",
   "name": "python3"
  },
  "language_info": {
   "codemirror_mode": {
    "name": "ipython",
    "version": 3
   },
   "file_extension": ".py",
   "mimetype": "text/x-python",
   "name": "python",
   "nbconvert_exporter": "python",
   "pygments_lexer": "ipython3",
   "version": "3.8.5"
  },
  "toc": {
   "base_numbering": 1,
   "nav_menu": {},
   "number_sections": true,
   "sideBar": true,
   "skip_h1_title": false,
   "title_cell": "Table of Contents",
   "title_sidebar": "Contents",
   "toc_cell": false,
   "toc_position": {},
   "toc_section_display": true,
   "toc_window_display": false
  },
  "varInspector": {
   "cols": {
    "lenName": 16,
    "lenType": 16,
    "lenVar": 40
   },
   "kernels_config": {
    "python": {
     "delete_cmd_postfix": "",
     "delete_cmd_prefix": "del ",
     "library": "var_list.py",
     "varRefreshCmd": "print(var_dic_list())"
    },
    "r": {
     "delete_cmd_postfix": ") ",
     "delete_cmd_prefix": "rm(",
     "library": "var_list.r",
     "varRefreshCmd": "cat(var_dic_list()) "
    }
   },
   "types_to_exclude": [
    "module",
    "function",
    "builtin_function_or_method",
    "instance",
    "_Feature"
   ],
   "window_display": false
  }
 },
 "nbformat": 4,
 "nbformat_minor": 4
}
