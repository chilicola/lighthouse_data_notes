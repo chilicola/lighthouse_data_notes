{
 "cells": [
  {
   "cell_type": "code",
   "execution_count": 1,
   "id": "09776602",
   "metadata": {},
   "outputs": [],
   "source": [
    "# import libraries\n",
    "from tensorflow.keras.models import Sequential\n",
    "from tensorflow.keras.layers import Convolution2D\n",
    "from tensorflow.keras.layers import MaxPooling2D\n",
    "from tensorflow.keras.layers import Flatten\n",
    "from tensorflow.keras.layers import Dense"
   ]
  },
  {
   "cell_type": "code",
   "execution_count": 2,
   "id": "899ca13b",
   "metadata": {},
   "outputs": [],
   "source": [
    "# initialising the CNN\n",
    "classifier = Sequential()\n",
    "\n",
    "# step 1 - convolution\n",
    "classifier.add(Convolution2D(32, 3, 3, input_shape=(64, 64, 3), activation='relu'))\n",
    "# step 2 - pooling\n",
    "classifier.add(MaxPooling2D(pool_size=(2,2)))\n",
    "# step 3 - flattening\n",
    "classifier.add(Flatten())\n",
    "# step 4 - full connection\n",
    "classifier.add(Dense(128, activation='relu'))\n",
    "classifier.add(Dense(1, activation='sigmoid'))\n",
    "\n",
    "# compiling the CNN\n",
    "classifier.compile(optimizer='adam', loss='binary_crossentropy', metrics=['accuracy'])"
   ]
  },
  {
   "cell_type": "code",
   "execution_count": 3,
   "id": "c0c5632d",
   "metadata": {},
   "outputs": [
    {
     "name": "stdout",
     "output_type": "stream",
     "text": [
      "Found 8000 images belonging to 2 classes.\n",
      "Found 2000 images belonging to 2 classes.\n"
     ]
    }
   ],
   "source": [
    "# data augmentation\n",
    "## creating more data from existing dataset\n",
    "\n",
    "from tensorflow.keras.preprocessing.image import ImageDataGenerator\n",
    "\n",
    "train_datagen = ImageDataGenerator(rescale=1./255, \n",
    "                                  shear_range=0.2,\n",
    "                                  zoom_range=0.2,\n",
    "                                  horizontal_flip=True)\n",
    "\n",
    "test_datagen = ImageDataGenerator(rescale=1./255)\n",
    "\n",
    "training_set = train_datagen.flow_from_directory('data/training_set',\n",
    "                                                target_size=(64, 64),\n",
    "                                                batch_size=32,\n",
    "                                                class_mode='binary')\n",
    "\n",
    "test_set = test_datagen.flow_from_directory('data/test_set',\n",
    "                                           target_size=(64, 64),\n",
    "                                           batch_size=32,\n",
    "                                           class_mode='binary')"
   ]
  },
  {
   "cell_type": "code",
   "execution_count": 4,
   "id": "b141b1a2",
   "metadata": {},
   "outputs": [
    {
     "name": "stdout",
     "output_type": "stream",
     "text": [
      "Epoch 1/10\n",
      "50/50 [==============================] - 81s 2s/step - loss: 0.6866 - accuracy: 0.5569 - val_loss: 0.6591 - val_accuracy: 0.6275\n",
      "Epoch 2/10\n",
      "50/50 [==============================] - 33s 666ms/step - loss: 0.6585 - accuracy: 0.6037 - val_loss: 0.6321 - val_accuracy: 0.6505\n",
      "Epoch 3/10\n",
      "50/50 [==============================] - 30s 607ms/step - loss: 0.6361 - accuracy: 0.6344 - val_loss: 0.6631 - val_accuracy: 0.5970\n",
      "Epoch 4/10\n",
      "50/50 [==============================] - 26s 522ms/step - loss: 0.6471 - accuracy: 0.6331 - val_loss: 0.6132 - val_accuracy: 0.6780\n",
      "Epoch 5/10\n",
      "50/50 [==============================] - 23s 454ms/step - loss: 0.6257 - accuracy: 0.6625 - val_loss: 0.6081 - val_accuracy: 0.6685\n",
      "Epoch 6/10\n",
      "50/50 [==============================] - 30s 591ms/step - loss: 0.6099 - accuracy: 0.6737 - val_loss: 0.6308 - val_accuracy: 0.6370\n",
      "Epoch 7/10\n",
      "50/50 [==============================] - 13s 253ms/step - loss: 0.6023 - accuracy: 0.6719 - val_loss: 0.5796 - val_accuracy: 0.7125\n",
      "Epoch 8/10\n",
      "50/50 [==============================] - 12s 230ms/step - loss: 0.5952 - accuracy: 0.6862 - val_loss: 0.6117 - val_accuracy: 0.6580\n",
      "Epoch 9/10\n",
      "50/50 [==============================] - 10s 204ms/step - loss: 0.5791 - accuracy: 0.6969 - val_loss: 0.6763 - val_accuracy: 0.6220\n",
      "Epoch 10/10\n",
      "50/50 [==============================] - 10s 204ms/step - loss: 0.5747 - accuracy: 0.7069 - val_loss: 0.5979 - val_accuracy: 0.6790\n"
     ]
    }
   ],
   "source": [
    "# training\n",
    "history = classifier.fit(training_set,\n",
    "                         steps_per_epoch=50,\n",
    "                         epochs=10,\n",
    "                         validation_data=test_set)"
   ]
  },
  {
   "cell_type": "code",
   "execution_count": 5,
   "id": "049fef8e",
   "metadata": {},
   "outputs": [
    {
     "data": {
      "image/png": "[encoded data removed]",
      "text/plain": [
       "<Figure size 432x288 with 1 Axes>"
      ]
     },
     "metadata": {
      "needs_background": "light"
     },
     "output_type": "display_data"
    }
   ],
   "source": [
    "# check with graph on loss during training\n",
    "import matplotlib.pyplot as plt\n",
    "\n",
    "# plot history\n",
    "plt.plot(history.history['loss'], label='train')\n",
    "plt.plot(history.history['val_loss'], label='test')\n",
    "plt.legend()\n",
    "plt.show()"
   ]
  },
  {
   "cell_type": "code",
   "execution_count": 8,
   "id": "be88a04b",
   "metadata": {},
   "outputs": [
    {
     "name": "stdout",
     "output_type": "stream",
     "text": [
      "{'cats': 0, 'dogs': 1}\n",
      "dog\n"
     ]
    }
   ],
   "source": [
    "# testing\n",
    "import numpy as np\n",
    "from tensorflow.keras.preprocessing import image\n",
    "\n",
    "# loading an image from the disk\n",
    "test_image = image.load_img('random_dog.png', target_size=(64, 64))\n",
    "\n",
    "# converting the image to a numpy array\n",
    "test_image = image.img_to_array(test_image)\n",
    "test_image = np.expand_dims(test_image, axis=0)\n",
    "result = classifier.predict(test_image)\n",
    "print(training_set.class_indices)\n",
    "\n",
    "# our cut-off\n",
    "if result[0][0] >= 0.5:\n",
    "    prediction = 'dog'\n",
    "else:\n",
    "    prediction = 'cat'\n",
    "\n",
    "print(prediction)"
   ]
  },
  {
   "cell_type": "code",
   "execution_count": 7,
   "id": "5bd93c34",
   "metadata": {},
   "outputs": [
    {
     "name": "stdout",
     "output_type": "stream",
     "text": [
      "{'cats': 0, 'dogs': 1}\n"
     ]
    }
   ],
   "source": [
    "print(training_set.class_indices)"
   ]
  }
 ],
 "metadata": {
  "kernelspec": {
   "display_name": "Python 3",
   "language": "python",
   "name": "python3"
  },
  "language_info": {
   "codemirror_mode": {
    "name": "ipython",
    "version": 3
   },
   "file_extension": ".py",
   "mimetype": "text/x-python",
   "name": "python",
   "nbconvert_exporter": "python",
   "pygments_lexer": "ipython3",
   "version": "3.8.5"
  }
 },
 "nbformat": 4,
 "nbformat_minor": 5
}
