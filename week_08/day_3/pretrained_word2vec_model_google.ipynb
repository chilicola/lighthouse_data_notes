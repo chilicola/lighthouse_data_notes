{
 "cells": [
  {
   "cell_type": "code",
   "execution_count": 1,
   "id": "78ce3f3f-9c4a-43c2-8185-9fc2d87f709d",
   "metadata": {},
   "outputs": [
    {
     "name": "stderr",
     "output_type": "stream",
     "text": [
      "D:\\anaconda3\\lib\\site-packages\\gensim\\similarities\\__init__.py:15: UserWarning: The gensim.similarities.levenshtein submodule is disabled, because the optional Levenshtein package <https://pypi.org/project/python-Levenshtein/> is unavailable. Install Levenhstein (e.g. `pip install python-Levenshtein`) to suppress this warning.\n",
      "  warnings.warn(msg)\n"
     ]
    }
   ],
   "source": [
    "import gensim\n",
    "\n",
    "# load google's pre-trained Word2Vec model\n",
    "model = gensim.models.KeyedVectors.load_word2vec_format('model/GoogleNews-vectors-negative300.bin', binary=True)  "
   ]
  },
  {
   "cell_type": "code",
   "execution_count": 2,
   "id": "e1449e76-9eb7-4e74-88cf-337aaf0b0025",
   "metadata": {},
   "outputs": [
    {
     "data": {
      "text/plain": [
       "(300,)"
      ]
     },
     "execution_count": 2,
     "metadata": {},
     "output_type": "execute_result"
    }
   ],
   "source": [
    "vector = model['easy']\n",
    "# see the shape of the vector (300,)\n",
    "vector.shape"
   ]
  },
  {
   "cell_type": "markdown",
   "id": "fd02f363-9204-4534-a75b-f0b2aaeb2200",
   "metadata": {},
   "source": [
    "#### Similarities"
   ]
  },
  {
   "cell_type": "code",
   "execution_count": 3,
   "id": "0005e415-843a-45f8-8999-75adb5f08945",
   "metadata": {},
   "outputs": [
    {
     "data": {
      "text/plain": [
       "[('good', 0.6836091876029968),\n",
       " ('lovely', 0.6676311492919922),\n",
       " ('neat', 0.6616737246513367),\n",
       " ('fantastic', 0.6569241881370544),\n",
       " ('wonderful', 0.6561347246170044),\n",
       " ('terrific', 0.6552367806434631),\n",
       " ('great', 0.6454657912254333),\n",
       " ('awesome', 0.6404187679290771),\n",
       " ('nicer', 0.6302444934844971),\n",
       " ('decent', 0.5993331670761108)]"
      ]
     },
     "execution_count": 3,
     "metadata": {},
     "output_type": "execute_result"
    }
   ],
   "source": [
    "model.most_similar('nice')"
   ]
  },
  {
   "cell_type": "code",
   "execution_count": 4,
   "id": "61edf018-0e95-4471-90a8-44ad720fe9d2",
   "metadata": {},
   "outputs": [
    {
     "data": {
      "text/plain": [
       "0.6836092"
      ]
     },
     "execution_count": 4,
     "metadata": {},
     "output_type": "execute_result"
    }
   ],
   "source": [
    "model.similarity('nice', 'good')"
   ]
  },
  {
   "cell_type": "code",
   "execution_count": 5,
   "id": "2eae1b21-0bdb-469b-bb4f-c4e77f696bcf",
   "metadata": {},
   "outputs": [
    {
     "data": {
      "text/plain": [
       "0.7190051"
      ]
     },
     "execution_count": 5,
     "metadata": {},
     "output_type": "execute_result"
    }
   ],
   "source": [
    "# interesting\n",
    "model.similarity('bad', 'good')"
   ]
  },
  {
   "cell_type": "code",
   "execution_count": 6,
   "id": "ee9ff4c1-d381-4206-9e7b-87d6bb6767db",
   "metadata": {},
   "outputs": [
    {
     "data": {
      "text/plain": [
       "[('queen', 0.7118193507194519),\n",
       " ('monarch', 0.6189674735069275),\n",
       " ('princess', 0.5902431011199951),\n",
       " ('crown_prince', 0.5499460697174072),\n",
       " ('prince', 0.5377321243286133),\n",
       " ('kings', 0.5236844420433044),\n",
       " ('Queen_Consort', 0.5235945582389832),\n",
       " ('queens', 0.518113374710083),\n",
       " ('sultan', 0.5098593831062317),\n",
       " ('monarchy', 0.5087411999702454)]"
      ]
     },
     "execution_count": 6,
     "metadata": {},
     "output_type": "execute_result"
    }
   ],
   "source": [
    "# king - queen = man - woman\n",
    "model.most_similar(positive=['woman', 'king'], negative=['man'])"
   ]
  },
  {
   "cell_type": "markdown",
   "id": "c2de3416-d531-4924-8ea3-a8bc6f5891e2",
   "metadata": {},
   "source": [
    "#### Try"
   ]
  },
  {
   "cell_type": "markdown",
   "id": "b86c31d4-7085-43c3-a157-a556414bf76f",
   "metadata": {},
   "source": [
    "1. mom --> girl, dad --> ?"
   ]
  },
  {
   "cell_type": "code",
   "execution_count": 9,
   "id": "8be6be2b-c9aa-46d0-b848-a4d361a91c46",
   "metadata": {},
   "outputs": [
    {
     "data": {
      "text/plain": [
       "[('Mom', 0.7962847948074341),\n",
       " ('dad', 0.7470093369483948),\n",
       " ('mother', 0.7354604601860046),\n",
       " ('grandma', 0.7019866704940796),\n",
       " ('mommy', 0.6977027058601379),\n",
       " ('daddy', 0.6752024292945862),\n",
       " ('moms', 0.6559438109397888),\n",
       " ('Dad', 0.6553478837013245),\n",
       " ('daughter', 0.6490163803100586),\n",
       " ('mama', 0.6465287804603577)]"
      ]
     },
     "execution_count": 9,
     "metadata": {},
     "output_type": "execute_result"
    }
   ],
   "source": [
    "model.most_similar('mom')"
   ]
  },
  {
   "cell_type": "markdown",
   "id": "c7a8cb4f-137a-4ef2-8746-2e6bf5eee86e",
   "metadata": {},
   "source": [
    "2. france --> paris, spain --> ?"
   ]
  },
  {
   "cell_type": "code",
   "execution_count": 10,
   "id": "6a74b0b2-8f95-4cbf-9f16-c678e1a7624b",
   "metadata": {},
   "outputs": [
    {
     "data": {
      "text/plain": [
       "[('spain', 0.6375304460525513),\n",
       " ('french', 0.6326056122779846),\n",
       " ('germany', 0.6314354538917542),\n",
       " ('europe', 0.6264256238937378),\n",
       " ('italy', 0.6257959008216858),\n",
       " ('england', 0.6120776534080505),\n",
       " ('european', 0.6074905395507812),\n",
       " ('belgium', 0.5972345471382141),\n",
       " ('usa', 0.5948355197906494),\n",
       " ('serbia', 0.5805614590644836)]"
      ]
     },
     "execution_count": 10,
     "metadata": {},
     "output_type": "execute_result"
    }
   ],
   "source": [
    "model.most_similar('france')"
   ]
  },
  {
   "cell_type": "markdown",
   "id": "f3d59453-41ca-4449-802d-6c8a9e08eb86",
   "metadata": {},
   "source": [
    "3. mother --> ?, table --> chair"
   ]
  },
  {
   "cell_type": "code",
   "execution_count": 11,
   "id": "44a89b13-2c32-45e7-b88c-acc592ede325",
   "metadata": {},
   "outputs": [
    {
     "data": {
      "text/plain": [
       "[('daughter', 0.8706234097480774),\n",
       " ('grandmother', 0.8442240953445435),\n",
       " ('aunt', 0.8435925841331482),\n",
       " ('niece', 0.807008683681488),\n",
       " ('father', 0.7901482582092285),\n",
       " ('son', 0.7683207392692566),\n",
       " ('sister', 0.7633354067802429),\n",
       " ('wife', 0.7550681233406067),\n",
       " ('stepmother', 0.7531880140304565),\n",
       " ('granddaughter', 0.747096598148346)]"
      ]
     },
     "execution_count": 11,
     "metadata": {},
     "output_type": "execute_result"
    }
   ],
   "source": [
    "model.most_similar('mother')"
   ]
  }
 ],
 "metadata": {
  "kernelspec": {
   "display_name": "Python 3",
   "language": "python",
   "name": "python3"
  },
  "language_info": {
   "codemirror_mode": {
    "name": "ipython",
    "version": 3
   },
   "file_extension": ".py",
   "mimetype": "text/x-python",
   "name": "python",
   "nbconvert_exporter": "python",
   "pygments_lexer": "ipython3",
   "version": "3.8.5"
  }
 },
 "nbformat": 4,
 "nbformat_minor": 5
}
