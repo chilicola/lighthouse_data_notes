{
 "cells": [
  {
   "cell_type": "markdown",
   "metadata": {},
   "source": [
    "## Importing Libraries"
   ]
  },
  {
   "cell_type": "code",
   "execution_count": 3,
   "metadata": {},
   "outputs": [],
   "source": [
    "# Import libraries\n",
    "\n",
    "import numpy as np\n",
    "import matplotlib.pyplot as plt\n",
    "from collections import Counter"
   ]
  },
  {
   "cell_type": "code",
   "execution_count": 4,
   "metadata": {},
   "outputs": [],
   "source": [
    "# Set plot style\n",
    "\n",
    "plt.style.use('fivethirtyeight')"
   ]
  },
  {
   "cell_type": "code",
   "execution_count": 15,
   "metadata": {},
   "outputs": [
    {
     "data": {
      "text/plain": [
       "array([0.95071431, 0.73199394, 0.59865848, 0.15601864])"
      ]
     },
     "execution_count": 15,
     "metadata": {},
     "output_type": "execute_result"
    }
   ],
   "source": [
    "# Generate random number\n",
    "\n",
    "random_num = np.random.rand()\n",
    "random_num\n",
    "\n",
    "# Generate 4 random numbers from the interval <0, 1)\n",
    "\n",
    "random_num = np.random.rand(4)\n",
    "random_num\n",
    "\n",
    "# Set the seed number to 42\n",
    "\n",
    "np.random.seed(42)\n",
    "random_num"
   ]
  },
  {
   "cell_type": "markdown",
   "metadata": {},
   "source": []
  },
  {
   "cell_type": "markdown",
   "metadata": {},
   "source": [
    "## Binomial Distribution (Discrete Distribution)\n",
    "### Binomial distribution with parameters n and p is a discrete probability distribution."
   ]
  },
  {
   "cell_type": "code",
   "execution_count": 35,
   "metadata": {},
   "outputs": [
    {
     "data": {
      "text/plain": [
       "array([6, 6, 7, 5, 7, 7, 5, 5, 7, 6, 7, 6, 5, 3, 4, 8, 4, 3, 6, 6, 4, 4,\n",
       "       5, 2, 6, 4, 7, 6, 6, 4, 5, 5, 4, 7, 5, 7, 3, 3, 8, 5, 5, 5, 4, 6,\n",
       "       3, 5, 5, 7, 5, 3, 5, 3, 4, 2, 5, 3, 5, 7, 6, 3, 4, 6, 7, 2, 6, 5,\n",
       "       5, 8, 6, 7, 4, 5, 5, 4, 5, 4, 3, 4, 6, 7, 5, 6, 3, 7, 5, 6, 6, 4,\n",
       "       5, 8, 3, 6, 8, 4, 7, 7, 6, 4, 4, 2, 7, 7, 6, 4, 3, 6, 6, 7, 6, 7,\n",
       "       6, 6, 5, 7, 6, 5, 3, 4, 5, 4, 4, 5, 3, 6, 5, 5, 3, 4, 5, 6, 6, 4,\n",
       "       5, 4, 8, 8, 5, 6, 6, 6, 6, 8, 5, 6, 7, 6, 6, 4, 4, 3, 5, 5, 9, 5,\n",
       "       6, 4, 7, 5, 6, 4, 5, 6, 5, 7, 7, 8, 6, 8, 7, 4, 5, 4, 1, 4, 1, 6,\n",
       "       5, 4, 6, 7, 8, 6, 5, 4, 4, 4, 5, 9, 0, 4, 4, 6, 4, 5, 3, 5, 3, 5,\n",
       "       3, 6, 5, 6, 5, 5, 3, 5, 5, 5, 6, 7, 6, 3, 5, 3, 6, 5, 3, 7, 5, 4,\n",
       "       2, 5, 7, 5, 8, 3, 5, 6, 5, 3, 5, 5, 6, 6, 6, 6, 4, 5, 6, 8, 3, 5,\n",
       "       4, 4, 5, 5, 1, 6, 6, 8, 4, 5, 5, 4, 5, 6, 2, 8, 6, 6, 6, 5, 6, 5,\n",
       "       7, 4, 4, 5, 4, 5, 5, 7, 5, 4, 4, 5, 5, 6, 3, 4, 5, 4, 5, 6, 4, 5,\n",
       "       6, 4, 6, 5, 5, 6, 4, 7, 5, 5, 7, 6, 5, 6, 5, 5, 3, 3, 7, 3, 3, 6,\n",
       "       1, 4, 5, 5, 6, 5, 5, 6, 5, 5, 7, 5, 5, 1, 5, 2, 5, 6, 5, 4, 6, 4,\n",
       "       6, 5, 3, 7, 4, 9, 1, 4, 4, 2, 6, 6, 6, 4, 5, 6, 5, 6, 6, 3, 6, 6,\n",
       "       6, 3, 4, 5, 4, 4, 6, 6, 5, 4, 7, 4, 6, 8, 6, 9, 6, 4, 4, 4, 1, 6,\n",
       "       4, 6, 4, 5, 8, 4, 6, 6, 4, 5, 4, 6, 5, 5, 6, 4, 6, 7, 7, 6, 5, 8,\n",
       "       5, 6, 3, 8, 6, 6, 3, 6, 6, 6, 4, 5, 3, 5, 4, 4, 3, 4, 3, 7, 5, 5,\n",
       "       5, 6, 7, 4, 4, 8, 4, 2, 3, 2, 9, 4, 7, 9, 5, 2, 3, 5, 5, 5, 5, 7,\n",
       "       5, 6, 7, 3, 4, 3, 3, 5, 4, 5, 8, 3, 5, 3, 4, 5, 8, 5, 3, 5, 3, 4,\n",
       "       5, 3, 5, 5, 5, 2, 8, 4, 6, 4, 5, 5, 4, 2, 4, 7, 6, 3, 5, 7, 6, 3,\n",
       "       7, 4, 5, 5, 7, 7, 7, 1, 7, 2, 4, 5, 5, 5, 5, 7, 4, 4, 7, 3, 5, 6,\n",
       "       5, 6, 4, 7, 3, 5, 3, 5, 6, 7, 6, 5, 7, 5, 5, 5, 5, 7, 4, 5, 6, 7,\n",
       "       7, 5, 6, 5, 5, 7, 7, 7, 3, 7, 8, 4, 5, 6, 5, 9, 5, 6, 6, 5, 7, 5,\n",
       "       5, 3, 5, 6, 7, 4, 4, 3, 6, 8, 6, 5, 5, 3, 6, 5, 6, 7, 6, 6, 7, 9,\n",
       "       5, 3, 5, 6, 2, 3, 3, 6, 5, 4, 3, 6, 4, 4, 6, 5, 4, 6, 4, 6, 4, 3,\n",
       "       6, 6, 4, 3, 7, 6, 4, 6, 3, 5, 2, 5, 3, 5, 5, 5, 2, 4, 6, 4, 6, 4,\n",
       "       5, 5, 8, 3, 2, 5, 8, 9, 5, 5, 6, 5, 6, 7, 6, 5, 5, 6, 5, 5, 2, 4,\n",
       "       5, 6, 4, 5, 4, 3, 8, 7, 3, 6, 4, 9, 4, 4, 5, 7, 4, 6, 3, 7, 3, 7,\n",
       "       5, 5, 8, 9, 6, 3, 5, 5, 5, 5, 2, 6, 6, 3, 5, 5, 6, 3, 6, 4, 5, 6,\n",
       "       6, 3, 5, 8, 3, 7, 6, 6, 4, 4, 7, 4, 3, 5, 3, 6, 6, 7, 6, 3, 5, 6,\n",
       "       5, 8, 6, 2, 7, 3, 3, 6, 7, 5, 4, 4, 4, 4, 4, 5, 7, 4, 4, 7, 6, 7,\n",
       "       3, 3, 5, 5, 5, 5, 4, 5, 6, 5, 6, 5, 4, 4, 5, 2, 6, 7, 4, 2, 8, 4,\n",
       "       3, 4, 6, 4, 5, 5, 3, 4, 6, 5, 3, 3, 6, 6, 4, 5, 3, 4, 2, 6, 5, 6,\n",
       "       6, 7, 4, 4, 8, 6, 7, 2, 4, 6, 3, 5, 5, 2, 4, 4, 3, 6, 4, 4, 7, 5,\n",
       "       5, 6, 7, 2, 5, 5, 4, 6, 8, 7, 4, 4, 8, 5, 4, 6, 4, 4, 7, 3, 3, 4,\n",
       "       5, 3, 5, 6, 7, 4, 6, 4, 6, 5, 3, 6, 4, 4, 4, 6, 4, 4, 1, 5, 5, 4,\n",
       "       2, 5, 6, 6, 7, 1, 8, 4, 9, 4, 5, 4, 4, 7, 6, 9, 5, 5, 3, 9, 5, 6,\n",
       "       5, 5, 7, 3, 4, 3, 6, 3, 3, 4, 5, 5, 2, 8, 8, 4, 6, 5, 4, 4, 5, 5,\n",
       "       4, 6, 5, 6, 4, 5, 4, 5, 6, 6, 4, 6, 7, 6, 3, 6, 3, 7, 5, 5, 3, 5,\n",
       "       7, 2, 5, 7, 5, 5, 5, 5, 3, 2, 5, 7, 3, 4, 4, 6, 4, 7, 3, 7, 5, 6,\n",
       "       4, 6, 3, 2, 5, 7, 6, 5, 5, 3, 7, 6, 6, 5, 8, 7, 6, 4, 5, 5, 5, 4,\n",
       "       5, 5, 5, 4, 6, 5, 3, 4, 7, 6, 4, 7, 3, 8, 4, 1, 5, 4, 5, 6, 7, 5,\n",
       "       5, 3, 2, 6, 3, 6, 5, 4, 5, 4, 5, 6, 5, 3, 6, 4, 6, 5, 5, 7, 6, 2,\n",
       "       4, 7, 2, 5, 6, 5, 6, 6, 6, 6])"
      ]
     },
     "execution_count": 35,
     "metadata": {},
     "output_type": "execute_result"
    }
   ],
   "source": [
    "# n = the number of coin tosses\n",
    "# p = the probability of getting heads\n",
    "# size = the number of repeats \n",
    "\n",
    "n = 10\n",
    "p = 0.5\n",
    "size = 1000\n",
    "\n",
    "samples = np.random.binomial(n, p, size)\n",
    "samples"
   ]
  },
  {
   "cell_type": "code",
   "execution_count": 40,
   "metadata": {},
   "outputs": [
    {
     "data": {
      "text/plain": [
       "Counter({6: 215,\n",
       "         7: 108,\n",
       "         5: 273,\n",
       "         3: 113,\n",
       "         4: 190,\n",
       "         8: 40,\n",
       "         2: 35,\n",
       "         9: 14,\n",
       "         1: 11,\n",
       "         0: 1})"
      ]
     },
     "execution_count": 40,
     "metadata": {},
     "output_type": "execute_result"
    }
   ],
   "source": [
    "# count the occurrence of each number\n",
    "\n",
    "head_occu_count = Counter(samples) \n",
    "head_occu_count"
   ]
  },
  {
   "cell_type": "code",
   "execution_count": 46,
   "metadata": {},
   "outputs": [
    {
     "data": {
      "text/plain": [
       "[0.215, 0.108, 0.273, 0.113, 0.19, 0.04, 0.035, 0.014, 0.011, 0.001]"
      ]
     },
     "execution_count": 46,
     "metadata": {},
     "output_type": "execute_result"
    }
   ],
   "source": [
    "# calculate the probabilities as the number of occurences / size\n",
    "\n",
    "head_proba = [val / size for val in head_occu_count.values()]\n",
    "head_proba\n",
    "# print(head_occu_count.values())\n",
    "# print(head_proba)"
   ]
  },
  {
   "cell_type": "code",
   "execution_count": 47,
   "metadata": {},
   "outputs": [
    {
     "data": {
      "image/png": "[encoded data removed]",
      "text/plain": [
       "<Figure size 432x288 with 1 Axes>"
      ]
     },
     "metadata": {},
     "output_type": "display_data"
    }
   ],
   "source": [
    "# Plot the distribution\n",
    "\n",
    "plt.scatter(x = head_occu_count.keys(), y = head_proba)\n",
    "plt.xlabel('number of heads out of 10 tosses')\n",
    "plt.ylabel('probability')\n",
    "\n",
    "# show the plot\n",
    "plt.show()"
   ]
  },
  {
   "cell_type": "markdown",
   "metadata": {},
   "source": [
    "## Normal Distribution (Continuous Distribution\n",
    "### Normal distribution with the mean and variance parameters is a continous probability distribution."
   ]
  },
  {
   "cell_type": "code",
   "execution_count": 55,
   "metadata": {},
   "outputs": [
    {
     "data": {
      "text/plain": [
       "array([ 0.34101828,  0.18826561, -0.1266031 , ..., -0.54456224,\n",
       "        0.25804369, -1.12151833])"
      ]
     },
     "execution_count": 55,
     "metadata": {},
     "output_type": "execute_result"
    }
   ],
   "source": [
    "# loc = mean (“a centre”) of the distribution.\n",
    "# scale = standard deviation (a spread or “a width”) of the distribution.\n",
    "\n",
    "samples = np.random.normal(loc = 0, scale = 1, size = 1000000)\n",
    "samples"
   ]
  },
  {
   "cell_type": "code",
   "execution_count": 56,
   "metadata": {},
   "outputs": [
    {
     "data": {
      "image/png": "[encoded data removed]",
      "text/plain": [
       "<Figure size 432x288 with 1 Axes>"
      ]
     },
     "metadata": {},
     "output_type": "display_data"
    }
   ],
   "source": [
    "# Let's plot the distribution, e.i. the probability density function\n",
    "\n",
    "plt.hist(samples, density = True, histtype = \"step\", bins = 100)\n",
    "\n",
    "# show the plot\n",
    "\n",
    "plt.show()"
   ]
  },
  {
   "cell_type": "code",
   "execution_count": 58,
   "metadata": {},
   "outputs": [
    {
     "data": {
      "image/png": "[encoded data removed]",
      "text/plain": [
       "<Figure size 432x288 with 1 Axes>"
      ]
     },
     "metadata": {},
     "output_type": "display_data"
    }
   ],
   "source": [
    "# Change on Standard Deviation (sd)\n",
    "\n",
    "samples_std1 = np.random.normal(20, 1, size = 100000)\n",
    "samples_std3 = np.random.normal(20, 3, size = 100000)\n",
    "samples_std10 = np.random.normal(20, 10, size = 100000)\n",
    "\n",
    "# make histograms\n",
    "plt.hist(samples_std1, density = True, histtype = \"step\", bins = 100)\n",
    "plt.hist(samples_std3, density = True, histtype = \"step\", bins = 100)\n",
    "plt.hist(samples_std10, density = True, histtype = \"step\", bins = 100)\n",
    "\n",
    "# make a legend, set limits, and show the plot\n",
    "plt.legend(('std = 1', 'std = 3', 'std = 10'))\n",
    "plt.ylim(-0.01, 0.42)\n",
    "plt.show()"
   ]
  },
  {
   "cell_type": "code",
   "execution_count": 59,
   "metadata": {},
   "outputs": [
    {
     "data": {
      "image/png": "[encoded data removed]",
      "text/plain": [
       "<Figure size 432x288 with 1 Axes>"
      ]
     },
     "metadata": {},
     "output_type": "display_data"
    }
   ],
   "source": [
    "# Change on mean\n",
    "\n",
    "samples_std1 = np.random.normal(10, 3, size = 100000)\n",
    "samples_std3 = np.random.normal(20, 3, size = 100000)\n",
    "samples_std10 = np.random.normal(30, 3, size = 100000)\n",
    "\n",
    "# make histograms\n",
    "plt.hist(samples_std1, density = True, histtype =\"step\", bins = 100)\n",
    "plt.hist(samples_std3, density = True, histtype = \"step\", bins = 100)\n",
    "plt.hist(samples_std10, density = True, histtype = \"step\", bins = 100)\n",
    "\n",
    "# make a legend, set limits, and show the plot\n",
    "plt.legend(('mean = 10', 'mean = 20', 'mean = 30'))\n",
    "plt.ylim(-0.01, 0.42)\n",
    "plt.show()"
   ]
  },
  {
   "cell_type": "code",
   "execution_count": 79,
   "metadata": {},
   "outputs": [
    {
     "data": {
      "text/plain": [
       "array([0, 1, 1, 1, 1, 0, 0, 0, 0, 0])"
      ]
     },
     "execution_count": 79,
     "metadata": {},
     "output_type": "execute_result"
    }
   ],
   "source": [
    "np.random.randint(0, 2, 10)"
   ]
  }
 ],
 "metadata": {
  "kernelspec": {
   "display_name": "Python 3",
   "language": "python",
   "name": "python3"
  },
  "language_info": {
   "codemirror_mode": {
    "name": "ipython",
    "version": 3
   },
   "file_extension": ".py",
   "mimetype": "text/x-python",
   "name": "python",
   "nbconvert_exporter": "python",
   "pygments_lexer": "ipython3",
   "version": "3.8.5"
  }
 },
 "nbformat": 4,
 "nbformat_minor": 4
}
