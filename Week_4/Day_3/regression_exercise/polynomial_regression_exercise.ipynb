{
 "cells": [
  {
   "cell_type": "markdown",
   "metadata": {},
   "source": [
    "### Regression exercise\n",
    "\n",
    "Today, we will fit different polynomial regression to randomly generated data and explore how our loss function behaves. We will use the formulas, introduced in the theoretical sections and create a linear regression model from scratch. \n"
   ]
  },
  {
   "cell_type": "code",
   "execution_count": 1,
   "metadata": {},
   "outputs": [],
   "source": [
    "import numpy as np\n",
    "import matplotlib.pyplot as plt"
   ]
  },
  {
   "cell_type": "markdown",
   "metadata": {},
   "source": [
    "#### Task 1\n",
    "\n",
    "Write a function psi(x,m) defined as $\\psi(x)=[1, x, x ^2, ..., x^m]$"
   ]
  },
  {
   "cell_type": "code",
   "execution_count": 2,
   "metadata": {},
   "outputs": [],
   "source": [
    "def psi(x, m):\n",
    "    return [x**m for m in range(m+1)]"
   ]
  },
  {
   "cell_type": "code",
   "execution_count": 3,
   "metadata": {},
   "outputs": [
    {
     "data": {
      "text/plain": [
       "[1, 2, 4, 8, 16, 32]"
      ]
     },
     "execution_count": 3,
     "metadata": {},
     "output_type": "execute_result"
    }
   ],
   "source": [
    "# test\n",
    "\n",
    "psi(2, 5)"
   ]
  },
  {
   "cell_type": "markdown",
   "metadata": {},
   "source": [
    "#### Task 2\n",
    "\n",
    "Write a function $h(x,\\alpha)$ defined as $h(x,\\alpha)=\\alpha^T\\psi(x)$"
   ]
  },
  {
   "cell_type": "code",
   "execution_count": 4,
   "metadata": {},
   "outputs": [],
   "source": [
    "def h(x, m, alpha):\n",
    "    return np.dot(alpha.T, psi(x, m))"
   ]
  },
  {
   "cell_type": "code",
   "execution_count": 5,
   "metadata": {},
   "outputs": [
    {
     "data": {
      "text/plain": [
       "array([68, 83, 98])"
      ]
     },
     "execution_count": 5,
     "metadata": {},
     "output_type": "execute_result"
    }
   ],
   "source": [
    "# test\n",
    "\n",
    "array = np.array([[2,3,4], [1,2,3], [4,5,6], [6,7,8]])\n",
    "\n",
    "h(2, 3, array)"
   ]
  },
  {
   "cell_type": "markdown",
   "metadata": {},
   "source": [
    "#### Task 3\n",
    "Create a random 3rd order polynomial (we call it p3)"
   ]
  },
  {
   "cell_type": "code",
   "execution_count": 6,
   "metadata": {},
   "outputs": [],
   "source": [
    "p3 = np.poly1d([1, 2, 3, 4])\n",
    "## return 1*x**3 + 2*x**2 + 3*x + 4"
   ]
  },
  {
   "cell_type": "code",
   "execution_count": 18,
   "metadata": {},
   "outputs": [
    {
     "data": {
      "text/plain": [
       "58"
      ]
     },
     "execution_count": 18,
     "metadata": {},
     "output_type": "execute_result"
    }
   ],
   "source": [
    "# test\n",
    "\n",
    "p3(3)\n",
    "## 1*3**3 + 2*3**2 + 3*3 + 4 = 58"
   ]
  },
  {
   "cell_type": "markdown",
   "metadata": {},
   "source": [
    "#### Task 4\n",
    "Choose an interval [a,b], on which the polynomial is S-shaped."
   ]
  },
  {
   "cell_type": "code",
   "execution_count": 19,
   "metadata": {},
   "outputs": [
    {
     "data": {
      "image/png": "[encoded data removed]",
      "text/plain": [
       "<Figure size 432x288 with 1 Axes>"
      ]
     },
     "metadata": {
      "needs_background": "light"
     },
     "output_type": "display_data"
    }
   ],
   "source": [
    "x = list(range(-10, 10))\n",
    "y = [p3(ele) for ele in x]\n",
    "\n",
    "plt.plot(x, y)\n",
    "plt.show()"
   ]
  },
  {
   "cell_type": "code",
   "execution_count": 9,
   "metadata": {},
   "outputs": [],
   "source": [
    "[a, b] = [-10, 10]"
   ]
  },
  {
   "cell_type": "markdown",
   "metadata": {},
   "source": [
    "#### Task 5\n",
    "Sample 30 random values in [a,b] and stored them in `xs`."
   ]
  },
  {
   "cell_type": "code",
   "execution_count": 10,
   "metadata": {},
   "outputs": [],
   "source": [
    "# xs is np.array\n",
    "\n",
    "xs = np.linspace(a, b, 30)"
   ]
  },
  {
   "cell_type": "code",
   "execution_count": 23,
   "metadata": {},
   "outputs": [
    {
     "data": {
      "text/plain": [
       "array([-10.        ,  -9.31034483,  -8.62068966,  -7.93103448,\n",
       "        -7.24137931,  -6.55172414,  -5.86206897,  -5.17241379,\n",
       "        -4.48275862,  -3.79310345,  -3.10344828,  -2.4137931 ,\n",
       "        -1.72413793,  -1.03448276,  -0.34482759,   0.34482759,\n",
       "         1.03448276,   1.72413793,   2.4137931 ,   3.10344828,\n",
       "         3.79310345,   4.48275862,   5.17241379,   5.86206897,\n",
       "         6.55172414,   7.24137931,   7.93103448,   8.62068966,\n",
       "         9.31034483,  10.        ])"
      ]
     },
     "execution_count": 23,
     "metadata": {},
     "output_type": "execute_result"
    }
   ],
   "source": [
    "# test\n",
    "\n",
    "xs"
   ]
  },
  {
   "cell_type": "markdown",
   "metadata": {},
   "source": [
    "#### Task 6\n",
    "For each x in xs, compute p3(x) and store them as `ys`."
   ]
  },
  {
   "cell_type": "code",
   "execution_count": 118,
   "metadata": {},
   "outputs": [],
   "source": [
    "# ys is np.array\n",
    "\n",
    "ys = p3(xs)"
   ]
  },
  {
   "cell_type": "code",
   "execution_count": 121,
   "metadata": {},
   "outputs": [
    {
     "data": {
      "text/plain": [
       "array([-8.26000000e+02, -6.57610152e+02, -5.13887162e+02, -3.92862930e+02,\n",
       "       -2.92569355e+02, -2.11038337e+02, -1.46301775e+02, -9.63915700e+01,\n",
       "       -5.93396203e+01, -3.31778261e+01, -1.59380868e+01, -5.65230227e+00,\n",
       "       -3.52371971e-01,  1.92980442e+00,  3.16232728e+00,  5.31329698e+00,\n",
       "        1.03508139e+01,  2.02429784e+01,  3.69578909e+01,  6.24636516e+01,\n",
       "        9.87283611e+01,  1.47720120e+02,  2.11407028e+02,  2.91757186e+02,\n",
       "        3.90738694e+02,  5.10319652e+02,  6.52468162e+02,  8.19152323e+02,\n",
       "        1.01234024e+03,  1.23400000e+03])"
      ]
     },
     "execution_count": 121,
     "metadata": {},
     "output_type": "execute_result"
    }
   ],
   "source": [
    "ys"
   ]
  },
  {
   "cell_type": "markdown",
   "metadata": {},
   "source": [
    "#### Task 7:\n",
    "Plot `ys` against `xs` on [a,b]. Does it look like a third order polynomial?"
   ]
  },
  {
   "cell_type": "code",
   "execution_count": 14,
   "metadata": {},
   "outputs": [
    {
     "data": {
      "image/png": "[encoded data removed]",
      "text/plain": [
       "<Figure size 432x288 with 1 Axes>"
      ]
     },
     "metadata": {
      "needs_background": "light"
     },
     "output_type": "display_data"
    }
   ],
   "source": [
    "# has to be yes\n",
    "\n",
    "plt.plot(xs, ys)\n",
    "plt.show()"
   ]
  },
  {
   "cell_type": "markdown",
   "metadata": {},
   "source": [
    "## Fitting the data"
   ]
  },
  {
   "cell_type": "markdown",
   "metadata": {},
   "source": [
    "We will try to fit the data by a polynomial of order m=2. \n",
    "\n",
    "#### Task 8:\n",
    "\n",
    "Using xs and psi, create the matrix X defined as \n",
    "\n",
    "<img src=\"matrixX.png\">"
   ]
  },
  {
   "cell_type": "code",
   "execution_count": 58,
   "metadata": {},
   "outputs": [],
   "source": [
    "X = np.array([psi(x, m=2)[1:] for x in xs])\n",
    "# X = psi(xs, m=2)"
   ]
  },
  {
   "cell_type": "code",
   "execution_count": 125,
   "metadata": {},
   "outputs": [
    {
     "data": {
      "text/plain": [
       "array([[-10.        , 100.        ],\n",
       "       [ -9.31034483,  86.68252081],\n",
       "       [ -8.62068966,  74.31629013],\n",
       "       [ -7.93103448,  62.90130797],\n",
       "       [ -7.24137931,  52.43757432],\n",
       "       [ -6.55172414,  42.92508918],\n",
       "       [ -5.86206897,  34.36385256],\n",
       "       [ -5.17241379,  26.75386445],\n",
       "       [ -4.48275862,  20.09512485],\n",
       "       [ -3.79310345,  14.38763377],\n",
       "       [ -3.10344828,   9.6313912 ],\n",
       "       [ -2.4137931 ,   5.82639715],\n",
       "       [ -1.72413793,   2.97265161],\n",
       "       [ -1.03448276,   1.07015458],\n",
       "       [ -0.34482759,   0.11890606],\n",
       "       [  0.34482759,   0.11890606],\n",
       "       [  1.03448276,   1.07015458],\n",
       "       [  1.72413793,   2.97265161],\n",
       "       [  2.4137931 ,   5.82639715],\n",
       "       [  3.10344828,   9.6313912 ],\n",
       "       [  3.79310345,  14.38763377],\n",
       "       [  4.48275862,  20.09512485],\n",
       "       [  5.17241379,  26.75386445],\n",
       "       [  5.86206897,  34.36385256],\n",
       "       [  6.55172414,  42.92508918],\n",
       "       [  7.24137931,  52.43757432],\n",
       "       [  7.93103448,  62.90130797],\n",
       "       [  8.62068966,  74.31629013],\n",
       "       [  9.31034483,  86.68252081],\n",
       "       [ 10.        , 100.        ]])"
      ]
     },
     "execution_count": 125,
     "metadata": {},
     "output_type": "execute_result"
    }
   ],
   "source": [
    "X"
   ]
  },
  {
   "cell_type": "markdown",
   "metadata": {},
   "source": [
    "#### Task 9\n",
    "Compute the optimal $\\alpha$ using the expression $\\alpha = (XX^T)^+Xy$ where $(XX^T)^+$ is the pseudoinverse matrix. y is our `ys` from the Task 6."
   ]
  },
  {
   "cell_type": "code",
   "execution_count": 126,
   "metadata": {
    "tags": []
   },
   "outputs": [
    {
     "data": {
      "text/plain": [
       "(2, 30)"
      ]
     },
     "execution_count": 126,
     "metadata": {},
     "output_type": "execute_result"
    }
   ],
   "source": [
    "# + = pseudo inverse (np.linalg.inv) ???np.linalg.pinv\n",
    "# use .dot()\n",
    "\n",
    "# np.linalg.inv(np.dot(X, X.T)).dot(X) * ys\n",
    "\n",
    "# alpha = np.dot(np.dot(np.linalg.pinv(np.dot(X, X.T)), X), ys)\n",
    "# alpha = np.linalg.pinv(X.dot(X.T)).dot(X)\n",
    "np.linalg.pinv(X).shape"
   ]
  },
  {
   "cell_type": "code",
   "execution_count": 127,
   "metadata": {},
   "outputs": [
    {
     "data": {
      "text/plain": [
       "array([[-9.35483871e-03,  1.46071655e-03],\n",
       "       [-8.70967742e-03,  1.26618593e-03],\n",
       "       [-8.06451613e-03,  1.08555035e-03],\n",
       "       [-7.41935484e-03,  9.18809818e-04],\n",
       "       [-6.77419355e-03,  7.65964328e-04],\n",
       "       [-6.12903226e-03,  6.27013883e-04],\n",
       "       [-5.48387097e-03,  5.01958483e-04],\n",
       "       [-4.83870968e-03,  3.90798127e-04],\n",
       "       [-4.19354839e-03,  2.93532815e-04],\n",
       "       [-3.54838710e-03,  2.10162548e-04],\n",
       "       [-2.90322581e-03,  1.40687326e-04],\n",
       "       [-2.25806452e-03,  8.51071476e-05],\n",
       "       [-1.61290323e-03,  4.34220141e-05],\n",
       "       [-9.67741935e-04,  1.56319251e-05],\n",
       "       [-3.22580645e-04,  1.73688056e-06],\n",
       "       [ 3.22580645e-04,  1.73688056e-06],\n",
       "       [ 9.67741935e-04,  1.56319251e-05],\n",
       "       [ 1.61290323e-03,  4.34220141e-05],\n",
       "       [ 2.25806452e-03,  8.51071476e-05],\n",
       "       [ 2.90322581e-03,  1.40687326e-04],\n",
       "       [ 3.54838710e-03,  2.10162548e-04],\n",
       "       [ 4.19354839e-03,  2.93532815e-04],\n",
       "       [ 4.83870968e-03,  3.90798127e-04],\n",
       "       [ 5.48387097e-03,  5.01958483e-04],\n",
       "       [ 6.12903226e-03,  6.27013883e-04],\n",
       "       [ 6.77419355e-03,  7.65964328e-04],\n",
       "       [ 7.41935484e-03,  9.18809818e-04],\n",
       "       [ 8.06451613e-03,  1.08555035e-03],\n",
       "       [ 8.70967742e-03,  1.26618593e-03],\n",
       "       [ 9.35483871e-03,  1.46071655e-03]])"
      ]
     },
     "execution_count": 127,
     "metadata": {},
     "output_type": "execute_result"
    }
   ],
   "source": [
    "alpha"
   ]
  },
  {
   "cell_type": "markdown",
   "metadata": {},
   "source": [
    "#### Task 10\n",
    "Plot the data and the computed polynomial. Does it fit?"
   ]
  },
  {
   "cell_type": "code",
   "execution_count": 128,
   "metadata": {},
   "outputs": [
    {
     "data": {
      "image/png": "[encoded data removed]",
      "text/plain": [
       "<Figure size 432x288 with 1 Axes>"
      ]
     },
     "metadata": {
      "needs_background": "light"
     },
     "output_type": "display_data"
    }
   ],
   "source": [
    "# no, m=2 can't fit m=3\n",
    "\n",
    "plt.plot(alpha[:,0], alpha[:,1])\n",
    "plt.show()"
   ]
  },
  {
   "cell_type": "code",
   "execution_count": null,
   "metadata": {},
   "outputs": [],
   "source": []
  },
  {
   "cell_type": "markdown",
   "metadata": {},
   "source": [
    "#### Task 11\n",
    "Repeat the process for m=3,…,10. What do you observe?"
   ]
  },
  {
   "cell_type": "code",
   "execution_count": null,
   "metadata": {},
   "outputs": [],
   "source": [
    "# m=3 fits the best"
   ]
  },
  {
   "cell_type": "code",
   "execution_count": null,
   "metadata": {},
   "outputs": [],
   "source": []
  },
  {
   "cell_type": "markdown",
   "metadata": {},
   "source": [
    "#### Task 12\n",
    "Plot the value of the loss (defined as $ l(\\alpha^Tx, y) = \\sum(\\alpha^Tx - y)^2 $  ) for m=2,…,10. y is our `ys` from the Task 6. What do you observe? Could you tell the optimal m from the plot?"
   ]
  },
  {
   "cell_type": "code",
   "execution_count": null,
   "metadata": {},
   "outputs": [],
   "source": []
  },
  {
   "cell_type": "code",
   "execution_count": null,
   "metadata": {},
   "outputs": [],
   "source": []
  },
  {
   "cell_type": "code",
   "execution_count": null,
   "metadata": {},
   "outputs": [],
   "source": []
  }
 ],
 "metadata": {
  "kernelspec": {
   "display_name": "Python 3",
   "language": "python",
   "name": "python3"
  },
  "language_info": {
   "codemirror_mode": {
    "name": "ipython",
    "version": 3
   },
   "file_extension": ".py",
   "mimetype": "text/x-python",
   "name": "python",
   "nbconvert_exporter": "python",
   "pygments_lexer": "ipython3",
   "version": "3.8.5"
  }
 },
 "nbformat": 4,
 "nbformat_minor": 4
}
