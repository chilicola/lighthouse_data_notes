{
 "cells": [
  {
   "cell_type": "code",
<<<<<<< HEAD
<<<<<<< HEAD
<<<<<<< HEAD
<<<<<<< HEAD
   "execution_count": 21,
=======
   "execution_count": 1,
>>>>>>> 217dce0bf5a37b2dc12beba9a72847278135c61e
=======
   "execution_count": 1,
>>>>>>> 217dce0bf5a37b2dc12beba9a72847278135c61e
=======
   "execution_count": 1,
>>>>>>> 217dce0bf5a37b2dc12beba9a72847278135c61e
=======
   "execution_count": 1,
>>>>>>> 217dce0bf5a37b2dc12beba9a72847278135c61e
   "metadata": {
    "ExecuteTime": {
     "end_time": "2020-04-23T18:44:33.442796Z",
     "start_time": "2020-04-23T18:44:32.388132Z"
    }
   },
   "outputs": [],
   "source": [
    "# import geopandas and matplotlib\n",
    "import geopandas as gpd\n",
<<<<<<< HEAD
<<<<<<< HEAD
<<<<<<< HEAD
<<<<<<< HEAD
    "import matplotlib.pyplot as plt\n",
    "import pandas as pd\n",
    "import plotly.express as px"
=======
    "import matplotlib.pyplot as plt"
>>>>>>> 217dce0bf5a37b2dc12beba9a72847278135c61e
=======
    "import matplotlib.pyplot as plt"
>>>>>>> 217dce0bf5a37b2dc12beba9a72847278135c61e
=======
    "import matplotlib.pyplot as plt"
>>>>>>> 217dce0bf5a37b2dc12beba9a72847278135c61e
=======
    "import matplotlib.pyplot as plt"
>>>>>>> 217dce0bf5a37b2dc12beba9a72847278135c61e
   ]
  },
  {
   "cell_type": "code",
<<<<<<< HEAD
<<<<<<< HEAD
<<<<<<< HEAD
<<<<<<< HEAD
   "execution_count": 2,
=======
   "execution_count": 66,
>>>>>>> 217dce0bf5a37b2dc12beba9a72847278135c61e
=======
   "execution_count": 66,
>>>>>>> 217dce0bf5a37b2dc12beba9a72847278135c61e
=======
   "execution_count": 66,
>>>>>>> 217dce0bf5a37b2dc12beba9a72847278135c61e
=======
   "execution_count": 66,
>>>>>>> 217dce0bf5a37b2dc12beba9a72847278135c61e
   "metadata": {
    "ExecuteTime": {
     "end_time": "2020-04-23T18:44:33.532177Z",
     "start_time": "2020-04-23T18:44:33.495683Z"
    }
   },
   "outputs": [],
   "source": [
    "# countries data\n",
    "world = gpd.read_file(gpd.datasets.get_path('naturalearth_lowres'))"
   ]
  },
  {
   "cell_type": "markdown",
   "metadata": {},
   "source": [
    "**Print the top 5 rows of world dataframe.**"
   ]
  },
  {
   "cell_type": "code",
<<<<<<< HEAD
<<<<<<< HEAD
<<<<<<< HEAD
<<<<<<< HEAD
   "execution_count": 3,
=======
   "execution_count": 67,
>>>>>>> 217dce0bf5a37b2dc12beba9a72847278135c61e
=======
   "execution_count": 67,
>>>>>>> 217dce0bf5a37b2dc12beba9a72847278135c61e
=======
   "execution_count": 67,
>>>>>>> 217dce0bf5a37b2dc12beba9a72847278135c61e
=======
   "execution_count": 67,
>>>>>>> 217dce0bf5a37b2dc12beba9a72847278135c61e
   "metadata": {
    "ExecuteTime": {
     "end_time": "2020-04-23T18:42:59.340723Z",
     "start_time": "2020-04-23T18:42:59.319452Z"
    }
   },
   "outputs": [
    {
     "data": {
      "text/html": [
       "<div>\n",
       "<style scoped>\n",
       "    .dataframe tbody tr th:only-of-type {\n",
       "        vertical-align: middle;\n",
       "    }\n",
       "\n",
       "    .dataframe tbody tr th {\n",
       "        vertical-align: top;\n",
       "    }\n",
       "\n",
       "    .dataframe thead th {\n",
       "        text-align: right;\n",
       "    }\n",
       "</style>\n",
       "<table border=\"1\" class=\"dataframe\">\n",
       "  <thead>\n",
       "    <tr style=\"text-align: right;\">\n",
       "      <th></th>\n",
       "      <th>pop_est</th>\n",
       "      <th>continent</th>\n",
       "      <th>name</th>\n",
       "      <th>iso_a3</th>\n",
       "      <th>gdp_md_est</th>\n",
       "      <th>geometry</th>\n",
       "    </tr>\n",
       "  </thead>\n",
       "  <tbody>\n",
       "    <tr>\n",
       "      <th>0</th>\n",
       "      <td>920938</td>\n",
       "      <td>Oceania</td>\n",
       "      <td>Fiji</td>\n",
       "      <td>FJI</td>\n",
       "      <td>8374.0</td>\n",
       "      <td>MULTIPOLYGON (((180.00000 -16.06713, 180.00000...</td>\n",
       "    </tr>\n",
       "    <tr>\n",
       "      <th>1</th>\n",
       "      <td>53950935</td>\n",
       "      <td>Africa</td>\n",
       "      <td>Tanzania</td>\n",
       "      <td>TZA</td>\n",
       "      <td>150600.0</td>\n",
       "      <td>POLYGON ((33.90371 -0.95000, 34.07262 -1.05982...</td>\n",
       "    </tr>\n",
       "    <tr>\n",
       "      <th>2</th>\n",
       "      <td>603253</td>\n",
       "      <td>Africa</td>\n",
       "      <td>W. Sahara</td>\n",
       "      <td>ESH</td>\n",
       "      <td>906.5</td>\n",
       "      <td>POLYGON ((-8.66559 27.65643, -8.66512 27.58948...</td>\n",
       "    </tr>\n",
       "    <tr>\n",
       "      <th>3</th>\n",
       "      <td>35623680</td>\n",
       "      <td>North America</td>\n",
       "      <td>Canada</td>\n",
       "      <td>CAN</td>\n",
       "      <td>1674000.0</td>\n",
       "      <td>MULTIPOLYGON (((-122.84000 49.00000, -122.9742...</td>\n",
       "    </tr>\n",
       "    <tr>\n",
       "      <th>4</th>\n",
       "      <td>326625791</td>\n",
       "      <td>North America</td>\n",
       "      <td>United States of America</td>\n",
       "      <td>USA</td>\n",
       "      <td>18560000.0</td>\n",
       "      <td>MULTIPOLYGON (((-122.84000 49.00000, -120.0000...</td>\n",
       "    </tr>\n",
       "  </tbody>\n",
       "</table>\n",
       "</div>"
      ],
      "text/plain": [
       "     pop_est      continent                      name iso_a3  gdp_md_est  \\\n",
       "0     920938        Oceania                      Fiji    FJI      8374.0   \n",
       "1   53950935         Africa                  Tanzania    TZA    150600.0   \n",
       "2     603253         Africa                 W. Sahara    ESH       906.5   \n",
       "3   35623680  North America                    Canada    CAN   1674000.0   \n",
       "4  326625791  North America  United States of America    USA  18560000.0   \n",
       "\n",
       "                                            geometry  \n",
       "0  MULTIPOLYGON (((180.00000 -16.06713, 180.00000...  \n",
       "1  POLYGON ((33.90371 -0.95000, 34.07262 -1.05982...  \n",
       "2  POLYGON ((-8.66559 27.65643, -8.66512 27.58948...  \n",
       "3  MULTIPOLYGON (((-122.84000 49.00000, -122.9742...  \n",
       "4  MULTIPOLYGON (((-122.84000 49.00000, -120.0000...  "
      ]
     },
<<<<<<< HEAD
<<<<<<< HEAD
<<<<<<< HEAD
<<<<<<< HEAD
     "execution_count": 3,
=======
     "execution_count": 67,
>>>>>>> 217dce0bf5a37b2dc12beba9a72847278135c61e
=======
     "execution_count": 67,
>>>>>>> 217dce0bf5a37b2dc12beba9a72847278135c61e
=======
     "execution_count": 67,
>>>>>>> 217dce0bf5a37b2dc12beba9a72847278135c61e
=======
     "execution_count": 67,
>>>>>>> 217dce0bf5a37b2dc12beba9a72847278135c61e
     "metadata": {},
     "output_type": "execute_result"
    }
   ],
   "source": [
    "world.head()"
   ]
  },
  {
   "cell_type": "markdown",
   "metadata": {},
   "source": [
    "**Remove continents which have only one country in dataframe.**\n"
   ]
  },
  {
   "cell_type": "code",
<<<<<<< HEAD
<<<<<<< HEAD
<<<<<<< HEAD
<<<<<<< HEAD
   "execution_count": 4,
=======
   "execution_count": 70,
>>>>>>> 217dce0bf5a37b2dc12beba9a72847278135c61e
=======
   "execution_count": 70,
>>>>>>> 217dce0bf5a37b2dc12beba9a72847278135c61e
=======
   "execution_count": 70,
>>>>>>> 217dce0bf5a37b2dc12beba9a72847278135c61e
=======
   "execution_count": 70,
>>>>>>> 217dce0bf5a37b2dc12beba9a72847278135c61e
   "metadata": {
    "ExecuteTime": {
     "end_time": "2020-04-23T18:44:33.661829Z",
     "start_time": "2020-04-23T18:44:33.658772Z"
    },
<<<<<<< HEAD
<<<<<<< HEAD
<<<<<<< HEAD
<<<<<<< HEAD
    "scrolled": true,
    "tags": []
   },
   "outputs": [],
   "source": [
    "# continents with only one country\n",
    "continent_counts = world['continent'].value_counts()\n",
    "continent_w1_city = continent_counts[continent_counts == 1].index.tolist()"
   ]
  },
  {
   "cell_type": "code",
   "execution_count": 5,
   "metadata": {},
=======
    "scrolled": true
   },
>>>>>>> 217dce0bf5a37b2dc12beba9a72847278135c61e
=======
    "scrolled": true
   },
>>>>>>> 217dce0bf5a37b2dc12beba9a72847278135c61e
=======
    "scrolled": true
   },
>>>>>>> 217dce0bf5a37b2dc12beba9a72847278135c61e
=======
    "scrolled": true
   },
>>>>>>> 217dce0bf5a37b2dc12beba9a72847278135c61e
   "outputs": [
    {
     "data": {
      "text/plain": [
       "['Seven seas (open ocean)', 'Antarctica']"
      ]
     },
<<<<<<< HEAD
<<<<<<< HEAD
<<<<<<< HEAD
<<<<<<< HEAD
     "execution_count": 5,
=======
     "execution_count": 70,
>>>>>>> 217dce0bf5a37b2dc12beba9a72847278135c61e
=======
     "execution_count": 70,
>>>>>>> 217dce0bf5a37b2dc12beba9a72847278135c61e
=======
     "execution_count": 70,
>>>>>>> 217dce0bf5a37b2dc12beba9a72847278135c61e
=======
     "execution_count": 70,
>>>>>>> 217dce0bf5a37b2dc12beba9a72847278135c61e
     "metadata": {},
     "output_type": "execute_result"
    }
   ],
   "source": [
<<<<<<< HEAD
<<<<<<< HEAD
<<<<<<< HEAD
<<<<<<< HEAD
=======
    "# continents with only one country\n",
    "continent_counts = world['continent'].value_counts()\n",
    "continent_w1_city = continent_counts[continent_counts == 1].index.tolist()\n",
>>>>>>> 217dce0bf5a37b2dc12beba9a72847278135c61e
=======
    "# continents with only one country\n",
    "continent_counts = world['continent'].value_counts()\n",
    "continent_w1_city = continent_counts[continent_counts == 1].index.tolist()\n",
>>>>>>> 217dce0bf5a37b2dc12beba9a72847278135c61e
=======
    "# continents with only one country\n",
    "continent_counts = world['continent'].value_counts()\n",
    "continent_w1_city = continent_counts[continent_counts == 1].index.tolist()\n",
>>>>>>> 217dce0bf5a37b2dc12beba9a72847278135c61e
=======
    "# continents with only one country\n",
    "continent_counts = world['continent'].value_counts()\n",
    "continent_w1_city = continent_counts[continent_counts == 1].index.tolist()\n",
>>>>>>> 217dce0bf5a37b2dc12beba9a72847278135c61e
    "continent_w1_city"
   ]
  },
  {
   "cell_type": "code",
<<<<<<< HEAD
<<<<<<< HEAD
<<<<<<< HEAD
<<<<<<< HEAD
   "execution_count": 6,
   "metadata": {},
   "outputs": [],
   "source": [
    "# remove these continents\n",
    "ind_w1_city = world[world['continent'].isin(continent_w1_city)].index\n",
    "world.drop(ind_w1_city, inplace=True)"
   ]
  },
  {
   "cell_type": "code",
   "execution_count": 7,
   "metadata": {},
   "outputs": [
    {
     "data": {
      "text/plain": [
       "Africa           51\n",
       "Asia             47\n",
       "Europe           39\n",
       "North America    18\n",
       "South America    13\n",
       "Oceania           7\n",
       "Name: continent, dtype: int64"
      ]
     },
     "execution_count": 7,
     "metadata": {},
     "output_type": "execute_result"
    }
   ],
   "source": [
    "world['continent'].value_counts()"
=======
=======
>>>>>>> 217dce0bf5a37b2dc12beba9a72847278135c61e
=======
>>>>>>> 217dce0bf5a37b2dc12beba9a72847278135c61e
=======
>>>>>>> 217dce0bf5a37b2dc12beba9a72847278135c61e
   "execution_count": 84,
   "metadata": {
    "scrolled": false
   },
   "outputs": [
    {
     "ename": "ValueError",
     "evalue": "The truth value of a Series is ambiguous. Use a.empty, a.bool(), a.item(), a.any() or a.all().",
     "output_type": "error",
     "traceback": [
      "\u001b[1;31m---------------------------------------------------------------------------\u001b[0m",
      "\u001b[1;31mValueError\u001b[0m                                Traceback (most recent call last)",
      "\u001b[1;32m<ipython-input-84-9300e8c28a6a>\u001b[0m in \u001b[0;36m<module>\u001b[1;34m\u001b[0m\n\u001b[0;32m      5\u001b[0m \u001b[1;31m# world[world['continent'] == continent_w1_city[1]]\u001b[0m\u001b[1;33m\u001b[0m\u001b[1;33m\u001b[0m\u001b[1;33m\u001b[0m\u001b[0m\n\u001b[0;32m      6\u001b[0m \u001b[1;31m# world[world['continent'] == 'Antarctica']\u001b[0m\u001b[1;33m\u001b[0m\u001b[1;33m\u001b[0m\u001b[1;33m\u001b[0m\u001b[0m\n\u001b[1;32m----> 7\u001b[1;33m \u001b[0mworld\u001b[0m\u001b[1;33m[\u001b[0m\u001b[0mworld\u001b[0m\u001b[1;33m[\u001b[0m\u001b[1;34m'continent'\u001b[0m\u001b[1;33m]\u001b[0m \u001b[1;32min\u001b[0m \u001b[0mcontinent_w1_city\u001b[0m\u001b[1;33m]\u001b[0m\u001b[1;33m\u001b[0m\u001b[1;33m\u001b[0m\u001b[0m\n\u001b[0m",
      "\u001b[1;32mD:\\anaconda3\\lib\\site-packages\\pandas\\core\\generic.py\u001b[0m in \u001b[0;36m__nonzero__\u001b[1;34m(self)\u001b[0m\n\u001b[0;32m   1476\u001b[0m \u001b[1;33m\u001b[0m\u001b[0m\n\u001b[0;32m   1477\u001b[0m     \u001b[1;32mdef\u001b[0m \u001b[0m__nonzero__\u001b[0m\u001b[1;33m(\u001b[0m\u001b[0mself\u001b[0m\u001b[1;33m)\u001b[0m\u001b[1;33m:\u001b[0m\u001b[1;33m\u001b[0m\u001b[1;33m\u001b[0m\u001b[0m\n\u001b[1;32m-> 1478\u001b[1;33m         raise ValueError(\n\u001b[0m\u001b[0;32m   1479\u001b[0m             \u001b[1;34mf\"The truth value of a {type(self).__name__} is ambiguous. \"\u001b[0m\u001b[1;33m\u001b[0m\u001b[1;33m\u001b[0m\u001b[0m\n\u001b[0;32m   1480\u001b[0m             \u001b[1;34m\"Use a.empty, a.bool(), a.item(), a.any() or a.all().\"\u001b[0m\u001b[1;33m\u001b[0m\u001b[1;33m\u001b[0m\u001b[0m\n",
      "\u001b[1;31mValueError\u001b[0m: The truth value of a Series is ambiguous. Use a.empty, a.bool(), a.item(), a.any() or a.all()."
     ]
    }
   ],
   "source": [
    "# remove these continents\n",
    "# for cont in continent_w1_city:\n",
    "#     world.drop(world[world['continent'] == cont], inplace = True)\n",
    "\n",
    "# world[world['continent'] == continent_w1_city[1]]\n",
    "# world[world['continent'] == 'Antarctica']\n",
    "world[world['continent'] in continent_w1_city]"
<<<<<<< HEAD
<<<<<<< HEAD
<<<<<<< HEAD
>>>>>>> 217dce0bf5a37b2dc12beba9a72847278135c61e
=======
>>>>>>> 217dce0bf5a37b2dc12beba9a72847278135c61e
=======
>>>>>>> 217dce0bf5a37b2dc12beba9a72847278135c61e
=======
>>>>>>> 217dce0bf5a37b2dc12beba9a72847278135c61e
   ]
  },
  {
   "cell_type": "markdown",
   "metadata": {},
   "source": [
    "**Create dataframe with top 3 most populated countries from each continent and store the result in dataframe with name 'world_filtered'.**\n"
   ]
  },
  {
   "cell_type": "code",
<<<<<<< HEAD
<<<<<<< HEAD
<<<<<<< HEAD
<<<<<<< HEAD
   "execution_count": 8,
=======
   "execution_count": null,
>>>>>>> 217dce0bf5a37b2dc12beba9a72847278135c61e
=======
   "execution_count": null,
>>>>>>> 217dce0bf5a37b2dc12beba9a72847278135c61e
=======
   "execution_count": null,
>>>>>>> 217dce0bf5a37b2dc12beba9a72847278135c61e
=======
   "execution_count": null,
>>>>>>> 217dce0bf5a37b2dc12beba9a72847278135c61e
   "metadata": {
    "ExecuteTime": {
     "end_time": "2020-04-23T18:42:59.643052Z",
     "start_time": "2020-04-23T18:42:59.609214Z"
    }
   },
   "outputs": [],
<<<<<<< HEAD
<<<<<<< HEAD
<<<<<<< HEAD
<<<<<<< HEAD
   "source": [
    "continents = set(world['continent'])\n",
    "world_filtered = pd.DataFrame()\n",
    "\n",
    "for cont in continents:\n",
    "    pop3 = world[world['continent'] == cont].sort_values('pop_est', ascending=False).head(3)\n",
    "    world_filtered = world_filtered.append(pop3, ignore_index=True)"
   ]
=======
   "source": []
>>>>>>> 217dce0bf5a37b2dc12beba9a72847278135c61e
=======
   "source": []
>>>>>>> 217dce0bf5a37b2dc12beba9a72847278135c61e
=======
   "source": []
>>>>>>> 217dce0bf5a37b2dc12beba9a72847278135c61e
=======
   "source": []
>>>>>>> 217dce0bf5a37b2dc12beba9a72847278135c61e
  },
  {
   "cell_type": "markdown",
   "metadata": {},
   "source": [
    "**Print the 'world_filtered' dataframe.**"
   ]
  },
  {
   "cell_type": "code",
<<<<<<< HEAD
<<<<<<< HEAD
<<<<<<< HEAD
<<<<<<< HEAD
   "execution_count": 9,
=======
   "execution_count": null,
>>>>>>> 217dce0bf5a37b2dc12beba9a72847278135c61e
=======
   "execution_count": null,
>>>>>>> 217dce0bf5a37b2dc12beba9a72847278135c61e
=======
   "execution_count": null,
>>>>>>> 217dce0bf5a37b2dc12beba9a72847278135c61e
=======
   "execution_count": null,
>>>>>>> 217dce0bf5a37b2dc12beba9a72847278135c61e
   "metadata": {
    "ExecuteTime": {
     "end_time": "2020-04-23T18:43:00.041229Z",
     "start_time": "2020-04-23T18:43:00.004937Z"
    }
   },
<<<<<<< HEAD
<<<<<<< HEAD
<<<<<<< HEAD
<<<<<<< HEAD
   "outputs": [
    {
     "data": {
      "text/html": [
       "<div>\n",
       "<style scoped>\n",
       "    .dataframe tbody tr th:only-of-type {\n",
       "        vertical-align: middle;\n",
       "    }\n",
       "\n",
       "    .dataframe tbody tr th {\n",
       "        vertical-align: top;\n",
       "    }\n",
       "\n",
       "    .dataframe thead th {\n",
       "        text-align: right;\n",
       "    }\n",
       "</style>\n",
       "<table border=\"1\" class=\"dataframe\">\n",
       "  <thead>\n",
       "    <tr style=\"text-align: right;\">\n",
       "      <th></th>\n",
       "      <th>pop_est</th>\n",
       "      <th>continent</th>\n",
       "      <th>name</th>\n",
       "      <th>iso_a3</th>\n",
       "      <th>gdp_md_est</th>\n",
       "      <th>geometry</th>\n",
       "    </tr>\n",
       "  </thead>\n",
       "  <tbody>\n",
       "    <tr>\n",
       "      <th>0</th>\n",
       "      <td>207353391</td>\n",
       "      <td>South America</td>\n",
       "      <td>Brazil</td>\n",
       "      <td>BRA</td>\n",
       "      <td>3081000.0</td>\n",
       "      <td>POLYGON ((-53.374 -33.768, -53.651 -33.202, -5...</td>\n",
       "    </tr>\n",
       "    <tr>\n",
       "      <th>1</th>\n",
       "      <td>47698524</td>\n",
       "      <td>South America</td>\n",
       "      <td>Colombia</td>\n",
       "      <td>COL</td>\n",
       "      <td>688000.0</td>\n",
       "      <td>POLYGON ((-66.876 1.253, -67.065 1.130, -67.26...</td>\n",
       "    </tr>\n",
       "    <tr>\n",
       "      <th>2</th>\n",
       "      <td>44293293</td>\n",
       "      <td>South America</td>\n",
       "      <td>Argentina</td>\n",
       "      <td>ARG</td>\n",
       "      <td>879400.0</td>\n",
       "      <td>MULTIPOLYGON (((-68.634 -52.636, -68.250 -53.1...</td>\n",
       "    </tr>\n",
       "    <tr>\n",
       "      <th>3</th>\n",
       "      <td>1379302771</td>\n",
       "      <td>Asia</td>\n",
       "      <td>China</td>\n",
       "      <td>CHN</td>\n",
       "      <td>21140000.0</td>\n",
       "      <td>MULTIPOLYGON (((109.475 18.198, 108.655 18.508...</td>\n",
       "    </tr>\n",
       "    <tr>\n",
       "      <th>4</th>\n",
       "      <td>1281935911</td>\n",
       "      <td>Asia</td>\n",
       "      <td>India</td>\n",
       "      <td>IND</td>\n",
       "      <td>8721000.0</td>\n",
       "      <td>POLYGON ((97.327 28.262, 97.403 27.883, 97.052...</td>\n",
       "    </tr>\n",
       "    <tr>\n",
       "      <th>5</th>\n",
       "      <td>260580739</td>\n",
       "      <td>Asia</td>\n",
       "      <td>Indonesia</td>\n",
       "      <td>IDN</td>\n",
       "      <td>3028000.0</td>\n",
       "      <td>MULTIPOLYGON (((141.000 -2.600, 141.017 -5.859...</td>\n",
       "    </tr>\n",
       "    <tr>\n",
       "      <th>6</th>\n",
       "      <td>142257519</td>\n",
       "      <td>Europe</td>\n",
       "      <td>Russia</td>\n",
       "      <td>RUS</td>\n",
       "      <td>3745000.0</td>\n",
       "      <td>MULTIPOLYGON (((178.725 71.099, 180.000 71.516...</td>\n",
       "    </tr>\n",
       "    <tr>\n",
       "      <th>7</th>\n",
       "      <td>80594017</td>\n",
       "      <td>Europe</td>\n",
       "      <td>Germany</td>\n",
       "      <td>DEU</td>\n",
       "      <td>3979000.0</td>\n",
       "      <td>POLYGON ((14.120 53.757, 14.353 53.248, 14.075...</td>\n",
       "    </tr>\n",
       "    <tr>\n",
       "      <th>8</th>\n",
       "      <td>67106161</td>\n",
       "      <td>Europe</td>\n",
       "      <td>France</td>\n",
       "      <td>-99</td>\n",
       "      <td>2699000.0</td>\n",
       "      <td>MULTIPOLYGON (((-51.658 4.156, -52.249 3.241, ...</td>\n",
       "    </tr>\n",
       "    <tr>\n",
       "      <th>9</th>\n",
       "      <td>190632261</td>\n",
       "      <td>Africa</td>\n",
       "      <td>Nigeria</td>\n",
       "      <td>NGA</td>\n",
       "      <td>1089000.0</td>\n",
       "      <td>POLYGON ((2.692 6.259, 2.749 7.871, 2.724 8.50...</td>\n",
       "    </tr>\n",
       "    <tr>\n",
       "      <th>10</th>\n",
       "      <td>105350020</td>\n",
       "      <td>Africa</td>\n",
       "      <td>Ethiopia</td>\n",
       "      <td>ETH</td>\n",
       "      <td>174700.0</td>\n",
       "      <td>POLYGON ((47.789 8.003, 44.964 5.002, 43.661 4...</td>\n",
       "    </tr>\n",
       "    <tr>\n",
       "      <th>11</th>\n",
       "      <td>97041072</td>\n",
       "      <td>Africa</td>\n",
       "      <td>Egypt</td>\n",
       "      <td>EGY</td>\n",
       "      <td>1105000.0</td>\n",
       "      <td>POLYGON ((36.866 22.000, 32.900 22.000, 29.020...</td>\n",
       "    </tr>\n",
       "    <tr>\n",
       "      <th>12</th>\n",
       "      <td>23232413</td>\n",
       "      <td>Oceania</td>\n",
       "      <td>Australia</td>\n",
       "      <td>AUS</td>\n",
       "      <td>1189000.0</td>\n",
       "      <td>MULTIPOLYGON (((147.689 -40.808, 148.289 -40.8...</td>\n",
       "    </tr>\n",
       "    <tr>\n",
       "      <th>13</th>\n",
       "      <td>6909701</td>\n",
       "      <td>Oceania</td>\n",
       "      <td>Papua New Guinea</td>\n",
       "      <td>PNG</td>\n",
       "      <td>28020.0</td>\n",
       "      <td>MULTIPOLYGON (((141.000 -2.600, 142.735 -3.289...</td>\n",
       "    </tr>\n",
       "    <tr>\n",
       "      <th>14</th>\n",
       "      <td>4510327</td>\n",
       "      <td>Oceania</td>\n",
       "      <td>New Zealand</td>\n",
       "      <td>NZL</td>\n",
       "      <td>174800.0</td>\n",
       "      <td>MULTIPOLYGON (((176.886 -40.066, 176.508 -40.6...</td>\n",
       "    </tr>\n",
       "    <tr>\n",
       "      <th>15</th>\n",
       "      <td>326625791</td>\n",
       "      <td>North America</td>\n",
       "      <td>United States of America</td>\n",
       "      <td>USA</td>\n",
       "      <td>18560000.0</td>\n",
       "      <td>MULTIPOLYGON (((-122.840 49.000, -120.000 49.0...</td>\n",
       "    </tr>\n",
       "    <tr>\n",
       "      <th>16</th>\n",
       "      <td>124574795</td>\n",
       "      <td>North America</td>\n",
       "      <td>Mexico</td>\n",
       "      <td>MEX</td>\n",
       "      <td>2307000.0</td>\n",
       "      <td>POLYGON ((-117.128 32.535, -115.991 32.612, -1...</td>\n",
       "    </tr>\n",
       "    <tr>\n",
       "      <th>17</th>\n",
       "      <td>35623680</td>\n",
       "      <td>North America</td>\n",
       "      <td>Canada</td>\n",
       "      <td>CAN</td>\n",
       "      <td>1674000.0</td>\n",
       "      <td>MULTIPOLYGON (((-122.840 49.000, -122.974 49.0...</td>\n",
       "    </tr>\n",
       "  </tbody>\n",
       "</table>\n",
       "</div>"
      ],
      "text/plain": [
       "       pop_est      continent                      name iso_a3  gdp_md_est  \\\n",
       "0    207353391  South America                    Brazil    BRA   3081000.0   \n",
       "1     47698524  South America                  Colombia    COL    688000.0   \n",
       "2     44293293  South America                 Argentina    ARG    879400.0   \n",
       "3   1379302771           Asia                     China    CHN  21140000.0   \n",
       "4   1281935911           Asia                     India    IND   8721000.0   \n",
       "5    260580739           Asia                 Indonesia    IDN   3028000.0   \n",
       "6    142257519         Europe                    Russia    RUS   3745000.0   \n",
       "7     80594017         Europe                   Germany    DEU   3979000.0   \n",
       "8     67106161         Europe                    France    -99   2699000.0   \n",
       "9    190632261         Africa                   Nigeria    NGA   1089000.0   \n",
       "10   105350020         Africa                  Ethiopia    ETH    174700.0   \n",
       "11    97041072         Africa                     Egypt    EGY   1105000.0   \n",
       "12    23232413        Oceania                 Australia    AUS   1189000.0   \n",
       "13     6909701        Oceania          Papua New Guinea    PNG     28020.0   \n",
       "14     4510327        Oceania               New Zealand    NZL    174800.0   \n",
       "15   326625791  North America  United States of America    USA  18560000.0   \n",
       "16   124574795  North America                    Mexico    MEX   2307000.0   \n",
       "17    35623680  North America                    Canada    CAN   1674000.0   \n",
       "\n",
       "                                             geometry  \n",
       "0   POLYGON ((-53.374 -33.768, -53.651 -33.202, -5...  \n",
       "1   POLYGON ((-66.876 1.253, -67.065 1.130, -67.26...  \n",
       "2   MULTIPOLYGON (((-68.634 -52.636, -68.250 -53.1...  \n",
       "3   MULTIPOLYGON (((109.475 18.198, 108.655 18.508...  \n",
       "4   POLYGON ((97.327 28.262, 97.403 27.883, 97.052...  \n",
       "5   MULTIPOLYGON (((141.000 -2.600, 141.017 -5.859...  \n",
       "6   MULTIPOLYGON (((178.725 71.099, 180.000 71.516...  \n",
       "7   POLYGON ((14.120 53.757, 14.353 53.248, 14.075...  \n",
       "8   MULTIPOLYGON (((-51.658 4.156, -52.249 3.241, ...  \n",
       "9   POLYGON ((2.692 6.259, 2.749 7.871, 2.724 8.50...  \n",
       "10  POLYGON ((47.789 8.003, 44.964 5.002, 43.661 4...  \n",
       "11  POLYGON ((36.866 22.000, 32.900 22.000, 29.020...  \n",
       "12  MULTIPOLYGON (((147.689 -40.808, 148.289 -40.8...  \n",
       "13  MULTIPOLYGON (((141.000 -2.600, 142.735 -3.289...  \n",
       "14  MULTIPOLYGON (((176.886 -40.066, 176.508 -40.6...  \n",
       "15  MULTIPOLYGON (((-122.840 49.000, -120.000 49.0...  \n",
       "16  POLYGON ((-117.128 32.535, -115.991 32.612, -1...  \n",
       "17  MULTIPOLYGON (((-122.840 49.000, -122.974 49.0...  "
      ]
     },
     "execution_count": 9,
     "metadata": {},
     "output_type": "execute_result"
    }
   ],
   "source": [
    "world_filtered"
   ]
=======
   "outputs": [],
   "source": []
>>>>>>> 217dce0bf5a37b2dc12beba9a72847278135c61e
=======
   "outputs": [],
   "source": []
>>>>>>> 217dce0bf5a37b2dc12beba9a72847278135c61e
=======
   "outputs": [],
   "source": []
>>>>>>> 217dce0bf5a37b2dc12beba9a72847278135c61e
=======
   "outputs": [],
   "source": []
>>>>>>> 217dce0bf5a37b2dc12beba9a72847278135c61e
  },
  {
   "cell_type": "markdown",
   "metadata": {},
   "source": [
    "-----------------\n",
    "## Part I: Create a choropleth map of world:\n",
    "\n",
    "   - First using **Geopandas**\n",
    "       - Note: Geopandas may not work well on your computers, especially on Windows computers, it is advised to use Google Collab for this assignment. \n",
    "   - Second using **Plotly**\n",
    "       - Note: Plotly may not work well on Jupyter Labs, it is advised to use Jupyter Notebooks or Google Collab for the plotly portion. \n",
    "\n",
    "\n",
    "> #### Notes\n",
    "> * the colors of countries from 'world_filtered' are based on population\n",
    "> * other countries can stay white"
   ]
  },
  {
   "cell_type": "markdown",
   "metadata": {},
   "source": [
    "### GeoPandas"
   ]
  },
  {
   "cell_type": "code",
<<<<<<< HEAD
<<<<<<< HEAD
<<<<<<< HEAD
<<<<<<< HEAD
   "execution_count": 20,
   "metadata": {},
   "outputs": [
    {
     "data": {
      "image/png": "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\n",
      "text/plain": [
       "<Figure size 1080x864 with 2 Axes>"
      ]
     },
     "metadata": {
      "needs_background": "light"
     },
     "output_type": "display_data"
    }
   ],
   "source": [
    "# create figure and axes\n",
    "fig, ax = plt.subplots(figsize=(15,12))\n",
    "\n",
    "# create map from world_filtered data-frame\n",
    "world_filtered.plot(column='pop_est', ax=ax, legend=True,\n",
    "                    legend_kwds={'label': \"Population by Country\",\n",
    "                                 'orientation': \"horizontal\"})\n",
    "\n",
    "# add the rest of the countries\n",
    "world.plot(column='pop_est', ax=ax)\n",
    "\n",
    "plt.show()"
   ]
  },
  {
=======
=======
>>>>>>> 217dce0bf5a37b2dc12beba9a72847278135c61e
=======
>>>>>>> 217dce0bf5a37b2dc12beba9a72847278135c61e
=======
>>>>>>> 217dce0bf5a37b2dc12beba9a72847278135c61e
   "execution_count": null,
   "metadata": {},
   "outputs": [],
   "source": [
    "# create figure and axes\n",
    "\n",
    "\n",
    "\n",
    "# create map from world_filtered data-frame\n",
    "\n",
    "\n",
    "\n",
    "\n",
    "# add the rest of the countries"
   ]
  },
  {
   "cell_type": "code",
   "execution_count": null,
   "metadata": {},
   "outputs": [],
   "source": []
  },
  {
   "cell_type": "code",
   "execution_count": null,
   "metadata": {},
   "outputs": [],
   "source": []
  },
  {
   "cell_type": "code",
   "execution_count": null,
   "metadata": {},
   "outputs": [],
   "source": []
  },
  {
<<<<<<< HEAD
<<<<<<< HEAD
<<<<<<< HEAD
>>>>>>> 217dce0bf5a37b2dc12beba9a72847278135c61e
=======
>>>>>>> 217dce0bf5a37b2dc12beba9a72847278135c61e
=======
>>>>>>> 217dce0bf5a37b2dc12beba9a72847278135c61e
=======
>>>>>>> 217dce0bf5a37b2dc12beba9a72847278135c61e
   "cell_type": "markdown",
   "metadata": {},
   "source": [
    "### Plotly"
   ]
  },
  {
   "cell_type": "code",
<<<<<<< HEAD
<<<<<<< HEAD
<<<<<<< HEAD
<<<<<<< HEAD
   "execution_count": 34,
   "metadata": {},
   "outputs": [
    {
     "data": {
      "application/vnd.plotly.v1+json": {
       "config": {
        "plotlyServerURL": "https://plot.ly"
       },
       "data": [
        {
         "coloraxis": "coloraxis",
         "geo": "geo",
         "hovertemplate": "name=%{location}<br>pop_est=%{z}<extra></extra>",
         "locations": [
          "Brazil",
          "Colombia",
          "Argentina",
          "China",
          "India",
          "Indonesia",
          "Russia",
          "Germany",
          "France",
          "Nigeria",
          "Ethiopia",
          "Egypt",
          "Australia",
          "Papua New Guinea",
          "New Zealand",
          "United States of America",
          "Mexico",
          "Canada"
         ],
         "name": "",
         "type": "choropleth",
         "z": [
          207353391,
          47698524,
          44293293,
          1379302771,
          1281935911,
          260580739,
          142257519,
          80594017,
          67106161,
          190632261,
          105350020,
          97041072,
          23232413,
          6909701,
          4510327,
          326625791,
          124574795,
          35623680
         ]
        }
       ],
       "layout": {
        "coloraxis": {
         "cmax": 12,
         "cmin": 0,
         "colorbar": {
          "title": {
           "text": "pop_est"
          }
         },
         "colorscale": [
          [
           0,
           "#440154"
          ],
          [
           0.1111111111111111,
           "#482878"
          ],
          [
           0.2222222222222222,
           "#3e4989"
          ],
          [
           0.3333333333333333,
           "#31688e"
          ],
          [
           0.4444444444444444,
           "#26828e"
          ],
          [
           0.5555555555555556,
           "#1f9e89"
          ],
          [
           0.6666666666666666,
           "#35b779"
          ],
          [
           0.7777777777777778,
           "#6ece58"
          ],
          [
           0.8888888888888888,
           "#b5de2b"
          ],
          [
           1,
           "#fde725"
          ]
         ]
        },
        "geo": {
         "center": {},
         "domain": {
          "x": [
           0,
           1
          ],
          "y": [
           0,
           1
          ]
         }
        },
        "legend": {
         "tracegroupgap": 0
        },
        "margin": {
         "t": 60
        },
        "template": {
         "data": {
          "bar": [
           {
            "error_x": {
             "color": "#2a3f5f"
            },
            "error_y": {
             "color": "#2a3f5f"
            },
            "marker": {
             "line": {
              "color": "#E5ECF6",
              "width": 0.5
             }
            },
            "type": "bar"
           }
          ],
          "barpolar": [
           {
            "marker": {
             "line": {
              "color": "#E5ECF6",
              "width": 0.5
             }
            },
            "type": "barpolar"
           }
          ],
          "carpet": [
           {
            "aaxis": {
             "endlinecolor": "#2a3f5f",
             "gridcolor": "white",
             "linecolor": "white",
             "minorgridcolor": "white",
             "startlinecolor": "#2a3f5f"
            },
            "baxis": {
             "endlinecolor": "#2a3f5f",
             "gridcolor": "white",
             "linecolor": "white",
             "minorgridcolor": "white",
             "startlinecolor": "#2a3f5f"
            },
            "type": "carpet"
           }
          ],
          "choropleth": [
           {
            "colorbar": {
             "outlinewidth": 0,
             "ticks": ""
            },
            "type": "choropleth"
           }
          ],
          "contour": [
           {
            "colorbar": {
             "outlinewidth": 0,
             "ticks": ""
            },
            "colorscale": [
             [
              0,
              "#0d0887"
             ],
             [
              0.1111111111111111,
              "#46039f"
             ],
             [
              0.2222222222222222,
              "#7201a8"
             ],
             [
              0.3333333333333333,
              "#9c179e"
             ],
             [
              0.4444444444444444,
              "#bd3786"
             ],
             [
              0.5555555555555556,
              "#d8576b"
             ],
             [
              0.6666666666666666,
              "#ed7953"
             ],
             [
              0.7777777777777778,
              "#fb9f3a"
             ],
             [
              0.8888888888888888,
              "#fdca26"
             ],
             [
              1,
              "#f0f921"
             ]
            ],
            "type": "contour"
           }
          ],
          "contourcarpet": [
           {
            "colorbar": {
             "outlinewidth": 0,
             "ticks": ""
            },
            "type": "contourcarpet"
           }
          ],
          "heatmap": [
           {
            "colorbar": {
             "outlinewidth": 0,
             "ticks": ""
            },
            "colorscale": [
             [
              0,
              "#0d0887"
             ],
             [
              0.1111111111111111,
              "#46039f"
             ],
             [
              0.2222222222222222,
              "#7201a8"
             ],
             [
              0.3333333333333333,
              "#9c179e"
             ],
             [
              0.4444444444444444,
              "#bd3786"
             ],
             [
              0.5555555555555556,
              "#d8576b"
             ],
             [
              0.6666666666666666,
              "#ed7953"
             ],
             [
              0.7777777777777778,
              "#fb9f3a"
             ],
             [
              0.8888888888888888,
              "#fdca26"
             ],
             [
              1,
              "#f0f921"
             ]
            ],
            "type": "heatmap"
           }
          ],
          "heatmapgl": [
           {
            "colorbar": {
             "outlinewidth": 0,
             "ticks": ""
            },
            "colorscale": [
             [
              0,
              "#0d0887"
             ],
             [
              0.1111111111111111,
              "#46039f"
             ],
             [
              0.2222222222222222,
              "#7201a8"
             ],
             [
              0.3333333333333333,
              "#9c179e"
             ],
             [
              0.4444444444444444,
              "#bd3786"
             ],
             [
              0.5555555555555556,
              "#d8576b"
             ],
             [
              0.6666666666666666,
              "#ed7953"
             ],
             [
              0.7777777777777778,
              "#fb9f3a"
             ],
             [
              0.8888888888888888,
              "#fdca26"
             ],
             [
              1,
              "#f0f921"
             ]
            ],
            "type": "heatmapgl"
           }
          ],
          "histogram": [
           {
            "marker": {
             "colorbar": {
              "outlinewidth": 0,
              "ticks": ""
             }
            },
            "type": "histogram"
           }
          ],
          "histogram2d": [
           {
            "colorbar": {
             "outlinewidth": 0,
             "ticks": ""
            },
            "colorscale": [
             [
              0,
              "#0d0887"
             ],
             [
              0.1111111111111111,
              "#46039f"
             ],
             [
              0.2222222222222222,
              "#7201a8"
             ],
             [
              0.3333333333333333,
              "#9c179e"
             ],
             [
              0.4444444444444444,
              "#bd3786"
             ],
             [
              0.5555555555555556,
              "#d8576b"
             ],
             [
              0.6666666666666666,
              "#ed7953"
             ],
             [
              0.7777777777777778,
              "#fb9f3a"
             ],
             [
              0.8888888888888888,
              "#fdca26"
             ],
             [
              1,
              "#f0f921"
             ]
            ],
            "type": "histogram2d"
           }
          ],
          "histogram2dcontour": [
           {
            "colorbar": {
             "outlinewidth": 0,
             "ticks": ""
            },
            "colorscale": [
             [
              0,
              "#0d0887"
             ],
             [
              0.1111111111111111,
              "#46039f"
             ],
             [
              0.2222222222222222,
              "#7201a8"
             ],
             [
              0.3333333333333333,
              "#9c179e"
             ],
             [
              0.4444444444444444,
              "#bd3786"
             ],
             [
              0.5555555555555556,
              "#d8576b"
             ],
             [
              0.6666666666666666,
              "#ed7953"
             ],
             [
              0.7777777777777778,
              "#fb9f3a"
             ],
             [
              0.8888888888888888,
              "#fdca26"
             ],
             [
              1,
              "#f0f921"
             ]
            ],
            "type": "histogram2dcontour"
           }
          ],
          "mesh3d": [
           {
            "colorbar": {
             "outlinewidth": 0,
             "ticks": ""
            },
            "type": "mesh3d"
           }
          ],
          "parcoords": [
           {
            "line": {
             "colorbar": {
              "outlinewidth": 0,
              "ticks": ""
             }
            },
            "type": "parcoords"
           }
          ],
          "pie": [
           {
            "automargin": true,
            "type": "pie"
           }
          ],
          "scatter": [
           {
            "marker": {
             "colorbar": {
              "outlinewidth": 0,
              "ticks": ""
             }
            },
            "type": "scatter"
           }
          ],
          "scatter3d": [
           {
            "line": {
             "colorbar": {
              "outlinewidth": 0,
              "ticks": ""
             }
            },
            "marker": {
             "colorbar": {
              "outlinewidth": 0,
              "ticks": ""
             }
            },
            "type": "scatter3d"
           }
          ],
          "scattercarpet": [
           {
            "marker": {
             "colorbar": {
              "outlinewidth": 0,
              "ticks": ""
             }
            },
            "type": "scattercarpet"
           }
          ],
          "scattergeo": [
           {
            "marker": {
             "colorbar": {
              "outlinewidth": 0,
              "ticks": ""
             }
            },
            "type": "scattergeo"
           }
          ],
          "scattergl": [
           {
            "marker": {
             "colorbar": {
              "outlinewidth": 0,
              "ticks": ""
             }
            },
            "type": "scattergl"
           }
          ],
          "scattermapbox": [
           {
            "marker": {
             "colorbar": {
              "outlinewidth": 0,
              "ticks": ""
             }
            },
            "type": "scattermapbox"
           }
          ],
          "scatterpolar": [
           {
            "marker": {
             "colorbar": {
              "outlinewidth": 0,
              "ticks": ""
             }
            },
            "type": "scatterpolar"
           }
          ],
          "scatterpolargl": [
           {
            "marker": {
             "colorbar": {
              "outlinewidth": 0,
              "ticks": ""
             }
            },
            "type": "scatterpolargl"
           }
          ],
          "scatterternary": [
           {
            "marker": {
             "colorbar": {
              "outlinewidth": 0,
              "ticks": ""
             }
            },
            "type": "scatterternary"
           }
          ],
          "surface": [
           {
            "colorbar": {
             "outlinewidth": 0,
             "ticks": ""
            },
            "colorscale": [
             [
              0,
              "#0d0887"
             ],
             [
              0.1111111111111111,
              "#46039f"
             ],
             [
              0.2222222222222222,
              "#7201a8"
             ],
             [
              0.3333333333333333,
              "#9c179e"
             ],
             [
              0.4444444444444444,
              "#bd3786"
             ],
             [
              0.5555555555555556,
              "#d8576b"
             ],
             [
              0.6666666666666666,
              "#ed7953"
             ],
             [
              0.7777777777777778,
              "#fb9f3a"
             ],
             [
              0.8888888888888888,
              "#fdca26"
             ],
             [
              1,
              "#f0f921"
             ]
            ],
            "type": "surface"
           }
          ],
          "table": [
           {
            "cells": {
             "fill": {
              "color": "#EBF0F8"
             },
             "line": {
              "color": "white"
             }
            },
            "header": {
             "fill": {
              "color": "#C8D4E3"
             },
             "line": {
              "color": "white"
             }
            },
            "type": "table"
           }
          ]
         },
         "layout": {
          "annotationdefaults": {
           "arrowcolor": "#2a3f5f",
           "arrowhead": 0,
           "arrowwidth": 1
          },
          "autotypenumbers": "strict",
          "coloraxis": {
           "colorbar": {
            "outlinewidth": 0,
            "ticks": ""
           }
          },
          "colorscale": {
           "diverging": [
            [
             0,
             "#8e0152"
            ],
            [
             0.1,
             "#c51b7d"
            ],
            [
             0.2,
             "#de77ae"
            ],
            [
             0.3,
             "#f1b6da"
            ],
            [
             0.4,
             "#fde0ef"
            ],
            [
             0.5,
             "#f7f7f7"
            ],
            [
             0.6,
             "#e6f5d0"
            ],
            [
             0.7,
             "#b8e186"
            ],
            [
             0.8,
             "#7fbc41"
            ],
            [
             0.9,
             "#4d9221"
            ],
            [
             1,
             "#276419"
            ]
           ],
           "sequential": [
            [
             0,
             "#0d0887"
            ],
            [
             0.1111111111111111,
             "#46039f"
            ],
            [
             0.2222222222222222,
             "#7201a8"
            ],
            [
             0.3333333333333333,
             "#9c179e"
            ],
            [
             0.4444444444444444,
             "#bd3786"
            ],
            [
             0.5555555555555556,
             "#d8576b"
            ],
            [
             0.6666666666666666,
             "#ed7953"
            ],
            [
             0.7777777777777778,
             "#fb9f3a"
            ],
            [
             0.8888888888888888,
             "#fdca26"
            ],
            [
             1,
             "#f0f921"
            ]
           ],
           "sequentialminus": [
            [
             0,
             "#0d0887"
            ],
            [
             0.1111111111111111,
             "#46039f"
            ],
            [
             0.2222222222222222,
             "#7201a8"
            ],
            [
             0.3333333333333333,
             "#9c179e"
            ],
            [
             0.4444444444444444,
             "#bd3786"
            ],
            [
             0.5555555555555556,
             "#d8576b"
            ],
            [
             0.6666666666666666,
             "#ed7953"
            ],
            [
             0.7777777777777778,
             "#fb9f3a"
            ],
            [
             0.8888888888888888,
             "#fdca26"
            ],
            [
             1,
             "#f0f921"
            ]
           ]
          },
          "colorway": [
           "#636efa",
           "#EF553B",
           "#00cc96",
           "#ab63fa",
           "#FFA15A",
           "#19d3f3",
           "#FF6692",
           "#B6E880",
           "#FF97FF",
           "#FECB52"
          ],
          "font": {
           "color": "#2a3f5f"
          },
          "geo": {
           "bgcolor": "white",
           "lakecolor": "white",
           "landcolor": "#E5ECF6",
           "showlakes": true,
           "showland": true,
           "subunitcolor": "white"
          },
          "hoverlabel": {
           "align": "left"
          },
          "hovermode": "closest",
          "mapbox": {
           "style": "light"
          },
          "paper_bgcolor": "white",
          "plot_bgcolor": "#E5ECF6",
          "polar": {
           "angularaxis": {
            "gridcolor": "white",
            "linecolor": "white",
            "ticks": ""
           },
           "bgcolor": "#E5ECF6",
           "radialaxis": {
            "gridcolor": "white",
            "linecolor": "white",
            "ticks": ""
           }
          },
          "scene": {
           "xaxis": {
            "backgroundcolor": "#E5ECF6",
            "gridcolor": "white",
            "gridwidth": 2,
            "linecolor": "white",
            "showbackground": true,
            "ticks": "",
            "zerolinecolor": "white"
           },
           "yaxis": {
            "backgroundcolor": "#E5ECF6",
            "gridcolor": "white",
            "gridwidth": 2,
            "linecolor": "white",
            "showbackground": true,
            "ticks": "",
            "zerolinecolor": "white"
           },
           "zaxis": {
            "backgroundcolor": "#E5ECF6",
            "gridcolor": "white",
            "gridwidth": 2,
            "linecolor": "white",
            "showbackground": true,
            "ticks": "",
            "zerolinecolor": "white"
           }
          },
          "shapedefaults": {
           "line": {
            "color": "#2a3f5f"
           }
          },
          "ternary": {
           "aaxis": {
            "gridcolor": "white",
            "linecolor": "white",
            "ticks": ""
           },
           "baxis": {
            "gridcolor": "white",
            "linecolor": "white",
            "ticks": ""
           },
           "bgcolor": "#E5ECF6",
           "caxis": {
            "gridcolor": "white",
            "linecolor": "white",
            "ticks": ""
           }
          },
          "title": {
           "x": 0.05
          },
          "xaxis": {
           "automargin": true,
           "gridcolor": "white",
           "linecolor": "white",
           "ticks": "",
           "title": {
            "standoff": 15
           },
           "zerolinecolor": "white",
           "zerolinewidth": 2
          },
          "yaxis": {
           "automargin": true,
           "gridcolor": "white",
           "linecolor": "white",
           "ticks": "",
           "title": {
            "standoff": 15
           },
           "zerolinecolor": "white",
           "zerolinewidth": 2
          }
         }
        }
       }
      },
      "text/html": [
       "<div>                            <div id=\"b0d28ece-fe4b-4b54-a4b0-8bedf1f38b70\" class=\"plotly-graph-div\" style=\"height:525px; width:100%;\"></div>            <script type=\"text/javascript\">                require([\"plotly\"], function(Plotly) {                    window.PLOTLYENV=window.PLOTLYENV || {};                                    if (document.getElementById(\"b0d28ece-fe4b-4b54-a4b0-8bedf1f38b70\")) {                    Plotly.newPlot(                        \"b0d28ece-fe4b-4b54-a4b0-8bedf1f38b70\",                        [{\"coloraxis\": \"coloraxis\", \"geo\": \"geo\", \"hovertemplate\": \"name=%{location}<br>pop_est=%{z}<extra></extra>\", \"locations\": [\"Brazil\", \"Colombia\", \"Argentina\", \"China\", \"India\", \"Indonesia\", \"Russia\", \"Germany\", \"France\", \"Nigeria\", \"Ethiopia\", \"Egypt\", \"Australia\", \"Papua New Guinea\", \"New Zealand\", \"United States of America\", \"Mexico\", \"Canada\"], \"name\": \"\", \"type\": \"choropleth\", \"z\": [207353391, 47698524, 44293293, 1379302771, 1281935911, 260580739, 142257519, 80594017, 67106161, 190632261, 105350020, 97041072, 23232413, 6909701, 4510327, 326625791, 124574795, 35623680]}],                        {\"coloraxis\": {\"cmax\": 12, \"cmin\": 0, \"colorbar\": {\"title\": {\"text\": \"pop_est\"}}, \"colorscale\": [[0.0, \"#440154\"], [0.1111111111111111, \"#482878\"], [0.2222222222222222, \"#3e4989\"], [0.3333333333333333, \"#31688e\"], [0.4444444444444444, \"#26828e\"], [0.5555555555555556, \"#1f9e89\"], [0.6666666666666666, \"#35b779\"], [0.7777777777777778, \"#6ece58\"], [0.8888888888888888, \"#b5de2b\"], [1.0, \"#fde725\"]]}, \"geo\": {\"center\": {}, \"domain\": {\"x\": [0.0, 1.0], \"y\": [0.0, 1.0]}}, \"legend\": {\"tracegroupgap\": 0}, \"margin\": {\"t\": 60}, \"template\": {\"data\": {\"bar\": [{\"error_x\": {\"color\": \"#2a3f5f\"}, \"error_y\": {\"color\": \"#2a3f5f\"}, \"marker\": {\"line\": {\"color\": \"#E5ECF6\", \"width\": 0.5}}, \"type\": \"bar\"}], \"barpolar\": [{\"marker\": {\"line\": {\"color\": \"#E5ECF6\", \"width\": 0.5}}, \"type\": \"barpolar\"}], \"carpet\": [{\"aaxis\": {\"endlinecolor\": \"#2a3f5f\", \"gridcolor\": \"white\", \"linecolor\": \"white\", \"minorgridcolor\": \"white\", \"startlinecolor\": \"#2a3f5f\"}, \"baxis\": {\"endlinecolor\": \"#2a3f5f\", \"gridcolor\": \"white\", \"linecolor\": \"white\", \"minorgridcolor\": \"white\", \"startlinecolor\": \"#2a3f5f\"}, \"type\": \"carpet\"}], \"choropleth\": [{\"colorbar\": {\"outlinewidth\": 0, \"ticks\": \"\"}, \"type\": \"choropleth\"}], \"contour\": [{\"colorbar\": {\"outlinewidth\": 0, \"ticks\": \"\"}, \"colorscale\": [[0.0, \"#0d0887\"], [0.1111111111111111, \"#46039f\"], [0.2222222222222222, \"#7201a8\"], [0.3333333333333333, \"#9c179e\"], [0.4444444444444444, \"#bd3786\"], [0.5555555555555556, \"#d8576b\"], [0.6666666666666666, \"#ed7953\"], [0.7777777777777778, \"#fb9f3a\"], [0.8888888888888888, \"#fdca26\"], [1.0, \"#f0f921\"]], \"type\": \"contour\"}], \"contourcarpet\": [{\"colorbar\": {\"outlinewidth\": 0, \"ticks\": \"\"}, \"type\": \"contourcarpet\"}], \"heatmap\": [{\"colorbar\": {\"outlinewidth\": 0, \"ticks\": \"\"}, \"colorscale\": [[0.0, \"#0d0887\"], [0.1111111111111111, \"#46039f\"], [0.2222222222222222, \"#7201a8\"], [0.3333333333333333, \"#9c179e\"], [0.4444444444444444, \"#bd3786\"], [0.5555555555555556, \"#d8576b\"], [0.6666666666666666, \"#ed7953\"], [0.7777777777777778, \"#fb9f3a\"], [0.8888888888888888, \"#fdca26\"], [1.0, \"#f0f921\"]], \"type\": \"heatmap\"}], \"heatmapgl\": [{\"colorbar\": {\"outlinewidth\": 0, \"ticks\": \"\"}, \"colorscale\": [[0.0, \"#0d0887\"], [0.1111111111111111, \"#46039f\"], [0.2222222222222222, \"#7201a8\"], [0.3333333333333333, \"#9c179e\"], [0.4444444444444444, \"#bd3786\"], [0.5555555555555556, \"#d8576b\"], [0.6666666666666666, \"#ed7953\"], [0.7777777777777778, \"#fb9f3a\"], [0.8888888888888888, \"#fdca26\"], [1.0, \"#f0f921\"]], \"type\": \"heatmapgl\"}], \"histogram\": [{\"marker\": {\"colorbar\": {\"outlinewidth\": 0, \"ticks\": \"\"}}, \"type\": \"histogram\"}], \"histogram2d\": [{\"colorbar\": {\"outlinewidth\": 0, \"ticks\": \"\"}, \"colorscale\": [[0.0, \"#0d0887\"], [0.1111111111111111, \"#46039f\"], [0.2222222222222222, \"#7201a8\"], [0.3333333333333333, \"#9c179e\"], [0.4444444444444444, \"#bd3786\"], [0.5555555555555556, \"#d8576b\"], [0.6666666666666666, \"#ed7953\"], [0.7777777777777778, \"#fb9f3a\"], [0.8888888888888888, \"#fdca26\"], [1.0, \"#f0f921\"]], \"type\": \"histogram2d\"}], \"histogram2dcontour\": [{\"colorbar\": {\"outlinewidth\": 0, \"ticks\": \"\"}, \"colorscale\": [[0.0, \"#0d0887\"], [0.1111111111111111, \"#46039f\"], [0.2222222222222222, \"#7201a8\"], [0.3333333333333333, \"#9c179e\"], [0.4444444444444444, \"#bd3786\"], [0.5555555555555556, \"#d8576b\"], [0.6666666666666666, \"#ed7953\"], [0.7777777777777778, \"#fb9f3a\"], [0.8888888888888888, \"#fdca26\"], [1.0, \"#f0f921\"]], \"type\": \"histogram2dcontour\"}], \"mesh3d\": [{\"colorbar\": {\"outlinewidth\": 0, \"ticks\": \"\"}, \"type\": \"mesh3d\"}], \"parcoords\": [{\"line\": {\"colorbar\": {\"outlinewidth\": 0, \"ticks\": \"\"}}, \"type\": \"parcoords\"}], \"pie\": [{\"automargin\": true, \"type\": \"pie\"}], \"scatter\": [{\"marker\": {\"colorbar\": {\"outlinewidth\": 0, \"ticks\": \"\"}}, \"type\": \"scatter\"}], \"scatter3d\": [{\"line\": {\"colorbar\": {\"outlinewidth\": 0, \"ticks\": \"\"}}, \"marker\": {\"colorbar\": {\"outlinewidth\": 0, \"ticks\": \"\"}}, \"type\": \"scatter3d\"}], \"scattercarpet\": [{\"marker\": {\"colorbar\": {\"outlinewidth\": 0, \"ticks\": \"\"}}, \"type\": \"scattercarpet\"}], \"scattergeo\": [{\"marker\": {\"colorbar\": {\"outlinewidth\": 0, \"ticks\": \"\"}}, \"type\": \"scattergeo\"}], \"scattergl\": [{\"marker\": {\"colorbar\": {\"outlinewidth\": 0, \"ticks\": \"\"}}, \"type\": \"scattergl\"}], \"scattermapbox\": [{\"marker\": {\"colorbar\": {\"outlinewidth\": 0, \"ticks\": \"\"}}, \"type\": \"scattermapbox\"}], \"scatterpolar\": [{\"marker\": {\"colorbar\": {\"outlinewidth\": 0, \"ticks\": \"\"}}, \"type\": \"scatterpolar\"}], \"scatterpolargl\": [{\"marker\": {\"colorbar\": {\"outlinewidth\": 0, \"ticks\": \"\"}}, \"type\": \"scatterpolargl\"}], \"scatterternary\": [{\"marker\": {\"colorbar\": {\"outlinewidth\": 0, \"ticks\": \"\"}}, \"type\": \"scatterternary\"}], \"surface\": [{\"colorbar\": {\"outlinewidth\": 0, \"ticks\": \"\"}, \"colorscale\": [[0.0, \"#0d0887\"], [0.1111111111111111, \"#46039f\"], [0.2222222222222222, \"#7201a8\"], [0.3333333333333333, \"#9c179e\"], [0.4444444444444444, \"#bd3786\"], [0.5555555555555556, \"#d8576b\"], [0.6666666666666666, \"#ed7953\"], [0.7777777777777778, \"#fb9f3a\"], [0.8888888888888888, \"#fdca26\"], [1.0, \"#f0f921\"]], \"type\": \"surface\"}], \"table\": [{\"cells\": {\"fill\": {\"color\": \"#EBF0F8\"}, \"line\": {\"color\": \"white\"}}, \"header\": {\"fill\": {\"color\": \"#C8D4E3\"}, \"line\": {\"color\": \"white\"}}, \"type\": \"table\"}]}, \"layout\": {\"annotationdefaults\": {\"arrowcolor\": \"#2a3f5f\", \"arrowhead\": 0, \"arrowwidth\": 1}, \"autotypenumbers\": \"strict\", \"coloraxis\": {\"colorbar\": {\"outlinewidth\": 0, \"ticks\": \"\"}}, \"colorscale\": {\"diverging\": [[0, \"#8e0152\"], [0.1, \"#c51b7d\"], [0.2, \"#de77ae\"], [0.3, \"#f1b6da\"], [0.4, \"#fde0ef\"], [0.5, \"#f7f7f7\"], [0.6, \"#e6f5d0\"], [0.7, \"#b8e186\"], [0.8, \"#7fbc41\"], [0.9, \"#4d9221\"], [1, \"#276419\"]], \"sequential\": [[0.0, \"#0d0887\"], [0.1111111111111111, \"#46039f\"], [0.2222222222222222, \"#7201a8\"], [0.3333333333333333, \"#9c179e\"], [0.4444444444444444, \"#bd3786\"], [0.5555555555555556, \"#d8576b\"], [0.6666666666666666, \"#ed7953\"], [0.7777777777777778, \"#fb9f3a\"], [0.8888888888888888, \"#fdca26\"], [1.0, \"#f0f921\"]], \"sequentialminus\": [[0.0, \"#0d0887\"], [0.1111111111111111, \"#46039f\"], [0.2222222222222222, \"#7201a8\"], [0.3333333333333333, \"#9c179e\"], [0.4444444444444444, \"#bd3786\"], [0.5555555555555556, \"#d8576b\"], [0.6666666666666666, \"#ed7953\"], [0.7777777777777778, \"#fb9f3a\"], [0.8888888888888888, \"#fdca26\"], [1.0, \"#f0f921\"]]}, \"colorway\": [\"#636efa\", \"#EF553B\", \"#00cc96\", \"#ab63fa\", \"#FFA15A\", \"#19d3f3\", \"#FF6692\", \"#B6E880\", \"#FF97FF\", \"#FECB52\"], \"font\": {\"color\": \"#2a3f5f\"}, \"geo\": {\"bgcolor\": \"white\", \"lakecolor\": \"white\", \"landcolor\": \"#E5ECF6\", \"showlakes\": true, \"showland\": true, \"subunitcolor\": \"white\"}, \"hoverlabel\": {\"align\": \"left\"}, \"hovermode\": \"closest\", \"mapbox\": {\"style\": \"light\"}, \"paper_bgcolor\": \"white\", \"plot_bgcolor\": \"#E5ECF6\", \"polar\": {\"angularaxis\": {\"gridcolor\": \"white\", \"linecolor\": \"white\", \"ticks\": \"\"}, \"bgcolor\": \"#E5ECF6\", \"radialaxis\": {\"gridcolor\": \"white\", \"linecolor\": \"white\", \"ticks\": \"\"}}, \"scene\": {\"xaxis\": {\"backgroundcolor\": \"#E5ECF6\", \"gridcolor\": \"white\", \"gridwidth\": 2, \"linecolor\": \"white\", \"showbackground\": true, \"ticks\": \"\", \"zerolinecolor\": \"white\"}, \"yaxis\": {\"backgroundcolor\": \"#E5ECF6\", \"gridcolor\": \"white\", \"gridwidth\": 2, \"linecolor\": \"white\", \"showbackground\": true, \"ticks\": \"\", \"zerolinecolor\": \"white\"}, \"zaxis\": {\"backgroundcolor\": \"#E5ECF6\", \"gridcolor\": \"white\", \"gridwidth\": 2, \"linecolor\": \"white\", \"showbackground\": true, \"ticks\": \"\", \"zerolinecolor\": \"white\"}}, \"shapedefaults\": {\"line\": {\"color\": \"#2a3f5f\"}}, \"ternary\": {\"aaxis\": {\"gridcolor\": \"white\", \"linecolor\": \"white\", \"ticks\": \"\"}, \"baxis\": {\"gridcolor\": \"white\", \"linecolor\": \"white\", \"ticks\": \"\"}, \"bgcolor\": \"#E5ECF6\", \"caxis\": {\"gridcolor\": \"white\", \"linecolor\": \"white\", \"ticks\": \"\"}}, \"title\": {\"x\": 0.05}, \"xaxis\": {\"automargin\": true, \"gridcolor\": \"white\", \"linecolor\": \"white\", \"ticks\": \"\", \"title\": {\"standoff\": 15}, \"zerolinecolor\": \"white\", \"zerolinewidth\": 2}, \"yaxis\": {\"automargin\": true, \"gridcolor\": \"white\", \"linecolor\": \"white\", \"ticks\": \"\", \"title\": {\"standoff\": 15}, \"zerolinecolor\": \"white\", \"zerolinewidth\": 2}}}},                        {\"responsive\": true}                    ).then(function(){\n",
       "                            \n",
       "var gd = document.getElementById('b0d28ece-fe4b-4b54-a4b0-8bedf1f38b70');\n",
       "var x = new MutationObserver(function (mutations, observer) {{\n",
       "        var display = window.getComputedStyle(gd).display;\n",
       "        if (!display || display === 'none') {{\n",
       "            console.log([gd, 'removed!']);\n",
       "            Plotly.purge(gd);\n",
       "            observer.disconnect();\n",
       "        }}\n",
       "}});\n",
       "\n",
       "// Listen for the removal of the full notebook cells\n",
       "var notebookContainer = gd.closest('#notebook-container');\n",
       "if (notebookContainer) {{\n",
       "    x.observe(notebookContainer, {childList: true});\n",
       "}}\n",
       "\n",
       "// Listen for the clearing of the current output cell\n",
       "var outputEl = gd.closest('.output');\n",
       "if (outputEl) {{\n",
       "    x.observe(outputEl, {childList: true});\n",
       "}}\n",
       "\n",
       "                        })                };                });            </script>        </div>"
      ]
     },
     "metadata": {},
     "output_type": "display_data"
    }
   ],
   "source": [
    "fig = px.choropleth(world_filtered, locations='name', color='pop_est',\n",
    "                           color_continuous_scale=\"Viridis\",\n",
    "                           range_color=(0, 12))\n",
    "fig.show()"
   ]
=======
=======
>>>>>>> 217dce0bf5a37b2dc12beba9a72847278135c61e
=======
>>>>>>> 217dce0bf5a37b2dc12beba9a72847278135c61e
=======
>>>>>>> 217dce0bf5a37b2dc12beba9a72847278135c61e
   "execution_count": null,
   "metadata": {},
   "outputs": [],
   "source": []
<<<<<<< HEAD
<<<<<<< HEAD
<<<<<<< HEAD
>>>>>>> 217dce0bf5a37b2dc12beba9a72847278135c61e
=======
>>>>>>> 217dce0bf5a37b2dc12beba9a72847278135c61e
=======
>>>>>>> 217dce0bf5a37b2dc12beba9a72847278135c61e
=======
>>>>>>> 217dce0bf5a37b2dc12beba9a72847278135c61e
  },
  {
   "cell_type": "code",
   "execution_count": null,
   "metadata": {},
   "outputs": [],
   "source": []
  },
  {
   "cell_type": "code",
   "execution_count": null,
   "metadata": {},
   "outputs": [],
   "source": []
  },
  {
   "cell_type": "markdown",
   "metadata": {},
   "source": [
    "-----------\n",
    "## Part II: More Geopandas\n",
    "\n",
    "In Geopandas:\n",
    "\n",
    "* add New York, Berlin, Paris, Toronto, Calgary, Tokyo to the map you have created before\n",
    "    * to get geometry of these cities use the function, **gpd.tools.geocode**(['New York', 'Berlin', 'Paris','Toronto', 'Calgary', 'Tokyo'])\n",
    "    * if you do not have the geopy library instaled, install it with the following command **in the jupyter notebook cell** `!pip install geopy` "
   ]
  },
  {
   "cell_type": "code",
<<<<<<< HEAD
<<<<<<< HEAD
<<<<<<< HEAD
<<<<<<< HEAD
   "execution_count": 37,
=======
   "execution_count": null,
>>>>>>> 217dce0bf5a37b2dc12beba9a72847278135c61e
=======
   "execution_count": null,
>>>>>>> 217dce0bf5a37b2dc12beba9a72847278135c61e
=======
   "execution_count": null,
>>>>>>> 217dce0bf5a37b2dc12beba9a72847278135c61e
=======
   "execution_count": null,
>>>>>>> 217dce0bf5a37b2dc12beba9a72847278135c61e
   "metadata": {
    "ExecuteTime": {
     "end_time": "2020-04-23T18:44:34.757007Z",
     "start_time": "2020-04-23T18:44:34.752365Z"
    }
   },
<<<<<<< HEAD
<<<<<<< HEAD
<<<<<<< HEAD
<<<<<<< HEAD
   "outputs": [
    {
     "ename": "GeocoderUnavailable",
     "evalue": "HTTPSConnectionPool(host='www.geocode.farm', port=443): Max retries exceeded with url: /v3/json/forward/?addr=New+York (Caused by ReadTimeoutError(\"HTTPSConnectionPool(host='www.geocode.farm', port=443): Read timed out. (read timeout=1)\"))",
     "output_type": "error",
     "traceback": [
      "\u001b[1;31m---------------------------------------------------------------------------\u001b[0m",
      "\u001b[1;31mtimeout\u001b[0m                                   Traceback (most recent call last)",
      "\u001b[1;32mD:\\anaconda3\\lib\\site-packages\\urllib3\\connectionpool.py\u001b[0m in \u001b[0;36m_make_request\u001b[1;34m(self, conn, method, url, timeout, chunked, **httplib_request_kw)\u001b[0m\n\u001b[0;32m    425\u001b[0m                     \u001b[1;31m# Otherwise it looks like a bug in the code.\u001b[0m\u001b[1;33m\u001b[0m\u001b[1;33m\u001b[0m\u001b[1;33m\u001b[0m\u001b[0m\n\u001b[1;32m--> 426\u001b[1;33m                     \u001b[0msix\u001b[0m\u001b[1;33m.\u001b[0m\u001b[0mraise_from\u001b[0m\u001b[1;33m(\u001b[0m\u001b[0me\u001b[0m\u001b[1;33m,\u001b[0m \u001b[1;32mNone\u001b[0m\u001b[1;33m)\u001b[0m\u001b[1;33m\u001b[0m\u001b[1;33m\u001b[0m\u001b[0m\n\u001b[0m\u001b[0;32m    427\u001b[0m         \u001b[1;32mexcept\u001b[0m \u001b[1;33m(\u001b[0m\u001b[0mSocketTimeout\u001b[0m\u001b[1;33m,\u001b[0m \u001b[0mBaseSSLError\u001b[0m\u001b[1;33m,\u001b[0m \u001b[0mSocketError\u001b[0m\u001b[1;33m)\u001b[0m \u001b[1;32mas\u001b[0m \u001b[0me\u001b[0m\u001b[1;33m:\u001b[0m\u001b[1;33m\u001b[0m\u001b[1;33m\u001b[0m\u001b[0m\n",
      "\u001b[1;32mD:\\anaconda3\\lib\\site-packages\\urllib3\\packages\\six.py\u001b[0m in \u001b[0;36mraise_from\u001b[1;34m(value, from_value)\u001b[0m\n",
      "\u001b[1;32mD:\\anaconda3\\lib\\site-packages\\urllib3\\connectionpool.py\u001b[0m in \u001b[0;36m_make_request\u001b[1;34m(self, conn, method, url, timeout, chunked, **httplib_request_kw)\u001b[0m\n\u001b[0;32m    420\u001b[0m                 \u001b[1;32mtry\u001b[0m\u001b[1;33m:\u001b[0m\u001b[1;33m\u001b[0m\u001b[1;33m\u001b[0m\u001b[0m\n\u001b[1;32m--> 421\u001b[1;33m                     \u001b[0mhttplib_response\u001b[0m \u001b[1;33m=\u001b[0m \u001b[0mconn\u001b[0m\u001b[1;33m.\u001b[0m\u001b[0mgetresponse\u001b[0m\u001b[1;33m(\u001b[0m\u001b[1;33m)\u001b[0m\u001b[1;33m\u001b[0m\u001b[1;33m\u001b[0m\u001b[0m\n\u001b[0m\u001b[0;32m    422\u001b[0m                 \u001b[1;32mexcept\u001b[0m \u001b[0mBaseException\u001b[0m \u001b[1;32mas\u001b[0m \u001b[0me\u001b[0m\u001b[1;33m:\u001b[0m\u001b[1;33m\u001b[0m\u001b[1;33m\u001b[0m\u001b[0m\n",
      "\u001b[1;32mD:\\anaconda3\\lib\\http\\client.py\u001b[0m in \u001b[0;36mgetresponse\u001b[1;34m(self)\u001b[0m\n\u001b[0;32m   1346\u001b[0m             \u001b[1;32mtry\u001b[0m\u001b[1;33m:\u001b[0m\u001b[1;33m\u001b[0m\u001b[1;33m\u001b[0m\u001b[0m\n\u001b[1;32m-> 1347\u001b[1;33m                 \u001b[0mresponse\u001b[0m\u001b[1;33m.\u001b[0m\u001b[0mbegin\u001b[0m\u001b[1;33m(\u001b[0m\u001b[1;33m)\u001b[0m\u001b[1;33m\u001b[0m\u001b[1;33m\u001b[0m\u001b[0m\n\u001b[0m\u001b[0;32m   1348\u001b[0m             \u001b[1;32mexcept\u001b[0m \u001b[0mConnectionError\u001b[0m\u001b[1;33m:\u001b[0m\u001b[1;33m\u001b[0m\u001b[1;33m\u001b[0m\u001b[0m\n",
      "\u001b[1;32mD:\\anaconda3\\lib\\http\\client.py\u001b[0m in \u001b[0;36mbegin\u001b[1;34m(self)\u001b[0m\n\u001b[0;32m    306\u001b[0m         \u001b[1;32mwhile\u001b[0m \u001b[1;32mTrue\u001b[0m\u001b[1;33m:\u001b[0m\u001b[1;33m\u001b[0m\u001b[1;33m\u001b[0m\u001b[0m\n\u001b[1;32m--> 307\u001b[1;33m             \u001b[0mversion\u001b[0m\u001b[1;33m,\u001b[0m \u001b[0mstatus\u001b[0m\u001b[1;33m,\u001b[0m \u001b[0mreason\u001b[0m \u001b[1;33m=\u001b[0m \u001b[0mself\u001b[0m\u001b[1;33m.\u001b[0m\u001b[0m_read_status\u001b[0m\u001b[1;33m(\u001b[0m\u001b[1;33m)\u001b[0m\u001b[1;33m\u001b[0m\u001b[1;33m\u001b[0m\u001b[0m\n\u001b[0m\u001b[0;32m    308\u001b[0m             \u001b[1;32mif\u001b[0m \u001b[0mstatus\u001b[0m \u001b[1;33m!=\u001b[0m \u001b[0mCONTINUE\u001b[0m\u001b[1;33m:\u001b[0m\u001b[1;33m\u001b[0m\u001b[1;33m\u001b[0m\u001b[0m\n",
      "\u001b[1;32mD:\\anaconda3\\lib\\http\\client.py\u001b[0m in \u001b[0;36m_read_status\u001b[1;34m(self)\u001b[0m\n\u001b[0;32m    267\u001b[0m     \u001b[1;32mdef\u001b[0m \u001b[0m_read_status\u001b[0m\u001b[1;33m(\u001b[0m\u001b[0mself\u001b[0m\u001b[1;33m)\u001b[0m\u001b[1;33m:\u001b[0m\u001b[1;33m\u001b[0m\u001b[1;33m\u001b[0m\u001b[0m\n\u001b[1;32m--> 268\u001b[1;33m         \u001b[0mline\u001b[0m \u001b[1;33m=\u001b[0m \u001b[0mstr\u001b[0m\u001b[1;33m(\u001b[0m\u001b[0mself\u001b[0m\u001b[1;33m.\u001b[0m\u001b[0mfp\u001b[0m\u001b[1;33m.\u001b[0m\u001b[0mreadline\u001b[0m\u001b[1;33m(\u001b[0m\u001b[0m_MAXLINE\u001b[0m \u001b[1;33m+\u001b[0m \u001b[1;36m1\u001b[0m\u001b[1;33m)\u001b[0m\u001b[1;33m,\u001b[0m \u001b[1;34m\"iso-8859-1\"\u001b[0m\u001b[1;33m)\u001b[0m\u001b[1;33m\u001b[0m\u001b[1;33m\u001b[0m\u001b[0m\n\u001b[0m\u001b[0;32m    269\u001b[0m         \u001b[1;32mif\u001b[0m \u001b[0mlen\u001b[0m\u001b[1;33m(\u001b[0m\u001b[0mline\u001b[0m\u001b[1;33m)\u001b[0m \u001b[1;33m>\u001b[0m \u001b[0m_MAXLINE\u001b[0m\u001b[1;33m:\u001b[0m\u001b[1;33m\u001b[0m\u001b[1;33m\u001b[0m\u001b[0m\n",
      "\u001b[1;32mD:\\anaconda3\\lib\\socket.py\u001b[0m in \u001b[0;36mreadinto\u001b[1;34m(self, b)\u001b[0m\n\u001b[0;32m    668\u001b[0m             \u001b[1;32mtry\u001b[0m\u001b[1;33m:\u001b[0m\u001b[1;33m\u001b[0m\u001b[1;33m\u001b[0m\u001b[0m\n\u001b[1;32m--> 669\u001b[1;33m                 \u001b[1;32mreturn\u001b[0m \u001b[0mself\u001b[0m\u001b[1;33m.\u001b[0m\u001b[0m_sock\u001b[0m\u001b[1;33m.\u001b[0m\u001b[0mrecv_into\u001b[0m\u001b[1;33m(\u001b[0m\u001b[0mb\u001b[0m\u001b[1;33m)\u001b[0m\u001b[1;33m\u001b[0m\u001b[1;33m\u001b[0m\u001b[0m\n\u001b[0m\u001b[0;32m    670\u001b[0m             \u001b[1;32mexcept\u001b[0m \u001b[0mtimeout\u001b[0m\u001b[1;33m:\u001b[0m\u001b[1;33m\u001b[0m\u001b[1;33m\u001b[0m\u001b[0m\n",
      "\u001b[1;32mD:\\anaconda3\\lib\\site-packages\\urllib3\\contrib\\pyopenssl.py\u001b[0m in \u001b[0;36mrecv_into\u001b[1;34m(self, *args, **kwargs)\u001b[0m\n\u001b[0;32m    325\u001b[0m             \u001b[1;32mif\u001b[0m \u001b[1;32mnot\u001b[0m \u001b[0mutil\u001b[0m\u001b[1;33m.\u001b[0m\u001b[0mwait_for_read\u001b[0m\u001b[1;33m(\u001b[0m\u001b[0mself\u001b[0m\u001b[1;33m.\u001b[0m\u001b[0msocket\u001b[0m\u001b[1;33m,\u001b[0m \u001b[0mself\u001b[0m\u001b[1;33m.\u001b[0m\u001b[0msocket\u001b[0m\u001b[1;33m.\u001b[0m\u001b[0mgettimeout\u001b[0m\u001b[1;33m(\u001b[0m\u001b[1;33m)\u001b[0m\u001b[1;33m)\u001b[0m\u001b[1;33m:\u001b[0m\u001b[1;33m\u001b[0m\u001b[1;33m\u001b[0m\u001b[0m\n\u001b[1;32m--> 326\u001b[1;33m                 \u001b[1;32mraise\u001b[0m \u001b[0mtimeout\u001b[0m\u001b[1;33m(\u001b[0m\u001b[1;34m\"The read operation timed out\"\u001b[0m\u001b[1;33m)\u001b[0m\u001b[1;33m\u001b[0m\u001b[1;33m\u001b[0m\u001b[0m\n\u001b[0m\u001b[0;32m    327\u001b[0m             \u001b[1;32melse\u001b[0m\u001b[1;33m:\u001b[0m\u001b[1;33m\u001b[0m\u001b[1;33m\u001b[0m\u001b[0m\n",
      "\u001b[1;31mtimeout\u001b[0m: The read operation timed out",
      "\nDuring handling of the above exception, another exception occurred:\n",
      "\u001b[1;31mReadTimeoutError\u001b[0m                          Traceback (most recent call last)",
      "\u001b[1;32mD:\\anaconda3\\lib\\site-packages\\urllib3\\connectionpool.py\u001b[0m in \u001b[0;36murlopen\u001b[1;34m(self, method, url, body, headers, retries, redirect, assert_same_host, timeout, pool_timeout, release_conn, chunked, body_pos, **response_kw)\u001b[0m\n\u001b[0;32m    669\u001b[0m             \u001b[1;31m# Make the request on the httplib connection object.\u001b[0m\u001b[1;33m\u001b[0m\u001b[1;33m\u001b[0m\u001b[1;33m\u001b[0m\u001b[0m\n\u001b[1;32m--> 670\u001b[1;33m             httplib_response = self._make_request(\n\u001b[0m\u001b[0;32m    671\u001b[0m                 \u001b[0mconn\u001b[0m\u001b[1;33m,\u001b[0m\u001b[1;33m\u001b[0m\u001b[1;33m\u001b[0m\u001b[0m\n",
      "\u001b[1;32mD:\\anaconda3\\lib\\site-packages\\urllib3\\connectionpool.py\u001b[0m in \u001b[0;36m_make_request\u001b[1;34m(self, conn, method, url, timeout, chunked, **httplib_request_kw)\u001b[0m\n\u001b[0;32m    427\u001b[0m         \u001b[1;32mexcept\u001b[0m \u001b[1;33m(\u001b[0m\u001b[0mSocketTimeout\u001b[0m\u001b[1;33m,\u001b[0m \u001b[0mBaseSSLError\u001b[0m\u001b[1;33m,\u001b[0m \u001b[0mSocketError\u001b[0m\u001b[1;33m)\u001b[0m \u001b[1;32mas\u001b[0m \u001b[0me\u001b[0m\u001b[1;33m:\u001b[0m\u001b[1;33m\u001b[0m\u001b[1;33m\u001b[0m\u001b[0m\n\u001b[1;32m--> 428\u001b[1;33m             \u001b[0mself\u001b[0m\u001b[1;33m.\u001b[0m\u001b[0m_raise_timeout\u001b[0m\u001b[1;33m(\u001b[0m\u001b[0merr\u001b[0m\u001b[1;33m=\u001b[0m\u001b[0me\u001b[0m\u001b[1;33m,\u001b[0m \u001b[0murl\u001b[0m\u001b[1;33m=\u001b[0m\u001b[0murl\u001b[0m\u001b[1;33m,\u001b[0m \u001b[0mtimeout_value\u001b[0m\u001b[1;33m=\u001b[0m\u001b[0mread_timeout\u001b[0m\u001b[1;33m)\u001b[0m\u001b[1;33m\u001b[0m\u001b[1;33m\u001b[0m\u001b[0m\n\u001b[0m\u001b[0;32m    429\u001b[0m             \u001b[1;32mraise\u001b[0m\u001b[1;33m\u001b[0m\u001b[1;33m\u001b[0m\u001b[0m\n",
      "\u001b[1;32mD:\\anaconda3\\lib\\site-packages\\urllib3\\connectionpool.py\u001b[0m in \u001b[0;36m_raise_timeout\u001b[1;34m(self, err, url, timeout_value)\u001b[0m\n\u001b[0;32m    334\u001b[0m         \u001b[1;32mif\u001b[0m \u001b[0misinstance\u001b[0m\u001b[1;33m(\u001b[0m\u001b[0merr\u001b[0m\u001b[1;33m,\u001b[0m \u001b[0mSocketTimeout\u001b[0m\u001b[1;33m)\u001b[0m\u001b[1;33m:\u001b[0m\u001b[1;33m\u001b[0m\u001b[1;33m\u001b[0m\u001b[0m\n\u001b[1;32m--> 335\u001b[1;33m             raise ReadTimeoutError(\n\u001b[0m\u001b[0;32m    336\u001b[0m                 \u001b[0mself\u001b[0m\u001b[1;33m,\u001b[0m \u001b[0murl\u001b[0m\u001b[1;33m,\u001b[0m \u001b[1;34m\"Read timed out. (read timeout=%s)\"\u001b[0m \u001b[1;33m%\u001b[0m \u001b[0mtimeout_value\u001b[0m\u001b[1;33m\u001b[0m\u001b[1;33m\u001b[0m\u001b[0m\n",
      "\u001b[1;31mReadTimeoutError\u001b[0m: HTTPSConnectionPool(host='www.geocode.farm', port=443): Read timed out. (read timeout=1)",
      "\nDuring handling of the above exception, another exception occurred:\n",
      "\u001b[1;31mMaxRetryError\u001b[0m                             Traceback (most recent call last)",
      "\u001b[1;32mD:\\anaconda3\\lib\\site-packages\\requests\\adapters.py\u001b[0m in \u001b[0;36msend\u001b[1;34m(self, request, stream, timeout, verify, cert, proxies)\u001b[0m\n\u001b[0;32m    438\u001b[0m             \u001b[1;32mif\u001b[0m \u001b[1;32mnot\u001b[0m \u001b[0mchunked\u001b[0m\u001b[1;33m:\u001b[0m\u001b[1;33m\u001b[0m\u001b[1;33m\u001b[0m\u001b[0m\n\u001b[1;32m--> 439\u001b[1;33m                 resp = conn.urlopen(\n\u001b[0m\u001b[0;32m    440\u001b[0m                     \u001b[0mmethod\u001b[0m\u001b[1;33m=\u001b[0m\u001b[0mrequest\u001b[0m\u001b[1;33m.\u001b[0m\u001b[0mmethod\u001b[0m\u001b[1;33m,\u001b[0m\u001b[1;33m\u001b[0m\u001b[1;33m\u001b[0m\u001b[0m\n",
      "\u001b[1;32mD:\\anaconda3\\lib\\site-packages\\urllib3\\connectionpool.py\u001b[0m in \u001b[0;36murlopen\u001b[1;34m(self, method, url, body, headers, retries, redirect, assert_same_host, timeout, pool_timeout, release_conn, chunked, body_pos, **response_kw)\u001b[0m\n\u001b[0;32m    753\u001b[0m             )\n\u001b[1;32m--> 754\u001b[1;33m             return self.urlopen(\n\u001b[0m\u001b[0;32m    755\u001b[0m                 \u001b[0mmethod\u001b[0m\u001b[1;33m,\u001b[0m\u001b[1;33m\u001b[0m\u001b[1;33m\u001b[0m\u001b[0m\n",
      "\u001b[1;32mD:\\anaconda3\\lib\\site-packages\\urllib3\\connectionpool.py\u001b[0m in \u001b[0;36murlopen\u001b[1;34m(self, method, url, body, headers, retries, redirect, assert_same_host, timeout, pool_timeout, release_conn, chunked, body_pos, **response_kw)\u001b[0m\n\u001b[0;32m    753\u001b[0m             )\n\u001b[1;32m--> 754\u001b[1;33m             return self.urlopen(\n\u001b[0m\u001b[0;32m    755\u001b[0m                 \u001b[0mmethod\u001b[0m\u001b[1;33m,\u001b[0m\u001b[1;33m\u001b[0m\u001b[1;33m\u001b[0m\u001b[0m\n",
      "\u001b[1;32mD:\\anaconda3\\lib\\site-packages\\urllib3\\connectionpool.py\u001b[0m in \u001b[0;36murlopen\u001b[1;34m(self, method, url, body, headers, retries, redirect, assert_same_host, timeout, pool_timeout, release_conn, chunked, body_pos, **response_kw)\u001b[0m\n\u001b[0;32m    725\u001b[0m \u001b[1;33m\u001b[0m\u001b[0m\n\u001b[1;32m--> 726\u001b[1;33m             retries = retries.increment(\n\u001b[0m\u001b[0;32m    727\u001b[0m                 \u001b[0mmethod\u001b[0m\u001b[1;33m,\u001b[0m \u001b[0murl\u001b[0m\u001b[1;33m,\u001b[0m \u001b[0merror\u001b[0m\u001b[1;33m=\u001b[0m\u001b[0me\u001b[0m\u001b[1;33m,\u001b[0m \u001b[0m_pool\u001b[0m\u001b[1;33m=\u001b[0m\u001b[0mself\u001b[0m\u001b[1;33m,\u001b[0m \u001b[0m_stacktrace\u001b[0m\u001b[1;33m=\u001b[0m\u001b[0msys\u001b[0m\u001b[1;33m.\u001b[0m\u001b[0mexc_info\u001b[0m\u001b[1;33m(\u001b[0m\u001b[1;33m)\u001b[0m\u001b[1;33m[\u001b[0m\u001b[1;36m2\u001b[0m\u001b[1;33m]\u001b[0m\u001b[1;33m\u001b[0m\u001b[1;33m\u001b[0m\u001b[0m\n",
      "\u001b[1;32mD:\\anaconda3\\lib\\site-packages\\urllib3\\util\\retry.py\u001b[0m in \u001b[0;36mincrement\u001b[1;34m(self, method, url, response, error, _pool, _stacktrace)\u001b[0m\n\u001b[0;32m    445\u001b[0m         \u001b[1;32mif\u001b[0m \u001b[0mnew_retry\u001b[0m\u001b[1;33m.\u001b[0m\u001b[0mis_exhausted\u001b[0m\u001b[1;33m(\u001b[0m\u001b[1;33m)\u001b[0m\u001b[1;33m:\u001b[0m\u001b[1;33m\u001b[0m\u001b[1;33m\u001b[0m\u001b[0m\n\u001b[1;32m--> 446\u001b[1;33m             \u001b[1;32mraise\u001b[0m \u001b[0mMaxRetryError\u001b[0m\u001b[1;33m(\u001b[0m\u001b[0m_pool\u001b[0m\u001b[1;33m,\u001b[0m \u001b[0murl\u001b[0m\u001b[1;33m,\u001b[0m \u001b[0merror\u001b[0m \u001b[1;32mor\u001b[0m \u001b[0mResponseError\u001b[0m\u001b[1;33m(\u001b[0m\u001b[0mcause\u001b[0m\u001b[1;33m)\u001b[0m\u001b[1;33m)\u001b[0m\u001b[1;33m\u001b[0m\u001b[1;33m\u001b[0m\u001b[0m\n\u001b[0m\u001b[0;32m    447\u001b[0m \u001b[1;33m\u001b[0m\u001b[0m\n",
      "\u001b[1;31mMaxRetryError\u001b[0m: HTTPSConnectionPool(host='www.geocode.farm', port=443): Max retries exceeded with url: /v3/json/forward/?addr=New+York (Caused by ReadTimeoutError(\"HTTPSConnectionPool(host='www.geocode.farm', port=443): Read timed out. (read timeout=1)\"))",
      "\nDuring handling of the above exception, another exception occurred:\n",
      "\u001b[1;31mConnectionError\u001b[0m                           Traceback (most recent call last)",
      "\u001b[1;32mD:\\anaconda3\\lib\\site-packages\\geopy\\adapters.py\u001b[0m in \u001b[0;36m_request\u001b[1;34m(self, url, timeout, headers)\u001b[0m\n\u001b[0;32m    386\u001b[0m         \u001b[1;32mtry\u001b[0m\u001b[1;33m:\u001b[0m\u001b[1;33m\u001b[0m\u001b[1;33m\u001b[0m\u001b[0m\n\u001b[1;32m--> 387\u001b[1;33m             \u001b[0mresp\u001b[0m \u001b[1;33m=\u001b[0m \u001b[0mself\u001b[0m\u001b[1;33m.\u001b[0m\u001b[0msession\u001b[0m\u001b[1;33m.\u001b[0m\u001b[0mget\u001b[0m\u001b[1;33m(\u001b[0m\u001b[0murl\u001b[0m\u001b[1;33m,\u001b[0m \u001b[0mtimeout\u001b[0m\u001b[1;33m=\u001b[0m\u001b[0mtimeout\u001b[0m\u001b[1;33m,\u001b[0m \u001b[0mheaders\u001b[0m\u001b[1;33m=\u001b[0m\u001b[0mheaders\u001b[0m\u001b[1;33m)\u001b[0m\u001b[1;33m\u001b[0m\u001b[1;33m\u001b[0m\u001b[0m\n\u001b[0m\u001b[0;32m    388\u001b[0m         \u001b[1;32mexcept\u001b[0m \u001b[0mException\u001b[0m \u001b[1;32mas\u001b[0m \u001b[0merror\u001b[0m\u001b[1;33m:\u001b[0m\u001b[1;33m\u001b[0m\u001b[1;33m\u001b[0m\u001b[0m\n",
      "\u001b[1;32mD:\\anaconda3\\lib\\site-packages\\requests\\sessions.py\u001b[0m in \u001b[0;36mget\u001b[1;34m(self, url, **kwargs)\u001b[0m\n\u001b[0;32m    545\u001b[0m         \u001b[0mkwargs\u001b[0m\u001b[1;33m.\u001b[0m\u001b[0msetdefault\u001b[0m\u001b[1;33m(\u001b[0m\u001b[1;34m'allow_redirects'\u001b[0m\u001b[1;33m,\u001b[0m \u001b[1;32mTrue\u001b[0m\u001b[1;33m)\u001b[0m\u001b[1;33m\u001b[0m\u001b[1;33m\u001b[0m\u001b[0m\n\u001b[1;32m--> 546\u001b[1;33m         \u001b[1;32mreturn\u001b[0m \u001b[0mself\u001b[0m\u001b[1;33m.\u001b[0m\u001b[0mrequest\u001b[0m\u001b[1;33m(\u001b[0m\u001b[1;34m'GET'\u001b[0m\u001b[1;33m,\u001b[0m \u001b[0murl\u001b[0m\u001b[1;33m,\u001b[0m \u001b[1;33m**\u001b[0m\u001b[0mkwargs\u001b[0m\u001b[1;33m)\u001b[0m\u001b[1;33m\u001b[0m\u001b[1;33m\u001b[0m\u001b[0m\n\u001b[0m\u001b[0;32m    547\u001b[0m \u001b[1;33m\u001b[0m\u001b[0m\n",
      "\u001b[1;32mD:\\anaconda3\\lib\\site-packages\\requests\\sessions.py\u001b[0m in \u001b[0;36mrequest\u001b[1;34m(self, method, url, params, data, headers, cookies, files, auth, timeout, allow_redirects, proxies, hooks, stream, verify, cert, json)\u001b[0m\n\u001b[0;32m    532\u001b[0m         \u001b[0msend_kwargs\u001b[0m\u001b[1;33m.\u001b[0m\u001b[0mupdate\u001b[0m\u001b[1;33m(\u001b[0m\u001b[0msettings\u001b[0m\u001b[1;33m)\u001b[0m\u001b[1;33m\u001b[0m\u001b[1;33m\u001b[0m\u001b[0m\n\u001b[1;32m--> 533\u001b[1;33m         \u001b[0mresp\u001b[0m \u001b[1;33m=\u001b[0m \u001b[0mself\u001b[0m\u001b[1;33m.\u001b[0m\u001b[0msend\u001b[0m\u001b[1;33m(\u001b[0m\u001b[0mprep\u001b[0m\u001b[1;33m,\u001b[0m \u001b[1;33m**\u001b[0m\u001b[0msend_kwargs\u001b[0m\u001b[1;33m)\u001b[0m\u001b[1;33m\u001b[0m\u001b[1;33m\u001b[0m\u001b[0m\n\u001b[0m\u001b[0;32m    534\u001b[0m \u001b[1;33m\u001b[0m\u001b[0m\n",
      "\u001b[1;32mD:\\anaconda3\\lib\\site-packages\\requests\\sessions.py\u001b[0m in \u001b[0;36msend\u001b[1;34m(self, request, **kwargs)\u001b[0m\n\u001b[0;32m    645\u001b[0m         \u001b[1;31m# Send the request\u001b[0m\u001b[1;33m\u001b[0m\u001b[1;33m\u001b[0m\u001b[1;33m\u001b[0m\u001b[0m\n\u001b[1;32m--> 646\u001b[1;33m         \u001b[0mr\u001b[0m \u001b[1;33m=\u001b[0m \u001b[0madapter\u001b[0m\u001b[1;33m.\u001b[0m\u001b[0msend\u001b[0m\u001b[1;33m(\u001b[0m\u001b[0mrequest\u001b[0m\u001b[1;33m,\u001b[0m \u001b[1;33m**\u001b[0m\u001b[0mkwargs\u001b[0m\u001b[1;33m)\u001b[0m\u001b[1;33m\u001b[0m\u001b[1;33m\u001b[0m\u001b[0m\n\u001b[0m\u001b[0;32m    647\u001b[0m \u001b[1;33m\u001b[0m\u001b[0m\n",
      "\u001b[1;32mD:\\anaconda3\\lib\\site-packages\\requests\\adapters.py\u001b[0m in \u001b[0;36msend\u001b[1;34m(self, request, stream, timeout, verify, cert, proxies)\u001b[0m\n\u001b[0;32m    515\u001b[0m \u001b[1;33m\u001b[0m\u001b[0m\n\u001b[1;32m--> 516\u001b[1;33m             \u001b[1;32mraise\u001b[0m \u001b[0mConnectionError\u001b[0m\u001b[1;33m(\u001b[0m\u001b[0me\u001b[0m\u001b[1;33m,\u001b[0m \u001b[0mrequest\u001b[0m\u001b[1;33m=\u001b[0m\u001b[0mrequest\u001b[0m\u001b[1;33m)\u001b[0m\u001b[1;33m\u001b[0m\u001b[1;33m\u001b[0m\u001b[0m\n\u001b[0m\u001b[0;32m    517\u001b[0m \u001b[1;33m\u001b[0m\u001b[0m\n",
      "\u001b[1;31mConnectionError\u001b[0m: HTTPSConnectionPool(host='www.geocode.farm', port=443): Max retries exceeded with url: /v3/json/forward/?addr=New+York (Caused by ReadTimeoutError(\"HTTPSConnectionPool(host='www.geocode.farm', port=443): Read timed out. (read timeout=1)\"))",
      "\nDuring handling of the above exception, another exception occurred:\n",
      "\u001b[1;31mGeocoderUnavailable\u001b[0m                       Traceback (most recent call last)",
      "\u001b[1;32m<ipython-input-37-e9a21d09ae90>\u001b[0m in \u001b[0;36m<module>\u001b[1;34m\u001b[0m\n\u001b[0;32m      1\u001b[0m \u001b[1;31m# get geometry\u001b[0m\u001b[1;33m\u001b[0m\u001b[1;33m\u001b[0m\u001b[1;33m\u001b[0m\u001b[0m\n\u001b[1;32m----> 2\u001b[1;33m \u001b[0mgpd\u001b[0m\u001b[1;33m.\u001b[0m\u001b[0mtools\u001b[0m\u001b[1;33m.\u001b[0m\u001b[0mgeocode\u001b[0m\u001b[1;33m(\u001b[0m\u001b[1;33m[\u001b[0m\u001b[1;34m'New York'\u001b[0m\u001b[1;33m,\u001b[0m \u001b[1;34m'Berlin'\u001b[0m\u001b[1;33m,\u001b[0m \u001b[1;34m'Paris'\u001b[0m\u001b[1;33m,\u001b[0m\u001b[1;34m'Toronto'\u001b[0m\u001b[1;33m,\u001b[0m \u001b[1;34m'Calgary'\u001b[0m\u001b[1;33m,\u001b[0m \u001b[1;34m'Tokyo'\u001b[0m\u001b[1;33m]\u001b[0m\u001b[1;33m)\u001b[0m\u001b[1;33m\u001b[0m\u001b[1;33m\u001b[0m\u001b[0m\n\u001b[0m\u001b[0;32m      3\u001b[0m \u001b[1;33m\u001b[0m\u001b[0m\n\u001b[0;32m      4\u001b[0m \u001b[1;31m# create figure and axes\u001b[0m\u001b[1;33m\u001b[0m\u001b[1;33m\u001b[0m\u001b[1;33m\u001b[0m\u001b[0m\n\u001b[0;32m      5\u001b[0m \u001b[1;33m\u001b[0m\u001b[0m\n",
      "\u001b[1;32mD:\\anaconda3\\lib\\site-packages\\geopandas\\tools\\geocoding.py\u001b[0m in \u001b[0;36mgeocode\u001b[1;34m(strings, provider, **kwargs)\u001b[0m\n\u001b[0;32m     73\u001b[0m         \u001b[0mthrottle_time\u001b[0m \u001b[1;33m=\u001b[0m \u001b[0m_get_throttle_time\u001b[0m\u001b[1;33m(\u001b[0m\u001b[0mprovider\u001b[0m\u001b[1;33m)\u001b[0m\u001b[1;33m\u001b[0m\u001b[1;33m\u001b[0m\u001b[0m\n\u001b[0;32m     74\u001b[0m \u001b[1;33m\u001b[0m\u001b[0m\n\u001b[1;32m---> 75\u001b[1;33m     \u001b[1;32mreturn\u001b[0m \u001b[0m_query\u001b[0m\u001b[1;33m(\u001b[0m\u001b[0mstrings\u001b[0m\u001b[1;33m,\u001b[0m \u001b[1;32mTrue\u001b[0m\u001b[1;33m,\u001b[0m \u001b[0mprovider\u001b[0m\u001b[1;33m,\u001b[0m \u001b[0mthrottle_time\u001b[0m\u001b[1;33m,\u001b[0m \u001b[1;33m**\u001b[0m\u001b[0mkwargs\u001b[0m\u001b[1;33m)\u001b[0m\u001b[1;33m\u001b[0m\u001b[1;33m\u001b[0m\u001b[0m\n\u001b[0m\u001b[0;32m     76\u001b[0m \u001b[1;33m\u001b[0m\u001b[0m\n\u001b[0;32m     77\u001b[0m \u001b[1;33m\u001b[0m\u001b[0m\n",
      "\u001b[1;32mD:\\anaconda3\\lib\\site-packages\\geopandas\\tools\\geocoding.py\u001b[0m in \u001b[0;36m_query\u001b[1;34m(data, forward, provider, throttle_time, **kwargs)\u001b[0m\n\u001b[0;32m    148\u001b[0m         \u001b[1;32mtry\u001b[0m\u001b[1;33m:\u001b[0m\u001b[1;33m\u001b[0m\u001b[1;33m\u001b[0m\u001b[0m\n\u001b[0;32m    149\u001b[0m             \u001b[1;32mif\u001b[0m \u001b[0mforward\u001b[0m\u001b[1;33m:\u001b[0m\u001b[1;33m\u001b[0m\u001b[1;33m\u001b[0m\u001b[0m\n\u001b[1;32m--> 150\u001b[1;33m                 \u001b[0mresults\u001b[0m\u001b[1;33m[\u001b[0m\u001b[0mi\u001b[0m\u001b[1;33m]\u001b[0m \u001b[1;33m=\u001b[0m \u001b[0mcoder\u001b[0m\u001b[1;33m.\u001b[0m\u001b[0mgeocode\u001b[0m\u001b[1;33m(\u001b[0m\u001b[0ms\u001b[0m\u001b[1;33m)\u001b[0m\u001b[1;33m\u001b[0m\u001b[1;33m\u001b[0m\u001b[0m\n\u001b[0m\u001b[0;32m    151\u001b[0m             \u001b[1;32melse\u001b[0m\u001b[1;33m:\u001b[0m\u001b[1;33m\u001b[0m\u001b[1;33m\u001b[0m\u001b[0m\n\u001b[0;32m    152\u001b[0m                 \u001b[0mresults\u001b[0m\u001b[1;33m[\u001b[0m\u001b[0mi\u001b[0m\u001b[1;33m]\u001b[0m \u001b[1;33m=\u001b[0m \u001b[0mcoder\u001b[0m\u001b[1;33m.\u001b[0m\u001b[0mreverse\u001b[0m\u001b[1;33m(\u001b[0m\u001b[1;33m(\u001b[0m\u001b[0ms\u001b[0m\u001b[1;33m.\u001b[0m\u001b[0my\u001b[0m\u001b[1;33m,\u001b[0m \u001b[0ms\u001b[0m\u001b[1;33m.\u001b[0m\u001b[0mx\u001b[0m\u001b[1;33m)\u001b[0m\u001b[1;33m,\u001b[0m \u001b[0mexactly_one\u001b[0m\u001b[1;33m=\u001b[0m\u001b[1;32mTrue\u001b[0m\u001b[1;33m)\u001b[0m\u001b[1;33m\u001b[0m\u001b[1;33m\u001b[0m\u001b[0m\n",
      "\u001b[1;32mD:\\anaconda3\\lib\\site-packages\\geopy\\geocoders\\geocodefarm.py\u001b[0m in \u001b[0;36mgeocode\u001b[1;34m(self, query, exactly_one, timeout)\u001b[0m\n\u001b[0;32m    103\u001b[0m         \u001b[0mlogger\u001b[0m\u001b[1;33m.\u001b[0m\u001b[0mdebug\u001b[0m\u001b[1;33m(\u001b[0m\u001b[1;34m\"%s.geocode: %s\"\u001b[0m\u001b[1;33m,\u001b[0m \u001b[0mself\u001b[0m\u001b[1;33m.\u001b[0m\u001b[0m__class__\u001b[0m\u001b[1;33m.\u001b[0m\u001b[0m__name__\u001b[0m\u001b[1;33m,\u001b[0m \u001b[0murl\u001b[0m\u001b[1;33m)\u001b[0m\u001b[1;33m\u001b[0m\u001b[1;33m\u001b[0m\u001b[0m\n\u001b[0;32m    104\u001b[0m         \u001b[0mcallback\u001b[0m \u001b[1;33m=\u001b[0m \u001b[0mpartial\u001b[0m\u001b[1;33m(\u001b[0m\u001b[0mself\u001b[0m\u001b[1;33m.\u001b[0m\u001b[0m_parse_json\u001b[0m\u001b[1;33m,\u001b[0m \u001b[0mexactly_one\u001b[0m\u001b[1;33m=\u001b[0m\u001b[0mexactly_one\u001b[0m\u001b[1;33m)\u001b[0m\u001b[1;33m\u001b[0m\u001b[1;33m\u001b[0m\u001b[0m\n\u001b[1;32m--> 105\u001b[1;33m         \u001b[1;32mreturn\u001b[0m \u001b[0mself\u001b[0m\u001b[1;33m.\u001b[0m\u001b[0m_call_geocoder\u001b[0m\u001b[1;33m(\u001b[0m\u001b[0murl\u001b[0m\u001b[1;33m,\u001b[0m \u001b[0mcallback\u001b[0m\u001b[1;33m,\u001b[0m \u001b[0mtimeout\u001b[0m\u001b[1;33m=\u001b[0m\u001b[0mtimeout\u001b[0m\u001b[1;33m)\u001b[0m\u001b[1;33m\u001b[0m\u001b[1;33m\u001b[0m\u001b[0m\n\u001b[0m\u001b[0;32m    106\u001b[0m \u001b[1;33m\u001b[0m\u001b[0m\n\u001b[0;32m    107\u001b[0m     \u001b[1;32mdef\u001b[0m \u001b[0mreverse\u001b[0m\u001b[1;33m(\u001b[0m\u001b[0mself\u001b[0m\u001b[1;33m,\u001b[0m \u001b[0mquery\u001b[0m\u001b[1;33m,\u001b[0m \u001b[1;33m*\u001b[0m\u001b[1;33m,\u001b[0m \u001b[0mexactly_one\u001b[0m\u001b[1;33m=\u001b[0m\u001b[1;32mTrue\u001b[0m\u001b[1;33m,\u001b[0m \u001b[0mtimeout\u001b[0m\u001b[1;33m=\u001b[0m\u001b[0mDEFAULT_SENTINEL\u001b[0m\u001b[1;33m)\u001b[0m\u001b[1;33m:\u001b[0m\u001b[1;33m\u001b[0m\u001b[1;33m\u001b[0m\u001b[0m\n",
      "\u001b[1;32mD:\\anaconda3\\lib\\site-packages\\geopy\\geocoders\\base.py\u001b[0m in \u001b[0;36m_call_geocoder\u001b[1;34m(self, url, callback, timeout, is_json, headers)\u001b[0m\n\u001b[0;32m    358\u001b[0m         \u001b[1;32mtry\u001b[0m\u001b[1;33m:\u001b[0m\u001b[1;33m\u001b[0m\u001b[1;33m\u001b[0m\u001b[0m\n\u001b[0;32m    359\u001b[0m             \u001b[1;32mif\u001b[0m \u001b[0mis_json\u001b[0m\u001b[1;33m:\u001b[0m\u001b[1;33m\u001b[0m\u001b[1;33m\u001b[0m\u001b[0m\n\u001b[1;32m--> 360\u001b[1;33m                 \u001b[0mresult\u001b[0m \u001b[1;33m=\u001b[0m \u001b[0mself\u001b[0m\u001b[1;33m.\u001b[0m\u001b[0madapter\u001b[0m\u001b[1;33m.\u001b[0m\u001b[0mget_json\u001b[0m\u001b[1;33m(\u001b[0m\u001b[0murl\u001b[0m\u001b[1;33m,\u001b[0m \u001b[0mtimeout\u001b[0m\u001b[1;33m=\u001b[0m\u001b[0mtimeout\u001b[0m\u001b[1;33m,\u001b[0m \u001b[0mheaders\u001b[0m\u001b[1;33m=\u001b[0m\u001b[0mreq_headers\u001b[0m\u001b[1;33m)\u001b[0m\u001b[1;33m\u001b[0m\u001b[1;33m\u001b[0m\u001b[0m\n\u001b[0m\u001b[0;32m    361\u001b[0m             \u001b[1;32melse\u001b[0m\u001b[1;33m:\u001b[0m\u001b[1;33m\u001b[0m\u001b[1;33m\u001b[0m\u001b[0m\n\u001b[0;32m    362\u001b[0m                 \u001b[0mresult\u001b[0m \u001b[1;33m=\u001b[0m \u001b[0mself\u001b[0m\u001b[1;33m.\u001b[0m\u001b[0madapter\u001b[0m\u001b[1;33m.\u001b[0m\u001b[0mget_text\u001b[0m\u001b[1;33m(\u001b[0m\u001b[0murl\u001b[0m\u001b[1;33m,\u001b[0m \u001b[0mtimeout\u001b[0m\u001b[1;33m=\u001b[0m\u001b[0mtimeout\u001b[0m\u001b[1;33m,\u001b[0m \u001b[0mheaders\u001b[0m\u001b[1;33m=\u001b[0m\u001b[0mreq_headers\u001b[0m\u001b[1;33m)\u001b[0m\u001b[1;33m\u001b[0m\u001b[1;33m\u001b[0m\u001b[0m\n",
      "\u001b[1;32mD:\\anaconda3\\lib\\site-packages\\geopy\\adapters.py\u001b[0m in \u001b[0;36mget_json\u001b[1;34m(self, url, timeout, headers)\u001b[0m\n\u001b[0;32m    375\u001b[0m \u001b[1;33m\u001b[0m\u001b[0m\n\u001b[0;32m    376\u001b[0m     \u001b[1;32mdef\u001b[0m \u001b[0mget_json\u001b[0m\u001b[1;33m(\u001b[0m\u001b[0mself\u001b[0m\u001b[1;33m,\u001b[0m \u001b[0murl\u001b[0m\u001b[1;33m,\u001b[0m \u001b[1;33m*\u001b[0m\u001b[1;33m,\u001b[0m \u001b[0mtimeout\u001b[0m\u001b[1;33m,\u001b[0m \u001b[0mheaders\u001b[0m\u001b[1;33m)\u001b[0m\u001b[1;33m:\u001b[0m\u001b[1;33m\u001b[0m\u001b[1;33m\u001b[0m\u001b[0m\n\u001b[1;32m--> 377\u001b[1;33m         \u001b[0mresp\u001b[0m \u001b[1;33m=\u001b[0m \u001b[0mself\u001b[0m\u001b[1;33m.\u001b[0m\u001b[0m_request\u001b[0m\u001b[1;33m(\u001b[0m\u001b[0murl\u001b[0m\u001b[1;33m,\u001b[0m \u001b[0mtimeout\u001b[0m\u001b[1;33m=\u001b[0m\u001b[0mtimeout\u001b[0m\u001b[1;33m,\u001b[0m \u001b[0mheaders\u001b[0m\u001b[1;33m=\u001b[0m\u001b[0mheaders\u001b[0m\u001b[1;33m)\u001b[0m\u001b[1;33m\u001b[0m\u001b[1;33m\u001b[0m\u001b[0m\n\u001b[0m\u001b[0;32m    378\u001b[0m         \u001b[1;32mtry\u001b[0m\u001b[1;33m:\u001b[0m\u001b[1;33m\u001b[0m\u001b[1;33m\u001b[0m\u001b[0m\n\u001b[0;32m    379\u001b[0m             \u001b[1;32mreturn\u001b[0m \u001b[0mresp\u001b[0m\u001b[1;33m.\u001b[0m\u001b[0mjson\u001b[0m\u001b[1;33m(\u001b[0m\u001b[1;33m)\u001b[0m\u001b[1;33m\u001b[0m\u001b[1;33m\u001b[0m\u001b[0m\n",
      "\u001b[1;32mD:\\anaconda3\\lib\\site-packages\\geopy\\adapters.py\u001b[0m in \u001b[0;36m_request\u001b[1;34m(self, url, timeout, headers)\u001b[0m\n\u001b[0;32m    397\u001b[0m                     \u001b[1;32mraise\u001b[0m \u001b[0mGeocoderServiceError\u001b[0m\u001b[1;33m(\u001b[0m\u001b[0mmessage\u001b[0m\u001b[1;33m)\u001b[0m\u001b[1;33m\u001b[0m\u001b[1;33m\u001b[0m\u001b[0m\n\u001b[0;32m    398\u001b[0m                 \u001b[1;32melse\u001b[0m\u001b[1;33m:\u001b[0m\u001b[1;33m\u001b[0m\u001b[1;33m\u001b[0m\u001b[0m\n\u001b[1;32m--> 399\u001b[1;33m                     \u001b[1;32mraise\u001b[0m \u001b[0mGeocoderUnavailable\u001b[0m\u001b[1;33m(\u001b[0m\u001b[0mmessage\u001b[0m\u001b[1;33m)\u001b[0m\u001b[1;33m\u001b[0m\u001b[1;33m\u001b[0m\u001b[0m\n\u001b[0m\u001b[0;32m    400\u001b[0m             \u001b[1;32melif\u001b[0m \u001b[0misinstance\u001b[0m\u001b[1;33m(\u001b[0m\u001b[0merror\u001b[0m\u001b[1;33m,\u001b[0m \u001b[0mrequests\u001b[0m\u001b[1;33m.\u001b[0m\u001b[0mTimeout\u001b[0m\u001b[1;33m)\u001b[0m\u001b[1;33m:\u001b[0m\u001b[1;33m\u001b[0m\u001b[1;33m\u001b[0m\u001b[0m\n\u001b[0;32m    401\u001b[0m                 \u001b[1;32mraise\u001b[0m \u001b[0mGeocoderTimedOut\u001b[0m\u001b[1;33m(\u001b[0m\u001b[1;34m\"Service timed out\"\u001b[0m\u001b[1;33m)\u001b[0m\u001b[1;33m\u001b[0m\u001b[1;33m\u001b[0m\u001b[0m\n",
      "\u001b[1;31mGeocoderUnavailable\u001b[0m: HTTPSConnectionPool(host='www.geocode.farm', port=443): Max retries exceeded with url: /v3/json/forward/?addr=New+York (Caused by ReadTimeoutError(\"HTTPSConnectionPool(host='www.geocode.farm', port=443): Read timed out. (read timeout=1)\"))"
     ]
    }
   ],
   "source": [
    "# get geometry\n",
    "gpd.tools.geocode(['New York', 'Berlin', 'Paris','Toronto', 'Calgary', 'Tokyo'])\n",
=======
=======
>>>>>>> 217dce0bf5a37b2dc12beba9a72847278135c61e
=======
>>>>>>> 217dce0bf5a37b2dc12beba9a72847278135c61e
=======
>>>>>>> 217dce0bf5a37b2dc12beba9a72847278135c61e
   "outputs": [],
   "source": [
    "# get geometry\n",
    "\n",
<<<<<<< HEAD
<<<<<<< HEAD
<<<<<<< HEAD
>>>>>>> 217dce0bf5a37b2dc12beba9a72847278135c61e
=======
>>>>>>> 217dce0bf5a37b2dc12beba9a72847278135c61e
=======
>>>>>>> 217dce0bf5a37b2dc12beba9a72847278135c61e
=======
>>>>>>> 217dce0bf5a37b2dc12beba9a72847278135c61e
    "\n",
    "# create figure and axes\n",
    "\n",
    "\n",
    "\n",
    "\n",
    "# create map from world_filtered data-frame\n",
    "\n",
    "\n",
    "\n",
    "\n",
    "# add the rest of the countries\n",
    "\n",
    "\n",
    "\n",
    "# add cities\n"
   ]
  },
  {
   "cell_type": "code",
   "execution_count": null,
   "metadata": {},
   "outputs": [],
   "source": []
  },
  {
   "cell_type": "code",
   "execution_count": null,
   "metadata": {},
   "outputs": [],
   "source": []
  },
  {
   "cell_type": "code",
   "execution_count": null,
   "metadata": {},
   "outputs": [],
   "source": []
  }
 ],
 "metadata": {
  "kernelspec": {
   "display_name": "Python 3",
   "language": "python",
   "name": "python3"
  },
  "language_info": {
   "codemirror_mode": {
    "name": "ipython",
    "version": 3
   },
   "file_extension": ".py",
   "mimetype": "text/x-python",
   "name": "python",
   "nbconvert_exporter": "python",
   "pygments_lexer": "ipython3",
   "version": "3.8.5"
  },
  "toc": {
   "base_numbering": 1,
   "nav_menu": {},
   "number_sections": true,
   "sideBar": true,
   "skip_h1_title": false,
   "title_cell": "Table of Contents",
   "title_sidebar": "Contents",
   "toc_cell": false,
   "toc_position": {},
   "toc_section_display": true,
   "toc_window_display": false
  },
  "varInspector": {
   "cols": {
    "lenName": 16,
    "lenType": 16,
    "lenVar": 40
   },
   "kernels_config": {
    "python": {
     "delete_cmd_postfix": "",
     "delete_cmd_prefix": "del ",
     "library": "var_list.py",
     "varRefreshCmd": "print(var_dic_list())"
    },
    "r": {
     "delete_cmd_postfix": ") ",
     "delete_cmd_prefix": "rm(",
     "library": "var_list.r",
     "varRefreshCmd": "cat(var_dic_list()) "
    }
   },
   "types_to_exclude": [
    "module",
    "function",
    "builtin_function_or_method",
    "instance",
    "_Feature"
   ],
   "window_display": false
  }
 },
 "nbformat": 4,
 "nbformat_minor": 4
}
