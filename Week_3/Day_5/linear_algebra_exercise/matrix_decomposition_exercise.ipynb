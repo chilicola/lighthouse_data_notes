{
 "cells": [
  {
   "cell_type": "markdown",
   "metadata": {},
   "source": [
<<<<<<< HEAD
<<<<<<< HEAD
<<<<<<< HEAD
<<<<<<< HEAD
    "## Matrix Decomposition Exercise\n",
    "\n",
    "[Guide](https://machinelearningmastery.com/singular-value-decomposition-for-machine-learning/)"
=======
    "## Matrix Decomposition Exercise"
>>>>>>> 217dce0bf5a37b2dc12beba9a72847278135c61e
=======
    "## Matrix Decomposition Exercise"
>>>>>>> 217dce0bf5a37b2dc12beba9a72847278135c61e
=======
    "## Matrix Decomposition Exercise"
>>>>>>> 217dce0bf5a37b2dc12beba9a72847278135c61e
=======
    "## Matrix Decomposition Exercise"
>>>>>>> 217dce0bf5a37b2dc12beba9a72847278135c61e
   ]
  },
  {
   "cell_type": "code",
   "execution_count": 1,
   "metadata": {
    "ExecuteTime": {
     "end_time": "2020-01-30T08:49:15.705544Z",
     "start_time": "2020-01-30T08:49:15.691050Z"
    }
   },
   "outputs": [],
   "source": [
    "# import numpy\n",
    "import numpy as np"
   ]
  },
  {
   "cell_type": "markdown",
   "metadata": {
    "ExecuteTime": {
     "end_time": "2020-01-30T08:49:16.033687Z",
     "start_time": "2020-01-30T08:49:16.022845Z"
    }
   },
   "source": [
    "**Task:** Generate a random matrix 'A' with a shape of 150x50, using the '**np.random.rand**' function."
   ]
  },
  {
   "cell_type": "code",
<<<<<<< HEAD
<<<<<<< HEAD
<<<<<<< HEAD
<<<<<<< HEAD
   "execution_count": 2,
=======
   "execution_count": 6,
>>>>>>> 217dce0bf5a37b2dc12beba9a72847278135c61e
=======
   "execution_count": 6,
>>>>>>> 217dce0bf5a37b2dc12beba9a72847278135c61e
=======
   "execution_count": 6,
>>>>>>> 217dce0bf5a37b2dc12beba9a72847278135c61e
=======
   "execution_count": 6,
>>>>>>> 217dce0bf5a37b2dc12beba9a72847278135c61e
   "metadata": {},
   "outputs": [
    {
     "data": {
      "text/plain": [
<<<<<<< HEAD
<<<<<<< HEAD
<<<<<<< HEAD
<<<<<<< HEAD
       "array([[0.77367811, 0.8835783 , 0.82052771, ..., 0.25044801, 0.14820674,\n",
       "        0.60016219],\n",
       "       [0.88241335, 0.03644254, 0.88508579, ..., 0.11896966, 0.71771635,\n",
       "        0.60756085],\n",
       "       [0.10659072, 0.04915783, 0.87938663, ..., 0.6870526 , 0.64473739,\n",
       "        0.55438491],\n",
       "       ...,\n",
       "       [0.0122553 , 0.58770741, 0.74738617, ..., 0.21741817, 0.73948822,\n",
       "        0.84446236],\n",
       "       [0.46560655, 0.91785035, 0.29284681, ..., 0.42582961, 0.79726198,\n",
       "        0.94569091],\n",
       "       [0.46615972, 0.64023387, 0.2297666 , ..., 0.93070077, 0.85978927,\n",
       "        0.61461494]])"
      ]
     },
     "execution_count": 2,
=======
=======
>>>>>>> 217dce0bf5a37b2dc12beba9a72847278135c61e
=======
>>>>>>> 217dce0bf5a37b2dc12beba9a72847278135c61e
=======
>>>>>>> 217dce0bf5a37b2dc12beba9a72847278135c61e
       "array([[0.68515363, 0.93709413, 0.30859341, ..., 0.45399194, 0.72636082,\n",
       "        0.16966655],\n",
       "       [0.66122336, 0.20322551, 0.17738579, ..., 0.16414325, 0.35716783,\n",
       "        0.4177893 ],\n",
       "       [0.79527904, 0.49745729, 0.83433805, ..., 0.55163628, 0.46361221,\n",
       "        0.74201633],\n",
       "       ...,\n",
       "       [0.8883156 , 0.13838264, 0.10848877, ..., 0.31274322, 0.53506925,\n",
       "        0.03016275],\n",
       "       [0.36000205, 0.94341232, 0.91745031, ..., 0.05046075, 0.39023371,\n",
       "        0.83242538],\n",
       "       [0.15455068, 0.34887088, 0.17177495, ..., 0.5850416 , 0.36297834,\n",
       "        0.92087966]])"
      ]
     },
     "execution_count": 6,
<<<<<<< HEAD
<<<<<<< HEAD
<<<<<<< HEAD
>>>>>>> 217dce0bf5a37b2dc12beba9a72847278135c61e
=======
>>>>>>> 217dce0bf5a37b2dc12beba9a72847278135c61e
=======
>>>>>>> 217dce0bf5a37b2dc12beba9a72847278135c61e
=======
>>>>>>> 217dce0bf5a37b2dc12beba9a72847278135c61e
     "metadata": {},
     "output_type": "execute_result"
    }
   ],
   "source": [
    "A = np.random.rand(150, 50)\n",
    "A"
   ]
  },
  {
   "cell_type": "markdown",
   "metadata": {
    "ExecuteTime": {
     "end_time": "2020-01-30T08:49:16.306858Z",
     "start_time": "2020-01-30T08:49:16.291806Z"
    }
   },
   "source": [
    "**Task:** Check the shape of 'A'."
   ]
  },
  {
   "cell_type": "code",
<<<<<<< HEAD
<<<<<<< HEAD
<<<<<<< HEAD
<<<<<<< HEAD
   "execution_count": 15,
=======
   "execution_count": 17,
>>>>>>> 217dce0bf5a37b2dc12beba9a72847278135c61e
=======
   "execution_count": 17,
>>>>>>> 217dce0bf5a37b2dc12beba9a72847278135c61e
=======
   "execution_count": 17,
>>>>>>> 217dce0bf5a37b2dc12beba9a72847278135c61e
=======
   "execution_count": 17,
>>>>>>> 217dce0bf5a37b2dc12beba9a72847278135c61e
   "metadata": {},
   "outputs": [
    {
     "data": {
      "text/plain": [
       "(150, 50)"
      ]
     },
<<<<<<< HEAD
<<<<<<< HEAD
<<<<<<< HEAD
<<<<<<< HEAD
     "execution_count": 15,
=======
     "execution_count": 17,
>>>>>>> 217dce0bf5a37b2dc12beba9a72847278135c61e
=======
     "execution_count": 17,
>>>>>>> 217dce0bf5a37b2dc12beba9a72847278135c61e
=======
     "execution_count": 17,
>>>>>>> 217dce0bf5a37b2dc12beba9a72847278135c61e
=======
     "execution_count": 17,
>>>>>>> 217dce0bf5a37b2dc12beba9a72847278135c61e
     "metadata": {},
     "output_type": "execute_result"
    }
   ],
   "source": [
    "A.shape"
   ]
  },
  {
   "cell_type": "markdown",
   "metadata": {
    "ExecuteTime": {
     "end_time": "2020-01-30T08:49:16.700850Z",
     "start_time": "2020-01-30T08:49:16.658980Z"
    }
   },
   "source": [
<<<<<<< HEAD
<<<<<<< HEAD
<<<<<<< HEAD
<<<<<<< HEAD
    "**Task:** Decompose matrix 'A' with SVD using numpy (decompose into matrices U, S, V)."
=======
    "**Task:** Decompose matrix 'A' with SVD using numpy (decompose into matrices U,D,V)."
>>>>>>> 217dce0bf5a37b2dc12beba9a72847278135c61e
=======
    "**Task:** Decompose matrix 'A' with SVD using numpy (decompose into matrices U,D,V)."
>>>>>>> 217dce0bf5a37b2dc12beba9a72847278135c61e
=======
    "**Task:** Decompose matrix 'A' with SVD using numpy (decompose into matrices U,D,V)."
>>>>>>> 217dce0bf5a37b2dc12beba9a72847278135c61e
=======
    "**Task:** Decompose matrix 'A' with SVD using numpy (decompose into matrices U,D,V)."
>>>>>>> 217dce0bf5a37b2dc12beba9a72847278135c61e
   ]
  },
  {
   "cell_type": "code",
<<<<<<< HEAD
<<<<<<< HEAD
<<<<<<< HEAD
<<<<<<< HEAD
   "execution_count": 4,
   "metadata": {},
   "outputs": [],
   "source": [
    "U, S, V = np.linalg.svd(A)"
=======
=======
>>>>>>> 217dce0bf5a37b2dc12beba9a72847278135c61e
=======
>>>>>>> 217dce0bf5a37b2dc12beba9a72847278135c61e
=======
>>>>>>> 217dce0bf5a37b2dc12beba9a72847278135c61e
   "execution_count": 18,
   "metadata": {},
   "outputs": [],
   "source": [
    "U, D, V = np.linalg.svd(A)"
<<<<<<< HEAD
<<<<<<< HEAD
<<<<<<< HEAD
>>>>>>> 217dce0bf5a37b2dc12beba9a72847278135c61e
=======
>>>>>>> 217dce0bf5a37b2dc12beba9a72847278135c61e
=======
>>>>>>> 217dce0bf5a37b2dc12beba9a72847278135c61e
=======
>>>>>>> 217dce0bf5a37b2dc12beba9a72847278135c61e
   ]
  },
  {
   "cell_type": "markdown",
   "metadata": {
    "ExecuteTime": {
     "end_time": "2020-01-30T08:49:17.007803Z",
     "start_time": "2020-01-30T08:49:17.000154Z"
    }
   },
   "source": [
<<<<<<< HEAD
<<<<<<< HEAD
<<<<<<< HEAD
<<<<<<< HEAD
    "**Task:** Check the shapes of matrices U, S, V."
=======
    "**Task:** Check the shapes of matrices U,D,V."
>>>>>>> 217dce0bf5a37b2dc12beba9a72847278135c61e
=======
    "**Task:** Check the shapes of matrices U,D,V."
>>>>>>> 217dce0bf5a37b2dc12beba9a72847278135c61e
=======
    "**Task:** Check the shapes of matrices U,D,V."
>>>>>>> 217dce0bf5a37b2dc12beba9a72847278135c61e
=======
    "**Task:** Check the shapes of matrices U,D,V."
>>>>>>> 217dce0bf5a37b2dc12beba9a72847278135c61e
   ]
  },
  {
   "cell_type": "code",
<<<<<<< HEAD
<<<<<<< HEAD
<<<<<<< HEAD
<<<<<<< HEAD
   "execution_count": 5,
=======
   "execution_count": 19,
>>>>>>> 217dce0bf5a37b2dc12beba9a72847278135c61e
=======
   "execution_count": 19,
>>>>>>> 217dce0bf5a37b2dc12beba9a72847278135c61e
=======
   "execution_count": 19,
>>>>>>> 217dce0bf5a37b2dc12beba9a72847278135c61e
=======
   "execution_count": 19,
>>>>>>> 217dce0bf5a37b2dc12beba9a72847278135c61e
   "metadata": {},
   "outputs": [
    {
     "name": "stdout",
     "output_type": "stream",
     "text": [
      "(150, 150)\n",
      "(50,)\n",
      "(50, 50)\n"
     ]
    }
   ],
   "source": [
    "print(U.shape)\n",
<<<<<<< HEAD
<<<<<<< HEAD
<<<<<<< HEAD
<<<<<<< HEAD
    "print(S.shape)\n",
=======
    "print(D.shape)\n",
>>>>>>> 217dce0bf5a37b2dc12beba9a72847278135c61e
=======
    "print(D.shape)\n",
>>>>>>> 217dce0bf5a37b2dc12beba9a72847278135c61e
=======
    "print(D.shape)\n",
>>>>>>> 217dce0bf5a37b2dc12beba9a72847278135c61e
=======
    "print(D.shape)\n",
>>>>>>> 217dce0bf5a37b2dc12beba9a72847278135c61e
    "print(V.shape)"
   ]
  },
  {
   "cell_type": "markdown",
   "metadata": {
    "ExecuteTime": {
     "end_time": "2020-01-30T08:49:17.380307Z",
     "start_time": "2020-01-30T08:49:17.364171Z"
    }
   },
   "source": [
<<<<<<< HEAD
<<<<<<< HEAD
<<<<<<< HEAD
<<<<<<< HEAD
    "**Task:** Reconstruct matrix 'A' from matrices U, S, V."
=======
    "**Task:** Reconstruct matrix 'A' from matrices U,D,V."
>>>>>>> 217dce0bf5a37b2dc12beba9a72847278135c61e
=======
    "**Task:** Reconstruct matrix 'A' from matrices U,D,V."
>>>>>>> 217dce0bf5a37b2dc12beba9a72847278135c61e
=======
    "**Task:** Reconstruct matrix 'A' from matrices U,D,V."
>>>>>>> 217dce0bf5a37b2dc12beba9a72847278135c61e
=======
    "**Task:** Reconstruct matrix 'A' from matrices U,D,V."
>>>>>>> 217dce0bf5a37b2dc12beba9a72847278135c61e
   ]
  },
  {
   "cell_type": "code",
   "execution_count": 23,
   "metadata": {},
<<<<<<< HEAD
<<<<<<< HEAD
<<<<<<< HEAD
<<<<<<< HEAD
   "outputs": [],
   "source": [
    "# create m x n Sigma matrix\n",
    "sigma = np.zeros((A.shape[0], A.shape[1]))\n",
    "\n",
    "# populate Sigma with n x n diagnoal matrix\n",
    "sigma[: A.shape[1], :A.shape[1]] = np.diag(S)\n",
    "\n",
    "# reconstruct matrix\n",
    "A_rec = U.dot(sigma.dot(V))"
=======
=======
>>>>>>> 217dce0bf5a37b2dc12beba9a72847278135c61e
=======
>>>>>>> 217dce0bf5a37b2dc12beba9a72847278135c61e
=======
>>>>>>> 217dce0bf5a37b2dc12beba9a72847278135c61e
   "outputs": [
    {
     "data": {
      "text/plain": [
       "array([[0.68515363, 0.93709413, 0.30859341, ..., 0.45399194, 0.72636082,\n",
       "        0.16966655],\n",
       "       [0.66122336, 0.20322551, 0.17738579, ..., 0.16414325, 0.35716783,\n",
       "        0.4177893 ],\n",
       "       [0.79527904, 0.49745729, 0.83433805, ..., 0.55163628, 0.46361221,\n",
       "        0.74201633],\n",
       "       ...,\n",
       "       [0.8883156 , 0.13838264, 0.10848877, ..., 0.31274322, 0.53506925,\n",
       "        0.03016275],\n",
       "       [0.36000205, 0.94341232, 0.91745031, ..., 0.05046075, 0.39023371,\n",
       "        0.83242538],\n",
       "       [0.15455068, 0.34887088, 0.17177495, ..., 0.5850416 , 0.36297834,\n",
       "        0.92087966]])"
      ]
     },
     "execution_count": 23,
     "metadata": {},
     "output_type": "execute_result"
    }
   ],
   "source": [
    "np.dot(U[:, :50] * D, V)"
<<<<<<< HEAD
<<<<<<< HEAD
<<<<<<< HEAD
>>>>>>> 217dce0bf5a37b2dc12beba9a72847278135c61e
=======
>>>>>>> 217dce0bf5a37b2dc12beba9a72847278135c61e
=======
>>>>>>> 217dce0bf5a37b2dc12beba9a72847278135c61e
=======
>>>>>>> 217dce0bf5a37b2dc12beba9a72847278135c61e
   ]
  },
  {
   "cell_type": "markdown",
   "metadata": {
    "ExecuteTime": {
     "end_time": "2020-01-30T08:49:17.782966Z",
     "start_time": "2020-01-30T08:49:17.775093Z"
    }
   },
   "source": [
    "**Task:** Compare matrices 'A' and 'A_rec' with the [**np.allclose**](https://numpy.org/doc/stable/reference/generated/numpy.allclose.html) function."
   ]
  },
  {
   "cell_type": "code",
   "execution_count": 24,
   "metadata": {},
   "outputs": [
    {
     "data": {
      "text/plain": [
       "True"
      ]
     },
     "execution_count": 24,
     "metadata": {},
     "output_type": "execute_result"
    }
   ],
   "source": [
<<<<<<< HEAD
<<<<<<< HEAD
<<<<<<< HEAD
<<<<<<< HEAD
    "np.allclose(A, A_rec)"
=======
    "np.allclose(A, np.dot(U[:, :50] * D, V))"
>>>>>>> 217dce0bf5a37b2dc12beba9a72847278135c61e
=======
    "np.allclose(A, np.dot(U[:, :50] * D, V))"
>>>>>>> 217dce0bf5a37b2dc12beba9a72847278135c61e
=======
    "np.allclose(A, np.dot(U[:, :50] * D, V))"
>>>>>>> 217dce0bf5a37b2dc12beba9a72847278135c61e
=======
    "np.allclose(A, np.dot(U[:, :50] * D, V))"
>>>>>>> 217dce0bf5a37b2dc12beba9a72847278135c61e
   ]
  },
  {
   "cell_type": "markdown",
   "metadata": {
    "ExecuteTime": {
     "end_time": "2020-01-30T08:49:18.170344Z",
     "start_time": "2020-01-30T08:49:18.164685Z"
    }
   },
   "source": [
    "**Task:** Reduce the dimension of matrix 'A' to shape 150x20 with SVD (try both equations)."
   ]
  },
  {
   "cell_type": "code",
<<<<<<< HEAD
<<<<<<< HEAD
<<<<<<< HEAD
<<<<<<< HEAD
   "execution_count": 49,
   "metadata": {
    "tags": []
   },
   "outputs": [],
   "source": [
    "# define A as 150 x 20\n",
    "A = np.random.rand(150, 20)\n",
    "\n",
    "# SVD\n",
    "u, s, vh = np.linalg.svd(A)\n",
    "\n",
    "# create m x n Sigma matrix\n",
    "sigma = np.zeros((A.shape[0], A.shape[1]))\n",
    "\n",
    "# populate Sigma with n x n diagonal matrix\n",
    "sigma[:A.shape[1], :A.shape[1]] = np.diag(s)\n",
    "\n",
    "# select\n",
    "n_elements = 2\n",
    "sigma = sigma[:, :n_elements]\n",
    "vh = vh[:n_elements, :]\n",
    "\n",
    "# recontruct\n",
    "A_rec = u.dot(sigma.dot(vh))\n",
    "\n",
    "# transform\n",
    "t1 = u.dot(sigma)\n",
    "t2 = A.dot(vh.T)"
   ]
=======
=======
>>>>>>> 217dce0bf5a37b2dc12beba9a72847278135c61e
=======
>>>>>>> 217dce0bf5a37b2dc12beba9a72847278135c61e
=======
>>>>>>> 217dce0bf5a37b2dc12beba9a72847278135c61e
   "execution_count": null,
   "metadata": {},
   "outputs": [],
   "source": []
  },
  {
   "cell_type": "code",
   "execution_count": null,
   "metadata": {},
   "outputs": [],
   "source": []
<<<<<<< HEAD
<<<<<<< HEAD
<<<<<<< HEAD
>>>>>>> 217dce0bf5a37b2dc12beba9a72847278135c61e
=======
>>>>>>> 217dce0bf5a37b2dc12beba9a72847278135c61e
=======
>>>>>>> 217dce0bf5a37b2dc12beba9a72847278135c61e
=======
>>>>>>> 217dce0bf5a37b2dc12beba9a72847278135c61e
  },
  {
   "cell_type": "markdown",
   "metadata": {
    "ExecuteTime": {
     "end_time": "2020-01-30T08:49:18.526337Z",
     "start_time": "2020-01-30T08:49:18.519511Z"
    }
   },
   "source": [
    "**Task:** Print the shape."
   ]
  },
  {
   "cell_type": "code",
<<<<<<< HEAD
<<<<<<< HEAD
<<<<<<< HEAD
<<<<<<< HEAD
   "execution_count": 50,
   "metadata": {},
   "outputs": [
    {
     "data": {
      "text/plain": [
       "(150, 2)"
      ]
     },
     "execution_count": 50,
     "metadata": {},
     "output_type": "execute_result"
    }
   ],
   "source": [
    "t1.shape"
   ]
=======
=======
>>>>>>> 217dce0bf5a37b2dc12beba9a72847278135c61e
=======
>>>>>>> 217dce0bf5a37b2dc12beba9a72847278135c61e
=======
>>>>>>> 217dce0bf5a37b2dc12beba9a72847278135c61e
   "execution_count": null,
   "metadata": {},
   "outputs": [],
   "source": []
  },
  {
   "cell_type": "code",
   "execution_count": null,
   "metadata": {},
   "outputs": [],
   "source": []
<<<<<<< HEAD
<<<<<<< HEAD
<<<<<<< HEAD
>>>>>>> 217dce0bf5a37b2dc12beba9a72847278135c61e
=======
>>>>>>> 217dce0bf5a37b2dc12beba9a72847278135c61e
=======
>>>>>>> 217dce0bf5a37b2dc12beba9a72847278135c61e
=======
>>>>>>> 217dce0bf5a37b2dc12beba9a72847278135c61e
  },
  {
   "cell_type": "markdown",
   "metadata": {
    "ExecuteTime": {
     "end_time": "2020-01-30T08:49:18.858261Z",
     "start_time": "2020-01-30T08:49:18.850912Z"
    }
   },
   "source": [
    "**Task:** Compare the two results with the [**np.allclose**](https://numpy.org/doc/stable/reference/generated/numpy.allclose.html) function."
   ]
  },
  {
   "cell_type": "code",
<<<<<<< HEAD
<<<<<<< HEAD
<<<<<<< HEAD
<<<<<<< HEAD
   "execution_count": 48,
   "metadata": {},
   "outputs": [
    {
     "data": {
      "text/plain": [
       "True"
      ]
     },
     "execution_count": 48,
     "metadata": {},
     "output_type": "execute_result"
    }
   ],
   "source": [
    "# compare\n",
    "np.allclose(t1, t2)"
   ]
=======
=======
>>>>>>> 217dce0bf5a37b2dc12beba9a72847278135c61e
=======
>>>>>>> 217dce0bf5a37b2dc12beba9a72847278135c61e
=======
>>>>>>> 217dce0bf5a37b2dc12beba9a72847278135c61e
   "execution_count": null,
   "metadata": {},
   "outputs": [],
   "source": []
  },
  {
   "cell_type": "code",
   "execution_count": null,
   "metadata": {},
   "outputs": [],
   "source": []
<<<<<<< HEAD
<<<<<<< HEAD
<<<<<<< HEAD
>>>>>>> 217dce0bf5a37b2dc12beba9a72847278135c61e
=======
>>>>>>> 217dce0bf5a37b2dc12beba9a72847278135c61e
=======
>>>>>>> 217dce0bf5a37b2dc12beba9a72847278135c61e
=======
>>>>>>> 217dce0bf5a37b2dc12beba9a72847278135c61e
  },
  {
   "cell_type": "markdown",
   "metadata": {
    "ExecuteTime": {
     "end_time": "2020-01-30T08:49:19.245461Z",
     "start_time": "2020-01-30T08:49:19.237681Z"
    }
   },
   "source": [
    "**Task:** Filter the noise from matrix 'A' with 20 largest singular vectors (keep the shape of (150x50))."
   ]
  },
  {
   "cell_type": "code",
   "execution_count": null,
   "metadata": {},
   "outputs": [],
<<<<<<< HEAD
<<<<<<< HEAD
<<<<<<< HEAD
<<<<<<< HEAD
   "source": [
    "# define A as 150 x 20\n",
    "A = np.random.rand(150, 50)\n",
    "\n",
    "# SVD\n",
    "u, s, vh = np.linalg.svd(A)\n",
    "\n",
    "# create m x n Sigma matrix\n",
    "sigma = np.zeros((A.shape[0], A.shape[1]))\n",
    "\n",
    "# populate Sigma with n x n diagonal matrix\n",
    "sigma[:A.shape[1], :A.shape[1]] = np.diag(s)\n",
    "\n",
    "# select\n",
    "n_elements = 2\n",
    "sigma = sigma[:, :n_elements]\n",
    "vh = vh[:n_elements, :]\n",
    "\n",
    "# recontruct\n",
    "A_rec = u.dot(sigma.dot(vh))\n",
    "\n",
    "# transform\n",
    "t1 = u.dot(sigma)\n",
    "t2 = A.dot(vh.T)"
   ]
=======
   "source": []
>>>>>>> 217dce0bf5a37b2dc12beba9a72847278135c61e
=======
   "source": []
>>>>>>> 217dce0bf5a37b2dc12beba9a72847278135c61e
=======
   "source": []
>>>>>>> 217dce0bf5a37b2dc12beba9a72847278135c61e
=======
   "source": []
>>>>>>> 217dce0bf5a37b2dc12beba9a72847278135c61e
  },
  {
   "cell_type": "code",
   "execution_count": null,
   "metadata": {},
   "outputs": [],
   "source": []
  },
  {
   "cell_type": "markdown",
   "metadata": {
    "ExecuteTime": {
     "end_time": "2020-01-30T08:49:19.787237Z",
     "start_time": "2020-01-30T08:49:19.775025Z"
    }
   },
   "source": [
    "**Task:** Check the shape."
   ]
  },
  {
   "cell_type": "code",
   "execution_count": null,
   "metadata": {},
   "outputs": [],
   "source": []
  },
  {
   "cell_type": "code",
   "execution_count": null,
   "metadata": {},
   "outputs": [],
   "source": []
  },
  {
   "cell_type": "markdown",
   "metadata": {},
   "source": [
    "**Task:** Define the function `'SVD'` which perform singular values decomposition.\n",
    "\n",
    "Do not forget to hceck the shape of the input matrix."
   ]
  },
  {
   "cell_type": "code",
   "execution_count": null,
   "metadata": {
    "ExecuteTime": {
     "end_time": "2020-01-30T08:49:20.344770Z",
     "start_time": "2020-01-30T08:49:20.326781Z"
    }
   },
   "outputs": [],
   "source": [
    "\"\"\"\n",
    "PARAMS:\n",
    "    A (numpy.ndarray) - matrix to decompose\n",
    "RETURN:\n",
    "    U (numpy.ndarray) - left singular vectors\n",
    "    SV (numpy.ndarray) - singular values\n",
    "    V (numpy.ndarray) - right singular vectors\n",
    "\"\"\""
   ]
  },
  {
   "cell_type": "code",
   "execution_count": null,
   "metadata": {},
   "outputs": [],
   "source": []
  },
  {
   "cell_type": "markdown",
   "metadata": {
    "ExecuteTime": {
     "end_time": "2020-01-30T08:49:20.693579Z",
     "start_time": "2020-01-30T08:49:20.660972Z"
    }
   },
   "source": [
    "**Task:** Call the function `'SVD'` on matrix 'A'."
   ]
  },
  {
   "cell_type": "code",
   "execution_count": null,
   "metadata": {},
   "outputs": [],
   "source": []
  },
  {
   "cell_type": "code",
   "execution_count": null,
   "metadata": {},
   "outputs": [],
   "source": []
  }
 ],
 "metadata": {
  "kernelspec": {
   "display_name": "Python 3",
   "language": "python",
   "name": "python3"
  },
  "language_info": {
   "codemirror_mode": {
    "name": "ipython",
    "version": 3
   },
   "file_extension": ".py",
   "mimetype": "text/x-python",
   "name": "python",
   "nbconvert_exporter": "python",
   "pygments_lexer": "ipython3",
   "version": "3.8.5"
  },
  "toc": {
   "base_numbering": 1,
   "nav_menu": {},
   "number_sections": true,
   "sideBar": true,
   "skip_h1_title": false,
   "title_cell": "Table of Contents",
   "title_sidebar": "Contents",
   "toc_cell": false,
   "toc_position": {},
   "toc_section_display": true,
   "toc_window_display": false
  },
  "varInspector": {
   "cols": {
    "lenName": 16,
    "lenType": 16,
    "lenVar": 40
   },
   "kernels_config": {
    "python": {
     "delete_cmd_postfix": "",
     "delete_cmd_prefix": "del ",
     "library": "var_list.py",
     "varRefreshCmd": "print(var_dic_list())"
    },
    "r": {
     "delete_cmd_postfix": ") ",
     "delete_cmd_prefix": "rm(",
     "library": "var_list.r",
     "varRefreshCmd": "cat(var_dic_list()) "
    }
   },
   "types_to_exclude": [
    "module",
    "function",
    "builtin_function_or_method",
    "instance",
    "_Feature"
   ],
   "window_display": false
  }
 },
 "nbformat": 4,
 "nbformat_minor": 4
}
