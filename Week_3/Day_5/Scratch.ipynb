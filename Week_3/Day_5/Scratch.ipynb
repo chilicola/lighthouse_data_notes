{
 "cells": [
  {
   "cell_type": "code",
   "execution_count": 47,
   "id": "a27044d8-9c6f-43cf-bf51-c6e27afba445",
   "metadata": {},
   "outputs": [],
   "source": [
    "import pandas as pd\n",
    "import numpy as np\n",
    "\n",
    "data = {'animal': ['cat', 'cat', 'snake', 'dog', 'dog', 'cat', 'snake', 'cat', 'dog', 'dog'],\n",
    "        'age': [2.5, 3, 0.5, np.nan, 5, 2, 4.5, np.nan, 7, 3],\n",
    "        'visits': [1, 3, 2, 3, 2, 3, 1, 1, 2, 1],\n",
    "        'priority': ['yes', 'yes', 'no', 'yes', 'no', 'no', 'no', 'yes', 'no', 'no']}\n",
    "\n",
    "labels = ['a', 'b', 'c', 'd', 'e', 'f', 'g', 'h', 'i', 'j']\n",
    "\n",
    "df = pd.DataFrame(data, index=labels)\n",
    "\n",
    "\"\"\"\n",
    "Write a function that takes dataframe df (defined above) and string with animal as inputs and returns rows where animal is equal to string (parameter function) and age is less than 3.\n",
    "\n",
    "Notes:\n",
    "        - Return empty DataFrame if wrong animal is written\n",
    "\"\"\"\n",
    "\n",
    "def filter_animals(df, animal):\n",
    "    if animal in set(df['animal'].tolist()):\n",
    "        print(df.loc[(df['animal'] == animal) & (df['age'] < 3.)])\n",
    "    else:\n",
    "        not_found = pd.DataFrame()\n",
    "        print(not_found)"
   ]
  },
  {
   "cell_type": "code",
   "execution_count": 2,
   "id": "7992a2ca-3cc4-4587-8a5e-4968961b7314",
   "metadata": {},
   "outputs": [
    {
     "data": {
      "text/html": [
       "<div>\n",
       "<style scoped>\n",
       "    .dataframe tbody tr th:only-of-type {\n",
       "        vertical-align: middle;\n",
       "    }\n",
       "\n",
       "    .dataframe tbody tr th {\n",
       "        vertical-align: top;\n",
       "    }\n",
       "\n",
       "    .dataframe thead th {\n",
       "        text-align: right;\n",
       "    }\n",
       "</style>\n",
       "<table border=\"1\" class=\"dataframe\">\n",
       "  <thead>\n",
       "    <tr style=\"text-align: right;\">\n",
       "      <th></th>\n",
       "      <th>animal</th>\n",
       "      <th>age</th>\n",
       "      <th>visits</th>\n",
       "      <th>priority</th>\n",
       "    </tr>\n",
       "  </thead>\n",
       "  <tbody>\n",
       "    <tr>\n",
       "      <th>a</th>\n",
       "      <td>cat</td>\n",
       "      <td>2.5</td>\n",
       "      <td>1</td>\n",
       "      <td>yes</td>\n",
       "    </tr>\n",
       "    <tr>\n",
       "      <th>b</th>\n",
       "      <td>cat</td>\n",
       "      <td>3.0</td>\n",
       "      <td>3</td>\n",
       "      <td>yes</td>\n",
       "    </tr>\n",
       "    <tr>\n",
       "      <th>c</th>\n",
       "      <td>snake</td>\n",
       "      <td>0.5</td>\n",
       "      <td>2</td>\n",
       "      <td>no</td>\n",
       "    </tr>\n",
       "    <tr>\n",
       "      <th>d</th>\n",
       "      <td>dog</td>\n",
       "      <td>NaN</td>\n",
       "      <td>3</td>\n",
       "      <td>yes</td>\n",
       "    </tr>\n",
       "    <tr>\n",
       "      <th>e</th>\n",
       "      <td>dog</td>\n",
       "      <td>5.0</td>\n",
       "      <td>2</td>\n",
       "      <td>no</td>\n",
       "    </tr>\n",
       "    <tr>\n",
       "      <th>f</th>\n",
       "      <td>cat</td>\n",
       "      <td>2.0</td>\n",
       "      <td>3</td>\n",
       "      <td>no</td>\n",
       "    </tr>\n",
       "    <tr>\n",
       "      <th>g</th>\n",
       "      <td>snake</td>\n",
       "      <td>4.5</td>\n",
       "      <td>1</td>\n",
       "      <td>no</td>\n",
       "    </tr>\n",
       "    <tr>\n",
       "      <th>h</th>\n",
       "      <td>cat</td>\n",
       "      <td>NaN</td>\n",
       "      <td>1</td>\n",
       "      <td>yes</td>\n",
       "    </tr>\n",
       "    <tr>\n",
       "      <th>i</th>\n",
       "      <td>dog</td>\n",
       "      <td>7.0</td>\n",
       "      <td>2</td>\n",
       "      <td>no</td>\n",
       "    </tr>\n",
       "    <tr>\n",
       "      <th>j</th>\n",
       "      <td>dog</td>\n",
       "      <td>3.0</td>\n",
       "      <td>1</td>\n",
       "      <td>no</td>\n",
       "    </tr>\n",
       "  </tbody>\n",
       "</table>\n",
       "</div>"
      ],
      "text/plain": [
       "  animal  age  visits priority\n",
       "a    cat  2.5       1      yes\n",
       "b    cat  3.0       3      yes\n",
       "c  snake  0.5       2       no\n",
       "d    dog  NaN       3      yes\n",
       "e    dog  5.0       2       no\n",
       "f    cat  2.0       3       no\n",
       "g  snake  4.5       1       no\n",
       "h    cat  NaN       1      yes\n",
       "i    dog  7.0       2       no\n",
       "j    dog  3.0       1       no"
      ]
     },
     "execution_count": 2,
     "metadata": {},
     "output_type": "execute_result"
    }
   ],
   "source": [
    "df"
   ]
  },
  {
   "cell_type": "code",
   "execution_count": 48,
   "id": "54db75f4-3e86-409b-b049-4f9516801fb7",
   "metadata": {},
   "outputs": [
    {
     "name": "stdout",
     "output_type": "stream",
     "text": [
      "  animal  age  visits priority\n",
      "a    cat  2.5       1      yes\n",
      "f    cat  2.0       3       no\n"
     ]
    }
   ],
   "source": [
    "filter_animals(df, 'cat')"
   ]
  },
  {
   "cell_type": "code",
   "execution_count": 20,
   "id": "f103aba6-cc8f-4660-9865-69c662a31123",
   "metadata": {},
   "outputs": [
    {
     "data": {
      "text/plain": [
       "True"
      ]
     },
     "execution_count": 20,
     "metadata": {},
     "output_type": "execute_result"
    }
   ],
   "source": [
    "'dog' in set(df['animal'].tolist())"
   ]
  },
  {
   "cell_type": "code",
   "execution_count": 163,
   "id": "59c95399-fba4-4c8d-a89f-9726c7101dc6",
   "metadata": {},
   "outputs": [],
   "source": [
    "import pandas as pd\n",
    "import numpy as np\n",
    "\n",
    "data = {'animal': ['cat', 'cat', 'snake', 'dog', 'dog', 'cat', 'snake', 'cat', 'dog', 'dog'],\n",
    "        'age': [2.5, 3, 0.5, np.nan, 5, 2, 4.5, np.nan, 7, 3],\n",
    "        'visits': [1, 3, 2, 3, 2, 3, 1, 1, 2, 1],\n",
    "        'priority': ['yes', 'yes', 'no', 'yes', 'no', 'no', 'no', 'yes', 'no', 'no']}\n",
    "\n",
    "labels = ['a', 'b', 'c', 'd', 'e', 'f', 'g', 'h', 'i', 'j']\n",
    "\n",
    "df = pd.DataFrame(data, index=labels)\n",
    "\n",
    "\"\"\"\n",
    "Write a function that takes dataframe df (defined above) as input and returns filtered dataframe with:\n",
    "        - Only numeric columns\n",
    "        - Only rows without any missing values\n",
    "\n",
    "Notes:\n",
    "        - Don’t select the columns and rows manually (use filtering)\n",
    "\"\"\"\n",
    "\n",
    "def filter_dataframe(df):\n",
    "    num_cols = df.dtypes[df.dtypes != object].index.tolist()\n",
    "    df_all = df.dropna()\n",
    "    return(df_all[num_cols])"
   ]
  },
  {
   "cell_type": "code",
   "execution_count": 161,
   "id": "2eb36d84-d130-44a6-9a2f-8dd769fef4b4",
   "metadata": {},
   "outputs": [
    {
     "data": {
      "text/html": [
       "<div>\n",
       "<style scoped>\n",
       "    .dataframe tbody tr th:only-of-type {\n",
       "        vertical-align: middle;\n",
       "    }\n",
       "\n",
       "    .dataframe tbody tr th {\n",
       "        vertical-align: top;\n",
       "    }\n",
       "\n",
       "    .dataframe thead th {\n",
       "        text-align: right;\n",
       "    }\n",
       "</style>\n",
       "<table border=\"1\" class=\"dataframe\">\n",
       "  <thead>\n",
       "    <tr style=\"text-align: right;\">\n",
       "      <th></th>\n",
       "      <th>Age</th>\n",
       "      <th>Rating</th>\n",
       "    </tr>\n",
       "  </thead>\n",
       "  <tbody>\n",
       "    <tr>\n",
       "      <th>0</th>\n",
       "      <td>25</td>\n",
       "      <td>4.23</td>\n",
       "    </tr>\n",
       "    <tr>\n",
       "      <th>1</th>\n",
       "      <td>26</td>\n",
       "      <td>3.24</td>\n",
       "    </tr>\n",
       "    <tr>\n",
       "      <th>2</th>\n",
       "      <td>25</td>\n",
       "      <td>3.98</td>\n",
       "    </tr>\n",
       "    <tr>\n",
       "      <th>3</th>\n",
       "      <td>23</td>\n",
       "      <td>2.56</td>\n",
       "    </tr>\n",
       "    <tr>\n",
       "      <th>4</th>\n",
       "      <td>30</td>\n",
       "      <td>3.20</td>\n",
       "    </tr>\n",
       "    <tr>\n",
       "      <th>5</th>\n",
       "      <td>29</td>\n",
       "      <td>4.60</td>\n",
       "    </tr>\n",
       "    <tr>\n",
       "      <th>6</th>\n",
       "      <td>23</td>\n",
       "      <td>3.80</td>\n",
       "    </tr>\n",
       "    <tr>\n",
       "      <th>7</th>\n",
       "      <td>34</td>\n",
       "      <td>3.78</td>\n",
       "    </tr>\n",
       "    <tr>\n",
       "      <th>8</th>\n",
       "      <td>40</td>\n",
       "      <td>2.98</td>\n",
       "    </tr>\n",
       "    <tr>\n",
       "      <th>9</th>\n",
       "      <td>30</td>\n",
       "      <td>4.80</td>\n",
       "    </tr>\n",
       "    <tr>\n",
       "      <th>10</th>\n",
       "      <td>51</td>\n",
       "      <td>4.10</td>\n",
       "    </tr>\n",
       "    <tr>\n",
       "      <th>11</th>\n",
       "      <td>46</td>\n",
       "      <td>3.65</td>\n",
       "    </tr>\n",
       "  </tbody>\n",
       "</table>\n",
       "</div>"
      ],
      "text/plain": [
       "    Age  Rating\n",
       "0    25    4.23\n",
       "1    26    3.24\n",
       "2    25    3.98\n",
       "3    23    2.56\n",
       "4    30    3.20\n",
       "5    29    4.60\n",
       "6    23    3.80\n",
       "7    34    3.78\n",
       "8    40    2.98\n",
       "9    30    4.80\n",
       "10   51    4.10\n",
       "11   46    3.65"
      ]
     },
     "execution_count": 161,
     "metadata": {},
     "output_type": "execute_result"
    }
   ],
   "source": [
    "filter_dataframe(df)"
   ]
  },
  {
   "cell_type": "code",
   "execution_count": 222,
   "id": "6a1c037c-95ea-48e4-bf0b-450aef62f554",
   "metadata": {},
   "outputs": [],
   "source": [
    "import pandas as pd\n",
    "import numpy as np\n",
    "\n",
    "#Create a Dictionary of series\n",
    "d = {'Name':pd.Series(['Andres','James','David','Vin','Steve','David','Jack',\n",
    "   'Lee','David','Gasper','Betina','Andres']),\n",
    "   'Age':pd.Series([25,26,25,23,30,29,23,34,40,30,51,46]),\n",
    "   'Rating':pd.Series([4.23,3.24,3.98,2.56,3.20,4.6,3.8,3.78,2.98,4.80,4.10,3.65])\n",
    "}\n",
    "\n",
    "#Create a DataFrame\n",
    "df = pd.DataFrame(d)\n",
    "\n",
    "\"\"\"\n",
    "Write a function that takes df (defined above) as input and returns tuple with 3 values:\n",
    "   - Most common name (string)\n",
    "   - Average age (float)\n",
    "   - IQR of rating (float)\n",
    "\n",
    "Notes:\n",
    "   - Average age and IQR must be float not numpy.float64 type\n",
    "\"\"\"\n",
    "\n",
    "\n",
    "def compute_statistics(df):\n",
    "    name_mode = df['Name'].mode()[0]\n",
    "    age_mean = float(df['Age'].mean())\n",
    "    \n",
    "    q75, q25 = np.percentile(df['Rating'], [75 ,25])\n",
    "    rating_iqr = float(q75 - q25)\n",
    "    \n",
    "    return((name_mode, age_mean, rating_iqr))"
   ]
  },
  {
   "cell_type": "code",
   "execution_count": 215,
   "id": "ca2f0586-4dc0-43bd-808c-2d1c71c184d7",
   "metadata": {},
   "outputs": [
    {
     "data": {
      "text/plain": [
       "('David', 31.833333333333332, 0.9024999999999999)"
      ]
     },
     "execution_count": 215,
     "metadata": {},
     "output_type": "execute_result"
    }
   ],
   "source": [
    "compute_statistics(df)"
   ]
  },
  {
   "cell_type": "code",
   "execution_count": 183,
   "id": "c30baad5-d8b5-4c1a-98ea-635926ea8e9d",
   "metadata": {},
   "outputs": [
    {
     "data": {
      "text/html": [
       "<div>\n",
       "<style scoped>\n",
       "    .dataframe tbody tr th:only-of-type {\n",
       "        vertical-align: middle;\n",
       "    }\n",
       "\n",
       "    .dataframe tbody tr th {\n",
       "        vertical-align: top;\n",
       "    }\n",
       "\n",
       "    .dataframe thead th {\n",
       "        text-align: right;\n",
       "    }\n",
       "</style>\n",
       "<table border=\"1\" class=\"dataframe\">\n",
       "  <thead>\n",
       "    <tr style=\"text-align: right;\">\n",
       "      <th></th>\n",
       "      <th>Name</th>\n",
       "      <th>Age</th>\n",
       "      <th>Rating</th>\n",
       "    </tr>\n",
       "  </thead>\n",
       "  <tbody>\n",
       "    <tr>\n",
       "      <th>0</th>\n",
       "      <td>Andres</td>\n",
       "      <td>25</td>\n",
       "      <td>4.23</td>\n",
       "    </tr>\n",
       "    <tr>\n",
       "      <th>1</th>\n",
       "      <td>James</td>\n",
       "      <td>26</td>\n",
       "      <td>3.24</td>\n",
       "    </tr>\n",
       "    <tr>\n",
       "      <th>2</th>\n",
       "      <td>David</td>\n",
       "      <td>25</td>\n",
       "      <td>3.98</td>\n",
       "    </tr>\n",
       "    <tr>\n",
       "      <th>3</th>\n",
       "      <td>Vin</td>\n",
       "      <td>23</td>\n",
       "      <td>2.56</td>\n",
       "    </tr>\n",
       "    <tr>\n",
       "      <th>4</th>\n",
       "      <td>Steve</td>\n",
       "      <td>30</td>\n",
       "      <td>3.20</td>\n",
       "    </tr>\n",
       "    <tr>\n",
       "      <th>5</th>\n",
       "      <td>David</td>\n",
       "      <td>29</td>\n",
       "      <td>4.60</td>\n",
       "    </tr>\n",
       "    <tr>\n",
       "      <th>6</th>\n",
       "      <td>Jack</td>\n",
       "      <td>23</td>\n",
       "      <td>3.80</td>\n",
       "    </tr>\n",
       "    <tr>\n",
       "      <th>7</th>\n",
       "      <td>Lee</td>\n",
       "      <td>34</td>\n",
       "      <td>3.78</td>\n",
       "    </tr>\n",
       "    <tr>\n",
       "      <th>8</th>\n",
       "      <td>David</td>\n",
       "      <td>40</td>\n",
       "      <td>2.98</td>\n",
       "    </tr>\n",
       "    <tr>\n",
       "      <th>9</th>\n",
       "      <td>Gasper</td>\n",
       "      <td>30</td>\n",
       "      <td>4.80</td>\n",
       "    </tr>\n",
       "    <tr>\n",
       "      <th>10</th>\n",
       "      <td>Betina</td>\n",
       "      <td>51</td>\n",
       "      <td>4.10</td>\n",
       "    </tr>\n",
       "    <tr>\n",
       "      <th>11</th>\n",
       "      <td>Andres</td>\n",
       "      <td>46</td>\n",
       "      <td>3.65</td>\n",
       "    </tr>\n",
       "  </tbody>\n",
       "</table>\n",
       "</div>"
      ],
      "text/plain": [
       "      Name  Age  Rating\n",
       "0   Andres   25    4.23\n",
       "1    James   26    3.24\n",
       "2    David   25    3.98\n",
       "3      Vin   23    2.56\n",
       "4    Steve   30    3.20\n",
       "5    David   29    4.60\n",
       "6     Jack   23    3.80\n",
       "7      Lee   34    3.78\n",
       "8    David   40    2.98\n",
       "9   Gasper   30    4.80\n",
       "10  Betina   51    4.10\n",
       "11  Andres   46    3.65"
      ]
     },
     "execution_count": 183,
     "metadata": {},
     "output_type": "execute_result"
    }
   ],
   "source": [
    "df"
   ]
  },
  {
   "cell_type": "code",
   "execution_count": 213,
   "id": "9d2826ef-5203-4cbc-9d63-aa3d0d2d71e0",
   "metadata": {},
   "outputs": [
    {
     "data": {
      "text/plain": [
       "'David'"
      ]
     },
     "execution_count": 213,
     "metadata": {},
     "output_type": "execute_result"
    }
   ],
   "source": [
    "df['Name'].mode()[0]"
   ]
  },
  {
   "cell_type": "code",
   "execution_count": 219,
   "id": "a5b40401-4ba0-4348-a095-9cebe6665b38",
   "metadata": {},
   "outputs": [
    {
     "data": {
      "text/plain": [
       "31.833333333333332"
      ]
     },
     "execution_count": 219,
     "metadata": {},
     "output_type": "execute_result"
    }
   ],
   "source": [
    "float(df['Age'].mean())"
   ]
  },
  {
   "cell_type": "code",
   "execution_count": 221,
   "id": "a8900040-2350-4487-9e97-bbdb7d648686",
   "metadata": {},
   "outputs": [
    {
     "data": {
      "text/plain": [
       "0.9024999999999999"
      ]
     },
     "execution_count": 221,
     "metadata": {},
     "output_type": "execute_result"
    }
   ],
   "source": [
    "q75, q25 = np.percentile(df['Rating'], [75 ,25])\n",
    "iqr = q75 - q25\n",
    "iqr"
   ]
  },
  {
   "cell_type": "code",
   "execution_count": null,
   "id": "45e6e670-1624-4c99-aa24-8eba34909899",
   "metadata": {},
   "outputs": [],
   "source": [
    "\"\"\"\n",
    " - Connect to the hr.db (stored in supporting-files directory) with sqlite3 \n",
    " - Write a query to find the names (first_name, last_name) of the employees who have a manager who works for a department based in the United States. \n",
    " \n",
    "\n",
    "Expected columns:\n",
    "    - first_name\t\n",
    "    - last_name\t\n",
    "    - manager_od\n",
    "\n",
    "Notes:\n",
    "    - Use tables employees, departments and locations\n",
    "    - You shouldn’t use JOINs here. \n",
    "    - You can connect to DB from Jupyter Lab/Notebook, explore the table and try different queries\n",
    "    - In the variable 'SQL' store only the final query ready for validation \n",
    "\"\"\"\n",
    "\n",
    "\n",
    "SQL = \"\"\"\n",
    "SELECT first_name, last_name, manager_id\n",
    "    FROM employees\n",
    "    WHERE manager_id in (SELECT manager_id\n",
    "                            FROM employees\n",
    "                            WHERE department_id in (SELECT department_id\n",
    "                                                        FROM departments\n",
    "                                                        WHERE location_id in (SELECT location_id\n",
    "                                                                                FROM locations\n",
    "                                                                                WHERE country_id in (SELECT country_id\n",
    "                                                                                                        FROM countries\n",
    "                                                                                                        WHERE country_name is 'United States of America'))))\"\"\""
   ]
  },
  {
   "cell_type": "code",
   "execution_count": null,
   "id": "c55a5169-bfc6-4efe-8b96-15020468be45",
   "metadata": {},
   "outputs": [],
   "source": [
    "\"\"\"\n",
    " - Connect to the hr.db (stored in supporting-files directory) with sqlite3 \n",
    " - Write a query to get the difference (salary_span) between min and max salary for each job ID excluding programmer (job_id = 9) and sort it, starting with the highest salary_span.\n",
    "\n",
    "\n",
    "\n",
    "Expected columns:\n",
    "    - job_id\t\n",
    "    - salary_span\n",
    "\n",
    "Notes:\n",
    "    - Use employees table\n",
    "    - You can connect to DB from Jupyter Lab/Notebook, explore the table and try different queries\n",
    "    - In the variable 'SQL' store only the final query ready for validation \n",
    "\"\"\"\n",
    "\n",
    "\n",
    "SQL = \"\"\"\n",
    "SELECT job_id, max(salary)-min(salary) as salary_span FROM employees\n",
    "WHERE job_id != 9\n",
    "GROUP BY job_id\n",
    "ORDER BY salary_span DESC\"\"\""
   ]
  }
 ],
 "metadata": {
  "kernelspec": {
   "display_name": "Python 3",
   "language": "python",
   "name": "python3"
  },
  "language_info": {
   "codemirror_mode": {
    "name": "ipython",
    "version": 3
   },
   "file_extension": ".py",
   "mimetype": "text/x-python",
   "name": "python",
   "nbconvert_exporter": "python",
   "pygments_lexer": "ipython3",
   "version": "3.8.5"
  }
 },
 "nbformat": 4,
 "nbformat_minor": 5
}
