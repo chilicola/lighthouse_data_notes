{
 "cells": [
  {
   "cell_type": "code",
   "execution_count": 1,
   "id": "09776602",
   "metadata": {},
   "outputs": [],
   "source": [
    "# import libraries\n",
    "from tensorflow.keras.models import Sequential\n",
    "from tensorflow.keras.layers import Convolution2D\n",
    "from tensorflow.keras.layers import MaxPooling2D\n",
    "from tensorflow.keras.layers import Flatten\n",
    "from tensorflow.keras.layers import Dense"
   ]
  },
  {
   "cell_type": "code",
   "execution_count": 3,
   "id": "899ca13b",
   "metadata": {},
   "outputs": [],
   "source": [
    "# initialising the CNN\n",
    "classifier = Sequential()\n",
    "\n",
    "# step 1 - convolution\n",
    "classifier.add(Convolution2D(32, 3, 3, input_shape=(64, 64, 3), activation='relu'))\n",
    "# step 2 - pooling\n",
    "classifier.add(MaxPooling2D(pool_size=(2,2)))\n",
    "# step 3 - flattening\n",
    "classifier.add(Flatten())\n",
    "# step 4 - full connection\n",
    "classifier.add(Dense(128, activation='relu'))\n",
    "classifier.add(Dense(1, activation='sigmoid'))\n",
    "\n",
    "# compiling the CNN\n",
    "classifier.compile(optimizer='adam', loss='binary_crossentropy', metrics=['accuracy'])"
   ]
  },
  {
   "cell_type": "code",
   "execution_count": 4,
   "id": "c0c5632d",
   "metadata": {},
   "outputs": [
    {
     "name": "stdout",
     "output_type": "stream",
     "text": [
      "Found 8000 images belonging to 2 classes.\n",
      "Found 2000 images belonging to 2 classes.\n"
     ]
    }
   ],
   "source": [
    "# data augmentation\n",
    "## creating more data from existing dataset\n",
    "\n",
    "from tensorflow.keras.preprocessing.image import ImageDataGenerator\n",
    "\n",
    "train_datagen = ImageDataGenerator(rescale=1./255, \n",
    "                                  shear_range=0.2,\n",
    "                                  zoom_range=0.2,\n",
    "                                  horizontal_flip=True)\n",
    "\n",
    "test_datagen = ImageDataGenerator(rescale=1./255)\n",
    "\n",
    "training_set = train_datagen.flow_from_directory('data/training_set',\n",
    "                                                target_size=(64, 64),\n",
    "                                                batch_size=32,\n",
    "                                                class_mode='binary')\n",
    "\n",
    "test_set = test_datagen.flow_from_directory('data/test_set',\n",
    "                                           target_size=(64, 64),\n",
    "                                           batch_size=32,\n",
    "                                           class_mode='binary')"
   ]
  },
  {
   "cell_type": "code",
   "execution_count": 5,
   "id": "b141b1a2",
   "metadata": {},
   "outputs": [
    {
     "name": "stderr",
     "output_type": "stream",
     "text": [
      "/opt/conda/lib/python3.9/site-packages/tensorflow/python/keras/engine/training.py:1844: UserWarning: `Model.fit_generator` is deprecated and will be removed in a future version. Please use `Model.fit`, which supports generators.\n",
      "  warnings.warn('`Model.fit_generator` is deprecated and '\n",
      "2021-07-15 01:40:40.196865: I tensorflow/compiler/mlir/mlir_graph_optimization_pass.cc:116] None of the MLIR optimization passes are enabled (registered 2)\n",
      "2021-07-15 01:40:40.198058: I tensorflow/core/platform/profile_utils/cpu_utils.cc:112] CPU Frequency: 4199995000 Hz\n"
     ]
    },
    {
     "name": "stdout",
     "output_type": "stream",
     "text": [
      "Epoch 1/10\n",
      "50/50 [==============================] - 36s 712ms/step - loss: 0.7306 - accuracy: 0.4899 - val_loss: 0.6828 - val_accuracy: 0.5485\n",
      "Epoch 2/10\n",
      "50/50 [==============================] - 23s 461ms/step - loss: 0.6810 - accuracy: 0.5577 - val_loss: 0.6628 - val_accuracy: 0.5610\n",
      "Epoch 3/10\n",
      "50/50 [==============================] - 22s 435ms/step - loss: 0.6557 - accuracy: 0.6036 - val_loss: 0.6327 - val_accuracy: 0.6765\n",
      "Epoch 4/10\n",
      "50/50 [==============================] - 21s 416ms/step - loss: 0.6581 - accuracy: 0.6021 - val_loss: 0.6264 - val_accuracy: 0.6535\n",
      "Epoch 5/10\n",
      "50/50 [==============================] - 20s 397ms/step - loss: 0.6306 - accuracy: 0.6599 - val_loss: 0.6092 - val_accuracy: 0.6800\n",
      "Epoch 6/10\n",
      "50/50 [==============================] - 20s 394ms/step - loss: 0.6413 - accuracy: 0.6290 - val_loss: 0.6072 - val_accuracy: 0.6825\n",
      "Epoch 7/10\n",
      "50/50 [==============================] - 19s 384ms/step - loss: 0.6071 - accuracy: 0.6655 - val_loss: 0.6425 - val_accuracy: 0.6315\n",
      "Epoch 8/10\n",
      "50/50 [==============================] - 18s 369ms/step - loss: 0.6091 - accuracy: 0.6667 - val_loss: 0.5896 - val_accuracy: 0.6860\n",
      "Epoch 9/10\n",
      "50/50 [==============================] - 18s 361ms/step - loss: 0.5980 - accuracy: 0.6743 - val_loss: 0.5899 - val_accuracy: 0.6880\n",
      "Epoch 10/10\n",
      "50/50 [==============================] - 18s 355ms/step - loss: 0.6083 - accuracy: 0.6632 - val_loss: 0.5743 - val_accuracy: 0.7070\n"
     ]
    }
   ],
   "source": [
    "# training\n",
    "history = classifier.fit_generator(training_set,\n",
    "                                  steps_per_epoch=50,\n",
    "                                  epochs=10,\n",
    "                                  validation_data=test_set)"
   ]
  },
  {
   "cell_type": "code",
   "execution_count": 6,
   "id": "049fef8e",
   "metadata": {},
   "outputs": [
    {
     "data": {
      "image/png": "[encoded data removed]",
      "text/plain": [
       "<Figure size 432x288 with 1 Axes>"
      ]
     },
     "metadata": {
      "needs_background": "light"
     },
     "output_type": "display_data"
    }
   ],
   "source": [
    "# check with graph on loss during training\n",
    "import matplotlib.pyplot as plt\n",
    "\n",
    "# plot history\n",
    "plt.plot(history.history['loss'], label='train')\n",
    "plt.plot(history.history['val_loss'], label='test')\n",
    "plt.legend()\n",
    "plt.show()"
   ]
  },
  {
   "cell_type": "code",
   "execution_count": 8,
   "id": "be88a04b",
   "metadata": {},
   "outputs": [
    {
     "name": "stdout",
     "output_type": "stream",
     "text": [
      "dog\n"
     ]
    }
   ],
   "source": [
    "# testing\n",
    "import numpy as np\n",
    "from tensorflow.keras.preprocessing import image\n",
    "\n",
    "# loading an image from the disk\n",
    "test_image = image.load_img('random_dog.png', target_size=(64, 64))\n",
    "\n",
    "# converting the image to a numpy array\n",
    "test_image = image.img_to_array(test_image)\n",
    "test_image = np.expand_dims(test_image, axis=0)\n",
    "result = classifier.predict(test_image)\n",
    "# print(training_set.class_indices) <-- refer to the cell below for output\n",
    "\n",
    "# our cut-off\n",
    "if result[0][0] >= 0.5:\n",
    "    prediction = 'dog'\n",
    "else:\n",
    "    prediction = 'cat'\n",
    "\n",
    "print(prediction)"
   ]
  },
  {
   "cell_type": "code",
   "execution_count": 7,
   "id": "5bd93c34",
   "metadata": {},
   "outputs": [
    {
     "name": "stdout",
     "output_type": "stream",
     "text": [
      "{'cats': 0, 'dogs': 1}\n"
     ]
    }
   ],
   "source": [
    "print(training_set.class_indices)"
   ]
  }
 ],
 "metadata": {
  "kernelspec": {
   "display_name": "Python 3 (ipykernel)",
   "language": "python",
   "name": "python3"
  },
  "language_info": {
   "codemirror_mode": {
    "name": "ipython",
    "version": 3
   },
   "file_extension": ".py",
   "mimetype": "text/x-python",
   "name": "python",
   "nbconvert_exporter": "python",
   "pygments_lexer": "ipython3",
   "version": "3.9.5"
  }
 },
 "nbformat": 4,
 "nbformat_minor": 5
}
