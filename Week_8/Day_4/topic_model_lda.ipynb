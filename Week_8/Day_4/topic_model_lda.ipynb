{
 "cells": [
  {
   "cell_type": "markdown",
   "id": "ffbc774a-31d9-4533-bc3c-de6f9136ad1b",
   "metadata": {},
   "source": [
    "#### Data Preprocessing"
   ]
  },
  {
   "cell_type": "code",
   "execution_count": 1,
   "id": "1ca121c0-e1e8-46e6-960b-d4a3418fd708",
   "metadata": {},
   "outputs": [],
   "source": [
    "from sklearn.datasets import fetch_20newsgroups\n",
    "\n",
    "dataset = fetch_20newsgroups(shuffle=True, random_state=1, remove=('headers', 'footers', 'quotes'))\n",
    "documents = dataset.data"
   ]
  },
  {
   "cell_type": "code",
   "execution_count": 4,
   "id": "599a25bd-d41d-443a-b565-f0d928f34c90",
   "metadata": {},
   "outputs": [],
   "source": [
    "from sklearn.feature_extraction.text import TfidfVectorizer, CountVectorizer\n",
    "# from nltk.corpus import stopwords\n",
    "\n",
    "no_features = 1000\n",
    "# stop_words = stopwords.words('english')\n",
    "\n",
    "# NMF is able to use tf-idf\n",
    "tfidf_vectorizer = TfidfVectorizer(max_df=0.95, min_df=2, max_features=no_features, stop_words='english')\n",
    "tfidf = tfidf_vectorizer.fit_transform(documents)\n",
    "tfidf_feature_names = tfidf_vectorizer.get_feature_names()\n",
    "\n",
    "# LDA can only use raw term counts for LDA because it is a probabilistic graphical model\n",
    "tf_vectorizer = CountVectorizer(max_df=0.95, min_df=2, max_features=no_features, stop_words='english')\n",
    "tf = tf_vectorizer.fit_transform(documents)\n",
    "tf_feature_names = tf_vectorizer.get_feature_names()"
   ]
  },
  {
   "cell_type": "markdown",
   "id": "ebcd0153-80b0-4e0f-86f6-fac9c76d00c4",
   "metadata": {},
   "source": [
    "#### NMF and LDA with SKlearn"
   ]
  },
  {
   "cell_type": "code",
   "execution_count": 5,
   "id": "090a0dbd-b7b0-42b0-ad22-6d6ee2ae6524",
   "metadata": {},
   "outputs": [],
   "source": [
    "from sklearn.decomposition import NMF, LatentDirichletAllocation\n",
    "\n",
    "no_topics = 20\n",
    "\n",
    "# run NMF\n",
    "nmf = NMF(n_components=no_topics, random_state=1, alpha=.1, l1_ratio=.5, init='nndsvd').fit(tfidf)\n",
    "\n",
    "# run LDA\n",
    "lda = LatentDirichletAllocation(n_components=no_topics, max_iter=5, learning_method='online', learning_offset=50., random_state=0).fit(tf)"
   ]
  },
  {
   "cell_type": "markdown",
   "id": "88d08c59-5ab6-433f-83a6-619c57a674e5",
   "metadata": {},
   "source": [
    "#### Displaying and Evaluating Topics"
   ]
  },
  {
   "cell_type": "code",
   "execution_count": 12,
   "id": "27dae576-da12-41bd-b153-11ec1b11e1ae",
   "metadata": {
    "scrolled": true,
    "tags": []
   },
   "outputs": [],
   "source": [
    "def display_topics(model, feature_names, no_top_words):\n",
    "    for topic_idx, topic in enumerate(model.components_):\n",
    "        print(f'Topic {topic_idx}:')\n",
    "        print(' '.join([feature_names[i] for i in topic.argsort()[:no_top_words -1:1]]))"
   ]
  },
  {
   "cell_type": "code",
   "execution_count": 13,
   "id": "a70a9a00-daf7-418c-ab5d-ac998452ad65",
   "metadata": {
    "scrolled": true,
    "tags": []
   },
   "outputs": [
    {
     "name": "stdout",
     "output_type": "stream",
     "text": [
      "NMF\n",
      "Topic 0:\n",
      "00 serial condition season controller scsi screen sale cx\n",
      "Topic 1:\n",
      "00 ma mail making man mark market mass material\n",
      "Topic 2:\n",
      "00 military million mit mode model modem money monitor\n",
      "Topic 3:\n",
      "00 mind mit mode model modem monitor month months\n",
      "Topic 4:\n",
      "instead define defense decided death person personal physical held\n",
      "Topic 5:\n",
      "00 members memory men mention mike military million mind\n",
      "Topic 6:\n",
      "00 matter max mb mean meaning medical members men\n",
      "Topic 7:\n",
      "00 moral motif mouse ms multiple national nature necessary\n",
      "Topic 8:\n",
      "00 man manager manual mark mass matter max mb\n",
      "Topic 9:\n",
      "00 money month months moral motif mr multiple nasa\n",
      "Topic 10:\n",
      "00 needs net network news nhl nice night non\n",
      "Topic 11:\n",
      "00 multiple nasa national nature near necessary need needed\n",
      "Topic 12:\n",
      "00 money month moral motif mr ms multiple nasa\n",
      "Topic 13:\n",
      "00 night non normal north note nsa number numbers\n",
      "Topic 14:\n",
      "00 model modem monitor month months moral motif mouse\n",
      "Topic 15:\n",
      "00 million mind mit mode modem monitor month moral\n",
      "Topic 16:\n",
      "00 moral motif mouse mr ms multiple nasa national\n",
      "Topic 17:\n",
      "00 ma mail making man manager manual mark market\n",
      "Topic 18:\n",
      "00 night non normal north note nsa number numbers\n",
      "Topic 19:\n",
      "00 need needs new newsgroup nhl nice night non\n"
     ]
    }
   ],
   "source": [
    "no_top_words = 10\n",
    "\n",
    "print('NMF')\n",
    "display_topics(nmf, tfidf_feature_names, no_top_words)"
   ]
  },
  {
   "cell_type": "code",
   "execution_count": 14,
   "id": "8f79886b-62e6-433e-8d63-1c42b2b477c3",
   "metadata": {
    "scrolled": true,
    "tags": []
   },
   "outputs": [
    {
     "name": "stdout",
     "output_type": "stream",
     "text": [
      "LDA\n",
      "Topic 0:\n",
      "145 orbit giz gk a86 bxn lk encryption bhj\n",
      "Topic 1:\n",
      "g9v 6ei 1d9 2tm gk giz w7 1t 3t\n",
      "Topic 2:\n",
      "75u soviet escrow 2tm russian 2di christians keyboard protect\n",
      "Topic 3:\n",
      "d9 red church bxn christ b8f 7u bh atheism\n",
      "Topic 4:\n",
      "security peace congress printer talking father giving act bxn\n",
      "Topic 5:\n",
      "insurance b8f fbi w7 turkish 7ey 55 75u gk\n",
      "Topic 6:\n",
      "crime giz turkish 3t israeli 0d published 75u enforcement\n",
      "Topic 7:\n",
      "ide clipper bus unit orbit 1d9 g9v drives 34u\n",
      "Topic 8:\n",
      "3d cx bhj pts clipper x11 giz 1t 3t\n",
      "Topic 9:\n",
      "d9 0d turkish firearms turkey turks bh 2tm wm\n",
      "Topic 10:\n",
      "0t 7ey armenians oh religion truth chz jews gm\n",
      "Topic 11:\n",
      "voice clipper key wire chip installed guns shuttle turkey\n",
      "Topic 12:\n",
      "3t chz 7ey g9v pts gk la x11 2di\n",
      "Topic 13:\n",
      "shall gm nature pp gets bike christians escrow enforcement\n",
      "Topic 14:\n",
      "75u turkish turks father bxn cx 6ei gm 34u\n",
      "Topic 15:\n",
      "7u escrow 3t armenians citizens stephanopoulos clipper 0t board\n",
      "Topic 16:\n",
      "atheism authority wire belief ax a86 7u christians scsi\n",
      "Topic 17:\n",
      "drives a86 ide 75u israeli 2di 7ey chz god\n",
      "Topic 18:\n",
      "speed 04 03 keyboard b8f serial 75u g9v 9v\n",
      "Topic 19:\n",
      "gk pub keyboard pts ax 2di drives pl 7u\n"
     ]
    }
   ],
   "source": [
    "print('LDA')\n",
    "display_topics(lda, tf_feature_names, no_top_words)"
   ]
  }
 ],
 "metadata": {
  "kernelspec": {
   "display_name": "Python 3",
   "language": "python",
   "name": "python3"
  },
  "language_info": {
   "codemirror_mode": {
    "name": "ipython",
    "version": 3
   },
   "file_extension": ".py",
   "mimetype": "text/x-python",
   "name": "python",
   "nbconvert_exporter": "python",
   "pygments_lexer": "ipython3",
   "version": "3.8.5"
  }
 },
 "nbformat": 4,
 "nbformat_minor": 5
}
