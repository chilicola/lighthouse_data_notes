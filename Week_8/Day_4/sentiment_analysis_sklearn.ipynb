{
 "cells": [
  {
   "cell_type": "markdown",
   "id": "41842966-610b-4582-8d6d-d2b4dff5ea96",
   "metadata": {},
   "source": [
    "[YouTube Guide](https://www.youtube.com/watch?v=oXZThwEF4r0&ab_channel=MikeBernico)"
   ]
  },
  {
   "cell_type": "code",
   "execution_count": 12,
   "id": "9186d081-d1ec-49aa-90a2-221da546c3e1",
   "metadata": {},
   "outputs": [],
   "source": [
    "import numpy as np\n",
    "import pandas as pd\n",
    "import nltk\n",
    "from nltk.corpus import stopwords\n",
    "from sklearn.feature_extraction.text import TfidfVectorizer\n",
    "from sklearn.model_selection import train_test_split\n",
    "from sklearn import naive_bayes, metrics"
   ]
  },
  {
   "cell_type": "code",
   "execution_count": 2,
   "id": "b9249c83-6b8e-423a-817b-2f63ebdec7eb",
   "metadata": {},
   "outputs": [],
   "source": [
    "# load data\n",
    "df = pd.read_csv('data/UMICH_SI650_Sentiment_Classification.txt', sep='\\t', names=['liked', 'txt'])"
   ]
  },
  {
   "cell_type": "code",
   "execution_count": 3,
   "id": "04ca4ce7-f48d-413f-9134-9dd84a91ee43",
   "metadata": {},
   "outputs": [
    {
     "data": {
      "text/html": [
       "<div>\n",
       "<style scoped>\n",
       "    .dataframe tbody tr th:only-of-type {\n",
       "        vertical-align: middle;\n",
       "    }\n",
       "\n",
       "    .dataframe tbody tr th {\n",
       "        vertical-align: top;\n",
       "    }\n",
       "\n",
       "    .dataframe thead th {\n",
       "        text-align: right;\n",
       "    }\n",
       "</style>\n",
       "<table border=\"1\" class=\"dataframe\">\n",
       "  <thead>\n",
       "    <tr style=\"text-align: right;\">\n",
       "      <th></th>\n",
       "      <th>liked</th>\n",
       "      <th>txt</th>\n",
       "    </tr>\n",
       "  </thead>\n",
       "  <tbody>\n",
       "    <tr>\n",
       "      <th>0</th>\n",
       "      <td>1</td>\n",
       "      <td>The Da Vinci Code book is just awesome.</td>\n",
       "    </tr>\n",
       "    <tr>\n",
       "      <th>1</th>\n",
       "      <td>1</td>\n",
       "      <td>this was the first clive cussler i've ever rea...</td>\n",
       "    </tr>\n",
       "    <tr>\n",
       "      <th>2</th>\n",
       "      <td>1</td>\n",
       "      <td>i liked the Da Vinci Code a lot.</td>\n",
       "    </tr>\n",
       "    <tr>\n",
       "      <th>3</th>\n",
       "      <td>1</td>\n",
       "      <td>i liked the Da Vinci Code a lot.</td>\n",
       "    </tr>\n",
       "    <tr>\n",
       "      <th>4</th>\n",
       "      <td>1</td>\n",
       "      <td>I liked the Da Vinci Code but it ultimatly did...</td>\n",
       "    </tr>\n",
       "  </tbody>\n",
       "</table>\n",
       "</div>"
      ],
      "text/plain": [
       "   liked                                                txt\n",
       "0      1            The Da Vinci Code book is just awesome.\n",
       "1      1  this was the first clive cussler i've ever rea...\n",
       "2      1                   i liked the Da Vinci Code a lot.\n",
       "3      1                   i liked the Da Vinci Code a lot.\n",
       "4      1  I liked the Da Vinci Code but it ultimatly did..."
      ]
     },
     "execution_count": 3,
     "metadata": {},
     "output_type": "execute_result"
    }
   ],
   "source": [
    "df.head()"
   ]
  },
  {
   "cell_type": "code",
   "execution_count": 4,
   "id": "6b36d1cf-9655-4703-abd9-6531de93a0b9",
   "metadata": {},
   "outputs": [],
   "source": [
    "# TFIDF Vectorizer\n",
    "stopset = set(stopwords.words('english'))\n",
    "vectorizer = TfidfVectorizer(use_idf=True, lowercase=True, strip_accents='ascii', stop_words=stopset)"
   ]
  },
  {
   "cell_type": "code",
   "execution_count": 5,
   "id": "76459618-1ff4-41ea-865c-1c65b66913f5",
   "metadata": {},
   "outputs": [],
   "source": [
    "# in this case, our dependent variable will be liked as 0 (didn't like the movie) or 1 (liked the movie)\n",
    "y = df.liked"
   ]
  },
  {
   "cell_type": "code",
   "execution_count": 6,
   "id": "0491c722-d7cb-49de-bc61-24f44b9fa79f",
   "metadata": {},
   "outputs": [],
   "source": [
    "# covert df.txt from text to  features\n",
    "X = vectorizer.fit_transform(df.txt)"
   ]
  },
  {
   "cell_type": "code",
   "execution_count": 7,
   "id": "a99fa20f-b85b-4f07-a66e-291a2e9d05f8",
   "metadata": {},
   "outputs": [
    {
     "name": "stdout",
     "output_type": "stream",
     "text": [
      "(6918,)\n",
      "(6918, 2011)\n"
     ]
    }
   ],
   "source": [
    "# 6918 obervations x 2011 unique words\n",
    "print(y.shape)\n",
    "print(X.shape)"
   ]
  },
  {
   "cell_type": "code",
   "execution_count": 8,
   "id": "f855c620-d8be-4902-bad6-6b9475ff9217",
   "metadata": {},
   "outputs": [],
   "source": [
    "# test train split\n",
    "X_train, X_test, y_train, y_test = train_test_split(X, y, random_state=42)"
   ]
  },
  {
   "cell_type": "code",
   "execution_count": 9,
   "id": "9503c1da-77bf-469d-8174-2367faa5f19c",
   "metadata": {},
   "outputs": [
    {
     "data": {
      "text/plain": [
       "MultinomialNB()"
      ]
     },
     "execution_count": 9,
     "metadata": {},
     "output_type": "execute_result"
    }
   ],
   "source": [
    "# train Naive Bayes classifier\n",
    "clf = naive_bayes.MultinomialNB()\n",
    "clf.fit(X_train, y_train)"
   ]
  },
  {
   "cell_type": "code",
   "execution_count": 10,
   "id": "0097476d-09b9-4f54-9ac5-87bb93f93efb",
   "metadata": {},
   "outputs": [
    {
     "data": {
      "text/plain": [
       "0.9979292333245913"
      ]
     },
     "execution_count": 10,
     "metadata": {},
     "output_type": "execute_result"
    }
   ],
   "source": [
    "# test model's accuracy\n",
    "y_pred = clf.predict_proba(X_test)[:, 1]\n",
    "metrics.roc_auc_score(y_test, y_pred)"
   ]
  },
  {
   "cell_type": "code",
   "execution_count": 13,
   "id": "ac5102c8-a3ec-419c-8a27-14c8379b0d90",
   "metadata": {},
   "outputs": [
    {
     "name": "stdout",
     "output_type": "stream",
     "text": [
      "[0]\n"
     ]
    }
   ],
   "source": [
    "movie_reviews_array = np.array(['Jupiter Ascending was a disappointing and terrible movie'])\n",
    "movie_reviews_vector = vectorizer.transform(movie_reviews_array)\n",
    "print(clf.predict(movie_reviews_vector))"
   ]
  }
 ],
 "metadata": {
  "kernelspec": {
   "display_name": "Python 3",
   "language": "python",
   "name": "python3"
  },
  "language_info": {
   "codemirror_mode": {
    "name": "ipython",
    "version": 3
   },
   "file_extension": ".py",
   "mimetype": "text/x-python",
   "name": "python",
   "nbconvert_exporter": "python",
   "pygments_lexer": "ipython3",
   "version": "3.8.5"
  }
 },
 "nbformat": 4,
 "nbformat_minor": 5
}
