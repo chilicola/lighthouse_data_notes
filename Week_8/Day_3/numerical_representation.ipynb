{
 "cells": [
  {
   "cell_type": "markdown",
   "id": "91647756-6e98-43dd-9c32-bf9150727971",
   "metadata": {},
   "source": [
    "#### Bag of Words (BOW) Model"
   ]
  },
  {
   "cell_type": "code",
   "execution_count": 9,
   "id": "241615cf-092b-41fd-9d52-44e88cadb5ad",
   "metadata": {},
   "outputs": [
    {
     "name": "stdout",
     "output_type": "stream",
     "text": [
      "vocabulary: ['in', 'this', 'superb,', 'love', 'am', 'phone', 'i', 'hate']\n",
      "vectors: [[1, 1, 1, 1, 1, 1, 1, 0], [0, 1, 0, 0, 0, 1, 1, 1]]\n"
     ]
    }
   ],
   "source": [
    "docs = ['SUPERB, I AM IN LOVE IN THIS PHONE', 'I hate this phone']\n",
    "\n",
    "words = list(set([word for doc in docs for word in doc.lower().split()]))\n",
    "\n",
    "vectors =[]\n",
    "for doc in docs:\n",
    "    vectors.append([1 if word in doc.lower().split() else 0 for word in words])\n",
    "print(f'vocabulary: {words}')\n",
    "print(f'vectors: {vectors}')"
   ]
  },
  {
   "cell_type": "markdown",
   "id": "54a26a06-dc06-4d62-a60f-0e89d8de3491",
   "metadata": {},
   "source": [
    "#### Word Counts with CountVectorizer (sklearn)"
   ]
  },
  {
   "cell_type": "code",
   "execution_count": 11,
   "id": "f2fe8998-a1c2-448f-aeaa-5d62c4a54b15",
   "metadata": {},
   "outputs": [
    {
     "name": "stdout",
     "output_type": "stream",
     "text": [
      "vocabulary: {'superb': 5, 'am': 0, 'in': 2, 'love': 3, 'this': 6, 'phone': 4, 'hate': 1}\n",
      "shape: (2, 7)\n",
      "vectors:\n",
      "[[1 0 2 1 1 1 1]\n",
      " [0 1 0 0 1 0 1]]\n"
     ]
    }
   ],
   "source": [
    "from sklearn.feature_extraction.text import CountVectorizer\n",
    "\n",
    "# list of documents\n",
    "docs = ['SUPERB, I AM IN LOVE IN THIS PHONE', 'I hate this phone']\n",
    "\n",
    "# create the transform\n",
    "vectorizer = CountVectorizer()\n",
    "\n",
    "# tokenize and build vocab\n",
    "vectorizer.fit(docs)\n",
    "print(f'vocabulary: {vectorizer.vocabulary_}')\n",
    "\n",
    "# encode document\n",
    "vector = vectorizer.transform(docs)\n",
    "\n",
    "# summarize encoded vector\n",
    "print(f'shape: {vector.shape}')\n",
    "print(f'vectors:\\n{vector.toarray()}')"
   ]
  },
  {
   "cell_type": "markdown",
   "id": "6eb1bffd-8252-4459-86b0-e44df4818ce3",
   "metadata": {},
   "source": [
    "#### Word Frequency with TFIDFVectorizer (sklearn)"
   ]
  },
  {
   "cell_type": "code",
   "execution_count": 15,
   "id": "f59822fe-574d-4119-aab5-3aaf1097927b",
   "metadata": {},
   "outputs": [
    {
     "name": "stdout",
     "output_type": "stream",
     "text": [
      "vocabulary: {'superb': 5, 'am': 0, 'in': 2, 'love': 3, 'this': 6, 'phone': 4, 'hate': 1}\n",
      "idfs: [1.40546511 1.40546511 1.40546511 1.40546511 1.         1.40546511\n",
      " 1.        ]\n",
      "vectors: [[0.35327777 0.         0.70655553 0.35327777 0.25136004 0.35327777\n",
      "  0.25136004]]\n"
     ]
    }
   ],
   "source": [
    "from sklearn.feature_extraction.text import TfidfVectorizer\n",
    "\n",
    "# list of documents\n",
    "docs = ['SUPERB, I AM IN LOVE IN THIS PHONE', 'I hate this phone']\n",
    "\n",
    "# create the transform\n",
    "vectorizer = TfidfVectorizer()\n",
    "\n",
    "# tokenize and build vocab\n",
    "vectorizer.fit(docs)\n",
    "\n",
    "# summarize\n",
    "print(f'vocabulary: {vectorizer.vocabulary_}')\n",
    "print(f'idfs: {vectorizer.idf_}')\n",
    "\n",
    "# encode document\n",
    "vector = vectorizer.transform([docs[0]])\n",
    "\n",
    "# summarize encoded vector\n",
    "print(f'vectors: {vector.toarray()}')"
   ]
  }
 ],
 "metadata": {
  "kernelspec": {
   "display_name": "Python 3",
   "language": "python",
   "name": "python3"
  },
  "language_info": {
   "codemirror_mode": {
    "name": "ipython",
    "version": 3
   },
   "file_extension": ".py",
   "mimetype": "text/x-python",
   "name": "python",
   "nbconvert_exporter": "python",
   "pygments_lexer": "ipython3",
   "version": "3.8.5"
  }
 },
 "nbformat": 4,
 "nbformat_minor": 5
}
