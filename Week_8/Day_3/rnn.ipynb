{
 "cells": [
  {
   "cell_type": "code",
   "execution_count": 1,
   "id": "1fce21a8-4643-47fd-a7b2-972831c3fd56",
   "metadata": {},
   "outputs": [],
   "source": [
    "import tensorflow as tf\n",
    "from tensorflow.python import keras\n",
    "from tensorflow.python.keras import preprocessing\n",
    "from tensorflow.python.keras.preprocessing.text import Tokenizer\n",
    "from tensorflow.python.keras.models import Sequential\n",
    "from tensorflow.python.keras.layers import Dense, Dropout, LSTM, Reshape\n",
    "\n",
    "import numpy as np\n",
    "import pandas as pd"
   ]
  },
  {
   "cell_type": "code",
   "execution_count": 2,
   "id": "8f42dda9-6a91-4b27-9a9e-4fb062b19a94",
   "metadata": {},
   "outputs": [
    {
     "data": {
      "text/html": [
       "<div>\n",
       "<style scoped>\n",
       "    .dataframe tbody tr th:only-of-type {\n",
       "        vertical-align: middle;\n",
       "    }\n",
       "\n",
       "    .dataframe tbody tr th {\n",
       "        vertical-align: top;\n",
       "    }\n",
       "\n",
       "    .dataframe thead th {\n",
       "        text-align: right;\n",
       "    }\n",
       "</style>\n",
       "<table border=\"1\" class=\"dataframe\">\n",
       "  <thead>\n",
       "    <tr style=\"text-align: right;\">\n",
       "      <th></th>\n",
       "      <th>name</th>\n",
       "      <th>red</th>\n",
       "      <th>green</th>\n",
       "      <th>blue</th>\n",
       "    </tr>\n",
       "  </thead>\n",
       "  <tbody>\n",
       "    <tr>\n",
       "      <th>0</th>\n",
       "      <td>18th Century Green</td>\n",
       "      <td>165</td>\n",
       "      <td>147</td>\n",
       "      <td>68</td>\n",
       "    </tr>\n",
       "    <tr>\n",
       "      <th>1</th>\n",
       "      <td>1975 Earth Red</td>\n",
       "      <td>123</td>\n",
       "      <td>70</td>\n",
       "      <td>59</td>\n",
       "    </tr>\n",
       "    <tr>\n",
       "      <th>2</th>\n",
       "      <td>1989 Miami Hotline</td>\n",
       "      <td>221</td>\n",
       "      <td>51</td>\n",
       "      <td>102</td>\n",
       "    </tr>\n",
       "    <tr>\n",
       "      <th>3</th>\n",
       "      <td>20000 Leagues Under the Sea</td>\n",
       "      <td>25</td>\n",
       "      <td>25</td>\n",
       "      <td>112</td>\n",
       "    </tr>\n",
       "    <tr>\n",
       "      <th>4</th>\n",
       "      <td>3AM in Shibuya</td>\n",
       "      <td>34</td>\n",
       "      <td>85</td>\n",
       "      <td>119</td>\n",
       "    </tr>\n",
       "  </tbody>\n",
       "</table>\n",
       "</div>"
      ],
      "text/plain": [
       "                          name  red  green  blue\n",
       "0           18th Century Green  165    147    68\n",
       "1               1975 Earth Red  123     70    59\n",
       "2           1989 Miami Hotline  221     51   102\n",
       "3  20000 Leagues Under the Sea   25     25   112\n",
       "4               3AM in Shibuya   34     85   119"
      ]
     },
     "execution_count": 2,
     "metadata": {},
     "output_type": "execute_result"
    }
   ],
   "source": [
    "data = pd.read_csv('data/colors.csv')\n",
    "names = data['name']\n",
    "data.head()"
   ]
  },
  {
   "cell_type": "markdown",
   "id": "9e6fc9b4-da09-4dd4-a763-9e9c4cde1fc4",
   "metadata": {},
   "source": [
    "#### Data Preparation"
   ]
  },
  {
   "cell_type": "code",
   "execution_count": 3,
   "id": "8f63ed13-ad98-4dc5-af3c-f971a13e256a",
   "metadata": {},
   "outputs": [
    {
     "data": {
      "image/png": "[encoded data removed]",
      "text/plain": [
       "<Figure size 432x288 with 1 Axes>"
      ]
     },
     "metadata": {
      "needs_background": "light"
     },
     "output_type": "display_data"
    }
   ],
   "source": [
    "h = sorted(names.str.len().values)\n",
    "import scipy.stats as stats\n",
    "import pylab as plt\n",
    "\n",
    "fit = stats.norm.pdf(h, np.mean(h), np.std(h)) # this is a fitting indeed\n",
    "plt.plot(h, fit, '-o')\n",
    "plt.hist(h) # use this to draw histogram of your data\n",
    "plt.xlabel('Chars')\n",
    "plt.ylabel('Probability Density')\n",
    "plt.show()"
   ]
  },
  {
   "cell_type": "code",
   "execution_count": 4,
   "id": "b761aac9-53c3-45c1-a3a5-cfe7e0924aa3",
   "metadata": {},
   "outputs": [
    {
     "name": "stdout",
     "output_type": "stream",
     "text": [
      "(18606, 25)\n"
     ]
    }
   ],
   "source": [
    "maxlen = 25\n",
    "t = Tokenizer(char_level=True)\n",
    "t.fit_on_texts(names)\n",
    "tokenized = t.texts_to_sequences(names)\n",
    "padded_names = preprocessing.sequence.pad_sequences(tokenized, maxlen=maxlen)\n",
    "print(padded_names.shape)"
   ]
  },
  {
   "cell_type": "markdown",
   "id": "a7835fb4-9a77-407a-b742-c93814af4c67",
   "metadata": {},
   "source": [
    "#### One-Hot Endcoding"
   ]
  },
  {
   "cell_type": "code",
   "execution_count": 5,
   "id": "2f968f07-560c-42f5-9619-0135970208b6",
   "metadata": {},
   "outputs": [
    {
     "name": "stdout",
     "output_type": "stream",
     "text": [
      "{'e': 1, 'a': 2, ' ': 3, 'r': 4, 'i': 5, 'l': 6, 'n': 7, 'o': 8, 's': 9, 't': 10, 'c': 11, 'u': 12, 'd': 13, 'g': 14, 'p': 15, 'h': 16, 'b': 17, 'm': 18, 'y': 19, 'w': 20, 'k': 21, 'f': 22, 'v': 23, 'z': 24, 'j': 25, 'q': 26, 'x': 27, \"'\": 28, '-': 29, 'ō': 30, 'è': 31, 'é': 32, 'ā': 33, 'á': 34, 'ó': 35, 'ū': 36, '0': 37, '8': 38, '.': 39, 'ē': 40, 'ī': 41, 'ǎ': 42, '!': 43, 'í': 44, '&': 45, 'ǜ': 46, '9': 47, '2': 48, 'à': 49, 'ǐ': 50, '’': 51, '6': 52, 'ú': 53, '1': 54, '3': 55, 'â': 56, '4': 57, 'ǔ': 58, 'ì': 59, '7': 60, '5': 61, 'ê': 62, 'ö': 63, 'ł': 64, 'š': 65, 'ü': 66, '₂': 67, 'ò': 68, 'ñ': 69, 'ě': 70, 'ń': 71, 'ä': 72, 'œ': 73, 'ß': 74, '%': 75, 'ı': 76, 'ż': 77, '/': 78, 'î': 79, 'ë': 80, '(': 81, ')': 82, 'å': 83, '$': 84, 'я': 85, 'ő': 86, 'ğ': 87, 'ç': 88, 'ù': 89}\n"
     ]
    }
   ],
   "source": [
    "print(t.word_index)"
   ]
  },
  {
   "cell_type": "code",
   "execution_count": 6,
   "id": "6bfa7f49-5a3a-4207-b906-869af05da126",
   "metadata": {},
   "outputs": [],
   "source": [
    "from tensorflow.python.keras.utils import np_utils\n",
    "one_hot_names = np_utils.to_categorical(padded_names)"
   ]
  },
  {
   "cell_type": "code",
   "execution_count": 7,
   "id": "eb3e974d-6746-40ad-b1fb-5953d0052d5f",
   "metadata": {},
   "outputs": [
    {
     "data": {
      "text/plain": [
       "(18606, 25, 90)"
      ]
     },
     "execution_count": 7,
     "metadata": {},
     "output_type": "execute_result"
    }
   ],
   "source": [
    "one_hot_names.shape"
   ]
  },
  {
   "cell_type": "markdown",
   "id": "07cc9b16-a8f6-4f75-b496-05619a726b0a",
   "metadata": {},
   "source": [
    "#### Data Normalization"
   ]
  },
  {
   "cell_type": "code",
   "execution_count": 8,
   "id": "a9b8667b-170d-4199-a100-cf229d0d940a",
   "metadata": {},
   "outputs": [],
   "source": [
    "# the RGB values are between 0 - 255\n",
    "# scale them to be between 0 - 1\n",
    "def norm(value):\n",
    "    return value / 255.0\n",
    "\n",
    "normalized_values = np.column_stack([norm(data['red']), norm(data['green']), norm(data['blue'])])"
   ]
  },
  {
   "cell_type": "markdown",
   "id": "74be3f24-b8ae-4229-8c1c-3b46a6d08b0e",
   "metadata": {},
   "source": [
    "#### Building the Model"
   ]
  },
  {
   "cell_type": "code",
   "execution_count": 9,
   "id": "f2e1490f-c395-4f03-8d02-0e29f7f9dba1",
   "metadata": {},
   "outputs": [],
   "source": [
    "model = Sequential()\n",
    "model.add(LSTM(256, return_sequences=True, input_shape=(maxlen, 90)))\n",
    "model.add(LSTM(128))\n",
    "model.add(Dense(128, activation='relu'))\n",
    "model.add(Dense(3, activation='sigmoid'))\n",
    "model.compile(optimizer='adam', loss='mse', metrics=['acc'])"
   ]
  },
  {
   "cell_type": "code",
   "execution_count": 10,
   "id": "16b8925f-7d75-42f1-8303-b3ef75d67488",
   "metadata": {},
   "outputs": [
    {
     "name": "stdout",
     "output_type": "stream",
     "text": [
      "Epoch 1/40\n",
      "466/466 [==============================] - 45s 97ms/step - loss: 0.0690 - acc: 0.5792 - val_loss: 0.0634 - val_acc: 0.5580\n",
      "Epoch 2/40\n",
      "466/466 [==============================] - 44s 94ms/step - loss: 0.0640 - acc: 0.6144 - val_loss: 0.0607 - val_acc: 0.5836\n",
      "Epoch 3/40\n",
      "466/466 [==============================] - 44s 94ms/step - loss: 0.0614 - acc: 0.6246 - val_loss: 0.0603 - val_acc: 0.5876\n",
      "Epoch 4/40\n",
      "466/466 [==============================] - 44s 95ms/step - loss: 0.0589 - acc: 0.6342 - val_loss: 0.0587 - val_acc: 0.5870\n",
      "Epoch 5/40\n",
      "466/466 [==============================] - 44s 94ms/step - loss: 0.0569 - acc: 0.6381 - val_loss: 0.0571 - val_acc: 0.6112\n",
      "Epoch 6/40\n",
      "466/466 [==============================] - 44s 94ms/step - loss: 0.0546 - acc: 0.6426 - val_loss: 0.0570 - val_acc: 0.5712\n",
      "Epoch 7/40\n",
      "466/466 [==============================] - 44s 94ms/step - loss: 0.0525 - acc: 0.6422 - val_loss: 0.0563 - val_acc: 0.5615\n",
      "Epoch 8/40\n",
      "466/466 [==============================] - 44s 94ms/step - loss: 0.0507 - acc: 0.6458 - val_loss: 0.0561 - val_acc: 0.6179\n",
      "Epoch 9/40\n",
      "466/466 [==============================] - 44s 95ms/step - loss: 0.0487 - acc: 0.6502 - val_loss: 0.0574 - val_acc: 0.5908\n",
      "Epoch 10/40\n",
      "466/466 [==============================] - 47s 100ms/step - loss: 0.0467 - acc: 0.6551 - val_loss: 0.0584 - val_acc: 0.5258\n",
      "Epoch 11/40\n",
      "466/466 [==============================] - 46s 98ms/step - loss: 0.0443 - acc: 0.6583 - val_loss: 0.0604 - val_acc: 0.5758\n",
      "Epoch 12/40\n",
      "466/466 [==============================] - 44s 94ms/step - loss: 0.0418 - acc: 0.6631 - val_loss: 0.0564 - val_acc: 0.6093\n",
      "Epoch 13/40\n",
      "466/466 [==============================] - 44s 93ms/step - loss: 0.0390 - acc: 0.6635 - val_loss: 0.0597 - val_acc: 0.5868\n",
      "Epoch 14/40\n",
      "466/466 [==============================] - 43s 93ms/step - loss: 0.0362 - acc: 0.6698 - val_loss: 0.0603 - val_acc: 0.6061\n",
      "Epoch 15/40\n",
      "466/466 [==============================] - 44s 94ms/step - loss: 0.0327 - acc: 0.6785 - val_loss: 0.0627 - val_acc: 0.6104\n",
      "Epoch 16/40\n",
      "466/466 [==============================] - 44s 95ms/step - loss: 0.0293 - acc: 0.6868 - val_loss: 0.0626 - val_acc: 0.5771\n",
      "Epoch 17/40\n",
      "466/466 [==============================] - 44s 94ms/step - loss: 0.0256 - acc: 0.6913 - val_loss: 0.0649 - val_acc: 0.5763\n",
      "Epoch 18/40\n",
      "466/466 [==============================] - 43s 92ms/step - loss: 0.0230 - acc: 0.6999 - val_loss: 0.0657 - val_acc: 0.5892\n",
      "Epoch 19/40\n",
      "466/466 [==============================] - 43s 92ms/step - loss: 0.0198 - acc: 0.7081 - val_loss: 0.0680 - val_acc: 0.5903\n",
      "Epoch 20/40\n",
      "466/466 [==============================] - 43s 92ms/step - loss: 0.0174 - acc: 0.7215 - val_loss: 0.0695 - val_acc: 0.5905\n",
      "Epoch 21/40\n",
      "466/466 [==============================] - 44s 94ms/step - loss: 0.0150 - acc: 0.7220 - val_loss: 0.0696 - val_acc: 0.5801\n",
      "Epoch 22/40\n",
      "466/466 [==============================] - 44s 95ms/step - loss: 0.0130 - acc: 0.7365 - val_loss: 0.0717 - val_acc: 0.5489\n",
      "Epoch 23/40\n",
      "466/466 [==============================] - 43s 93ms/step - loss: 0.0115 - acc: 0.7462 - val_loss: 0.0707 - val_acc: 0.5537\n",
      "Epoch 24/40\n",
      "466/466 [==============================] - 43s 93ms/step - loss: 0.0104 - acc: 0.7497 - val_loss: 0.0718 - val_acc: 0.5682\n",
      "Epoch 25/40\n",
      "466/466 [==============================] - 44s 95ms/step - loss: 0.0093 - acc: 0.7542 - val_loss: 0.0724 - val_acc: 0.5677\n",
      "Epoch 26/40\n",
      "466/466 [==============================] - 44s 94ms/step - loss: 0.0083 - acc: 0.7625 - val_loss: 0.0720 - val_acc: 0.5500\n",
      "Epoch 27/40\n",
      "466/466 [==============================] - 43s 93ms/step - loss: 0.0074 - acc: 0.7751 - val_loss: 0.0715 - val_acc: 0.5580\n",
      "Epoch 28/40\n",
      "466/466 [==============================] - 43s 93ms/step - loss: 0.0068 - acc: 0.7825 - val_loss: 0.0719 - val_acc: 0.5578\n",
      "Epoch 29/40\n",
      "466/466 [==============================] - 43s 93ms/step - loss: 0.0065 - acc: 0.7867 - val_loss: 0.0713 - val_acc: 0.5715\n",
      "Epoch 30/40\n",
      "466/466 [==============================] - 43s 93ms/step - loss: 0.0061 - acc: 0.7871 - val_loss: 0.0738 - val_acc: 0.5524\n",
      "Epoch 31/40\n",
      "466/466 [==============================] - 44s 93ms/step - loss: 0.0058 - acc: 0.7935 - val_loss: 0.0721 - val_acc: 0.5621\n",
      "Epoch 32/40\n",
      "466/466 [==============================] - 44s 94ms/step - loss: 0.0053 - acc: 0.7993 - val_loss: 0.0713 - val_acc: 0.5637\n",
      "Epoch 33/40\n",
      "466/466 [==============================] - 44s 94ms/step - loss: 0.0048 - acc: 0.8001 - val_loss: 0.0724 - val_acc: 0.5545\n",
      "Epoch 34/40\n",
      "466/466 [==============================] - 44s 94ms/step - loss: 0.0047 - acc: 0.8042 - val_loss: 0.0726 - val_acc: 0.5605\n",
      "Epoch 35/40\n",
      "466/466 [==============================] - 44s 94ms/step - loss: 0.0042 - acc: 0.8147 - val_loss: 0.0722 - val_acc: 0.5580\n",
      "Epoch 36/40\n",
      "466/466 [==============================] - 44s 94ms/step - loss: 0.0040 - acc: 0.8245 - val_loss: 0.0716 - val_acc: 0.5790\n",
      "Epoch 37/40\n",
      "466/466 [==============================] - 44s 94ms/step - loss: 0.0040 - acc: 0.8236 - val_loss: 0.0725 - val_acc: 0.5516\n",
      "Epoch 38/40\n",
      "466/466 [==============================] - 45s 96ms/step - loss: 0.0038 - acc: 0.8243 - val_loss: 0.0719 - val_acc: 0.5618\n",
      "Epoch 39/40\n",
      "466/466 [==============================] - 45s 97ms/step - loss: 0.0036 - acc: 0.8276 - val_loss: 0.0704 - val_acc: 0.5564\n",
      "Epoch 40/40\n",
      "466/466 [==============================] - 44s 95ms/step - loss: 0.0036 - acc: 0.8336 - val_loss: 0.0707 - val_acc: 0.5599\n"
     ]
    }
   ],
   "source": [
    "history = model.fit(one_hot_names, normalized_values,\n",
    "                   epochs=40,\n",
    "                   batch_size=32,\n",
    "                   validation_split=0.2)"
   ]
  },
  {
   "cell_type": "markdown",
   "id": "7a99080a-f200-4864-b4de-acaf0101c4d6",
   "metadata": {},
   "source": [
    "#### Generate Colors"
   ]
  },
  {
   "cell_type": "code",
   "execution_count": 13,
   "id": "dc5f5937-ec35-4788-b7f8-61514e5d1e5f",
   "metadata": {},
   "outputs": [],
   "source": [
    "# plot a color image\n",
    "def plot_rgb(rgb):\n",
    "    data = [[rgb]]\n",
    "    plt.figure(figsize=(2,2))\n",
    "    plt.imshow(data, interpolation='nearest')\n",
    "    plt.show()\n",
    "\n",
    "def scale(n):\n",
    "    return int(n * 255) \n",
    "\n",
    "def predict(name):\n",
    "    name = name.lower()\n",
    "    tokenized = t.texts_to_sequences([name])\n",
    "    padded = preprocessing.sequence.pad_sequences(tokenized, maxlen=maxlen)\n",
    "    one_hot = np_utils.to_categorical(padded, num_classes=90)\n",
    "    pred = model.predict(np.array(one_hot))[0]\n",
    "    r, g, b = scale(pred[0]), scale(pred[1]), scale(pred[2])\n",
    "    print(name + ',', 'R,G,B:', r,g,b)\n",
    "    plot_rgb(pred)"
   ]
  },
  {
   "cell_type": "code",
   "execution_count": 14,
   "id": "9aa0a238-bdca-4485-8b60-ecd140589b7d",
   "metadata": {},
   "outputs": [
    {
     "name": "stdout",
     "output_type": "stream",
     "text": [
      "forest, R,G,B: 10 81 27\n"
     ]
    },
    {
     "data": {
      "image/png": "[encoded data removed]",
      "text/plain": [
       "<Figure size 144x144 with 1 Axes>"
      ]
     },
     "metadata": {
      "needs_background": "light"
     },
     "output_type": "display_data"
    },
    {
     "name": "stdout",
     "output_type": "stream",
     "text": [
      "ocean, R,G,B: 16 100 140\n"
     ]
    },
    {
     "data": {
      "image/png": "[encoded data removed]",
      "text/plain": [
       "<Figure size 144x144 with 1 Axes>"
      ]
     },
     "metadata": {
      "needs_background": "light"
     },
     "output_type": "display_data"
    }
   ],
   "source": [
    "predict('forest')\n",
    "predict('ocean')"
   ]
  }
 ],
 "metadata": {
  "kernelspec": {
   "display_name": "Python 3",
   "language": "python",
   "name": "python3"
  },
  "language_info": {
   "codemirror_mode": {
    "name": "ipython",
    "version": 3
   },
   "file_extension": ".py",
   "mimetype": "text/x-python",
   "name": "python",
   "nbconvert_exporter": "python",
   "pygments_lexer": "ipython3",
   "version": "3.8.5"
  }
 },
 "nbformat": 4,
 "nbformat_minor": 5
}
