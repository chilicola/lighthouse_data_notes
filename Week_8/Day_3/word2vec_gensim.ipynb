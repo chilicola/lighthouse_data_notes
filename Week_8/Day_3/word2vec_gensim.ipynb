{
 "cells": [
  {
   "cell_type": "markdown",
   "id": "86d507f5-20c2-48c8-8c3f-612d9f6f88f7",
   "metadata": {},
   "source": [
    "#### Creating Corpus"
   ]
  },
  {
   "cell_type": "code",
   "execution_count": 1,
   "id": "27e2bdd7-e7a8-454b-b7cd-1d8822e98955",
   "metadata": {},
   "outputs": [],
   "source": [
    "import bs4 as bs\n",
    "import urllib.request\n",
    "import re\n",
    "import nltk\n",
    "\n",
    "scrapped_data = urllib.request.urlopen('https://en.wikipedia.org/wiki/Artificial_intelligence')\n",
    "article = scrapped_data.read()\n",
    "\n",
    "parsed_article = bs.BeautifulSoup(article, 'lxml')\n",
    "paragraphs = parsed_article.find_all('p')\n",
    "article_text = ''\n",
    "\n",
    "for p in paragraphs:\n",
    "    article_text += p.text"
   ]
  },
  {
   "cell_type": "markdown",
   "id": "1764f3b5-a98d-42d0-af88-1f608b848d1c",
   "metadata": {},
   "source": [
    "#### Preprocessing"
   ]
  },
  {
   "cell_type": "code",
   "execution_count": 2,
   "id": "8d68ca57-6248-4070-a77a-f85d0a5746b0",
   "metadata": {},
   "outputs": [],
   "source": [
    "# cleaning the text\n",
    "processed_article = article_text.lower()\n",
    "processed_article = re.sub('[^a-zA-Z]', ' ', processed_article)\n",
    "processed_article = re.sub('\\s+', ' ', processed_article)\n",
    "\n",
    "# preparing the dataset\n",
    "all_sentences = nltk.sent_tokenize(processed_article)\n",
    "\n",
    "all_words = [nltk.word_tokenize(sent) for sent in all_sentences]\n",
    "\n",
    "# removing stop words\n",
    "from nltk.corpus import stopwords\n",
    "for i in range(len(all_words)):\n",
    "    all_words[i] = [w for w in all_words[i] if w not in stopwords.words('english')]"
   ]
  },
  {
   "cell_type": "markdown",
   "id": "f3ee82d6-8b16-4952-86a8-7f0c196a575f",
   "metadata": {},
   "source": [
    "#### Creating Word2Vec Model"
   ]
  },
  {
   "cell_type": "code",
   "execution_count": 3,
   "id": "542e8204-87c5-466d-b45f-4b1f4f7fa08b",
   "metadata": {},
   "outputs": [
    {
     "name": "stderr",
     "output_type": "stream",
     "text": [
      "D:\\anaconda3\\lib\\site-packages\\gensim\\similarities\\__init__.py:15: UserWarning: The gensim.similarities.levenshtein submodule is disabled, because the optional Levenshtein package <https://pypi.org/project/python-Levenshtein/> is unavailable. Install Levenhstein (e.g. `pip install python-Levenshtein`) to suppress this warning.\n",
      "  warnings.warn(msg)\n"
     ]
    }
   ],
   "source": [
    "from gensim.models import Word2Vec\n",
    "word2vec = Word2Vec(all_words, min_count=2)"
   ]
  },
  {
   "cell_type": "code",
   "execution_count": 4,
   "id": "d65cbac1-7f4a-40e5-863a-03fcad3c9988",
   "metadata": {
    "scrolled": true,
    "tags": []
   },
   "outputs": [
    {
     "name": "stdout",
     "output_type": "stream",
     "text": [
      "{'ai': 0, 'intelligence': 1, 'artificial': 2, 'human': 3, 'research': 4, 'machine': 5, 'also': 6, 'learning': 7, 'machines': 8, 'use': 9, 'humans': 10, 'many': 11, 'knowledge': 12, 'would': 13, 'could': 14, 'problems': 15, 'problem': 16, 'ethics': 17, 'field': 18, 'researchers': 19, 'mind': 20, 'computer': 21, 'may': 22, 'systems': 23, 'approaches': 24, 'jobs': 25, 'data': 26, 'intelligent': 27, 'technology': 28, 'used': 29, 'general': 30, 'people': 31, 'one': 32, 'agent': 33, 'example': 34, 'risk': 35, 'symbolic': 36, 'mathematical': 37, 'goal': 38, 'ability': 39, 'statistical': 40, 'processing': 41, 'language': 42, 'particular': 43, 'even': 44, 'term': 45, 'theory': 46, 'computers': 47, 'understanding': 48, 'u': 49, 'world': 50, 'future': 51, 'different': 52, 'ethical': 53, 'behavior': 54, 'like': 55, 'form': 56, 'beings': 57, 'goals': 58, 'reasoning': 59, 'based': 60, 'networks': 61, 'system': 62, 'neural': 63, 'robotics': 64, 'natural': 65, 'often': 66, 'computing': 67, 'level': 68, 'robots': 69, 'first': 70, 'considered': 71, 'related': 72, 'risks': 73, 'solve': 74, 'sub': 75, 'logic': 76, 'fields': 77, 'know': 78, 'well': 79, 'described': 80, 'g': 81, 'e': 82, 'humanity': 83, 'information': 84, 'software': 85, 'include': 86, 'brain': 87, 'things': 88, 'us': 89, 'recognition': 90, 'agents': 91, 'philosophical': 92, 'rights': 93, 'approach': 94, 'others': 95, 'work': 96, 'specific': 97, 'however': 98, 'able': 99, 'methods': 100, 'function': 101, 'high': 102, 'possible': 103, 'moral': 104, 'creating': 105, 'believe': 106, 'question': 107, 'making': 108, 'make': 109, 'algorithms': 110, 'increase': 111, 'potential': 112, 'concerned': 113, 'autonomous': 114, 'fiction': 115, 'difficult': 116, 'search': 117, 'formal': 118, 'applications': 119, 'capable': 120, 'red': 121, 'new': 122, 'become': 123, 'known': 124, 'laws': 125, 'perception': 126, 'including': 127, 'large': 128, 'achieve': 129, 'began': 130, 'hard': 131, 'cybernetics': 132, 'might': 133, 'environment': 134, 'advanced': 135, 'easy': 136, 'increasing': 137, 'dangerous': 138, 'success': 139, 'modern': 140, 'led': 141, 'long': 142, 'program': 143, 'named': 144, 'among': 145, 'average': 146, 'better': 147, 'since': 148, 'projects': 149, 'point': 150, 'assess': 151, 'next': 152, 'years': 153, 'computational': 154, 'called': 155, 'automation': 156, 'early': 157, 'generally': 158, 'development': 159, 'whether': 160, 'several': 161, 'robot': 162, 'states': 163, 'input': 164, 'tools': 165, 'science': 166, 'relationship': 167, 'argues': 168, 'book': 169, 'developed': 170, 'without': 171, 'representation': 172, 'think': 173, 'attempt': 174, 'simulate': 175, 'harm': 176, 'consider': 177, 'actions': 178, 'cause': 179, 'c': 180, 'study': 181, 'within': 182, 'step': 183, 'questions': 184, 'white': 185, 'aspects': 186, 'economic': 187, 'european': 188, 'nlp': 189, 'far': 190, 'effects': 191, 'social': 192, 'sufficiently': 193, 'regulation': 194, 'year': 195, 'revived': 196, 'see': 197, 'deep': 198, 'singularity': 199, 'narrow': 200, 'widely': 201, 'mining': 202, 'movement': 203, 'makes': 204, 'processes': 205, 'hypothetical': 206, 'current': 207, 'experts': 208, 'actually': 209, 'body': 210, 'skills': 211, 'decision': 212, 'number': 213, 'institute': 214, 'produce': 215, 'manage': 216, 'thus': 217, 'musk': 218, 'turing': 219, 'r': 220, 'unlike': 221, 'media': 222, 'united': 223, 'antiquity': 224, 'experience': 225, 'find': 226, 'issues': 227, 'control': 228, 'solving': 229, 'around': 230, 'digital': 231, 'concerns': 232, 'planning': 233, 'power': 234, 'position': 235, 'popular': 236, 'bostrom': 237, 'economics': 238, 'objects': 239, 'inputs': 240, 'issue': 241, 'something': 242, 'feel': 243, 'argue': 244, 'higher': 245, 'proposed': 246, 'change': 247, 'word': 248, 'funding': 249, 'gofai': 250, 'requires': 251, 'strategies': 252, 'programs': 253, 'became': 254, 'two': 255, 'john': 256, 'idea': 257, 'soft': 258, 'person': 259, 'text': 260, 'possibility': 261, 'techniques': 262, 'spam': 263, 'real': 264, 'process': 265, 'cars': 266, 'ontologies': 267, 'categories': 268, 'leading': 269, 'exists': 270, 'competing': 271, 'self': 272, 'predictions': 273, 'reason': 274, 'less': 275, 'domains': 276, 'uses': 277, 'properties': 278, 'given': 279, 'fundamental': 280, 'representations': 281, 'discovery': 282, 'concern': 283, 'progress': 284, 'commonsense': 285, 'domain': 286, 'playing': 287, 'checkers': 288, 'produced': 289, 'mit': 290, 'building': 291, 'along': 292, 'philosophers': 293, 'discussed': 294, 'regression': 295, 'simulating': 296, 'technological': 297, 'explored': 298, 'highly': 299, 'centered': 300, 'philosophy': 301, 'statistics': 302, 'move': 303, 'cognitive': 304, 'optimization': 305, 'winter': 306, 'logical': 307, 'middle': 308, 'solutions': 309, 'using': 310, 'model': 311, 'concepts': 312, 'go': 313, 'tasks': 314, 'accuracy': 315, 'diagnosis': 316, 'effect': 317, 'web': 318, 'established': 319, 'longer': 320, 'time': 321, 'founded': 322, 'expert': 323, 'academic': 324, 'difficulty': 325, 'generation': 326, 'followed': 327, 'includes': 328, 'way': 329, 'critics': 330, 'drones': 331, 'focused': 332, 'sentiment': 333, 'union': 334, 'thinking': 335, 'policy': 336, 'three': 337, 'object': 338, 'weizenbaum': 339, 'computationalism': 340, 'life': 341, 'wallach': 342, 'institutions': 343, 'improving': 344, 'superintelligence': 345, 'transhumanism': 346, 'scientists': 347, 'agi': 348, 'looks': 349, 'responsible': 350, 'subjective': 351, 'consciousness': 352, 'part': 353, 'moravec': 354, 'take': 355, 'come': 356, 'analysis': 357, 'developing': 358, 'morality': 359, 'old': 360, 'occurrence': 361, 'policies': 362, 'complexity': 363, 'asimov': 364, 'learn': 365, 'hmm': 366, 'solution': 367, 'fully': 368, 'good': 369, 'works': 370, 'outputs': 371, 'view': 372, 'series': 373, 'compas': 374, 'key': 375, 'shift': 376, 'really': 377, 'place': 378, 'apek': 379, 'industry': 380, 'giving': 381, 'list': 382, 'enabling': 383, 'numerous': 384, 'intellectual': 385, 'arbitrary': 386, 'aaai': 387, 'believes': 388, 'stems': 389, 'contrast': 390, 'directly': 391, 'fall': 392, 'symposium': 393, 'necessary': 394, 'identifies': 395, 'past': 396, 'referred': 397, 'concerning': 398, 'treat': 399, 'still': 400, 'dimension': 401, 'involving': 402, 'recent': 403, 'want': 404, 'create': 405, 'landscape': 406, 'amas': 407, 'prevent': 408, 'public': 409, 'occur': 410, 'deepfakes': 411, 'thought': 412, 'stories': 413, 'major': 414, 'organizations': 415, 'danger': 416, 'news': 417, 'source': 418, 'decisions': 419, 'unemployment': 420, 'online': 421, 'previous': 422, 'appeared': 423, 'storytelling': 424, 'minimize': 425, 'upon': 426, 'profile': 427, 'karel': 428, 'probability': 429, 'frankenstein': 430, 'introduced': 431, 'shelley': 432, 'mary': 433, 'devices': 434, 'common': 435, 'misguided': 436, 'towards': 437, 'discussion': 438, 'friendly': 439, 'extremely': 440, 'ais': 441, 'classification': 442, 'successful': 443, 'proved': 444, 'bias': 445, 'continue': 446, 'security': 447, 'massive': 448, 'expressed': 449, 'engines': 450, 'ford': 451, 'job': 452, 'amazon': 453, 'worth': 454, 'speech': 455, 'siri': 456, 'collar': 457, 'driving': 458, 'employment': 459, 'efficiency': 460, 'healthcare': 461, 'economists': 462, 'chess': 463, 'assigned': 464, 'defendants': 465, 'hawking': 466, 'group': 467, 'actual': 468, 'sorayama': 469, 'displayed': 470, 'culture': 471, 'realized': 472, 'mark': 473, 'ceo': 474, 'prominent': 475, 'smile': 476, 'founder': 477, 'shut': 478, 'maximize': 479, 'achieving': 480, 'resources': 481, 'threat': 482, 'race': 483, 'end': 484, 'spell': 485, 'name': 486, 'george': 487, 'increasingly': 488, 'animal': 489, 'explaining': 490, 'nature': 491, 'superintelligent': 492, 'china': 493, 'researching': 494, 'currently': 495, 'databases': 496, 'weapons': 497, 'lethal': 498, 'color': 499, 'computation': 500, 'decades': 501, 'st': 502, 'century': 503, 'researcher': 504, 'earth': 505, 'civilization': 506, 'technique': 507, 'explain': 508, 'swatch': 509, 'evolution': 510, 'improvement': 511, 'either': 512, 'kurzweil': 513, 'ray': 514, 'definition': 515, 'phenomenon': 516, 'technologies': 517, 'scenario': 518, 'character': 519, 'frequently': 520, 'day': 521, 'routine': 522, 'created': 523, 'argument': 524, 'strong': 525, 'experienced': 526, 'searle': 527, 'waves': 528, 'creates': 529, 'worry': 530, 'j': 531, 'sometimes': 532, 'industrial': 533, 'uncertain': 534, 'likelihood': 535, 'exponentially': 536, 'away': 537, 'pedestrian': 538, 'meter': 539, 'fast': 540, 'engineering': 541, 'central': 542, 'classical': 543, 'fifty': 544, 'gather': 545, 'possessed': 546, 'facial': 547, 'signals': 548, 'spectrum': 549, 'visible': 550, 'relations': 551, 'events': 552, 'robotic': 553, 'small': 554, 'deduction': 555, 'pose': 556, 'stated': 557, 'hans': 558, 'clark': 559, 'paradox': 560, 'google': 561, 'increased': 562, 'presents': 563, 'error': 564, 'image': 565, 'physical': 566, 'individual': 567, 'datasets': 568, 'survey': 569, 'task': 570, 'companies': 571, 'incorporated': 572, 'motion': 573, 'traits': 574, 'capabilities': 575, 'sensors': 576, 'generate': 577, 'architectures': 578, 'full': 579, 'choices': 580, 'reinforcement': 581, 'assume': 582, 'consequences': 583, 'required': 584, 'much': 585, 'uncertainty': 586, 'possibly': 587, 'viewed': 588, 'evolutionary': 589, 'learners': 590, 'concept': 591, 'improve': 592, 'predicts': 593, 'describes': 594, 'examples': 595, 'requiring': 596, 'label': 597, 'sees': 598, 'ones': 599, 'organic': 600, 'need': 601, 'interest': 602, 'semantic': 603, 'beyond': 604, 'ontology': 605, 'set': 606, 'interpret': 607, 'individuals': 608, 'document': 609, 'acting': 610, 'area': 611, 'space': 612, 'dog': 613, 'content': 614, 'retrieval': 615, 'sources': 616, 'support': 617, 'enable': 618, 'areas': 619, 'powerful': 620, 'advances': 621, 'access': 622, 'improvements': 623, 'largely': 624, 'simon': 625, 'marvin': 626, 'minsky': 627, 'arthur': 628, 'samuel': 629, 'brooks': 630, 'founders': 631, 'leaders': 632, 'rodney': 633, 'look': 634, 'never': 635, 'seemed': 636, 'great': 637, 'achieved': 638, 'proving': 639, 'although': 640, 'theorems': 641, 'abandoned': 642, 'heavily': 643, 'herbert': 644, 'cmu': 645, 'cyberneticist': 646, 'shared': 647, 'becoming': 648, 'broader': 649, 'acquiring': 650, 'thesis': 651, 'necessarily': 652, 'neurobiology': 653, 'gaining': 654, 'determine': 655, 'models': 656, 'mccarthy': 657, 'changing': 658, 'subfield': 659, 'david': 660, 'machinery': 661, 'embodied': 662, 'complete': 663, 'born': 664, 'basic': 665, 'funded': 666, 'unanswered': 667, 'algorithmic': 668, 'remained': 669, 'market': 670, 'billion': 671, 'users': 672, 'japan': 673, 'inspired': 674, 'otherwise': 675, 'interaction': 676, 'late': 677, 'programmed': 678, 'assistants': 679, 'affects': 680, 'affective': 681, 'medical': 682, 'give': 683, 'impossible': 684, 'focus': 685, 'exhibit': 686, 'results': 687, 'mathematics': 688, 'existing': 689, 'successes': 690, 'recently': 691, 'fund': 692, 'predicted': 693, 'especially': 694, 'solved': 695, 'failed': 696, 'recognize': 697, 'divided': 698, 'guided': 699, 'history': 700, 'british': 701, 'multimodal': 702, 'governments': 703, 'eventually': 704, 'exactly': 705, 'later': 706, 'subject': 707, 'classifies': 708, 'wherein': 709, 'commercial': 710, 'dick': 711}\n"
     ]
    }
   ],
   "source": [
    "vocabulary = word2vec.wv.key_to_index\n",
    "print(vocabulary)"
   ]
  },
  {
   "cell_type": "markdown",
   "id": "01b1940b-a15f-42dc-a1cd-f85c205d0fc6",
   "metadata": {},
   "source": [
    "### Model Analysis"
   ]
  },
  {
   "cell_type": "markdown",
   "id": "2430fbde-efc9-490e-9b27-90459eceacfe",
   "metadata": {},
   "source": [
    "#### Finding Vectors for a Word"
   ]
  },
  {
   "cell_type": "code",
   "execution_count": 5,
   "id": "2ae2aeb8-0f12-42fa-bd06-612d2c92d643",
   "metadata": {
    "scrolled": true,
    "tags": []
   },
   "outputs": [
    {
     "data": {
      "text/plain": [
       "array([-2.01807288e-03,  5.19455690e-03, -6.01227069e-03,  2.79025699e-04,\n",
       "        8.17465037e-03,  1.22153980e-03, -2.31136871e-03,  9.91391018e-03,\n",
       "       -1.17080137e-02,  5.79966931e-03, -5.70119685e-03, -7.25316815e-03,\n",
       "        8.39317031e-03,  6.08909293e-04,  7.75027787e-03, -8.04186799e-03,\n",
       "        5.67906909e-03,  6.05684286e-03, -9.20512620e-03, -1.22809596e-02,\n",
       "       -5.42160450e-03, -3.03369667e-03, -2.64378032e-03, -1.04579916e-02,\n",
       "        6.58931024e-03, -4.50932514e-03,  5.53296693e-03,  3.19430954e-03,\n",
       "       -9.94195137e-03,  5.32524707e-03,  9.79914702e-03, -5.90901356e-03,\n",
       "       -6.61846809e-03, -3.13766114e-03, -1.10205058e-02,  2.17727059e-03,\n",
       "       -2.80537759e-04, -1.98995019e-03, -1.56764488e-03, -7.59794982e-03,\n",
       "       -6.38032472e-03, -1.09685806e-03, -2.54757004e-03,  6.17608242e-03,\n",
       "        7.39534851e-03,  1.81494234e-03, -2.04296596e-03, -2.54912861e-03,\n",
       "       -2.43983581e-03,  1.08093908e-03,  2.56498647e-03, -4.24506236e-03,\n",
       "       -6.75639091e-03, -6.83432445e-03, -1.09696556e-02, -3.59949819e-03,\n",
       "       -1.28396600e-03, -4.61496366e-03, -1.09179867e-02, -1.74178928e-03,\n",
       "        5.97653911e-03, -3.85112595e-03,  7.03286519e-03, -1.62761740e-03,\n",
       "       -1.23266252e-02,  1.03343483e-02,  1.05942525e-02,  9.97464266e-03,\n",
       "       -1.06465118e-02,  1.08650681e-02,  1.55483722e-03,  6.27161004e-03,\n",
       "        6.12541009e-03,  2.85762042e-04, -1.43173058e-03,  1.13832047e-02,\n",
       "        9.79576074e-03,  2.89028813e-03, -5.51899103e-03,  9.63459897e-04,\n",
       "       -9.76046314e-04, -9.86308232e-03, -1.21193919e-02,  5.26574813e-03,\n",
       "        1.23166523e-04, -4.41533094e-03, -5.04858373e-03, -2.52228579e-03,\n",
       "        1.29016666e-02,  7.90937745e-04, -8.99470469e-05,  7.72041362e-03,\n",
       "        8.95370543e-03, -2.99295085e-03,  1.42584164e-02,  1.03176869e-02,\n",
       "        7.37877563e-03, -3.68063478e-03,  1.01584243e-02, -8.71100370e-03],\n",
       "      dtype=float32)"
      ]
     },
     "execution_count": 5,
     "metadata": {},
     "output_type": "execute_result"
    }
   ],
   "source": [
    "v1 = word2vec.wv['artificial'] \n",
    "v1"
   ]
  },
  {
   "cell_type": "markdown",
   "id": "bd9139dd-35e1-4712-85a9-019370cec095",
   "metadata": {},
   "source": [
    "#### Finding Similar Words"
   ]
  },
  {
   "cell_type": "code",
   "execution_count": 6,
   "id": "882df881-b1d5-40a1-bdae-37abf6ad551f",
   "metadata": {},
   "outputs": [
    {
     "data": {
      "text/plain": [
       "[('domains', 0.3882658779621124),\n",
       " ('ai', 0.3679261803627014),\n",
       " ('better', 0.3447827100753784),\n",
       " ('work', 0.3444591164588928),\n",
       " ('may', 0.31940072774887085),\n",
       " ('field', 0.314007967710495),\n",
       " ('intelligent', 0.30112627148628235),\n",
       " ('ethics', 0.29427751898765564),\n",
       " ('would', 0.29421427845954895),\n",
       " ('robotics', 0.29368504881858826)]"
      ]
     },
     "execution_count": 6,
     "metadata": {},
     "output_type": "execute_result"
    }
   ],
   "source": [
    "sim_words = word2vec.wv.most_similar('intelligence')\n",
    "sim_words"
   ]
  }
 ],
 "metadata": {
  "kernelspec": {
   "display_name": "Python 3",
   "language": "python",
   "name": "python3"
  },
  "language_info": {
   "codemirror_mode": {
    "name": "ipython",
    "version": 3
   },
   "file_extension": ".py",
   "mimetype": "text/x-python",
   "name": "python",
   "nbconvert_exporter": "python",
   "pygments_lexer": "ipython3",
   "version": "3.8.5"
  }
 },
 "nbformat": 4,
 "nbformat_minor": 5
}
