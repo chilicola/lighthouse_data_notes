{
 "cells": [
  {
   "cell_type": "markdown",
   "id": "86d507f5-20c2-48c8-8c3f-612d9f6f88f7",
   "metadata": {},
   "source": [
    "#### Creating Corpus"
   ]
  },
  {
   "cell_type": "code",
   "execution_count": 1,
   "id": "27e2bdd7-e7a8-454b-b7cd-1d8822e98955",
   "metadata": {},
   "outputs": [],
   "source": [
    "import bs4 as bs\n",
    "import urllib.request\n",
    "import re\n",
    "import nltk\n",
    "\n",
    "scrapped_data = urllib.request.urlopen('https://en.wikipedia.org/wiki/Artificial_intelligence')\n",
    "article = scrapped_data.read()\n",
    "\n",
    "parsed_article = bs.BeautifulSoup(article, 'lxml')\n",
    "paragraphs = parsed_article.find_all('p')\n",
    "article_text = ''\n",
    "\n",
    "for p in paragraphs:\n",
    "    article_text += p.text"
   ]
  },
  {
   "cell_type": "markdown",
   "id": "1764f3b5-a98d-42d0-af88-1f608b848d1c",
   "metadata": {},
   "source": [
    "#### Preprocessing"
   ]
  },
  {
   "cell_type": "code",
   "execution_count": 2,
   "id": "8d68ca57-6248-4070-a77a-f85d0a5746b0",
   "metadata": {},
   "outputs": [],
   "source": [
    "# cleaning the text\n",
    "processed_article = article_text.lower()\n",
    "processed_article = re.sub('[^a-zA-Z]', ' ', processed_article)\n",
    "processed_article = re.sub('\\s+', ' ', processed_article)\n",
    "\n",
    "# preparing the dataset\n",
    "all_sentences = nltk.sent_tokenize(processed_article)\n",
    "\n",
    "all_words = [nltk.word_tokenize(sent) for sent in all_sentences]\n",
    "\n",
    "# removing stop words\n",
    "from nltk.corpus import stopwords\n",
    "for i in range(len(all_words)):\n",
    "    all_words[i] = [w for w in all_words[i] if w not in stopwords.words('english')]"
   ]
  },
  {
   "cell_type": "markdown",
   "id": "f3ee82d6-8b16-4952-86a8-7f0c196a575f",
   "metadata": {},
   "source": [
    "#### Creating Word2Vec Model"
   ]
  },
  {
   "cell_type": "code",
   "execution_count": 3,
   "id": "542e8204-87c5-466d-b45f-4b1f4f7fa08b",
   "metadata": {},
   "outputs": [
    {
     "name": "stderr",
     "output_type": "stream",
     "text": [
      "D:\\anaconda3\\lib\\site-packages\\gensim\\similarities\\__init__.py:15: UserWarning: The gensim.similarities.levenshtein submodule is disabled, because the optional Levenshtein package <https://pypi.org/project/python-Levenshtein/> is unavailable. Install Levenhstein (e.g. `pip install python-Levenshtein`) to suppress this warning.\n",
      "  warnings.warn(msg)\n"
     ]
    }
   ],
   "source": [
    "from gensim.models import Word2Vec\n",
    "word2vec = Word2Vec(all_words, min_count=2)"
   ]
  },
  {
   "cell_type": "markdown",
   "id": "01b1940b-a15f-42dc-a1cd-f85c205d0fc6",
   "metadata": {},
   "source": [
    "### Model Analysis"
   ]
  },
  {
   "cell_type": "markdown",
   "id": "2430fbde-efc9-490e-9b27-90459eceacfe",
   "metadata": {},
   "source": [
    "#### Finding Vectors for a Word"
   ]
  },
  {
   "cell_type": "code",
   "execution_count": 4,
   "id": "2ae2aeb8-0f12-42fa-bd06-612d2c92d643",
   "metadata": {
    "scrolled": true,
    "tags": []
   },
   "outputs": [
    {
     "data": {
      "text/plain": [
       "array([-1.26915693e-03,  4.91977530e-03, -6.46667322e-03,  4.90196544e-05,\n",
       "        8.55389796e-03,  2.72151735e-03, -2.41666497e-03,  9.05078836e-03,\n",
       "       -1.11851944e-02,  5.59051055e-03, -5.79311606e-03, -6.88811438e-03,\n",
       "        8.58534314e-03,  5.25715761e-04,  7.92549923e-03, -7.92449247e-03,\n",
       "        5.95095148e-03,  6.46475237e-03, -8.98914784e-03, -1.06855361e-02,\n",
       "       -6.01975387e-03, -3.01111978e-03, -2.95679690e-03, -1.03495680e-02,\n",
       "        6.35865564e-03, -4.09139181e-03,  5.94742550e-03,  2.86687049e-03,\n",
       "       -8.90225079e-03,  5.23004448e-03,  8.73540435e-03, -6.78104861e-03,\n",
       "       -6.38524070e-03, -2.89040967e-03, -1.07049178e-02,  1.61441334e-03,\n",
       "       -1.56674650e-06, -9.87156178e-04, -2.67625583e-04, -6.23120880e-03,\n",
       "       -5.60139120e-03, -9.13153752e-04, -2.20395788e-03,  6.27979590e-03,\n",
       "        6.40170369e-03,  2.09620059e-03, -1.05487509e-03, -2.41118018e-03,\n",
       "       -2.52927095e-03,  9.41846884e-05,  2.92055961e-03, -4.48991451e-03,\n",
       "       -6.31928351e-03, -6.89687720e-03, -1.10496087e-02, -3.86888743e-03,\n",
       "       -1.30627817e-03, -4.39067651e-03, -9.28014237e-03, -2.37626443e-03,\n",
       "        5.20128850e-03, -3.83286667e-03,  6.89079938e-03, -8.78087245e-04,\n",
       "       -1.17584225e-02,  1.00095356e-02,  9.65814572e-03,  8.45741853e-03,\n",
       "       -1.01649920e-02,  8.96019582e-03,  2.12449953e-03,  5.51644526e-03,\n",
       "        6.66235154e-03,  8.20950721e-04, -1.71474135e-03,  1.00628799e-02,\n",
       "        9.72434133e-03,  3.10630375e-03, -5.07340161e-03,  2.50941172e-04,\n",
       "       -6.03650522e-04, -9.84065514e-03, -1.17747672e-02,  4.37146239e-03,\n",
       "        5.78075647e-04, -4.86332504e-03, -5.13660023e-03, -4.15823609e-03,\n",
       "        1.19569162e-02,  7.26099941e-04, -1.12633803e-03,  7.36991316e-03,\n",
       "        8.84208549e-03, -3.38814431e-03,  1.25601897e-02,  8.74191616e-03,\n",
       "        7.78154144e-03, -3.01778968e-03,  1.00998376e-02, -8.94300546e-03],\n",
       "      dtype=float32)"
      ]
     },
     "execution_count": 4,
     "metadata": {},
     "output_type": "execute_result"
    }
   ],
   "source": [
    "v1 = word2vec.wv['artificial'] \n",
    "v1"
   ]
  },
  {
   "cell_type": "markdown",
   "id": "bd9139dd-35e1-4712-85a9-019370cec095",
   "metadata": {},
   "source": [
    "#### Finding Similar Words"
   ]
  },
  {
   "cell_type": "code",
   "execution_count": 5,
   "id": "882df881-b1d5-40a1-bdae-37abf6ad551f",
   "metadata": {},
   "outputs": [
    {
     "data": {
      "text/plain": [
       "[('domains', 0.3927774727344513),\n",
       " ('better', 0.3206420838832855),\n",
       " ('work', 0.30348891019821167),\n",
       " ('field', 0.2972853183746338),\n",
       " ('intelligent', 0.2891329526901245),\n",
       " ('known', 0.2856188118457794),\n",
       " ('ai', 0.2846320867538452),\n",
       " ('robotics', 0.2799379825592041),\n",
       " ('future', 0.27848365902900696),\n",
       " ('may', 0.27276137471199036)]"
      ]
     },
     "execution_count": 5,
     "metadata": {},
     "output_type": "execute_result"
    }
   ],
   "source": [
    "sim_words = word2vec.wv.most_similar('intelligence')\n",
    "sim_words"
   ]
  }
 ],
 "metadata": {
  "kernelspec": {
   "display_name": "Python 3",
   "language": "python",
   "name": "python3"
  },
  "language_info": {
   "codemirror_mode": {
    "name": "ipython",
    "version": 3
   },
   "file_extension": ".py",
   "mimetype": "text/x-python",
   "name": "python",
   "nbconvert_exporter": "python",
   "pygments_lexer": "ipython3",
   "version": "3.8.5"
  }
 },
 "nbformat": 4,
 "nbformat_minor": 5
}
